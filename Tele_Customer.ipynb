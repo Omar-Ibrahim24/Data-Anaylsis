{
  "nbformat": 4,
  "nbformat_minor": 0,
  "metadata": {
    "colab": {
      "provenance": []
    },
    "kernelspec": {
      "name": "python3",
      "display_name": "Python 3"
    },
    "language_info": {
      "name": "python"
    }
  },
  "cells": [
    {
      "cell_type": "code",
      "execution_count": null,
      "metadata": {
        "id": "CCiqIs34vlcH"
      },
      "outputs": [],
      "source": [
        "import pandas as pd\n",
        "import numpy as np\n",
        "import matplotlib.pyplot as plt\n",
        "import seaborn as sns\n",
        "%matplotlib inline"
      ]
    },
    {
      "cell_type": "code",
      "source": [
        "#@title Demographic Table\n",
        "demographic=pd.read_excel('/content/Telco_customer_churn_demographics.xlsx')\n",
        "demographic.head()\n"
      ],
      "metadata": {
        "colab": {
          "base_uri": "https://localhost:8080/",
          "height": 206
        },
        "id": "vrCTWJcDwZzI",
        "outputId": "2c4115d5-132b-46b0-d830-734777d2e0e4"
      },
      "execution_count": null,
      "outputs": [
        {
          "output_type": "execute_result",
          "data": {
            "text/plain": [
              "  Customer ID  Count  Gender  Age Under 30 Senior Citizen Married Dependents  \\\n",
              "0  8779-QRDMV      1    Male   78       No            Yes      No         No   \n",
              "1  7495-OOKFY      1  Female   74       No            Yes     Yes        Yes   \n",
              "2  1658-BYGOY      1    Male   71       No            Yes      No        Yes   \n",
              "3  4598-XLKNJ      1  Female   78       No            Yes     Yes        Yes   \n",
              "4  4846-WHAFZ      1  Female   80       No            Yes     Yes        Yes   \n",
              "\n",
              "   Number of Dependents  \n",
              "0                     0  \n",
              "1                     1  \n",
              "2                     3  \n",
              "3                     1  \n",
              "4                     1  "
            ],
            "text/html": [
              "\n",
              "  <div id=\"df-4a1d91ab-2f7d-4ef6-98ed-b94da3cfa1b7\">\n",
              "    <div class=\"colab-df-container\">\n",
              "      <div>\n",
              "<style scoped>\n",
              "    .dataframe tbody tr th:only-of-type {\n",
              "        vertical-align: middle;\n",
              "    }\n",
              "\n",
              "    .dataframe tbody tr th {\n",
              "        vertical-align: top;\n",
              "    }\n",
              "\n",
              "    .dataframe thead th {\n",
              "        text-align: right;\n",
              "    }\n",
              "</style>\n",
              "<table border=\"1\" class=\"dataframe\">\n",
              "  <thead>\n",
              "    <tr style=\"text-align: right;\">\n",
              "      <th></th>\n",
              "      <th>Customer ID</th>\n",
              "      <th>Count</th>\n",
              "      <th>Gender</th>\n",
              "      <th>Age</th>\n",
              "      <th>Under 30</th>\n",
              "      <th>Senior Citizen</th>\n",
              "      <th>Married</th>\n",
              "      <th>Dependents</th>\n",
              "      <th>Number of Dependents</th>\n",
              "    </tr>\n",
              "  </thead>\n",
              "  <tbody>\n",
              "    <tr>\n",
              "      <th>0</th>\n",
              "      <td>8779-QRDMV</td>\n",
              "      <td>1</td>\n",
              "      <td>Male</td>\n",
              "      <td>78</td>\n",
              "      <td>No</td>\n",
              "      <td>Yes</td>\n",
              "      <td>No</td>\n",
              "      <td>No</td>\n",
              "      <td>0</td>\n",
              "    </tr>\n",
              "    <tr>\n",
              "      <th>1</th>\n",
              "      <td>7495-OOKFY</td>\n",
              "      <td>1</td>\n",
              "      <td>Female</td>\n",
              "      <td>74</td>\n",
              "      <td>No</td>\n",
              "      <td>Yes</td>\n",
              "      <td>Yes</td>\n",
              "      <td>Yes</td>\n",
              "      <td>1</td>\n",
              "    </tr>\n",
              "    <tr>\n",
              "      <th>2</th>\n",
              "      <td>1658-BYGOY</td>\n",
              "      <td>1</td>\n",
              "      <td>Male</td>\n",
              "      <td>71</td>\n",
              "      <td>No</td>\n",
              "      <td>Yes</td>\n",
              "      <td>No</td>\n",
              "      <td>Yes</td>\n",
              "      <td>3</td>\n",
              "    </tr>\n",
              "    <tr>\n",
              "      <th>3</th>\n",
              "      <td>4598-XLKNJ</td>\n",
              "      <td>1</td>\n",
              "      <td>Female</td>\n",
              "      <td>78</td>\n",
              "      <td>No</td>\n",
              "      <td>Yes</td>\n",
              "      <td>Yes</td>\n",
              "      <td>Yes</td>\n",
              "      <td>1</td>\n",
              "    </tr>\n",
              "    <tr>\n",
              "      <th>4</th>\n",
              "      <td>4846-WHAFZ</td>\n",
              "      <td>1</td>\n",
              "      <td>Female</td>\n",
              "      <td>80</td>\n",
              "      <td>No</td>\n",
              "      <td>Yes</td>\n",
              "      <td>Yes</td>\n",
              "      <td>Yes</td>\n",
              "      <td>1</td>\n",
              "    </tr>\n",
              "  </tbody>\n",
              "</table>\n",
              "</div>\n",
              "      <button class=\"colab-df-convert\" onclick=\"convertToInteractive('df-4a1d91ab-2f7d-4ef6-98ed-b94da3cfa1b7')\"\n",
              "              title=\"Convert this dataframe to an interactive table.\"\n",
              "              style=\"display:none;\">\n",
              "        \n",
              "  <svg xmlns=\"http://www.w3.org/2000/svg\" height=\"24px\"viewBox=\"0 0 24 24\"\n",
              "       width=\"24px\">\n",
              "    <path d=\"M0 0h24v24H0V0z\" fill=\"none\"/>\n",
              "    <path d=\"M18.56 5.44l.94 2.06.94-2.06 2.06-.94-2.06-.94-.94-2.06-.94 2.06-2.06.94zm-11 1L8.5 8.5l.94-2.06 2.06-.94-2.06-.94L8.5 2.5l-.94 2.06-2.06.94zm10 10l.94 2.06.94-2.06 2.06-.94-2.06-.94-.94-2.06-.94 2.06-2.06.94z\"/><path d=\"M17.41 7.96l-1.37-1.37c-.4-.4-.92-.59-1.43-.59-.52 0-1.04.2-1.43.59L10.3 9.45l-7.72 7.72c-.78.78-.78 2.05 0 2.83L4 21.41c.39.39.9.59 1.41.59.51 0 1.02-.2 1.41-.59l7.78-7.78 2.81-2.81c.8-.78.8-2.07 0-2.86zM5.41 20L4 18.59l7.72-7.72 1.47 1.35L5.41 20z\"/>\n",
              "  </svg>\n",
              "      </button>\n",
              "      \n",
              "  <style>\n",
              "    .colab-df-container {\n",
              "      display:flex;\n",
              "      flex-wrap:wrap;\n",
              "      gap: 12px;\n",
              "    }\n",
              "\n",
              "    .colab-df-convert {\n",
              "      background-color: #E8F0FE;\n",
              "      border: none;\n",
              "      border-radius: 50%;\n",
              "      cursor: pointer;\n",
              "      display: none;\n",
              "      fill: #1967D2;\n",
              "      height: 32px;\n",
              "      padding: 0 0 0 0;\n",
              "      width: 32px;\n",
              "    }\n",
              "\n",
              "    .colab-df-convert:hover {\n",
              "      background-color: #E2EBFA;\n",
              "      box-shadow: 0px 1px 2px rgba(60, 64, 67, 0.3), 0px 1px 3px 1px rgba(60, 64, 67, 0.15);\n",
              "      fill: #174EA6;\n",
              "    }\n",
              "\n",
              "    [theme=dark] .colab-df-convert {\n",
              "      background-color: #3B4455;\n",
              "      fill: #D2E3FC;\n",
              "    }\n",
              "\n",
              "    [theme=dark] .colab-df-convert:hover {\n",
              "      background-color: #434B5C;\n",
              "      box-shadow: 0px 1px 3px 1px rgba(0, 0, 0, 0.15);\n",
              "      filter: drop-shadow(0px 1px 2px rgba(0, 0, 0, 0.3));\n",
              "      fill: #FFFFFF;\n",
              "    }\n",
              "  </style>\n",
              "\n",
              "      <script>\n",
              "        const buttonEl =\n",
              "          document.querySelector('#df-4a1d91ab-2f7d-4ef6-98ed-b94da3cfa1b7 button.colab-df-convert');\n",
              "        buttonEl.style.display =\n",
              "          google.colab.kernel.accessAllowed ? 'block' : 'none';\n",
              "\n",
              "        async function convertToInteractive(key) {\n",
              "          const element = document.querySelector('#df-4a1d91ab-2f7d-4ef6-98ed-b94da3cfa1b7');\n",
              "          const dataTable =\n",
              "            await google.colab.kernel.invokeFunction('convertToInteractive',\n",
              "                                                     [key], {});\n",
              "          if (!dataTable) return;\n",
              "\n",
              "          const docLinkHtml = 'Like what you see? Visit the ' +\n",
              "            '<a target=\"_blank\" href=https://colab.research.google.com/notebooks/data_table.ipynb>data table notebook</a>'\n",
              "            + ' to learn more about interactive tables.';\n",
              "          element.innerHTML = '';\n",
              "          dataTable['output_type'] = 'display_data';\n",
              "          await google.colab.output.renderOutput(dataTable, element);\n",
              "          const docLink = document.createElement('div');\n",
              "          docLink.innerHTML = docLinkHtml;\n",
              "          element.appendChild(docLink);\n",
              "        }\n",
              "      </script>\n",
              "    </div>\n",
              "  </div>\n",
              "  "
            ]
          },
          "metadata": {},
          "execution_count": 2
        }
      ]
    },
    {
      "cell_type": "code",
      "source": [
        "demographic.info()"
      ],
      "metadata": {
        "colab": {
          "base_uri": "https://localhost:8080/"
        },
        "id": "Oidysh-9xKD7",
        "outputId": "3715e3f6-9253-4650-e997-aeb1d7614749"
      },
      "execution_count": null,
      "outputs": [
        {
          "output_type": "stream",
          "name": "stdout",
          "text": [
            "<class 'pandas.core.frame.DataFrame'>\n",
            "RangeIndex: 7043 entries, 0 to 7042\n",
            "Data columns (total 9 columns):\n",
            " #   Column                Non-Null Count  Dtype \n",
            "---  ------                --------------  ----- \n",
            " 0   Customer ID           7043 non-null   object\n",
            " 1   Count                 7043 non-null   int64 \n",
            " 2   Gender                7043 non-null   object\n",
            " 3   Age                   7043 non-null   int64 \n",
            " 4   Under 30              7043 non-null   object\n",
            " 5   Senior Citizen        7043 non-null   object\n",
            " 6   Married               7043 non-null   object\n",
            " 7   Dependents            7043 non-null   object\n",
            " 8   Number of Dependents  7043 non-null   int64 \n",
            "dtypes: int64(3), object(6)\n",
            "memory usage: 495.3+ KB\n"
          ]
        }
      ]
    },
    {
      "cell_type": "code",
      "source": [
        "demographic['Count'].value_counts()\n",
        "demographic.drop(['Count'], axis=1,inplace=True)\n"
      ],
      "metadata": {
        "id": "diKaY2X6wm-g"
      },
      "execution_count": null,
      "outputs": []
    },
    {
      "cell_type": "code",
      "source": [
        "demographic.nunique()"
      ],
      "metadata": {
        "colab": {
          "base_uri": "https://localhost:8080/"
        },
        "id": "9APlSqnv0trm",
        "outputId": "ac32b75c-edbe-4951-8bbc-aa9c7ac3ea12"
      },
      "execution_count": null,
      "outputs": [
        {
          "output_type": "execute_result",
          "data": {
            "text/plain": [
              "Customer ID             7043\n",
              "Gender                     2\n",
              "Age                       62\n",
              "Under 30                   2\n",
              "Senior Citizen             2\n",
              "Married                    2\n",
              "Dependents                 2\n",
              "Number of Dependents      10\n",
              "dtype: int64"
            ]
          },
          "metadata": {},
          "execution_count": 4
        }
      ]
    },
    {
      "cell_type": "code",
      "source": [
        "plt.figure(figsize= (30,20))\n",
        "#Count of Male and Female\n",
        "plt.subplot(4,3,1)\n",
        "sns.countplot(x=demographic['Gender'],data=demographic)\n",
        "#Count if Peole under 30\n",
        "plt.subplot(4,3,2)\n",
        "sns.countplot(x=demographic['Under 30'],data=demographic)\n",
        "plt.subplot(4,3,3)\n",
        "sns.countplot(x=demographic['Senior Citizen'],data=demographic)\n",
        "plt.figure(figsize= (30,20))\n",
        "plt.subplot(4,3,1)\n",
        "sns.countplot(x=demographic['Married'],data=demographic)\n",
        "plt.subplot(4,3,2)\n",
        "sns.countplot(x=demographic['Dependents'],data=demographic)\n",
        "plt.figure(figsize= (10,10))\n",
        "sns.countplot(y=demographic['Age'],data=demographic)\n"
      ],
      "metadata": {
        "colab": {
          "base_uri": "https://localhost:8080/",
          "height": 1000
        },
        "id": "TVRljLtJ0y7v",
        "outputId": "27e131fd-e5e9-4a69-c079-fe3808237417"
      },
      "execution_count": null,
      "outputs": [
        {
          "output_type": "execute_result",
          "data": {
            "text/plain": [
              "<matplotlib.axes._subplots.AxesSubplot at 0x7fcf03c9ab50>"
            ]
          },
          "metadata": {},
          "execution_count": 56
        },
        {
          "output_type": "display_data",
          "data": {
            "text/plain": [
              "<Figure size 2160x1440 with 3 Axes>"
            ],
            "image/png": "[encoded data removed]"
          },
          "metadata": {
            "needs_background": "light"
          }
        },
        {
          "output_type": "display_data",
          "data": {
            "text/plain": [
              "<Figure size 2160x1440 with 2 Axes>"
            ],
            "image/png": "[encoded data removed]"
          },
          "metadata": {
            "needs_background": "light"
          }
        },
        {
          "output_type": "display_data",
          "data": {
            "text/plain": [
              "<Figure size 720x720 with 1 Axes>"
            ],
            "image/png": "[encoded data removed]"
          },
          "metadata": {
            "needs_background": "light"
          }
        }
      ]
    },
    {
      "cell_type": "code",
      "source": [
        "#@title Location Table\n",
        "location=pd.read_excel('/content/Telco_customer_churn_location.xlsx')\n",
        "location.head()"
      ],
      "metadata": {
        "colab": {
          "base_uri": "https://localhost:8080/",
          "height": 206
        },
        "id": "3g7KnkqPxqqC",
        "outputId": "1c39089c-dbda-4ae2-827d-d25f7f0f8a1b"
      },
      "execution_count": null,
      "outputs": [
        {
          "output_type": "execute_result",
          "data": {
            "text/plain": [
              "  Customer ID  Count        Country       State         City  Zip Code  \\\n",
              "0  8779-QRDMV      1  United States  California  Los Angeles     90022   \n",
              "1  7495-OOKFY      1  United States  California  Los Angeles     90063   \n",
              "2  1658-BYGOY      1  United States  California  Los Angeles     90065   \n",
              "3  4598-XLKNJ      1  United States  California    Inglewood     90303   \n",
              "4  4846-WHAFZ      1  United States  California     Whittier     90602   \n",
              "\n",
              "                 Lat Long   Latitude   Longitude  \n",
              "0   34.02381, -118.156582  34.023810 -118.156582  \n",
              "1  34.044271, -118.185237  34.044271 -118.185237  \n",
              "2  34.108833, -118.229715  34.108833 -118.229715  \n",
              "3  33.936291, -118.332639  33.936291 -118.332639  \n",
              "4  33.972119, -118.020188  33.972119 -118.020188  "
            ],
            "text/html": [
              "\n",
              "  <div id=\"df-a1272272-31dc-44e7-ad31-4579ca2115ad\">\n",
              "    <div class=\"colab-df-container\">\n",
              "      <div>\n",
              "<style scoped>\n",
              "    .dataframe tbody tr th:only-of-type {\n",
              "        vertical-align: middle;\n",
              "    }\n",
              "\n",
              "    .dataframe tbody tr th {\n",
              "        vertical-align: top;\n",
              "    }\n",
              "\n",
              "    .dataframe thead th {\n",
              "        text-align: right;\n",
              "    }\n",
              "</style>\n",
              "<table border=\"1\" class=\"dataframe\">\n",
              "  <thead>\n",
              "    <tr style=\"text-align: right;\">\n",
              "      <th></th>\n",
              "      <th>Customer ID</th>\n",
              "      <th>Count</th>\n",
              "      <th>Country</th>\n",
              "      <th>State</th>\n",
              "      <th>City</th>\n",
              "      <th>Zip Code</th>\n",
              "      <th>Lat Long</th>\n",
              "      <th>Latitude</th>\n",
              "      <th>Longitude</th>\n",
              "    </tr>\n",
              "  </thead>\n",
              "  <tbody>\n",
              "    <tr>\n",
              "      <th>0</th>\n",
              "      <td>8779-QRDMV</td>\n",
              "      <td>1</td>\n",
              "      <td>United States</td>\n",
              "      <td>California</td>\n",
              "      <td>Los Angeles</td>\n",
              "      <td>90022</td>\n",
              "      <td>34.02381, -118.156582</td>\n",
              "      <td>34.023810</td>\n",
              "      <td>-118.156582</td>\n",
              "    </tr>\n",
              "    <tr>\n",
              "      <th>1</th>\n",
              "      <td>7495-OOKFY</td>\n",
              "      <td>1</td>\n",
              "      <td>United States</td>\n",
              "      <td>California</td>\n",
              "      <td>Los Angeles</td>\n",
              "      <td>90063</td>\n",
              "      <td>34.044271, -118.185237</td>\n",
              "      <td>34.044271</td>\n",
              "      <td>-118.185237</td>\n",
              "    </tr>\n",
              "    <tr>\n",
              "      <th>2</th>\n",
              "      <td>1658-BYGOY</td>\n",
              "      <td>1</td>\n",
              "      <td>United States</td>\n",
              "      <td>California</td>\n",
              "      <td>Los Angeles</td>\n",
              "      <td>90065</td>\n",
              "      <td>34.108833, -118.229715</td>\n",
              "      <td>34.108833</td>\n",
              "      <td>-118.229715</td>\n",
              "    </tr>\n",
              "    <tr>\n",
              "      <th>3</th>\n",
              "      <td>4598-XLKNJ</td>\n",
              "      <td>1</td>\n",
              "      <td>United States</td>\n",
              "      <td>California</td>\n",
              "      <td>Inglewood</td>\n",
              "      <td>90303</td>\n",
              "      <td>33.936291, -118.332639</td>\n",
              "      <td>33.936291</td>\n",
              "      <td>-118.332639</td>\n",
              "    </tr>\n",
              "    <tr>\n",
              "      <th>4</th>\n",
              "      <td>4846-WHAFZ</td>\n",
              "      <td>1</td>\n",
              "      <td>United States</td>\n",
              "      <td>California</td>\n",
              "      <td>Whittier</td>\n",
              "      <td>90602</td>\n",
              "      <td>33.972119, -118.020188</td>\n",
              "      <td>33.972119</td>\n",
              "      <td>-118.020188</td>\n",
              "    </tr>\n",
              "  </tbody>\n",
              "</table>\n",
              "</div>\n",
              "      <button class=\"colab-df-convert\" onclick=\"convertToInteractive('df-a1272272-31dc-44e7-ad31-4579ca2115ad')\"\n",
              "              title=\"Convert this dataframe to an interactive table.\"\n",
              "              style=\"display:none;\">\n",
              "        \n",
              "  <svg xmlns=\"http://www.w3.org/2000/svg\" height=\"24px\"viewBox=\"0 0 24 24\"\n",
              "       width=\"24px\">\n",
              "    <path d=\"M0 0h24v24H0V0z\" fill=\"none\"/>\n",
              "    <path d=\"M18.56 5.44l.94 2.06.94-2.06 2.06-.94-2.06-.94-.94-2.06-.94 2.06-2.06.94zm-11 1L8.5 8.5l.94-2.06 2.06-.94-2.06-.94L8.5 2.5l-.94 2.06-2.06.94zm10 10l.94 2.06.94-2.06 2.06-.94-2.06-.94-.94-2.06-.94 2.06-2.06.94z\"/><path d=\"M17.41 7.96l-1.37-1.37c-.4-.4-.92-.59-1.43-.59-.52 0-1.04.2-1.43.59L10.3 9.45l-7.72 7.72c-.78.78-.78 2.05 0 2.83L4 21.41c.39.39.9.59 1.41.59.51 0 1.02-.2 1.41-.59l7.78-7.78 2.81-2.81c.8-.78.8-2.07 0-2.86zM5.41 20L4 18.59l7.72-7.72 1.47 1.35L5.41 20z\"/>\n",
              "  </svg>\n",
              "      </button>\n",
              "      \n",
              "  <style>\n",
              "    .colab-df-container {\n",
              "      display:flex;\n",
              "      flex-wrap:wrap;\n",
              "      gap: 12px;\n",
              "    }\n",
              "\n",
              "    .colab-df-convert {\n",
              "      background-color: #E8F0FE;\n",
              "      border: none;\n",
              "      border-radius: 50%;\n",
              "      cursor: pointer;\n",
              "      display: none;\n",
              "      fill: #1967D2;\n",
              "      height: 32px;\n",
              "      padding: 0 0 0 0;\n",
              "      width: 32px;\n",
              "    }\n",
              "\n",
              "    .colab-df-convert:hover {\n",
              "      background-color: #E2EBFA;\n",
              "      box-shadow: 0px 1px 2px rgba(60, 64, 67, 0.3), 0px 1px 3px 1px rgba(60, 64, 67, 0.15);\n",
              "      fill: #174EA6;\n",
              "    }\n",
              "\n",
              "    [theme=dark] .colab-df-convert {\n",
              "      background-color: #3B4455;\n",
              "      fill: #D2E3FC;\n",
              "    }\n",
              "\n",
              "    [theme=dark] .colab-df-convert:hover {\n",
              "      background-color: #434B5C;\n",
              "      box-shadow: 0px 1px 3px 1px rgba(0, 0, 0, 0.15);\n",
              "      filter: drop-shadow(0px 1px 2px rgba(0, 0, 0, 0.3));\n",
              "      fill: #FFFFFF;\n",
              "    }\n",
              "  </style>\n",
              "\n",
              "      <script>\n",
              "        const buttonEl =\n",
              "          document.querySelector('#df-a1272272-31dc-44e7-ad31-4579ca2115ad button.colab-df-convert');\n",
              "        buttonEl.style.display =\n",
              "          google.colab.kernel.accessAllowed ? 'block' : 'none';\n",
              "\n",
              "        async function convertToInteractive(key) {\n",
              "          const element = document.querySelector('#df-a1272272-31dc-44e7-ad31-4579ca2115ad');\n",
              "          const dataTable =\n",
              "            await google.colab.kernel.invokeFunction('convertToInteractive',\n",
              "                                                     [key], {});\n",
              "          if (!dataTable) return;\n",
              "\n",
              "          const docLinkHtml = 'Like what you see? Visit the ' +\n",
              "            '<a target=\"_blank\" href=https://colab.research.google.com/notebooks/data_table.ipynb>data table notebook</a>'\n",
              "            + ' to learn more about interactive tables.';\n",
              "          element.innerHTML = '';\n",
              "          dataTable['output_type'] = 'display_data';\n",
              "          await google.colab.output.renderOutput(dataTable, element);\n",
              "          const docLink = document.createElement('div');\n",
              "          docLink.innerHTML = docLinkHtml;\n",
              "          element.appendChild(docLink);\n",
              "        }\n",
              "      </script>\n",
              "    </div>\n",
              "  </div>\n",
              "  "
            ]
          },
          "metadata": {},
          "execution_count": 4
        }
      ]
    },
    {
      "cell_type": "code",
      "source": [
        "#Location only contains data about Usa and California State so drop those 3 columns\n",
        "location.drop(['Count','Country','State'], axis=1,inplace=True)\n",
        "location.drop(['Lat Long','Latitude','Longitude'], axis=1,inplace=True)\n"
      ],
      "metadata": {
        "id": "Qog5s8S3x4sK"
      },
      "execution_count": null,
      "outputs": []
    },
    {
      "cell_type": "code",
      "source": [
        "location.info()"
      ],
      "metadata": {
        "colab": {
          "base_uri": "https://localhost:8080/"
        },
        "id": "5EOyl8yv6kz3",
        "outputId": "a052ed62-ed2f-4a90-8a80-eb463aa0cd28"
      },
      "execution_count": null,
      "outputs": [
        {
          "output_type": "stream",
          "name": "stdout",
          "text": [
            "<class 'pandas.core.frame.DataFrame'>\n",
            "RangeIndex: 7043 entries, 0 to 7042\n",
            "Data columns (total 3 columns):\n",
            " #   Column       Non-Null Count  Dtype \n",
            "---  ------       --------------  ----- \n",
            " 0   Customer ID  7043 non-null   object\n",
            " 1   City         7043 non-null   object\n",
            " 2   Zip Code     7043 non-null   int64 \n",
            "dtypes: int64(1), object(2)\n",
            "memory usage: 165.2+ KB\n"
          ]
        }
      ]
    },
    {
      "cell_type": "code",
      "source": [
        "#@title First Merge\n",
        "\n",
        "\n",
        "first=pd.merge(demographic, location, \n",
        "                 on='Customer ID', \n",
        "                   how='outer')\n",
        "first.head()\n"
      ],
      "metadata": {
        "colab": {
          "base_uri": "https://localhost:8080/",
          "height": 206
        },
        "id": "yxOdt8Kn5jqk",
        "outputId": "bfbac11a-7c0b-4bb8-f557-a7174ca8820a"
      },
      "execution_count": null,
      "outputs": [
        {
          "output_type": "execute_result",
          "data": {
            "text/plain": [
              "  Customer ID  Gender  Age Under 30 Senior Citizen Married Dependents  \\\n",
              "0  8779-QRDMV    Male   78       No            Yes      No         No   \n",
              "1  7495-OOKFY  Female   74       No            Yes     Yes        Yes   \n",
              "2  1658-BYGOY    Male   71       No            Yes      No        Yes   \n",
              "3  4598-XLKNJ  Female   78       No            Yes     Yes        Yes   \n",
              "4  4846-WHAFZ  Female   80       No            Yes     Yes        Yes   \n",
              "\n",
              "   Number of Dependents         City  Zip Code  \n",
              "0                     0  Los Angeles     90022  \n",
              "1                     1  Los Angeles     90063  \n",
              "2                     3  Los Angeles     90065  \n",
              "3                     1    Inglewood     90303  \n",
              "4                     1     Whittier     90602  "
            ],
            "text/html": [
              "\n",
              "  <div id=\"df-c3f3c6b4-4ae3-47a7-b077-cf2eb3fbc8a4\">\n",
              "    <div class=\"colab-df-container\">\n",
              "      <div>\n",
              "<style scoped>\n",
              "    .dataframe tbody tr th:only-of-type {\n",
              "        vertical-align: middle;\n",
              "    }\n",
              "\n",
              "    .dataframe tbody tr th {\n",
              "        vertical-align: top;\n",
              "    }\n",
              "\n",
              "    .dataframe thead th {\n",
              "        text-align: right;\n",
              "    }\n",
              "</style>\n",
              "<table border=\"1\" class=\"dataframe\">\n",
              "  <thead>\n",
              "    <tr style=\"text-align: right;\">\n",
              "      <th></th>\n",
              "      <th>Customer ID</th>\n",
              "      <th>Gender</th>\n",
              "      <th>Age</th>\n",
              "      <th>Under 30</th>\n",
              "      <th>Senior Citizen</th>\n",
              "      <th>Married</th>\n",
              "      <th>Dependents</th>\n",
              "      <th>Number of Dependents</th>\n",
              "      <th>City</th>\n",
              "      <th>Zip Code</th>\n",
              "    </tr>\n",
              "  </thead>\n",
              "  <tbody>\n",
              "    <tr>\n",
              "      <th>0</th>\n",
              "      <td>8779-QRDMV</td>\n",
              "      <td>Male</td>\n",
              "      <td>78</td>\n",
              "      <td>No</td>\n",
              "      <td>Yes</td>\n",
              "      <td>No</td>\n",
              "      <td>No</td>\n",
              "      <td>0</td>\n",
              "      <td>Los Angeles</td>\n",
              "      <td>90022</td>\n",
              "    </tr>\n",
              "    <tr>\n",
              "      <th>1</th>\n",
              "      <td>7495-OOKFY</td>\n",
              "      <td>Female</td>\n",
              "      <td>74</td>\n",
              "      <td>No</td>\n",
              "      <td>Yes</td>\n",
              "      <td>Yes</td>\n",
              "      <td>Yes</td>\n",
              "      <td>1</td>\n",
              "      <td>Los Angeles</td>\n",
              "      <td>90063</td>\n",
              "    </tr>\n",
              "    <tr>\n",
              "      <th>2</th>\n",
              "      <td>1658-BYGOY</td>\n",
              "      <td>Male</td>\n",
              "      <td>71</td>\n",
              "      <td>No</td>\n",
              "      <td>Yes</td>\n",
              "      <td>No</td>\n",
              "      <td>Yes</td>\n",
              "      <td>3</td>\n",
              "      <td>Los Angeles</td>\n",
              "      <td>90065</td>\n",
              "    </tr>\n",
              "    <tr>\n",
              "      <th>3</th>\n",
              "      <td>4598-XLKNJ</td>\n",
              "      <td>Female</td>\n",
              "      <td>78</td>\n",
              "      <td>No</td>\n",
              "      <td>Yes</td>\n",
              "      <td>Yes</td>\n",
              "      <td>Yes</td>\n",
              "      <td>1</td>\n",
              "      <td>Inglewood</td>\n",
              "      <td>90303</td>\n",
              "    </tr>\n",
              "    <tr>\n",
              "      <th>4</th>\n",
              "      <td>4846-WHAFZ</td>\n",
              "      <td>Female</td>\n",
              "      <td>80</td>\n",
              "      <td>No</td>\n",
              "      <td>Yes</td>\n",
              "      <td>Yes</td>\n",
              "      <td>Yes</td>\n",
              "      <td>1</td>\n",
              "      <td>Whittier</td>\n",
              "      <td>90602</td>\n",
              "    </tr>\n",
              "  </tbody>\n",
              "</table>\n",
              "</div>\n",
              "      <button class=\"colab-df-convert\" onclick=\"convertToInteractive('df-c3f3c6b4-4ae3-47a7-b077-cf2eb3fbc8a4')\"\n",
              "              title=\"Convert this dataframe to an interactive table.\"\n",
              "              style=\"display:none;\">\n",
              "        \n",
              "  <svg xmlns=\"http://www.w3.org/2000/svg\" height=\"24px\"viewBox=\"0 0 24 24\"\n",
              "       width=\"24px\">\n",
              "    <path d=\"M0 0h24v24H0V0z\" fill=\"none\"/>\n",
              "    <path d=\"M18.56 5.44l.94 2.06.94-2.06 2.06-.94-2.06-.94-.94-2.06-.94 2.06-2.06.94zm-11 1L8.5 8.5l.94-2.06 2.06-.94-2.06-.94L8.5 2.5l-.94 2.06-2.06.94zm10 10l.94 2.06.94-2.06 2.06-.94-2.06-.94-.94-2.06-.94 2.06-2.06.94z\"/><path d=\"M17.41 7.96l-1.37-1.37c-.4-.4-.92-.59-1.43-.59-.52 0-1.04.2-1.43.59L10.3 9.45l-7.72 7.72c-.78.78-.78 2.05 0 2.83L4 21.41c.39.39.9.59 1.41.59.51 0 1.02-.2 1.41-.59l7.78-7.78 2.81-2.81c.8-.78.8-2.07 0-2.86zM5.41 20L4 18.59l7.72-7.72 1.47 1.35L5.41 20z\"/>\n",
              "  </svg>\n",
              "      </button>\n",
              "      \n",
              "  <style>\n",
              "    .colab-df-container {\n",
              "      display:flex;\n",
              "      flex-wrap:wrap;\n",
              "      gap: 12px;\n",
              "    }\n",
              "\n",
              "    .colab-df-convert {\n",
              "      background-color: #E8F0FE;\n",
              "      border: none;\n",
              "      border-radius: 50%;\n",
              "      cursor: pointer;\n",
              "      display: none;\n",
              "      fill: #1967D2;\n",
              "      height: 32px;\n",
              "      padding: 0 0 0 0;\n",
              "      width: 32px;\n",
              "    }\n",
              "\n",
              "    .colab-df-convert:hover {\n",
              "      background-color: #E2EBFA;\n",
              "      box-shadow: 0px 1px 2px rgba(60, 64, 67, 0.3), 0px 1px 3px 1px rgba(60, 64, 67, 0.15);\n",
              "      fill: #174EA6;\n",
              "    }\n",
              "\n",
              "    [theme=dark] .colab-df-convert {\n",
              "      background-color: #3B4455;\n",
              "      fill: #D2E3FC;\n",
              "    }\n",
              "\n",
              "    [theme=dark] .colab-df-convert:hover {\n",
              "      background-color: #434B5C;\n",
              "      box-shadow: 0px 1px 3px 1px rgba(0, 0, 0, 0.15);\n",
              "      filter: drop-shadow(0px 1px 2px rgba(0, 0, 0, 0.3));\n",
              "      fill: #FFFFFF;\n",
              "    }\n",
              "  </style>\n",
              "\n",
              "      <script>\n",
              "        const buttonEl =\n",
              "          document.querySelector('#df-c3f3c6b4-4ae3-47a7-b077-cf2eb3fbc8a4 button.colab-df-convert');\n",
              "        buttonEl.style.display =\n",
              "          google.colab.kernel.accessAllowed ? 'block' : 'none';\n",
              "\n",
              "        async function convertToInteractive(key) {\n",
              "          const element = document.querySelector('#df-c3f3c6b4-4ae3-47a7-b077-cf2eb3fbc8a4');\n",
              "          const dataTable =\n",
              "            await google.colab.kernel.invokeFunction('convertToInteractive',\n",
              "                                                     [key], {});\n",
              "          if (!dataTable) return;\n",
              "\n",
              "          const docLinkHtml = 'Like what you see? Visit the ' +\n",
              "            '<a target=\"_blank\" href=https://colab.research.google.com/notebooks/data_table.ipynb>data table notebook</a>'\n",
              "            + ' to learn more about interactive tables.';\n",
              "          element.innerHTML = '';\n",
              "          dataTable['output_type'] = 'display_data';\n",
              "          await google.colab.output.renderOutput(dataTable, element);\n",
              "          const docLink = document.createElement('div');\n",
              "          docLink.innerHTML = docLinkHtml;\n",
              "          element.appendChild(docLink);\n",
              "        }\n",
              "      </script>\n",
              "    </div>\n",
              "  </div>\n",
              "  "
            ]
          },
          "metadata": {},
          "execution_count": 6
        }
      ]
    },
    {
      "cell_type": "code",
      "source": [
        "#@title Population \n",
        "population=pd.read_excel('/content/Telco_customer_churn_population.xlsx')\n",
        "population.head()"
      ],
      "metadata": {
        "colab": {
          "base_uri": "https://localhost:8080/",
          "height": 206
        },
        "id": "UpFRBARkycTb",
        "outputId": "77b02caf-c071-490e-9fa6-b5eb1c9840c5"
      },
      "execution_count": null,
      "outputs": [
        {
          "output_type": "execute_result",
          "data": {
            "text/plain": [
              "   ID  Zip Code  Population\n",
              "0   1     90001       54492\n",
              "1   2     90002       44586\n",
              "2   3     90003       58198\n",
              "3   4     90004       67852\n",
              "4   5     90005       43019"
            ],
            "text/html": [
              "\n",
              "  <div id=\"df-49801ead-21f3-4130-a1fe-3800b42b7c94\">\n",
              "    <div class=\"colab-df-container\">\n",
              "      <div>\n",
              "<style scoped>\n",
              "    .dataframe tbody tr th:only-of-type {\n",
              "        vertical-align: middle;\n",
              "    }\n",
              "\n",
              "    .dataframe tbody tr th {\n",
              "        vertical-align: top;\n",
              "    }\n",
              "\n",
              "    .dataframe thead th {\n",
              "        text-align: right;\n",
              "    }\n",
              "</style>\n",
              "<table border=\"1\" class=\"dataframe\">\n",
              "  <thead>\n",
              "    <tr style=\"text-align: right;\">\n",
              "      <th></th>\n",
              "      <th>ID</th>\n",
              "      <th>Zip Code</th>\n",
              "      <th>Population</th>\n",
              "    </tr>\n",
              "  </thead>\n",
              "  <tbody>\n",
              "    <tr>\n",
              "      <th>0</th>\n",
              "      <td>1</td>\n",
              "      <td>90001</td>\n",
              "      <td>54492</td>\n",
              "    </tr>\n",
              "    <tr>\n",
              "      <th>1</th>\n",
              "      <td>2</td>\n",
              "      <td>90002</td>\n",
              "      <td>44586</td>\n",
              "    </tr>\n",
              "    <tr>\n",
              "      <th>2</th>\n",
              "      <td>3</td>\n",
              "      <td>90003</td>\n",
              "      <td>58198</td>\n",
              "    </tr>\n",
              "    <tr>\n",
              "      <th>3</th>\n",
              "      <td>4</td>\n",
              "      <td>90004</td>\n",
              "      <td>67852</td>\n",
              "    </tr>\n",
              "    <tr>\n",
              "      <th>4</th>\n",
              "      <td>5</td>\n",
              "      <td>90005</td>\n",
              "      <td>43019</td>\n",
              "    </tr>\n",
              "  </tbody>\n",
              "</table>\n",
              "</div>\n",
              "      <button class=\"colab-df-convert\" onclick=\"convertToInteractive('df-49801ead-21f3-4130-a1fe-3800b42b7c94')\"\n",
              "              title=\"Convert this dataframe to an interactive table.\"\n",
              "              style=\"display:none;\">\n",
              "        \n",
              "  <svg xmlns=\"http://www.w3.org/2000/svg\" height=\"24px\"viewBox=\"0 0 24 24\"\n",
              "       width=\"24px\">\n",
              "    <path d=\"M0 0h24v24H0V0z\" fill=\"none\"/>\n",
              "    <path d=\"M18.56 5.44l.94 2.06.94-2.06 2.06-.94-2.06-.94-.94-2.06-.94 2.06-2.06.94zm-11 1L8.5 8.5l.94-2.06 2.06-.94-2.06-.94L8.5 2.5l-.94 2.06-2.06.94zm10 10l.94 2.06.94-2.06 2.06-.94-2.06-.94-.94-2.06-.94 2.06-2.06.94z\"/><path d=\"M17.41 7.96l-1.37-1.37c-.4-.4-.92-.59-1.43-.59-.52 0-1.04.2-1.43.59L10.3 9.45l-7.72 7.72c-.78.78-.78 2.05 0 2.83L4 21.41c.39.39.9.59 1.41.59.51 0 1.02-.2 1.41-.59l7.78-7.78 2.81-2.81c.8-.78.8-2.07 0-2.86zM5.41 20L4 18.59l7.72-7.72 1.47 1.35L5.41 20z\"/>\n",
              "  </svg>\n",
              "      </button>\n",
              "      \n",
              "  <style>\n",
              "    .colab-df-container {\n",
              "      display:flex;\n",
              "      flex-wrap:wrap;\n",
              "      gap: 12px;\n",
              "    }\n",
              "\n",
              "    .colab-df-convert {\n",
              "      background-color: #E8F0FE;\n",
              "      border: none;\n",
              "      border-radius: 50%;\n",
              "      cursor: pointer;\n",
              "      display: none;\n",
              "      fill: #1967D2;\n",
              "      height: 32px;\n",
              "      padding: 0 0 0 0;\n",
              "      width: 32px;\n",
              "    }\n",
              "\n",
              "    .colab-df-convert:hover {\n",
              "      background-color: #E2EBFA;\n",
              "      box-shadow: 0px 1px 2px rgba(60, 64, 67, 0.3), 0px 1px 3px 1px rgba(60, 64, 67, 0.15);\n",
              "      fill: #174EA6;\n",
              "    }\n",
              "\n",
              "    [theme=dark] .colab-df-convert {\n",
              "      background-color: #3B4455;\n",
              "      fill: #D2E3FC;\n",
              "    }\n",
              "\n",
              "    [theme=dark] .colab-df-convert:hover {\n",
              "      background-color: #434B5C;\n",
              "      box-shadow: 0px 1px 3px 1px rgba(0, 0, 0, 0.15);\n",
              "      filter: drop-shadow(0px 1px 2px rgba(0, 0, 0, 0.3));\n",
              "      fill: #FFFFFF;\n",
              "    }\n",
              "  </style>\n",
              "\n",
              "      <script>\n",
              "        const buttonEl =\n",
              "          document.querySelector('#df-49801ead-21f3-4130-a1fe-3800b42b7c94 button.colab-df-convert');\n",
              "        buttonEl.style.display =\n",
              "          google.colab.kernel.accessAllowed ? 'block' : 'none';\n",
              "\n",
              "        async function convertToInteractive(key) {\n",
              "          const element = document.querySelector('#df-49801ead-21f3-4130-a1fe-3800b42b7c94');\n",
              "          const dataTable =\n",
              "            await google.colab.kernel.invokeFunction('convertToInteractive',\n",
              "                                                     [key], {});\n",
              "          if (!dataTable) return;\n",
              "\n",
              "          const docLinkHtml = 'Like what you see? Visit the ' +\n",
              "            '<a target=\"_blank\" href=https://colab.research.google.com/notebooks/data_table.ipynb>data table notebook</a>'\n",
              "            + ' to learn more about interactive tables.';\n",
              "          element.innerHTML = '';\n",
              "          dataTable['output_type'] = 'display_data';\n",
              "          await google.colab.output.renderOutput(dataTable, element);\n",
              "          const docLink = document.createElement('div');\n",
              "          docLink.innerHTML = docLinkHtml;\n",
              "          element.appendChild(docLink);\n",
              "        }\n",
              "      </script>\n",
              "    </div>\n",
              "  </div>\n",
              "  "
            ]
          },
          "metadata": {},
          "execution_count": 7
        }
      ]
    },
    {
      "cell_type": "code",
      "source": [
        "population.info()"
      ],
      "metadata": {
        "colab": {
          "base_uri": "https://localhost:8080/"
        },
        "id": "M6DKZmj-yjMO",
        "outputId": "56c4b095-a03f-4ebc-e9d3-5f6498b2d8bc"
      },
      "execution_count": null,
      "outputs": [
        {
          "output_type": "stream",
          "name": "stdout",
          "text": [
            "<class 'pandas.core.frame.DataFrame'>\n",
            "RangeIndex: 1671 entries, 0 to 1670\n",
            "Data columns (total 3 columns):\n",
            " #   Column      Non-Null Count  Dtype\n",
            "---  ------      --------------  -----\n",
            " 0   ID          1671 non-null   int64\n",
            " 1   Zip Code    1671 non-null   int64\n",
            " 2   Population  1671 non-null   int64\n",
            "dtypes: int64(3)\n",
            "memory usage: 39.3 KB\n"
          ]
        }
      ]
    },
    {
      "cell_type": "code",
      "source": [
        "population.drop(['ID'], axis=1,inplace=True)\n"
      ],
      "metadata": {
        "id": "fLrVJC3oylM6"
      },
      "execution_count": null,
      "outputs": []
    },
    {
      "cell_type": "code",
      "source": [
        "#@title Second Merge\n",
        "\n",
        "\n",
        "second=pd.merge(first, population, \n",
        "                 on='Zip Code', \n",
        "                   how='left')\n",
        "second.head()"
      ],
      "metadata": {
        "colab": {
          "base_uri": "https://localhost:8080/",
          "height": 206
        },
        "id": "A49iE6lF582z",
        "outputId": "9e7f7ec3-c0c1-4f2e-f552-8a3f4130a8a7"
      },
      "execution_count": null,
      "outputs": [
        {
          "output_type": "execute_result",
          "data": {
            "text/plain": [
              "  Customer ID  Gender  Age Under 30 Senior Citizen Married Dependents  \\\n",
              "0  8779-QRDMV    Male   78       No            Yes      No         No   \n",
              "1  7495-OOKFY  Female   74       No            Yes     Yes        Yes   \n",
              "2  1658-BYGOY    Male   71       No            Yes      No        Yes   \n",
              "3  4598-XLKNJ  Female   78       No            Yes     Yes        Yes   \n",
              "4  4846-WHAFZ  Female   80       No            Yes     Yes        Yes   \n",
              "\n",
              "   Number of Dependents         City  Zip Code  Population  \n",
              "0                     0  Los Angeles     90022       68701  \n",
              "1                     1  Los Angeles     90063       55668  \n",
              "2                     3  Los Angeles     90065       47534  \n",
              "3                     1    Inglewood     90303       27778  \n",
              "4                     1     Whittier     90602       26265  "
            ],
            "text/html": [
              "\n",
              "  <div id=\"df-d9b4ea2d-528c-49ce-8fcf-a6acaba97b51\">\n",
              "    <div class=\"colab-df-container\">\n",
              "      <div>\n",
              "<style scoped>\n",
              "    .dataframe tbody tr th:only-of-type {\n",
              "        vertical-align: middle;\n",
              "    }\n",
              "\n",
              "    .dataframe tbody tr th {\n",
              "        vertical-align: top;\n",
              "    }\n",
              "\n",
              "    .dataframe thead th {\n",
              "        text-align: right;\n",
              "    }\n",
              "</style>\n",
              "<table border=\"1\" class=\"dataframe\">\n",
              "  <thead>\n",
              "    <tr style=\"text-align: right;\">\n",
              "      <th></th>\n",
              "      <th>Customer ID</th>\n",
              "      <th>Gender</th>\n",
              "      <th>Age</th>\n",
              "      <th>Under 30</th>\n",
              "      <th>Senior Citizen</th>\n",
              "      <th>Married</th>\n",
              "      <th>Dependents</th>\n",
              "      <th>Number of Dependents</th>\n",
              "      <th>City</th>\n",
              "      <th>Zip Code</th>\n",
              "      <th>Population</th>\n",
              "    </tr>\n",
              "  </thead>\n",
              "  <tbody>\n",
              "    <tr>\n",
              "      <th>0</th>\n",
              "      <td>8779-QRDMV</td>\n",
              "      <td>Male</td>\n",
              "      <td>78</td>\n",
              "      <td>No</td>\n",
              "      <td>Yes</td>\n",
              "      <td>No</td>\n",
              "      <td>No</td>\n",
              "      <td>0</td>\n",
              "      <td>Los Angeles</td>\n",
              "      <td>90022</td>\n",
              "      <td>68701</td>\n",
              "    </tr>\n",
              "    <tr>\n",
              "      <th>1</th>\n",
              "      <td>7495-OOKFY</td>\n",
              "      <td>Female</td>\n",
              "      <td>74</td>\n",
              "      <td>No</td>\n",
              "      <td>Yes</td>\n",
              "      <td>Yes</td>\n",
              "      <td>Yes</td>\n",
              "      <td>1</td>\n",
              "      <td>Los Angeles</td>\n",
              "      <td>90063</td>\n",
              "      <td>55668</td>\n",
              "    </tr>\n",
              "    <tr>\n",
              "      <th>2</th>\n",
              "      <td>1658-BYGOY</td>\n",
              "      <td>Male</td>\n",
              "      <td>71</td>\n",
              "      <td>No</td>\n",
              "      <td>Yes</td>\n",
              "      <td>No</td>\n",
              "      <td>Yes</td>\n",
              "      <td>3</td>\n",
              "      <td>Los Angeles</td>\n",
              "      <td>90065</td>\n",
              "      <td>47534</td>\n",
              "    </tr>\n",
              "    <tr>\n",
              "      <th>3</th>\n",
              "      <td>4598-XLKNJ</td>\n",
              "      <td>Female</td>\n",
              "      <td>78</td>\n",
              "      <td>No</td>\n",
              "      <td>Yes</td>\n",
              "      <td>Yes</td>\n",
              "      <td>Yes</td>\n",
              "      <td>1</td>\n",
              "      <td>Inglewood</td>\n",
              "      <td>90303</td>\n",
              "      <td>27778</td>\n",
              "    </tr>\n",
              "    <tr>\n",
              "      <th>4</th>\n",
              "      <td>4846-WHAFZ</td>\n",
              "      <td>Female</td>\n",
              "      <td>80</td>\n",
              "      <td>No</td>\n",
              "      <td>Yes</td>\n",
              "      <td>Yes</td>\n",
              "      <td>Yes</td>\n",
              "      <td>1</td>\n",
              "      <td>Whittier</td>\n",
              "      <td>90602</td>\n",
              "      <td>26265</td>\n",
              "    </tr>\n",
              "  </tbody>\n",
              "</table>\n",
              "</div>\n",
              "      <button class=\"colab-df-convert\" onclick=\"convertToInteractive('df-d9b4ea2d-528c-49ce-8fcf-a6acaba97b51')\"\n",
              "              title=\"Convert this dataframe to an interactive table.\"\n",
              "              style=\"display:none;\">\n",
              "        \n",
              "  <svg xmlns=\"http://www.w3.org/2000/svg\" height=\"24px\"viewBox=\"0 0 24 24\"\n",
              "       width=\"24px\">\n",
              "    <path d=\"M0 0h24v24H0V0z\" fill=\"none\"/>\n",
              "    <path d=\"M18.56 5.44l.94 2.06.94-2.06 2.06-.94-2.06-.94-.94-2.06-.94 2.06-2.06.94zm-11 1L8.5 8.5l.94-2.06 2.06-.94-2.06-.94L8.5 2.5l-.94 2.06-2.06.94zm10 10l.94 2.06.94-2.06 2.06-.94-2.06-.94-.94-2.06-.94 2.06-2.06.94z\"/><path d=\"M17.41 7.96l-1.37-1.37c-.4-.4-.92-.59-1.43-.59-.52 0-1.04.2-1.43.59L10.3 9.45l-7.72 7.72c-.78.78-.78 2.05 0 2.83L4 21.41c.39.39.9.59 1.41.59.51 0 1.02-.2 1.41-.59l7.78-7.78 2.81-2.81c.8-.78.8-2.07 0-2.86zM5.41 20L4 18.59l7.72-7.72 1.47 1.35L5.41 20z\"/>\n",
              "  </svg>\n",
              "      </button>\n",
              "      \n",
              "  <style>\n",
              "    .colab-df-container {\n",
              "      display:flex;\n",
              "      flex-wrap:wrap;\n",
              "      gap: 12px;\n",
              "    }\n",
              "\n",
              "    .colab-df-convert {\n",
              "      background-color: #E8F0FE;\n",
              "      border: none;\n",
              "      border-radius: 50%;\n",
              "      cursor: pointer;\n",
              "      display: none;\n",
              "      fill: #1967D2;\n",
              "      height: 32px;\n",
              "      padding: 0 0 0 0;\n",
              "      width: 32px;\n",
              "    }\n",
              "\n",
              "    .colab-df-convert:hover {\n",
              "      background-color: #E2EBFA;\n",
              "      box-shadow: 0px 1px 2px rgba(60, 64, 67, 0.3), 0px 1px 3px 1px rgba(60, 64, 67, 0.15);\n",
              "      fill: #174EA6;\n",
              "    }\n",
              "\n",
              "    [theme=dark] .colab-df-convert {\n",
              "      background-color: #3B4455;\n",
              "      fill: #D2E3FC;\n",
              "    }\n",
              "\n",
              "    [theme=dark] .colab-df-convert:hover {\n",
              "      background-color: #434B5C;\n",
              "      box-shadow: 0px 1px 3px 1px rgba(0, 0, 0, 0.15);\n",
              "      filter: drop-shadow(0px 1px 2px rgba(0, 0, 0, 0.3));\n",
              "      fill: #FFFFFF;\n",
              "    }\n",
              "  </style>\n",
              "\n",
              "      <script>\n",
              "        const buttonEl =\n",
              "          document.querySelector('#df-d9b4ea2d-528c-49ce-8fcf-a6acaba97b51 button.colab-df-convert');\n",
              "        buttonEl.style.display =\n",
              "          google.colab.kernel.accessAllowed ? 'block' : 'none';\n",
              "\n",
              "        async function convertToInteractive(key) {\n",
              "          const element = document.querySelector('#df-d9b4ea2d-528c-49ce-8fcf-a6acaba97b51');\n",
              "          const dataTable =\n",
              "            await google.colab.kernel.invokeFunction('convertToInteractive',\n",
              "                                                     [key], {});\n",
              "          if (!dataTable) return;\n",
              "\n",
              "          const docLinkHtml = 'Like what you see? Visit the ' +\n",
              "            '<a target=\"_blank\" href=https://colab.research.google.com/notebooks/data_table.ipynb>data table notebook</a>'\n",
              "            + ' to learn more about interactive tables.';\n",
              "          element.innerHTML = '';\n",
              "          dataTable['output_type'] = 'display_data';\n",
              "          await google.colab.output.renderOutput(dataTable, element);\n",
              "          const docLink = document.createElement('div');\n",
              "          docLink.innerHTML = docLinkHtml;\n",
              "          element.appendChild(docLink);\n",
              "        }\n",
              "      </script>\n",
              "    </div>\n",
              "  </div>\n",
              "  "
            ]
          },
          "metadata": {},
          "execution_count": 9
        }
      ]
    },
    {
      "cell_type": "code",
      "source": [
        "second.info()"
      ],
      "metadata": {
        "colab": {
          "base_uri": "https://localhost:8080/"
        },
        "id": "RTb5zzRh6Mt-",
        "outputId": "b0638de2-a73c-417d-b297-4ac85b336532"
      },
      "execution_count": null,
      "outputs": [
        {
          "output_type": "stream",
          "name": "stdout",
          "text": [
            "<class 'pandas.core.frame.DataFrame'>\n",
            "Int64Index: 7043 entries, 0 to 7042\n",
            "Data columns (total 11 columns):\n",
            " #   Column                Non-Null Count  Dtype \n",
            "---  ------                --------------  ----- \n",
            " 0   Customer ID           7043 non-null   object\n",
            " 1   Gender                7043 non-null   object\n",
            " 2   Age                   7043 non-null   int64 \n",
            " 3   Under 30              7043 non-null   object\n",
            " 4   Senior Citizen        7043 non-null   object\n",
            " 5   Married               7043 non-null   object\n",
            " 6   Dependents            7043 non-null   object\n",
            " 7   Number of Dependents  7043 non-null   int64 \n",
            " 8   City                  7043 non-null   object\n",
            " 9   Zip Code              7043 non-null   int64 \n",
            " 10  Population            7043 non-null   int64 \n",
            "dtypes: int64(4), object(7)\n",
            "memory usage: 660.3+ KB\n"
          ]
        }
      ]
    },
    {
      "cell_type": "code",
      "source": [
        "#@title Services \n",
        "services=pd.read_excel('/content/Telco_customer_churn_services.xlsx')\n",
        "services.head()"
      ],
      "metadata": {
        "colab": {
          "base_uri": "https://localhost:8080/",
          "height": 456
        },
        "id": "Heg3owwryycF",
        "outputId": "5ee1c477-0a42-4ecc-eed5-bafbad13b91b"
      },
      "execution_count": null,
      "outputs": [
        {
          "output_type": "execute_result",
          "data": {
            "text/plain": [
              "  Customer ID  Count Quarter Referred a Friend  Number of Referrals  \\\n",
              "0  8779-QRDMV      1      Q3                No                    0   \n",
              "1  7495-OOKFY      1      Q3               Yes                    1   \n",
              "2  1658-BYGOY      1      Q3                No                    0   \n",
              "3  4598-XLKNJ      1      Q3               Yes                    1   \n",
              "4  4846-WHAFZ      1      Q3               Yes                    1   \n",
              "\n",
              "   Tenure in Months    Offer Phone Service  Avg Monthly Long Distance Charges  \\\n",
              "0                 1     None            No                               0.00   \n",
              "1                 8  Offer E           Yes                              48.85   \n",
              "2                18  Offer D           Yes                              11.33   \n",
              "3                25  Offer C           Yes                              19.76   \n",
              "4                37  Offer C           Yes                               6.33   \n",
              "\n",
              "  Multiple Lines  ... Unlimited Data        Contract  Paperless Billing  \\\n",
              "0             No  ...             No  Month-to-Month                Yes   \n",
              "1            Yes  ...            Yes  Month-to-Month                Yes   \n",
              "2            Yes  ...            Yes  Month-to-Month                Yes   \n",
              "3             No  ...            Yes  Month-to-Month                Yes   \n",
              "4            Yes  ...            Yes  Month-to-Month                Yes   \n",
              "\n",
              "    Payment Method Monthly Charge Total Charges Total Refunds  \\\n",
              "0  Bank Withdrawal          39.65         39.65          0.00   \n",
              "1      Credit Card          80.65        633.30          0.00   \n",
              "2  Bank Withdrawal          95.45       1752.55         45.61   \n",
              "3  Bank Withdrawal          98.50       2514.50         13.43   \n",
              "4  Bank Withdrawal          76.50       2868.15          0.00   \n",
              "\n",
              "  Total Extra Data Charges Total Long Distance Charges Total Revenue  \n",
              "0                       20                        0.00         59.65  \n",
              "1                        0                      390.80       1024.10  \n",
              "2                        0                      203.94       1910.88  \n",
              "3                        0                      494.00       2995.07  \n",
              "4                        0                      234.21       3102.36  \n",
              "\n",
              "[5 rows x 30 columns]"
            ],
            "text/html": [
              "\n",
              "  <div id=\"df-ce6b0a26-1845-41f6-a137-8be21027e182\">\n",
              "    <div class=\"colab-df-container\">\n",
              "      <div>\n",
              "<style scoped>\n",
              "    .dataframe tbody tr th:only-of-type {\n",
              "        vertical-align: middle;\n",
              "    }\n",
              "\n",
              "    .dataframe tbody tr th {\n",
              "        vertical-align: top;\n",
              "    }\n",
              "\n",
              "    .dataframe thead th {\n",
              "        text-align: right;\n",
              "    }\n",
              "</style>\n",
              "<table border=\"1\" class=\"dataframe\">\n",
              "  <thead>\n",
              "    <tr style=\"text-align: right;\">\n",
              "      <th></th>\n",
              "      <th>Customer ID</th>\n",
              "      <th>Count</th>\n",
              "      <th>Quarter</th>\n",
              "      <th>Referred a Friend</th>\n",
              "      <th>Number of Referrals</th>\n",
              "      <th>Tenure in Months</th>\n",
              "      <th>Offer</th>\n",
              "      <th>Phone Service</th>\n",
              "      <th>Avg Monthly Long Distance Charges</th>\n",
              "      <th>Multiple Lines</th>\n",
              "      <th>...</th>\n",
              "      <th>Unlimited Data</th>\n",
              "      <th>Contract</th>\n",
              "      <th>Paperless Billing</th>\n",
              "      <th>Payment Method</th>\n",
              "      <th>Monthly Charge</th>\n",
              "      <th>Total Charges</th>\n",
              "      <th>Total Refunds</th>\n",
              "      <th>Total Extra Data Charges</th>\n",
              "      <th>Total Long Distance Charges</th>\n",
              "      <th>Total Revenue</th>\n",
              "    </tr>\n",
              "  </thead>\n",
              "  <tbody>\n",
              "    <tr>\n",
              "      <th>0</th>\n",
              "      <td>8779-QRDMV</td>\n",
              "      <td>1</td>\n",
              "      <td>Q3</td>\n",
              "      <td>No</td>\n",
              "      <td>0</td>\n",
              "      <td>1</td>\n",
              "      <td>None</td>\n",
              "      <td>No</td>\n",
              "      <td>0.00</td>\n",
              "      <td>No</td>\n",
              "      <td>...</td>\n",
              "      <td>No</td>\n",
              "      <td>Month-to-Month</td>\n",
              "      <td>Yes</td>\n",
              "      <td>Bank Withdrawal</td>\n",
              "      <td>39.65</td>\n",
              "      <td>39.65</td>\n",
              "      <td>0.00</td>\n",
              "      <td>20</td>\n",
              "      <td>0.00</td>\n",
              "      <td>59.65</td>\n",
              "    </tr>\n",
              "    <tr>\n",
              "      <th>1</th>\n",
              "      <td>7495-OOKFY</td>\n",
              "      <td>1</td>\n",
              "      <td>Q3</td>\n",
              "      <td>Yes</td>\n",
              "      <td>1</td>\n",
              "      <td>8</td>\n",
              "      <td>Offer E</td>\n",
              "      <td>Yes</td>\n",
              "      <td>48.85</td>\n",
              "      <td>Yes</td>\n",
              "      <td>...</td>\n",
              "      <td>Yes</td>\n",
              "      <td>Month-to-Month</td>\n",
              "      <td>Yes</td>\n",
              "      <td>Credit Card</td>\n",
              "      <td>80.65</td>\n",
              "      <td>633.30</td>\n",
              "      <td>0.00</td>\n",
              "      <td>0</td>\n",
              "      <td>390.80</td>\n",
              "      <td>1024.10</td>\n",
              "    </tr>\n",
              "    <tr>\n",
              "      <th>2</th>\n",
              "      <td>1658-BYGOY</td>\n",
              "      <td>1</td>\n",
              "      <td>Q3</td>\n",
              "      <td>No</td>\n",
              "      <td>0</td>\n",
              "      <td>18</td>\n",
              "      <td>Offer D</td>\n",
              "      <td>Yes</td>\n",
              "      <td>11.33</td>\n",
              "      <td>Yes</td>\n",
              "      <td>...</td>\n",
              "      <td>Yes</td>\n",
              "      <td>Month-to-Month</td>\n",
              "      <td>Yes</td>\n",
              "      <td>Bank Withdrawal</td>\n",
              "      <td>95.45</td>\n",
              "      <td>1752.55</td>\n",
              "      <td>45.61</td>\n",
              "      <td>0</td>\n",
              "      <td>203.94</td>\n",
              "      <td>1910.88</td>\n",
              "    </tr>\n",
              "    <tr>\n",
              "      <th>3</th>\n",
              "      <td>4598-XLKNJ</td>\n",
              "      <td>1</td>\n",
              "      <td>Q3</td>\n",
              "      <td>Yes</td>\n",
              "      <td>1</td>\n",
              "      <td>25</td>\n",
              "      <td>Offer C</td>\n",
              "      <td>Yes</td>\n",
              "      <td>19.76</td>\n",
              "      <td>No</td>\n",
              "      <td>...</td>\n",
              "      <td>Yes</td>\n",
              "      <td>Month-to-Month</td>\n",
              "      <td>Yes</td>\n",
              "      <td>Bank Withdrawal</td>\n",
              "      <td>98.50</td>\n",
              "      <td>2514.50</td>\n",
              "      <td>13.43</td>\n",
              "      <td>0</td>\n",
              "      <td>494.00</td>\n",
              "      <td>2995.07</td>\n",
              "    </tr>\n",
              "    <tr>\n",
              "      <th>4</th>\n",
              "      <td>4846-WHAFZ</td>\n",
              "      <td>1</td>\n",
              "      <td>Q3</td>\n",
              "      <td>Yes</td>\n",
              "      <td>1</td>\n",
              "      <td>37</td>\n",
              "      <td>Offer C</td>\n",
              "      <td>Yes</td>\n",
              "      <td>6.33</td>\n",
              "      <td>Yes</td>\n",
              "      <td>...</td>\n",
              "      <td>Yes</td>\n",
              "      <td>Month-to-Month</td>\n",
              "      <td>Yes</td>\n",
              "      <td>Bank Withdrawal</td>\n",
              "      <td>76.50</td>\n",
              "      <td>2868.15</td>\n",
              "      <td>0.00</td>\n",
              "      <td>0</td>\n",
              "      <td>234.21</td>\n",
              "      <td>3102.36</td>\n",
              "    </tr>\n",
              "  </tbody>\n",
              "</table>\n",
              "<p>5 rows × 30 columns</p>\n",
              "</div>\n",
              "      <button class=\"colab-df-convert\" onclick=\"convertToInteractive('df-ce6b0a26-1845-41f6-a137-8be21027e182')\"\n",
              "              title=\"Convert this dataframe to an interactive table.\"\n",
              "              style=\"display:none;\">\n",
              "        \n",
              "  <svg xmlns=\"http://www.w3.org/2000/svg\" height=\"24px\"viewBox=\"0 0 24 24\"\n",
              "       width=\"24px\">\n",
              "    <path d=\"M0 0h24v24H0V0z\" fill=\"none\"/>\n",
              "    <path d=\"M18.56 5.44l.94 2.06.94-2.06 2.06-.94-2.06-.94-.94-2.06-.94 2.06-2.06.94zm-11 1L8.5 8.5l.94-2.06 2.06-.94-2.06-.94L8.5 2.5l-.94 2.06-2.06.94zm10 10l.94 2.06.94-2.06 2.06-.94-2.06-.94-.94-2.06-.94 2.06-2.06.94z\"/><path d=\"M17.41 7.96l-1.37-1.37c-.4-.4-.92-.59-1.43-.59-.52 0-1.04.2-1.43.59L10.3 9.45l-7.72 7.72c-.78.78-.78 2.05 0 2.83L4 21.41c.39.39.9.59 1.41.59.51 0 1.02-.2 1.41-.59l7.78-7.78 2.81-2.81c.8-.78.8-2.07 0-2.86zM5.41 20L4 18.59l7.72-7.72 1.47 1.35L5.41 20z\"/>\n",
              "  </svg>\n",
              "      </button>\n",
              "      \n",
              "  <style>\n",
              "    .colab-df-container {\n",
              "      display:flex;\n",
              "      flex-wrap:wrap;\n",
              "      gap: 12px;\n",
              "    }\n",
              "\n",
              "    .colab-df-convert {\n",
              "      background-color: #E8F0FE;\n",
              "      border: none;\n",
              "      border-radius: 50%;\n",
              "      cursor: pointer;\n",
              "      display: none;\n",
              "      fill: #1967D2;\n",
              "      height: 32px;\n",
              "      padding: 0 0 0 0;\n",
              "      width: 32px;\n",
              "    }\n",
              "\n",
              "    .colab-df-convert:hover {\n",
              "      background-color: #E2EBFA;\n",
              "      box-shadow: 0px 1px 2px rgba(60, 64, 67, 0.3), 0px 1px 3px 1px rgba(60, 64, 67, 0.15);\n",
              "      fill: #174EA6;\n",
              "    }\n",
              "\n",
              "    [theme=dark] .colab-df-convert {\n",
              "      background-color: #3B4455;\n",
              "      fill: #D2E3FC;\n",
              "    }\n",
              "\n",
              "    [theme=dark] .colab-df-convert:hover {\n",
              "      background-color: #434B5C;\n",
              "      box-shadow: 0px 1px 3px 1px rgba(0, 0, 0, 0.15);\n",
              "      filter: drop-shadow(0px 1px 2px rgba(0, 0, 0, 0.3));\n",
              "      fill: #FFFFFF;\n",
              "    }\n",
              "  </style>\n",
              "\n",
              "      <script>\n",
              "        const buttonEl =\n",
              "          document.querySelector('#df-ce6b0a26-1845-41f6-a137-8be21027e182 button.colab-df-convert');\n",
              "        buttonEl.style.display =\n",
              "          google.colab.kernel.accessAllowed ? 'block' : 'none';\n",
              "\n",
              "        async function convertToInteractive(key) {\n",
              "          const element = document.querySelector('#df-ce6b0a26-1845-41f6-a137-8be21027e182');\n",
              "          const dataTable =\n",
              "            await google.colab.kernel.invokeFunction('convertToInteractive',\n",
              "                                                     [key], {});\n",
              "          if (!dataTable) return;\n",
              "\n",
              "          const docLinkHtml = 'Like what you see? Visit the ' +\n",
              "            '<a target=\"_blank\" href=https://colab.research.google.com/notebooks/data_table.ipynb>data table notebook</a>'\n",
              "            + ' to learn more about interactive tables.';\n",
              "          element.innerHTML = '';\n",
              "          dataTable['output_type'] = 'display_data';\n",
              "          await google.colab.output.renderOutput(dataTable, element);\n",
              "          const docLink = document.createElement('div');\n",
              "          docLink.innerHTML = docLinkHtml;\n",
              "          element.appendChild(docLink);\n",
              "        }\n",
              "      </script>\n",
              "    </div>\n",
              "  </div>\n",
              "  "
            ]
          },
          "metadata": {},
          "execution_count": 10
        }
      ]
    },
    {
      "cell_type": "code",
      "source": [
        "services.info()"
      ],
      "metadata": {
        "colab": {
          "base_uri": "https://localhost:8080/"
        },
        "id": "6hntLT1M0DCN",
        "outputId": "bd8b820c-b222-4a99-fcf5-6da4eb100569"
      },
      "execution_count": null,
      "outputs": [
        {
          "output_type": "stream",
          "name": "stdout",
          "text": [
            "<class 'pandas.core.frame.DataFrame'>\n",
            "RangeIndex: 7043 entries, 0 to 7042\n",
            "Data columns (total 30 columns):\n",
            " #   Column                             Non-Null Count  Dtype  \n",
            "---  ------                             --------------  -----  \n",
            " 0   Customer ID                        7043 non-null   object \n",
            " 1   Count                              7043 non-null   int64  \n",
            " 2   Quarter                            7043 non-null   object \n",
            " 3   Referred a Friend                  7043 non-null   object \n",
            " 4   Number of Referrals                7043 non-null   int64  \n",
            " 5   Tenure in Months                   7043 non-null   int64  \n",
            " 6   Offer                              7043 non-null   object \n",
            " 7   Phone Service                      7043 non-null   object \n",
            " 8   Avg Monthly Long Distance Charges  7043 non-null   float64\n",
            " 9   Multiple Lines                     7043 non-null   object \n",
            " 10  Internet Service                   7043 non-null   object \n",
            " 11  Internet Type                      7043 non-null   object \n",
            " 12  Avg Monthly GB Download            7043 non-null   int64  \n",
            " 13  Online Security                    7043 non-null   object \n",
            " 14  Online Backup                      7043 non-null   object \n",
            " 15  Device Protection Plan             7043 non-null   object \n",
            " 16  Premium Tech Support               7043 non-null   object \n",
            " 17  Streaming TV                       7043 non-null   object \n",
            " 18  Streaming Movies                   7043 non-null   object \n",
            " 19  Streaming Music                    7043 non-null   object \n",
            " 20  Unlimited Data                     7043 non-null   object \n",
            " 21  Contract                           7043 non-null   object \n",
            " 22  Paperless Billing                  7043 non-null   object \n",
            " 23  Payment Method                     7043 non-null   object \n",
            " 24  Monthly Charge                     7043 non-null   float64\n",
            " 25  Total Charges                      7043 non-null   float64\n",
            " 26  Total Refunds                      7043 non-null   float64\n",
            " 27  Total Extra Data Charges           7043 non-null   int64  \n",
            " 28  Total Long Distance Charges        7043 non-null   float64\n",
            " 29  Total Revenue                      7043 non-null   float64\n",
            "dtypes: float64(6), int64(5), object(19)\n",
            "memory usage: 1.6+ MB\n"
          ]
        }
      ]
    },
    {
      "cell_type": "code",
      "source": [
        "services.nunique()"
      ],
      "metadata": {
        "colab": {
          "base_uri": "https://localhost:8080/"
        },
        "id": "NauwcHXhy8QA",
        "outputId": "1d12f990-af6e-42ef-e9c6-ecd495317ca6"
      },
      "execution_count": null,
      "outputs": [
        {
          "output_type": "execute_result",
          "data": {
            "text/plain": [
              "Customer ID                          7043\n",
              "Count                                   1\n",
              "Quarter                                 1\n",
              "Referred a Friend                       2\n",
              "Number of Referrals                    12\n",
              "Tenure in Months                       72\n",
              "Offer                                   6\n",
              "Phone Service                           2\n",
              "Avg Monthly Long Distance Charges    3584\n",
              "Multiple Lines                          2\n",
              "Internet Service                        2\n",
              "Internet Type                           4\n",
              "Avg Monthly GB Download                50\n",
              "Online Security                         2\n",
              "Online Backup                           2\n",
              "Device Protection Plan                  2\n",
              "Premium Tech Support                    2\n",
              "Streaming TV                            2\n",
              "Streaming Movies                        2\n",
              "Streaming Music                         2\n",
              "Unlimited Data                          2\n",
              "Contract                                3\n",
              "Paperless Billing                       2\n",
              "Payment Method                          3\n",
              "Monthly Charge                       1585\n",
              "Total Charges                        6540\n",
              "Total Refunds                         500\n",
              "Total Extra Data Charges               16\n",
              "Total Long Distance Charges          6110\n",
              "Total Revenue                        6996\n",
              "dtype: int64"
            ]
          },
          "metadata": {},
          "execution_count": 31
        }
      ]
    },
    {
      "cell_type": "code",
      "source": [
        "services.drop(['Count','Quarter'], axis=1,inplace=True)\n"
      ],
      "metadata": {
        "id": "stiZhtKFz4dl"
      },
      "execution_count": null,
      "outputs": []
    },
    {
      "cell_type": "code",
      "source": [
        "#@title Third Merge\n",
        "\n",
        "third=pd.merge(second, services, \n",
        "                 on='Customer ID', \n",
        "                   how='outer')\n",
        "third.head()"
      ],
      "metadata": {
        "colab": {
          "base_uri": "https://localhost:8080/",
          "height": 438
        },
        "id": "uJ1p5veS9SRJ",
        "outputId": "e2b66875-4053-4476-b2f6-2ebd903f5da2"
      },
      "execution_count": null,
      "outputs": [
        {
          "output_type": "execute_result",
          "data": {
            "text/plain": [
              "  Customer ID  Gender  Age Under 30 Senior Citizen Married Dependents  \\\n",
              "0  8779-QRDMV    Male   78       No            Yes      No         No   \n",
              "1  7495-OOKFY  Female   74       No            Yes     Yes        Yes   \n",
              "2  1658-BYGOY    Male   71       No            Yes      No        Yes   \n",
              "3  4598-XLKNJ  Female   78       No            Yes     Yes        Yes   \n",
              "4  4846-WHAFZ  Female   80       No            Yes     Yes        Yes   \n",
              "\n",
              "   Number of Dependents         City  Zip Code  ...  Unlimited Data  \\\n",
              "0                     0  Los Angeles     90022  ...              No   \n",
              "1                     1  Los Angeles     90063  ...             Yes   \n",
              "2                     3  Los Angeles     90065  ...             Yes   \n",
              "3                     1    Inglewood     90303  ...             Yes   \n",
              "4                     1     Whittier     90602  ...             Yes   \n",
              "\n",
              "         Contract  Paperless Billing   Payment Method Monthly Charge  \\\n",
              "0  Month-to-Month                Yes  Bank Withdrawal          39.65   \n",
              "1  Month-to-Month                Yes      Credit Card          80.65   \n",
              "2  Month-to-Month                Yes  Bank Withdrawal          95.45   \n",
              "3  Month-to-Month                Yes  Bank Withdrawal          98.50   \n",
              "4  Month-to-Month                Yes  Bank Withdrawal          76.50   \n",
              "\n",
              "  Total Charges  Total Refunds Total Extra Data Charges  \\\n",
              "0         39.65           0.00                       20   \n",
              "1        633.30           0.00                        0   \n",
              "2       1752.55          45.61                        0   \n",
              "3       2514.50          13.43                        0   \n",
              "4       2868.15           0.00                        0   \n",
              "\n",
              "  Total Long Distance Charges Total Revenue  \n",
              "0                        0.00         59.65  \n",
              "1                      390.80       1024.10  \n",
              "2                      203.94       1910.88  \n",
              "3                      494.00       2995.07  \n",
              "4                      234.21       3102.36  \n",
              "\n",
              "[5 rows x 38 columns]"
            ],
            "text/html": [
              "\n",
              "  <div id=\"df-94776aa8-37e0-43d6-b046-19b6660bbbdf\">\n",
              "    <div class=\"colab-df-container\">\n",
              "      <div>\n",
              "<style scoped>\n",
              "    .dataframe tbody tr th:only-of-type {\n",
              "        vertical-align: middle;\n",
              "    }\n",
              "\n",
              "    .dataframe tbody tr th {\n",
              "        vertical-align: top;\n",
              "    }\n",
              "\n",
              "    .dataframe thead th {\n",
              "        text-align: right;\n",
              "    }\n",
              "</style>\n",
              "<table border=\"1\" class=\"dataframe\">\n",
              "  <thead>\n",
              "    <tr style=\"text-align: right;\">\n",
              "      <th></th>\n",
              "      <th>Customer ID</th>\n",
              "      <th>Gender</th>\n",
              "      <th>Age</th>\n",
              "      <th>Under 30</th>\n",
              "      <th>Senior Citizen</th>\n",
              "      <th>Married</th>\n",
              "      <th>Dependents</th>\n",
              "      <th>Number of Dependents</th>\n",
              "      <th>City</th>\n",
              "      <th>Zip Code</th>\n",
              "      <th>...</th>\n",
              "      <th>Unlimited Data</th>\n",
              "      <th>Contract</th>\n",
              "      <th>Paperless Billing</th>\n",
              "      <th>Payment Method</th>\n",
              "      <th>Monthly Charge</th>\n",
              "      <th>Total Charges</th>\n",
              "      <th>Total Refunds</th>\n",
              "      <th>Total Extra Data Charges</th>\n",
              "      <th>Total Long Distance Charges</th>\n",
              "      <th>Total Revenue</th>\n",
              "    </tr>\n",
              "  </thead>\n",
              "  <tbody>\n",
              "    <tr>\n",
              "      <th>0</th>\n",
              "      <td>8779-QRDMV</td>\n",
              "      <td>Male</td>\n",
              "      <td>78</td>\n",
              "      <td>No</td>\n",
              "      <td>Yes</td>\n",
              "      <td>No</td>\n",
              "      <td>No</td>\n",
              "      <td>0</td>\n",
              "      <td>Los Angeles</td>\n",
              "      <td>90022</td>\n",
              "      <td>...</td>\n",
              "      <td>No</td>\n",
              "      <td>Month-to-Month</td>\n",
              "      <td>Yes</td>\n",
              "      <td>Bank Withdrawal</td>\n",
              "      <td>39.65</td>\n",
              "      <td>39.65</td>\n",
              "      <td>0.00</td>\n",
              "      <td>20</td>\n",
              "      <td>0.00</td>\n",
              "      <td>59.65</td>\n",
              "    </tr>\n",
              "    <tr>\n",
              "      <th>1</th>\n",
              "      <td>7495-OOKFY</td>\n",
              "      <td>Female</td>\n",
              "      <td>74</td>\n",
              "      <td>No</td>\n",
              "      <td>Yes</td>\n",
              "      <td>Yes</td>\n",
              "      <td>Yes</td>\n",
              "      <td>1</td>\n",
              "      <td>Los Angeles</td>\n",
              "      <td>90063</td>\n",
              "      <td>...</td>\n",
              "      <td>Yes</td>\n",
              "      <td>Month-to-Month</td>\n",
              "      <td>Yes</td>\n",
              "      <td>Credit Card</td>\n",
              "      <td>80.65</td>\n",
              "      <td>633.30</td>\n",
              "      <td>0.00</td>\n",
              "      <td>0</td>\n",
              "      <td>390.80</td>\n",
              "      <td>1024.10</td>\n",
              "    </tr>\n",
              "    <tr>\n",
              "      <th>2</th>\n",
              "      <td>1658-BYGOY</td>\n",
              "      <td>Male</td>\n",
              "      <td>71</td>\n",
              "      <td>No</td>\n",
              "      <td>Yes</td>\n",
              "      <td>No</td>\n",
              "      <td>Yes</td>\n",
              "      <td>3</td>\n",
              "      <td>Los Angeles</td>\n",
              "      <td>90065</td>\n",
              "      <td>...</td>\n",
              "      <td>Yes</td>\n",
              "      <td>Month-to-Month</td>\n",
              "      <td>Yes</td>\n",
              "      <td>Bank Withdrawal</td>\n",
              "      <td>95.45</td>\n",
              "      <td>1752.55</td>\n",
              "      <td>45.61</td>\n",
              "      <td>0</td>\n",
              "      <td>203.94</td>\n",
              "      <td>1910.88</td>\n",
              "    </tr>\n",
              "    <tr>\n",
              "      <th>3</th>\n",
              "      <td>4598-XLKNJ</td>\n",
              "      <td>Female</td>\n",
              "      <td>78</td>\n",
              "      <td>No</td>\n",
              "      <td>Yes</td>\n",
              "      <td>Yes</td>\n",
              "      <td>Yes</td>\n",
              "      <td>1</td>\n",
              "      <td>Inglewood</td>\n",
              "      <td>90303</td>\n",
              "      <td>...</td>\n",
              "      <td>Yes</td>\n",
              "      <td>Month-to-Month</td>\n",
              "      <td>Yes</td>\n",
              "      <td>Bank Withdrawal</td>\n",
              "      <td>98.50</td>\n",
              "      <td>2514.50</td>\n",
              "      <td>13.43</td>\n",
              "      <td>0</td>\n",
              "      <td>494.00</td>\n",
              "      <td>2995.07</td>\n",
              "    </tr>\n",
              "    <tr>\n",
              "      <th>4</th>\n",
              "      <td>4846-WHAFZ</td>\n",
              "      <td>Female</td>\n",
              "      <td>80</td>\n",
              "      <td>No</td>\n",
              "      <td>Yes</td>\n",
              "      <td>Yes</td>\n",
              "      <td>Yes</td>\n",
              "      <td>1</td>\n",
              "      <td>Whittier</td>\n",
              "      <td>90602</td>\n",
              "      <td>...</td>\n",
              "      <td>Yes</td>\n",
              "      <td>Month-to-Month</td>\n",
              "      <td>Yes</td>\n",
              "      <td>Bank Withdrawal</td>\n",
              "      <td>76.50</td>\n",
              "      <td>2868.15</td>\n",
              "      <td>0.00</td>\n",
              "      <td>0</td>\n",
              "      <td>234.21</td>\n",
              "      <td>3102.36</td>\n",
              "    </tr>\n",
              "  </tbody>\n",
              "</table>\n",
              "<p>5 rows × 38 columns</p>\n",
              "</div>\n",
              "      <button class=\"colab-df-convert\" onclick=\"convertToInteractive('df-94776aa8-37e0-43d6-b046-19b6660bbbdf')\"\n",
              "              title=\"Convert this dataframe to an interactive table.\"\n",
              "              style=\"display:none;\">\n",
              "        \n",
              "  <svg xmlns=\"http://www.w3.org/2000/svg\" height=\"24px\"viewBox=\"0 0 24 24\"\n",
              "       width=\"24px\">\n",
              "    <path d=\"M0 0h24v24H0V0z\" fill=\"none\"/>\n",
              "    <path d=\"M18.56 5.44l.94 2.06.94-2.06 2.06-.94-2.06-.94-.94-2.06-.94 2.06-2.06.94zm-11 1L8.5 8.5l.94-2.06 2.06-.94-2.06-.94L8.5 2.5l-.94 2.06-2.06.94zm10 10l.94 2.06.94-2.06 2.06-.94-2.06-.94-.94-2.06-.94 2.06-2.06.94z\"/><path d=\"M17.41 7.96l-1.37-1.37c-.4-.4-.92-.59-1.43-.59-.52 0-1.04.2-1.43.59L10.3 9.45l-7.72 7.72c-.78.78-.78 2.05 0 2.83L4 21.41c.39.39.9.59 1.41.59.51 0 1.02-.2 1.41-.59l7.78-7.78 2.81-2.81c.8-.78.8-2.07 0-2.86zM5.41 20L4 18.59l7.72-7.72 1.47 1.35L5.41 20z\"/>\n",
              "  </svg>\n",
              "      </button>\n",
              "      \n",
              "  <style>\n",
              "    .colab-df-container {\n",
              "      display:flex;\n",
              "      flex-wrap:wrap;\n",
              "      gap: 12px;\n",
              "    }\n",
              "\n",
              "    .colab-df-convert {\n",
              "      background-color: #E8F0FE;\n",
              "      border: none;\n",
              "      border-radius: 50%;\n",
              "      cursor: pointer;\n",
              "      display: none;\n",
              "      fill: #1967D2;\n",
              "      height: 32px;\n",
              "      padding: 0 0 0 0;\n",
              "      width: 32px;\n",
              "    }\n",
              "\n",
              "    .colab-df-convert:hover {\n",
              "      background-color: #E2EBFA;\n",
              "      box-shadow: 0px 1px 2px rgba(60, 64, 67, 0.3), 0px 1px 3px 1px rgba(60, 64, 67, 0.15);\n",
              "      fill: #174EA6;\n",
              "    }\n",
              "\n",
              "    [theme=dark] .colab-df-convert {\n",
              "      background-color: #3B4455;\n",
              "      fill: #D2E3FC;\n",
              "    }\n",
              "\n",
              "    [theme=dark] .colab-df-convert:hover {\n",
              "      background-color: #434B5C;\n",
              "      box-shadow: 0px 1px 3px 1px rgba(0, 0, 0, 0.15);\n",
              "      filter: drop-shadow(0px 1px 2px rgba(0, 0, 0, 0.3));\n",
              "      fill: #FFFFFF;\n",
              "    }\n",
              "  </style>\n",
              "\n",
              "      <script>\n",
              "        const buttonEl =\n",
              "          document.querySelector('#df-94776aa8-37e0-43d6-b046-19b6660bbbdf button.colab-df-convert');\n",
              "        buttonEl.style.display =\n",
              "          google.colab.kernel.accessAllowed ? 'block' : 'none';\n",
              "\n",
              "        async function convertToInteractive(key) {\n",
              "          const element = document.querySelector('#df-94776aa8-37e0-43d6-b046-19b6660bbbdf');\n",
              "          const dataTable =\n",
              "            await google.colab.kernel.invokeFunction('convertToInteractive',\n",
              "                                                     [key], {});\n",
              "          if (!dataTable) return;\n",
              "\n",
              "          const docLinkHtml = 'Like what you see? Visit the ' +\n",
              "            '<a target=\"_blank\" href=https://colab.research.google.com/notebooks/data_table.ipynb>data table notebook</a>'\n",
              "            + ' to learn more about interactive tables.';\n",
              "          element.innerHTML = '';\n",
              "          dataTable['output_type'] = 'display_data';\n",
              "          await google.colab.output.renderOutput(dataTable, element);\n",
              "          const docLink = document.createElement('div');\n",
              "          docLink.innerHTML = docLinkHtml;\n",
              "          element.appendChild(docLink);\n",
              "        }\n",
              "      </script>\n",
              "    </div>\n",
              "  </div>\n",
              "  "
            ]
          },
          "metadata": {},
          "execution_count": 12
        }
      ]
    },
    {
      "cell_type": "code",
      "source": [
        "third.info()"
      ],
      "metadata": {
        "colab": {
          "base_uri": "https://localhost:8080/"
        },
        "id": "001UFU7z9fvO",
        "outputId": "1e8cc658-5c46-4ad4-8cd9-374a903d1c37"
      },
      "execution_count": null,
      "outputs": [
        {
          "output_type": "stream",
          "name": "stdout",
          "text": [
            "<class 'pandas.core.frame.DataFrame'>\n",
            "Int64Index: 7043 entries, 0 to 7042\n",
            "Data columns (total 38 columns):\n",
            " #   Column                             Non-Null Count  Dtype  \n",
            "---  ------                             --------------  -----  \n",
            " 0   Customer ID                        7043 non-null   object \n",
            " 1   Gender                             7043 non-null   object \n",
            " 2   Age                                7043 non-null   int64  \n",
            " 3   Under 30                           7043 non-null   object \n",
            " 4   Senior Citizen                     7043 non-null   object \n",
            " 5   Married                            7043 non-null   object \n",
            " 6   Dependents                         7043 non-null   object \n",
            " 7   Number of Dependents               7043 non-null   int64  \n",
            " 8   City                               7043 non-null   object \n",
            " 9   Zip Code                           7043 non-null   int64  \n",
            " 10  Population                         7043 non-null   int64  \n",
            " 11  Referred a Friend                  7043 non-null   object \n",
            " 12  Number of Referrals                7043 non-null   int64  \n",
            " 13  Tenure in Months                   7043 non-null   int64  \n",
            " 14  Offer                              7043 non-null   object \n",
            " 15  Phone Service                      7043 non-null   object \n",
            " 16  Avg Monthly Long Distance Charges  7043 non-null   float64\n",
            " 17  Multiple Lines                     7043 non-null   object \n",
            " 18  Internet Service                   7043 non-null   object \n",
            " 19  Internet Type                      7043 non-null   object \n",
            " 20  Avg Monthly GB Download            7043 non-null   int64  \n",
            " 21  Online Security                    7043 non-null   object \n",
            " 22  Online Backup                      7043 non-null   object \n",
            " 23  Device Protection Plan             7043 non-null   object \n",
            " 24  Premium Tech Support               7043 non-null   object \n",
            " 25  Streaming TV                       7043 non-null   object \n",
            " 26  Streaming Movies                   7043 non-null   object \n",
            " 27  Streaming Music                    7043 non-null   object \n",
            " 28  Unlimited Data                     7043 non-null   object \n",
            " 29  Contract                           7043 non-null   object \n",
            " 30  Paperless Billing                  7043 non-null   object \n",
            " 31  Payment Method                     7043 non-null   object \n",
            " 32  Monthly Charge                     7043 non-null   float64\n",
            " 33  Total Charges                      7043 non-null   float64\n",
            " 34  Total Refunds                      7043 non-null   float64\n",
            " 35  Total Extra Data Charges           7043 non-null   int64  \n",
            " 36  Total Long Distance Charges        7043 non-null   float64\n",
            " 37  Total Revenue                      7043 non-null   float64\n",
            "dtypes: float64(6), int64(8), object(24)\n",
            "memory usage: 2.1+ MB\n"
          ]
        }
      ]
    },
    {
      "cell_type": "code",
      "source": [
        "#@title Status\n",
        "status=pd.read_excel('/content/Telco_customer_churn_status.xlsx')\n",
        "status.head()"
      ],
      "metadata": {
        "colab": {
          "base_uri": "https://localhost:8080/",
          "height": 337
        },
        "id": "dT_Gywz10LqY",
        "outputId": "b702ba15-94e7-43e8-c539-e57f006eb22a"
      },
      "execution_count": null,
      "outputs": [
        {
          "output_type": "execute_result",
          "data": {
            "text/plain": [
              "  Customer ID  Count Quarter  Satisfaction Score Customer Status Churn Label  \\\n",
              "0  8779-QRDMV      1      Q3                   3         Churned         Yes   \n",
              "1  7495-OOKFY      1      Q3                   3         Churned         Yes   \n",
              "2  1658-BYGOY      1      Q3                   2         Churned         Yes   \n",
              "3  4598-XLKNJ      1      Q3                   2         Churned         Yes   \n",
              "4  4846-WHAFZ      1      Q3                   2         Churned         Yes   \n",
              "\n",
              "   Churn Value  Churn Score  CLTV   Churn Category  \\\n",
              "0            1           91  5433       Competitor   \n",
              "1            1           69  5302       Competitor   \n",
              "2            1           81  3179       Competitor   \n",
              "3            1           88  5337  Dissatisfaction   \n",
              "4            1           67  2793            Price   \n",
              "\n",
              "                   Churn Reason  \n",
              "0  Competitor offered more data  \n",
              "1  Competitor made better offer  \n",
              "2  Competitor made better offer  \n",
              "3     Limited range of services  \n",
              "4            Extra data charges  "
            ],
            "text/html": [
              "\n",
              "  <div id=\"df-d784e109-c2d5-497b-acd0-2d2e364cc581\">\n",
              "    <div class=\"colab-df-container\">\n",
              "      <div>\n",
              "<style scoped>\n",
              "    .dataframe tbody tr th:only-of-type {\n",
              "        vertical-align: middle;\n",
              "    }\n",
              "\n",
              "    .dataframe tbody tr th {\n",
              "        vertical-align: top;\n",
              "    }\n",
              "\n",
              "    .dataframe thead th {\n",
              "        text-align: right;\n",
              "    }\n",
              "</style>\n",
              "<table border=\"1\" class=\"dataframe\">\n",
              "  <thead>\n",
              "    <tr style=\"text-align: right;\">\n",
              "      <th></th>\n",
              "      <th>Customer ID</th>\n",
              "      <th>Count</th>\n",
              "      <th>Quarter</th>\n",
              "      <th>Satisfaction Score</th>\n",
              "      <th>Customer Status</th>\n",
              "      <th>Churn Label</th>\n",
              "      <th>Churn Value</th>\n",
              "      <th>Churn Score</th>\n",
              "      <th>CLTV</th>\n",
              "      <th>Churn Category</th>\n",
              "      <th>Churn Reason</th>\n",
              "    </tr>\n",
              "  </thead>\n",
              "  <tbody>\n",
              "    <tr>\n",
              "      <th>0</th>\n",
              "      <td>8779-QRDMV</td>\n",
              "      <td>1</td>\n",
              "      <td>Q3</td>\n",
              "      <td>3</td>\n",
              "      <td>Churned</td>\n",
              "      <td>Yes</td>\n",
              "      <td>1</td>\n",
              "      <td>91</td>\n",
              "      <td>5433</td>\n",
              "      <td>Competitor</td>\n",
              "      <td>Competitor offered more data</td>\n",
              "    </tr>\n",
              "    <tr>\n",
              "      <th>1</th>\n",
              "      <td>7495-OOKFY</td>\n",
              "      <td>1</td>\n",
              "      <td>Q3</td>\n",
              "      <td>3</td>\n",
              "      <td>Churned</td>\n",
              "      <td>Yes</td>\n",
              "      <td>1</td>\n",
              "      <td>69</td>\n",
              "      <td>5302</td>\n",
              "      <td>Competitor</td>\n",
              "      <td>Competitor made better offer</td>\n",
              "    </tr>\n",
              "    <tr>\n",
              "      <th>2</th>\n",
              "      <td>1658-BYGOY</td>\n",
              "      <td>1</td>\n",
              "      <td>Q3</td>\n",
              "      <td>2</td>\n",
              "      <td>Churned</td>\n",
              "      <td>Yes</td>\n",
              "      <td>1</td>\n",
              "      <td>81</td>\n",
              "      <td>3179</td>\n",
              "      <td>Competitor</td>\n",
              "      <td>Competitor made better offer</td>\n",
              "    </tr>\n",
              "    <tr>\n",
              "      <th>3</th>\n",
              "      <td>4598-XLKNJ</td>\n",
              "      <td>1</td>\n",
              "      <td>Q3</td>\n",
              "      <td>2</td>\n",
              "      <td>Churned</td>\n",
              "      <td>Yes</td>\n",
              "      <td>1</td>\n",
              "      <td>88</td>\n",
              "      <td>5337</td>\n",
              "      <td>Dissatisfaction</td>\n",
              "      <td>Limited range of services</td>\n",
              "    </tr>\n",
              "    <tr>\n",
              "      <th>4</th>\n",
              "      <td>4846-WHAFZ</td>\n",
              "      <td>1</td>\n",
              "      <td>Q3</td>\n",
              "      <td>2</td>\n",
              "      <td>Churned</td>\n",
              "      <td>Yes</td>\n",
              "      <td>1</td>\n",
              "      <td>67</td>\n",
              "      <td>2793</td>\n",
              "      <td>Price</td>\n",
              "      <td>Extra data charges</td>\n",
              "    </tr>\n",
              "  </tbody>\n",
              "</table>\n",
              "</div>\n",
              "      <button class=\"colab-df-convert\" onclick=\"convertToInteractive('df-d784e109-c2d5-497b-acd0-2d2e364cc581')\"\n",
              "              title=\"Convert this dataframe to an interactive table.\"\n",
              "              style=\"display:none;\">\n",
              "        \n",
              "  <svg xmlns=\"http://www.w3.org/2000/svg\" height=\"24px\"viewBox=\"0 0 24 24\"\n",
              "       width=\"24px\">\n",
              "    <path d=\"M0 0h24v24H0V0z\" fill=\"none\"/>\n",
              "    <path d=\"M18.56 5.44l.94 2.06.94-2.06 2.06-.94-2.06-.94-.94-2.06-.94 2.06-2.06.94zm-11 1L8.5 8.5l.94-2.06 2.06-.94-2.06-.94L8.5 2.5l-.94 2.06-2.06.94zm10 10l.94 2.06.94-2.06 2.06-.94-2.06-.94-.94-2.06-.94 2.06-2.06.94z\"/><path d=\"M17.41 7.96l-1.37-1.37c-.4-.4-.92-.59-1.43-.59-.52 0-1.04.2-1.43.59L10.3 9.45l-7.72 7.72c-.78.78-.78 2.05 0 2.83L4 21.41c.39.39.9.59 1.41.59.51 0 1.02-.2 1.41-.59l7.78-7.78 2.81-2.81c.8-.78.8-2.07 0-2.86zM5.41 20L4 18.59l7.72-7.72 1.47 1.35L5.41 20z\"/>\n",
              "  </svg>\n",
              "      </button>\n",
              "      \n",
              "  <style>\n",
              "    .colab-df-container {\n",
              "      display:flex;\n",
              "      flex-wrap:wrap;\n",
              "      gap: 12px;\n",
              "    }\n",
              "\n",
              "    .colab-df-convert {\n",
              "      background-color: #E8F0FE;\n",
              "      border: none;\n",
              "      border-radius: 50%;\n",
              "      cursor: pointer;\n",
              "      display: none;\n",
              "      fill: #1967D2;\n",
              "      height: 32px;\n",
              "      padding: 0 0 0 0;\n",
              "      width: 32px;\n",
              "    }\n",
              "\n",
              "    .colab-df-convert:hover {\n",
              "      background-color: #E2EBFA;\n",
              "      box-shadow: 0px 1px 2px rgba(60, 64, 67, 0.3), 0px 1px 3px 1px rgba(60, 64, 67, 0.15);\n",
              "      fill: #174EA6;\n",
              "    }\n",
              "\n",
              "    [theme=dark] .colab-df-convert {\n",
              "      background-color: #3B4455;\n",
              "      fill: #D2E3FC;\n",
              "    }\n",
              "\n",
              "    [theme=dark] .colab-df-convert:hover {\n",
              "      background-color: #434B5C;\n",
              "      box-shadow: 0px 1px 3px 1px rgba(0, 0, 0, 0.15);\n",
              "      filter: drop-shadow(0px 1px 2px rgba(0, 0, 0, 0.3));\n",
              "      fill: #FFFFFF;\n",
              "    }\n",
              "  </style>\n",
              "\n",
              "      <script>\n",
              "        const buttonEl =\n",
              "          document.querySelector('#df-d784e109-c2d5-497b-acd0-2d2e364cc581 button.colab-df-convert');\n",
              "        buttonEl.style.display =\n",
              "          google.colab.kernel.accessAllowed ? 'block' : 'none';\n",
              "\n",
              "        async function convertToInteractive(key) {\n",
              "          const element = document.querySelector('#df-d784e109-c2d5-497b-acd0-2d2e364cc581');\n",
              "          const dataTable =\n",
              "            await google.colab.kernel.invokeFunction('convertToInteractive',\n",
              "                                                     [key], {});\n",
              "          if (!dataTable) return;\n",
              "\n",
              "          const docLinkHtml = 'Like what you see? Visit the ' +\n",
              "            '<a target=\"_blank\" href=https://colab.research.google.com/notebooks/data_table.ipynb>data table notebook</a>'\n",
              "            + ' to learn more about interactive tables.';\n",
              "          element.innerHTML = '';\n",
              "          dataTable['output_type'] = 'display_data';\n",
              "          await google.colab.output.renderOutput(dataTable, element);\n",
              "          const docLink = document.createElement('div');\n",
              "          docLink.innerHTML = docLinkHtml;\n",
              "          element.appendChild(docLink);\n",
              "        }\n",
              "      </script>\n",
              "    </div>\n",
              "  </div>\n",
              "  "
            ]
          },
          "metadata": {},
          "execution_count": 13
        }
      ]
    },
    {
      "cell_type": "code",
      "source": [
        "status.info()"
      ],
      "metadata": {
        "colab": {
          "base_uri": "https://localhost:8080/"
        },
        "id": "ewSDXgTI0VJW",
        "outputId": "e03d6c70-afbc-48b8-fa8a-89c1c481a392"
      },
      "execution_count": null,
      "outputs": [
        {
          "output_type": "stream",
          "name": "stdout",
          "text": [
            "<class 'pandas.core.frame.DataFrame'>\n",
            "RangeIndex: 7043 entries, 0 to 7042\n",
            "Data columns (total 11 columns):\n",
            " #   Column              Non-Null Count  Dtype \n",
            "---  ------              --------------  ----- \n",
            " 0   Customer ID         7043 non-null   object\n",
            " 1   Count               7043 non-null   int64 \n",
            " 2   Quarter             7043 non-null   object\n",
            " 3   Satisfaction Score  7043 non-null   int64 \n",
            " 4   Customer Status     7043 non-null   object\n",
            " 5   Churn Label         7043 non-null   object\n",
            " 6   Churn Value         7043 non-null   int64 \n",
            " 7   Churn Score         7043 non-null   int64 \n",
            " 8   CLTV                7043 non-null   int64 \n",
            " 9   Churn Category      1869 non-null   object\n",
            " 10  Churn Reason        1869 non-null   object\n",
            "dtypes: int64(5), object(6)\n",
            "memory usage: 605.4+ KB\n"
          ]
        }
      ]
    },
    {
      "cell_type": "code",
      "source": [
        "status.nunique()"
      ],
      "metadata": {
        "colab": {
          "base_uri": "https://localhost:8080/"
        },
        "id": "CJDw6Nih0f-c",
        "outputId": "92dcdb26-249d-49a7-947e-eec318862e92"
      },
      "execution_count": null,
      "outputs": [
        {
          "output_type": "execute_result",
          "data": {
            "text/plain": [
              "Customer ID           7043\n",
              "Count                    1\n",
              "Quarter                  1\n",
              "Satisfaction Score       5\n",
              "Customer Status          3\n",
              "Churn Label              2\n",
              "Churn Value              2\n",
              "Churn Score             81\n",
              "CLTV                  3438\n",
              "Churn Category           5\n",
              "Churn Reason            20\n",
              "dtype: int64"
            ]
          },
          "metadata": {},
          "execution_count": 36
        }
      ]
    },
    {
      "cell_type": "code",
      "source": [
        "status.drop(['Count','Quarter','Churn Label','CLTV','Churn Reason','Churn Score','Satisfaction Score'], axis=1,inplace=True)\n"
      ],
      "metadata": {
        "id": "Aw8uIQ2m0mUj"
      },
      "execution_count": null,
      "outputs": []
    },
    {
      "cell_type": "code",
      "source": [
        "#Number of People churned where 2000 and who does not churn were 5000\n",
        "sns.countplot(x=status['Churn Value'],data=status)"
      ],
      "metadata": {
        "colab": {
          "base_uri": "https://localhost:8080/",
          "height": 296
        },
        "id": "o9AJAPXf_WAN",
        "outputId": "fa17d3cc-6e2b-4b51-d845-592b34574799"
      },
      "execution_count": null,
      "outputs": [
        {
          "output_type": "execute_result",
          "data": {
            "text/plain": [
              "<matplotlib.axes._subplots.AxesSubplot at 0x7fb504cf7290>"
            ]
          },
          "metadata": {},
          "execution_count": 17
        },
        {
          "output_type": "display_data",
          "data": {
            "text/plain": [
              "<Figure size 432x288 with 1 Axes>"
            ],
            "image/png": "[encoded data removed]"
          },
          "metadata": {
            "needs_background": "light"
          }
        }
      ]
    },
    {
      "cell_type": "code",
      "source": [
        "#@title Merging\n",
        "\n",
        "fourth=pd.merge(third, status, \n",
        "                 on='Customer ID', \n",
        "                   how='outer')\n",
        "fourth.head()"
      ],
      "metadata": {
        "colab": {
          "base_uri": "https://localhost:8080/",
          "height": 438
        },
        "id": "rz3dD4ZL4QbR",
        "outputId": "172feaae-6e39-4407-a038-fb4884545a55"
      },
      "execution_count": null,
      "outputs": [
        {
          "output_type": "execute_result",
          "data": {
            "text/plain": [
              "  Customer ID  Gender  Age Under 30 Senior Citizen Married Dependents  \\\n",
              "0  8779-QRDMV    Male   78       No            Yes      No         No   \n",
              "1  7495-OOKFY  Female   74       No            Yes     Yes        Yes   \n",
              "2  1658-BYGOY    Male   71       No            Yes      No        Yes   \n",
              "3  4598-XLKNJ  Female   78       No            Yes     Yes        Yes   \n",
              "4  4846-WHAFZ  Female   80       No            Yes     Yes        Yes   \n",
              "\n",
              "   Number of Dependents         City  Zip Code  ...   Payment Method  \\\n",
              "0                     0  Los Angeles     90022  ...  Bank Withdrawal   \n",
              "1                     1  Los Angeles     90063  ...      Credit Card   \n",
              "2                     3  Los Angeles     90065  ...  Bank Withdrawal   \n",
              "3                     1    Inglewood     90303  ...  Bank Withdrawal   \n",
              "4                     1     Whittier     90602  ...  Bank Withdrawal   \n",
              "\n",
              "  Monthly Charge  Total Charges  Total Refunds Total Extra Data Charges  \\\n",
              "0          39.65          39.65           0.00                       20   \n",
              "1          80.65         633.30           0.00                        0   \n",
              "2          95.45        1752.55          45.61                        0   \n",
              "3          98.50        2514.50          13.43                        0   \n",
              "4          76.50        2868.15           0.00                        0   \n",
              "\n",
              "  Total Long Distance Charges  Total Revenue Customer Status Churn Value  \\\n",
              "0                        0.00          59.65         Churned           1   \n",
              "1                      390.80        1024.10         Churned           1   \n",
              "2                      203.94        1910.88         Churned           1   \n",
              "3                      494.00        2995.07         Churned           1   \n",
              "4                      234.21        3102.36         Churned           1   \n",
              "\n",
              "    Churn Category  \n",
              "0       Competitor  \n",
              "1       Competitor  \n",
              "2       Competitor  \n",
              "3  Dissatisfaction  \n",
              "4            Price  \n",
              "\n",
              "[5 rows x 41 columns]"
            ],
            "text/html": [
              "\n",
              "  <div id=\"df-96916784-4a22-428e-9fcb-9fc69d636877\">\n",
              "    <div class=\"colab-df-container\">\n",
              "      <div>\n",
              "<style scoped>\n",
              "    .dataframe tbody tr th:only-of-type {\n",
              "        vertical-align: middle;\n",
              "    }\n",
              "\n",
              "    .dataframe tbody tr th {\n",
              "        vertical-align: top;\n",
              "    }\n",
              "\n",
              "    .dataframe thead th {\n",
              "        text-align: right;\n",
              "    }\n",
              "</style>\n",
              "<table border=\"1\" class=\"dataframe\">\n",
              "  <thead>\n",
              "    <tr style=\"text-align: right;\">\n",
              "      <th></th>\n",
              "      <th>Customer ID</th>\n",
              "      <th>Gender</th>\n",
              "      <th>Age</th>\n",
              "      <th>Under 30</th>\n",
              "      <th>Senior Citizen</th>\n",
              "      <th>Married</th>\n",
              "      <th>Dependents</th>\n",
              "      <th>Number of Dependents</th>\n",
              "      <th>City</th>\n",
              "      <th>Zip Code</th>\n",
              "      <th>...</th>\n",
              "      <th>Payment Method</th>\n",
              "      <th>Monthly Charge</th>\n",
              "      <th>Total Charges</th>\n",
              "      <th>Total Refunds</th>\n",
              "      <th>Total Extra Data Charges</th>\n",
              "      <th>Total Long Distance Charges</th>\n",
              "      <th>Total Revenue</th>\n",
              "      <th>Customer Status</th>\n",
              "      <th>Churn Value</th>\n",
              "      <th>Churn Category</th>\n",
              "    </tr>\n",
              "  </thead>\n",
              "  <tbody>\n",
              "    <tr>\n",
              "      <th>0</th>\n",
              "      <td>8779-QRDMV</td>\n",
              "      <td>Male</td>\n",
              "      <td>78</td>\n",
              "      <td>No</td>\n",
              "      <td>Yes</td>\n",
              "      <td>No</td>\n",
              "      <td>No</td>\n",
              "      <td>0</td>\n",
              "      <td>Los Angeles</td>\n",
              "      <td>90022</td>\n",
              "      <td>...</td>\n",
              "      <td>Bank Withdrawal</td>\n",
              "      <td>39.65</td>\n",
              "      <td>39.65</td>\n",
              "      <td>0.00</td>\n",
              "      <td>20</td>\n",
              "      <td>0.00</td>\n",
              "      <td>59.65</td>\n",
              "      <td>Churned</td>\n",
              "      <td>1</td>\n",
              "      <td>Competitor</td>\n",
              "    </tr>\n",
              "    <tr>\n",
              "      <th>1</th>\n",
              "      <td>7495-OOKFY</td>\n",
              "      <td>Female</td>\n",
              "      <td>74</td>\n",
              "      <td>No</td>\n",
              "      <td>Yes</td>\n",
              "      <td>Yes</td>\n",
              "      <td>Yes</td>\n",
              "      <td>1</td>\n",
              "      <td>Los Angeles</td>\n",
              "      <td>90063</td>\n",
              "      <td>...</td>\n",
              "      <td>Credit Card</td>\n",
              "      <td>80.65</td>\n",
              "      <td>633.30</td>\n",
              "      <td>0.00</td>\n",
              "      <td>0</td>\n",
              "      <td>390.80</td>\n",
              "      <td>1024.10</td>\n",
              "      <td>Churned</td>\n",
              "      <td>1</td>\n",
              "      <td>Competitor</td>\n",
              "    </tr>\n",
              "    <tr>\n",
              "      <th>2</th>\n",
              "      <td>1658-BYGOY</td>\n",
              "      <td>Male</td>\n",
              "      <td>71</td>\n",
              "      <td>No</td>\n",
              "      <td>Yes</td>\n",
              "      <td>No</td>\n",
              "      <td>Yes</td>\n",
              "      <td>3</td>\n",
              "      <td>Los Angeles</td>\n",
              "      <td>90065</td>\n",
              "      <td>...</td>\n",
              "      <td>Bank Withdrawal</td>\n",
              "      <td>95.45</td>\n",
              "      <td>1752.55</td>\n",
              "      <td>45.61</td>\n",
              "      <td>0</td>\n",
              "      <td>203.94</td>\n",
              "      <td>1910.88</td>\n",
              "      <td>Churned</td>\n",
              "      <td>1</td>\n",
              "      <td>Competitor</td>\n",
              "    </tr>\n",
              "    <tr>\n",
              "      <th>3</th>\n",
              "      <td>4598-XLKNJ</td>\n",
              "      <td>Female</td>\n",
              "      <td>78</td>\n",
              "      <td>No</td>\n",
              "      <td>Yes</td>\n",
              "      <td>Yes</td>\n",
              "      <td>Yes</td>\n",
              "      <td>1</td>\n",
              "      <td>Inglewood</td>\n",
              "      <td>90303</td>\n",
              "      <td>...</td>\n",
              "      <td>Bank Withdrawal</td>\n",
              "      <td>98.50</td>\n",
              "      <td>2514.50</td>\n",
              "      <td>13.43</td>\n",
              "      <td>0</td>\n",
              "      <td>494.00</td>\n",
              "      <td>2995.07</td>\n",
              "      <td>Churned</td>\n",
              "      <td>1</td>\n",
              "      <td>Dissatisfaction</td>\n",
              "    </tr>\n",
              "    <tr>\n",
              "      <th>4</th>\n",
              "      <td>4846-WHAFZ</td>\n",
              "      <td>Female</td>\n",
              "      <td>80</td>\n",
              "      <td>No</td>\n",
              "      <td>Yes</td>\n",
              "      <td>Yes</td>\n",
              "      <td>Yes</td>\n",
              "      <td>1</td>\n",
              "      <td>Whittier</td>\n",
              "      <td>90602</td>\n",
              "      <td>...</td>\n",
              "      <td>Bank Withdrawal</td>\n",
              "      <td>76.50</td>\n",
              "      <td>2868.15</td>\n",
              "      <td>0.00</td>\n",
              "      <td>0</td>\n",
              "      <td>234.21</td>\n",
              "      <td>3102.36</td>\n",
              "      <td>Churned</td>\n",
              "      <td>1</td>\n",
              "      <td>Price</td>\n",
              "    </tr>\n",
              "  </tbody>\n",
              "</table>\n",
              "<p>5 rows × 41 columns</p>\n",
              "</div>\n",
              "      <button class=\"colab-df-convert\" onclick=\"convertToInteractive('df-96916784-4a22-428e-9fcb-9fc69d636877')\"\n",
              "              title=\"Convert this dataframe to an interactive table.\"\n",
              "              style=\"display:none;\">\n",
              "        \n",
              "  <svg xmlns=\"http://www.w3.org/2000/svg\" height=\"24px\"viewBox=\"0 0 24 24\"\n",
              "       width=\"24px\">\n",
              "    <path d=\"M0 0h24v24H0V0z\" fill=\"none\"/>\n",
              "    <path d=\"M18.56 5.44l.94 2.06.94-2.06 2.06-.94-2.06-.94-.94-2.06-.94 2.06-2.06.94zm-11 1L8.5 8.5l.94-2.06 2.06-.94-2.06-.94L8.5 2.5l-.94 2.06-2.06.94zm10 10l.94 2.06.94-2.06 2.06-.94-2.06-.94-.94-2.06-.94 2.06-2.06.94z\"/><path d=\"M17.41 7.96l-1.37-1.37c-.4-.4-.92-.59-1.43-.59-.52 0-1.04.2-1.43.59L10.3 9.45l-7.72 7.72c-.78.78-.78 2.05 0 2.83L4 21.41c.39.39.9.59 1.41.59.51 0 1.02-.2 1.41-.59l7.78-7.78 2.81-2.81c.8-.78.8-2.07 0-2.86zM5.41 20L4 18.59l7.72-7.72 1.47 1.35L5.41 20z\"/>\n",
              "  </svg>\n",
              "      </button>\n",
              "      \n",
              "  <style>\n",
              "    .colab-df-container {\n",
              "      display:flex;\n",
              "      flex-wrap:wrap;\n",
              "      gap: 12px;\n",
              "    }\n",
              "\n",
              "    .colab-df-convert {\n",
              "      background-color: #E8F0FE;\n",
              "      border: none;\n",
              "      border-radius: 50%;\n",
              "      cursor: pointer;\n",
              "      display: none;\n",
              "      fill: #1967D2;\n",
              "      height: 32px;\n",
              "      padding: 0 0 0 0;\n",
              "      width: 32px;\n",
              "    }\n",
              "\n",
              "    .colab-df-convert:hover {\n",
              "      background-color: #E2EBFA;\n",
              "      box-shadow: 0px 1px 2px rgba(60, 64, 67, 0.3), 0px 1px 3px 1px rgba(60, 64, 67, 0.15);\n",
              "      fill: #174EA6;\n",
              "    }\n",
              "\n",
              "    [theme=dark] .colab-df-convert {\n",
              "      background-color: #3B4455;\n",
              "      fill: #D2E3FC;\n",
              "    }\n",
              "\n",
              "    [theme=dark] .colab-df-convert:hover {\n",
              "      background-color: #434B5C;\n",
              "      box-shadow: 0px 1px 3px 1px rgba(0, 0, 0, 0.15);\n",
              "      filter: drop-shadow(0px 1px 2px rgba(0, 0, 0, 0.3));\n",
              "      fill: #FFFFFF;\n",
              "    }\n",
              "  </style>\n",
              "\n",
              "      <script>\n",
              "        const buttonEl =\n",
              "          document.querySelector('#df-96916784-4a22-428e-9fcb-9fc69d636877 button.colab-df-convert');\n",
              "        buttonEl.style.display =\n",
              "          google.colab.kernel.accessAllowed ? 'block' : 'none';\n",
              "\n",
              "        async function convertToInteractive(key) {\n",
              "          const element = document.querySelector('#df-96916784-4a22-428e-9fcb-9fc69d636877');\n",
              "          const dataTable =\n",
              "            await google.colab.kernel.invokeFunction('convertToInteractive',\n",
              "                                                     [key], {});\n",
              "          if (!dataTable) return;\n",
              "\n",
              "          const docLinkHtml = 'Like what you see? Visit the ' +\n",
              "            '<a target=\"_blank\" href=https://colab.research.google.com/notebooks/data_table.ipynb>data table notebook</a>'\n",
              "            + ' to learn more about interactive tables.';\n",
              "          element.innerHTML = '';\n",
              "          dataTable['output_type'] = 'display_data';\n",
              "          await google.colab.output.renderOutput(dataTable, element);\n",
              "          const docLink = document.createElement('div');\n",
              "          docLink.innerHTML = docLinkHtml;\n",
              "          element.appendChild(docLink);\n",
              "        }\n",
              "      </script>\n",
              "    </div>\n",
              "  </div>\n",
              "  "
            ]
          },
          "metadata": {},
          "execution_count": 15
        }
      ]
    },
    {
      "cell_type": "code",
      "source": [
        "#@title\n",
        "\n",
        "tel_customer = fourth.drop(columns=['Customer ID','Zip Code','Referred a Friend','Dependents','Senior Citizen','Under 30'])\n"
      ],
      "metadata": {
        "id": "cxfFkVZCCqDT"
      },
      "execution_count": null,
      "outputs": []
    },
    {
      "cell_type": "code",
      "source": [
        "#@title Churn Reasons\n",
        "#Use this dataframe to know sequence between refusal feedback and other features\n",
        "#For example when do customers go to other competitors? what specifc segment of people we should focus on\n",
        "\n",
        "Enhance=tel_customer[tel_customer['Churn Category'].notnull()]\n",
        "\n"
      ],
      "metadata": {
        "id": "4dACzjftDag5"
      },
      "execution_count": null,
      "outputs": []
    },
    {
      "cell_type": "code",
      "source": [
        "#@title Churn Reasons Plot\n",
        "\n",
        "\n",
        "plt.figure(figsize= (30,20))\n",
        "plt.subplot(4,3,1)\n",
        "sns.countplot(data=Enhance, x='Gender', hue=\"Churn Category\")\n",
        "plt.subplot(4,3,2)\n",
        "sns.countplot(data=Enhance, x='Married', hue=\"Churn Category\")\n",
        "plt.subplot(4,3,3)\n",
        "sns.countplot(data=Enhance, x='Number of Dependents', hue=\"Churn Category\")\n",
        "\n",
        "plt.figure(figsize= (30,20))\n",
        "plt.subplot(4,3,1)\n",
        "sns.countplot(data=Enhance, x='Offer', hue=\"Churn Category\")\n",
        "plt.subplot(4,3,2)\n",
        "sns.countplot(data=Enhance, x='Phone Service', hue=\"Churn Category\")\n",
        "plt.subplot(4,3,3)\n",
        "sns.countplot(data=Enhance, x='Internet Service', hue=\"Churn Category\")\n",
        "\n",
        "\n",
        "plt.figure(figsize= (30,20))\n",
        "plt.subplot(4,3,1)\n",
        "sns.countplot(data=Enhance, x='Paperless Billing', hue=\"Churn Category\")\n",
        "plt.subplot(4,3,2)\n",
        "sns.countplot(data=Enhance, x='Internet Type', hue=\"Churn Category\")\n",
        "plt.subplot(4,3,3)\n",
        "sns.countplot(data=Enhance, x='Payment Method', hue=\"Churn Category\")\n",
        "\n",
        "plt.figure(figsize= (30,20))\n",
        "plt.subplot(4,3,1)\n",
        "sns.countplot(data=Enhance, x='Streaming TV', hue=\"Churn Category\")\n",
        "plt.subplot(4,3,2)\n",
        "sns.countplot(data=Enhance, x='Streaming Movies', hue=\"Churn Category\")\n",
        "plt.subplot(4,3,3)\n",
        "sns.countplot(data=Enhance, x='Streaming Music', hue=\"Churn Category\")\n",
        "\n",
        "plt.figure(figsize= (30,20))\n",
        "plt.subplot(4,3,1)\n",
        "sns.countplot(data=Enhance, x='Online Security', hue=\"Churn Category\")\n",
        "plt.subplot(4,3,2)\n",
        "sns.countplot(data=Enhance, x='Online Backup', hue=\"Churn Category\")\n",
        "plt.subplot(4,3,3)\n",
        "sns.countplot(data=Enhance, x='Device Protection Plan', hue=\"Churn Category\")\n",
        "\n",
        "plt.figure(figsize= (30,20))\n",
        "plt.subplot(4,3,1)\n",
        "sns.countplot(data=Enhance, x='Premium Tech Support', hue=\"Churn Category\")\n",
        "plt.subplot(4,3,2)\n",
        "sns.countplot(data=Enhance, x='Unlimited Data', hue=\"Churn Category\")\n",
        "plt.subplot(4,3,3)\n",
        "sns.countplot(data=Enhance, x='Contract', hue=\"Churn Category\")\n",
        "\n",
        "                \n",
        " \n",
        "                          \n",
        "\n"
      ],
      "metadata": {
        "colab": {
          "base_uri": "https://localhost:8080/",
          "height": 1000
        },
        "id": "hQJJeXgExL7c",
        "outputId": "5aba25e3-acfc-4975-e3b5-e43c225bd6d5"
      },
      "execution_count": null,
      "outputs": [
        {
          "output_type": "execute_result",
          "data": {
            "text/plain": [
              "<matplotlib.axes._subplots.AxesSubplot at 0x7fb4fcdbf410>"
            ]
          },
          "metadata": {},
          "execution_count": 41
        },
        {
          "output_type": "display_data",
          "data": {
            "text/plain": [
              "<Figure size 2160x1440 with 3 Axes>"
            ],
            "image/png": "[encoded data removed]"
          },
          "metadata": {
            "needs_background": "light"
          }
        },
        {
          "output_type": "display_data",
          "data": {
            "text/plain": [
              "<Figure size 2160x1440 with 3 Axes>"
            ],
            "image/png": "[encoded data removed]"
          },
          "metadata": {
            "needs_background": "light"
          }
        },
        {
          "output_type": "display_data",
          "data": {
            "text/plain": [
              "<Figure size 2160x1440 with 3 Axes>"
            ],
            "image/png": "[encoded data removed]"
          },
          "metadata": {
            "needs_background": "light"
          }
        },
        {
          "output_type": "display_data",
          "data": {
            "text/plain": [
              "<Figure size 2160x1440 with 3 Axes>"
            ],
            "image/png": "[encoded data removed]"
          },
          "metadata": {
            "needs_background": "light"
          }
        },
        {
          "output_type": "display_data",
          "data": {
            "text/plain": [
              "<Figure size 2160x1440 with 3 Axes>"
            ],
            "image/png": "[encoded data removed]"
          },
          "metadata": {
            "needs_background": "light"
          }
        },
        {
          "output_type": "display_data",
          "data": {
            "text/plain": [
              "<Figure size 2160x1440 with 3 Axes>"
            ],
            "image/png": "[encoded data removed]"
          },
          "metadata": {
            "needs_background": "light"
          }
        }
      ]
    },
    {
      "cell_type": "code",
      "source": [
        "#@title Churn Reasons Insights\n",
        "\n",
        "####Insights######\n",
        "#1- Huge Number of people who uses offer E tends to leave to other competitor so we need to enhance properties of this offer\n",
        "#2- People who are not using offer tends to leave our company so we need to give them more information about our offers\n",
        "#3-People who use Fiber Optic as internet type tends to leave my company specially for other competitor services\n",
        "#4-People who pays using Bank withdrawal tends to leave to other competitor so we need to take a look maybe they are facing problem in paying\n",
        "#5-People who don't have online security ,backup or device protetection plan, Premium techn Support tends to leave our company so we need to offer customers this services or make them aware about it\n",
        "#6-Customers who are offered unlimited data highly tends to leave our company so we need to revise our unlimited data offer \n",
        "#7-Month to month customers tends to leave so we need to offer them one year or two year contracts to make them loyal and provide them best offers"
      ],
      "metadata": {
        "id": "tYvNxAnlzvVk"
      },
      "execution_count": null,
      "outputs": []
    },
    {
      "cell_type": "code",
      "source": [],
      "metadata": {
        "id": "ptOrmSSmnD-r"
      },
      "execution_count": null,
      "outputs": []
    },
    {
      "cell_type": "code",
      "source": [
        "#@title Newcomers Study\n",
        "\n",
        "#Use this data to know what makes new people join?\n",
        "# what specific features makes new people join us?\n",
        "new_comers=tel_customer[tel_customer['Customer Status']=='Joined']"
      ],
      "metadata": {
        "id": "tCen_SioL-nN",
        "cellView": "form"
      },
      "execution_count": null,
      "outputs": []
    },
    {
      "cell_type": "code",
      "source": [
        "#@title Newcomers Study Plot\n",
        "\n",
        "plt.figure(figsize= (30,20))\n",
        "plt.subplot(4,3,1)\n",
        "sns.countplot(data=new_comers, x='Gender')\n",
        "plt.subplot(4,3,2)\n",
        "sns.countplot(data=new_comers, x='Married')\n",
        "plt.subplot(4,3,3)\n",
        "sns.countplot(data=new_comers, x='Number of Dependents')\n",
        "\n",
        "plt.figure(figsize= (30,20))\n",
        "plt.subplot(4,3,1)\n",
        "sns.countplot(data=new_comers, x='Offer')\n",
        "plt.subplot(4,3,2)\n",
        "sns.countplot(data=new_comers, x='Phone Service')\n",
        "plt.subplot(4,3,3)\n",
        "sns.countplot(data=new_comers, x='Internet Service')\n",
        "\n",
        "\n",
        "plt.figure(figsize= (30,20))\n",
        "plt.subplot(4,3,1)\n",
        "sns.countplot(data=new_comers, x='Paperless Billing')\n",
        "plt.subplot(4,3,2)\n",
        "sns.countplot(data=new_comers, x='Internet Type')\n",
        "plt.subplot(4,3,3)\n",
        "sns.countplot(data=new_comers, x='Payment Method')\n",
        "\n",
        "plt.figure(figsize= (30,20))\n",
        "plt.subplot(4,3,1)\n",
        "sns.countplot(data=new_comers, x='Streaming TV')\n",
        "plt.subplot(4,3,2)\n",
        "sns.countplot(data=new_comers, x='Streaming Movies')\n",
        "plt.subplot(4,3,3)\n",
        "sns.countplot(data=new_comers, x='Streaming Music')\n",
        "\n",
        "plt.figure(figsize= (30,20))\n",
        "plt.subplot(4,3,1)\n",
        "sns.countplot(data=new_comers, x='Online Security')\n",
        "plt.subplot(4,3,2)\n",
        "sns.countplot(data=new_comers, x='Online Backup')\n",
        "plt.subplot(4,3,3)\n",
        "sns.countplot(data=new_comers, x='Device Protection Plan')\n",
        "\n",
        "plt.figure(figsize= (30,20))\n",
        "plt.subplot(4,3,1)\n",
        "sns.countplot(data=new_comers, x='Premium Tech Support')\n",
        "plt.subplot(4,3,2)\n",
        "sns.countplot(data=new_comers, x='Unlimited Data')\n",
        "plt.subplot(4,3,3)\n",
        "sns.countplot(data=new_comers, x='Contract')\n",
        "\n",
        "                \n",
        " \n",
        "                          \n",
        "\n"
      ],
      "metadata": {
        "colab": {
          "base_uri": "https://localhost:8080/",
          "height": 1000
        },
        "cellView": "form",
        "id": "hhpvcccy2wkT",
        "outputId": "e3d1f5c3-148f-41b7-c464-2b404d1d949c"
      },
      "execution_count": null,
      "outputs": [
        {
          "output_type": "execute_result",
          "data": {
            "text/plain": [
              "<matplotlib.axes._subplots.AxesSubplot at 0x7fb4fdbfb950>"
            ]
          },
          "metadata": {},
          "execution_count": 46
        },
        {
          "output_type": "display_data",
          "data": {
            "text/plain": [
              "<Figure size 2160x1440 with 3 Axes>"
            ],
            "image/png": "[encoded data removed]"
          },
          "metadata": {
            "needs_background": "light"
          }
        },
        {
          "output_type": "display_data",
          "data": {
            "text/plain": [
              "<Figure size 2160x1440 with 3 Axes>"
            ],
            "image/png": "[encoded data removed]"
          },
          "metadata": {
            "needs_background": "light"
          }
        },
        {
          "output_type": "display_data",
          "data": {
            "text/plain": [
              "<Figure size 2160x1440 with 3 Axes>"
            ],
            "image/png": "[encoded data removed]"
          },
          "metadata": {
            "needs_background": "light"
          }
        },
        {
          "output_type": "display_data",
          "data": {
            "text/plain": [
              "<Figure size 2160x1440 with 3 Axes>"
            ],
            "image/png": "[encoded data removed]"
          },
          "metadata": {
            "needs_background": "light"
          }
        },
        {
          "output_type": "display_data",
          "data": {
            "text/plain": [
              "<Figure size 2160x1440 with 3 Axes>"
            ],
            "image/png": "[encoded data removed]"
          },
          "metadata": {
            "needs_background": "light"
          }
        },
        {
          "output_type": "display_data",
          "data": {
            "text/plain": [
              "<Figure size 2160x1440 with 3 Axes>"
            ],
            "image/png": "[encoded data removed]"
          },
          "metadata": {
            "needs_background": "light"
          }
        }
      ]
    },
    {
      "cell_type": "code",
      "source": [
        "#@title Newcomers Study Insights\n",
        "\n",
        "#Insights\n",
        "#1-New comers customers go for offer E or No offers and by studying churn reasons, we can understand that offer E is so promising that people go for it but it doesnot met their expectations so we need to enhance offer E or offer people other offers\n"
      ],
      "metadata": {
        "id": "VVIbguoi36X2"
      },
      "execution_count": null,
      "outputs": []
    },
    {
      "cell_type": "markdown",
      "source": [
        "**Final Data to Process**"
      ],
      "metadata": {
        "id": "vqN_snrG2Ha7"
      }
    },
    {
      "cell_type": "code",
      "source": [
        "#Final Data Overall to study\n",
        "tel_customer = tel_customer.drop(columns=['Churn Category','Customer Status'])\n"
      ],
      "metadata": {
        "id": "ScUq0pj8NSkA"
      },
      "execution_count": null,
      "outputs": []
    },
    {
      "cell_type": "code",
      "source": [
        "tel_customer.head()"
      ],
      "metadata": {
        "colab": {
          "base_uri": "https://localhost:8080/",
          "height": 438
        },
        "id": "2hoULZSONgMW",
        "outputId": "545ec51d-e561-4eea-f7c5-869cfd978aa4"
      },
      "execution_count": null,
      "outputs": [
        {
          "output_type": "execute_result",
          "data": {
            "text/plain": [
              "   Gender  Age Married  Number of Dependents         City  Population  \\\n",
              "0    Male   78      No                     0  Los Angeles       68701   \n",
              "1  Female   74     Yes                     1  Los Angeles       55668   \n",
              "2    Male   71      No                     3  Los Angeles       47534   \n",
              "3  Female   78     Yes                     1    Inglewood       27778   \n",
              "4  Female   80     Yes                     1     Whittier       26265   \n",
              "\n",
              "   Number of Referrals  Tenure in Months    Offer Phone Service  ...  \\\n",
              "0                    0                 1     None            No  ...   \n",
              "1                    1                 8  Offer E           Yes  ...   \n",
              "2                    0                18  Offer D           Yes  ...   \n",
              "3                    1                25  Offer C           Yes  ...   \n",
              "4                    1                37  Offer C           Yes  ...   \n",
              "\n",
              "         Contract Paperless Billing   Payment Method Monthly Charge  \\\n",
              "0  Month-to-Month               Yes  Bank Withdrawal          39.65   \n",
              "1  Month-to-Month               Yes      Credit Card          80.65   \n",
              "2  Month-to-Month               Yes  Bank Withdrawal          95.45   \n",
              "3  Month-to-Month               Yes  Bank Withdrawal          98.50   \n",
              "4  Month-to-Month               Yes  Bank Withdrawal          76.50   \n",
              "\n",
              "   Total Charges Total Refunds Total Extra Data Charges  \\\n",
              "0          39.65          0.00                       20   \n",
              "1         633.30          0.00                        0   \n",
              "2        1752.55         45.61                        0   \n",
              "3        2514.50         13.43                        0   \n",
              "4        2868.15          0.00                        0   \n",
              "\n",
              "  Total Long Distance Charges Total Revenue Churn Value  \n",
              "0                        0.00         59.65           1  \n",
              "1                      390.80       1024.10           1  \n",
              "2                      203.94       1910.88           1  \n",
              "3                      494.00       2995.07           1  \n",
              "4                      234.21       3102.36           1  \n",
              "\n",
              "[5 rows x 33 columns]"
            ],
            "text/html": [
              "\n",
              "  <div id=\"df-6afd1d43-d2d1-492d-b781-b0f9af31b83f\">\n",
              "    <div class=\"colab-df-container\">\n",
              "      <div>\n",
              "<style scoped>\n",
              "    .dataframe tbody tr th:only-of-type {\n",
              "        vertical-align: middle;\n",
              "    }\n",
              "\n",
              "    .dataframe tbody tr th {\n",
              "        vertical-align: top;\n",
              "    }\n",
              "\n",
              "    .dataframe thead th {\n",
              "        text-align: right;\n",
              "    }\n",
              "</style>\n",
              "<table border=\"1\" class=\"dataframe\">\n",
              "  <thead>\n",
              "    <tr style=\"text-align: right;\">\n",
              "      <th></th>\n",
              "      <th>Gender</th>\n",
              "      <th>Age</th>\n",
              "      <th>Married</th>\n",
              "      <th>Number of Dependents</th>\n",
              "      <th>City</th>\n",
              "      <th>Population</th>\n",
              "      <th>Number of Referrals</th>\n",
              "      <th>Tenure in Months</th>\n",
              "      <th>Offer</th>\n",
              "      <th>Phone Service</th>\n",
              "      <th>...</th>\n",
              "      <th>Contract</th>\n",
              "      <th>Paperless Billing</th>\n",
              "      <th>Payment Method</th>\n",
              "      <th>Monthly Charge</th>\n",
              "      <th>Total Charges</th>\n",
              "      <th>Total Refunds</th>\n",
              "      <th>Total Extra Data Charges</th>\n",
              "      <th>Total Long Distance Charges</th>\n",
              "      <th>Total Revenue</th>\n",
              "      <th>Churn Value</th>\n",
              "    </tr>\n",
              "  </thead>\n",
              "  <tbody>\n",
              "    <tr>\n",
              "      <th>0</th>\n",
              "      <td>Male</td>\n",
              "      <td>78</td>\n",
              "      <td>No</td>\n",
              "      <td>0</td>\n",
              "      <td>Los Angeles</td>\n",
              "      <td>68701</td>\n",
              "      <td>0</td>\n",
              "      <td>1</td>\n",
              "      <td>None</td>\n",
              "      <td>No</td>\n",
              "      <td>...</td>\n",
              "      <td>Month-to-Month</td>\n",
              "      <td>Yes</td>\n",
              "      <td>Bank Withdrawal</td>\n",
              "      <td>39.65</td>\n",
              "      <td>39.65</td>\n",
              "      <td>0.00</td>\n",
              "      <td>20</td>\n",
              "      <td>0.00</td>\n",
              "      <td>59.65</td>\n",
              "      <td>1</td>\n",
              "    </tr>\n",
              "    <tr>\n",
              "      <th>1</th>\n",
              "      <td>Female</td>\n",
              "      <td>74</td>\n",
              "      <td>Yes</td>\n",
              "      <td>1</td>\n",
              "      <td>Los Angeles</td>\n",
              "      <td>55668</td>\n",
              "      <td>1</td>\n",
              "      <td>8</td>\n",
              "      <td>Offer E</td>\n",
              "      <td>Yes</td>\n",
              "      <td>...</td>\n",
              "      <td>Month-to-Month</td>\n",
              "      <td>Yes</td>\n",
              "      <td>Credit Card</td>\n",
              "      <td>80.65</td>\n",
              "      <td>633.30</td>\n",
              "      <td>0.00</td>\n",
              "      <td>0</td>\n",
              "      <td>390.80</td>\n",
              "      <td>1024.10</td>\n",
              "      <td>1</td>\n",
              "    </tr>\n",
              "    <tr>\n",
              "      <th>2</th>\n",
              "      <td>Male</td>\n",
              "      <td>71</td>\n",
              "      <td>No</td>\n",
              "      <td>3</td>\n",
              "      <td>Los Angeles</td>\n",
              "      <td>47534</td>\n",
              "      <td>0</td>\n",
              "      <td>18</td>\n",
              "      <td>Offer D</td>\n",
              "      <td>Yes</td>\n",
              "      <td>...</td>\n",
              "      <td>Month-to-Month</td>\n",
              "      <td>Yes</td>\n",
              "      <td>Bank Withdrawal</td>\n",
              "      <td>95.45</td>\n",
              "      <td>1752.55</td>\n",
              "      <td>45.61</td>\n",
              "      <td>0</td>\n",
              "      <td>203.94</td>\n",
              "      <td>1910.88</td>\n",
              "      <td>1</td>\n",
              "    </tr>\n",
              "    <tr>\n",
              "      <th>3</th>\n",
              "      <td>Female</td>\n",
              "      <td>78</td>\n",
              "      <td>Yes</td>\n",
              "      <td>1</td>\n",
              "      <td>Inglewood</td>\n",
              "      <td>27778</td>\n",
              "      <td>1</td>\n",
              "      <td>25</td>\n",
              "      <td>Offer C</td>\n",
              "      <td>Yes</td>\n",
              "      <td>...</td>\n",
              "      <td>Month-to-Month</td>\n",
              "      <td>Yes</td>\n",
              "      <td>Bank Withdrawal</td>\n",
              "      <td>98.50</td>\n",
              "      <td>2514.50</td>\n",
              "      <td>13.43</td>\n",
              "      <td>0</td>\n",
              "      <td>494.00</td>\n",
              "      <td>2995.07</td>\n",
              "      <td>1</td>\n",
              "    </tr>\n",
              "    <tr>\n",
              "      <th>4</th>\n",
              "      <td>Female</td>\n",
              "      <td>80</td>\n",
              "      <td>Yes</td>\n",
              "      <td>1</td>\n",
              "      <td>Whittier</td>\n",
              "      <td>26265</td>\n",
              "      <td>1</td>\n",
              "      <td>37</td>\n",
              "      <td>Offer C</td>\n",
              "      <td>Yes</td>\n",
              "      <td>...</td>\n",
              "      <td>Month-to-Month</td>\n",
              "      <td>Yes</td>\n",
              "      <td>Bank Withdrawal</td>\n",
              "      <td>76.50</td>\n",
              "      <td>2868.15</td>\n",
              "      <td>0.00</td>\n",
              "      <td>0</td>\n",
              "      <td>234.21</td>\n",
              "      <td>3102.36</td>\n",
              "      <td>1</td>\n",
              "    </tr>\n",
              "  </tbody>\n",
              "</table>\n",
              "<p>5 rows × 33 columns</p>\n",
              "</div>\n",
              "      <button class=\"colab-df-convert\" onclick=\"convertToInteractive('df-6afd1d43-d2d1-492d-b781-b0f9af31b83f')\"\n",
              "              title=\"Convert this dataframe to an interactive table.\"\n",
              "              style=\"display:none;\">\n",
              "        \n",
              "  <svg xmlns=\"http://www.w3.org/2000/svg\" height=\"24px\"viewBox=\"0 0 24 24\"\n",
              "       width=\"24px\">\n",
              "    <path d=\"M0 0h24v24H0V0z\" fill=\"none\"/>\n",
              "    <path d=\"M18.56 5.44l.94 2.06.94-2.06 2.06-.94-2.06-.94-.94-2.06-.94 2.06-2.06.94zm-11 1L8.5 8.5l.94-2.06 2.06-.94-2.06-.94L8.5 2.5l-.94 2.06-2.06.94zm10 10l.94 2.06.94-2.06 2.06-.94-2.06-.94-.94-2.06-.94 2.06-2.06.94z\"/><path d=\"M17.41 7.96l-1.37-1.37c-.4-.4-.92-.59-1.43-.59-.52 0-1.04.2-1.43.59L10.3 9.45l-7.72 7.72c-.78.78-.78 2.05 0 2.83L4 21.41c.39.39.9.59 1.41.59.51 0 1.02-.2 1.41-.59l7.78-7.78 2.81-2.81c.8-.78.8-2.07 0-2.86zM5.41 20L4 18.59l7.72-7.72 1.47 1.35L5.41 20z\"/>\n",
              "  </svg>\n",
              "      </button>\n",
              "      \n",
              "  <style>\n",
              "    .colab-df-container {\n",
              "      display:flex;\n",
              "      flex-wrap:wrap;\n",
              "      gap: 12px;\n",
              "    }\n",
              "\n",
              "    .colab-df-convert {\n",
              "      background-color: #E8F0FE;\n",
              "      border: none;\n",
              "      border-radius: 50%;\n",
              "      cursor: pointer;\n",
              "      display: none;\n",
              "      fill: #1967D2;\n",
              "      height: 32px;\n",
              "      padding: 0 0 0 0;\n",
              "      width: 32px;\n",
              "    }\n",
              "\n",
              "    .colab-df-convert:hover {\n",
              "      background-color: #E2EBFA;\n",
              "      box-shadow: 0px 1px 2px rgba(60, 64, 67, 0.3), 0px 1px 3px 1px rgba(60, 64, 67, 0.15);\n",
              "      fill: #174EA6;\n",
              "    }\n",
              "\n",
              "    [theme=dark] .colab-df-convert {\n",
              "      background-color: #3B4455;\n",
              "      fill: #D2E3FC;\n",
              "    }\n",
              "\n",
              "    [theme=dark] .colab-df-convert:hover {\n",
              "      background-color: #434B5C;\n",
              "      box-shadow: 0px 1px 3px 1px rgba(0, 0, 0, 0.15);\n",
              "      filter: drop-shadow(0px 1px 2px rgba(0, 0, 0, 0.3));\n",
              "      fill: #FFFFFF;\n",
              "    }\n",
              "  </style>\n",
              "\n",
              "      <script>\n",
              "        const buttonEl =\n",
              "          document.querySelector('#df-6afd1d43-d2d1-492d-b781-b0f9af31b83f button.colab-df-convert');\n",
              "        buttonEl.style.display =\n",
              "          google.colab.kernel.accessAllowed ? 'block' : 'none';\n",
              "\n",
              "        async function convertToInteractive(key) {\n",
              "          const element = document.querySelector('#df-6afd1d43-d2d1-492d-b781-b0f9af31b83f');\n",
              "          const dataTable =\n",
              "            await google.colab.kernel.invokeFunction('convertToInteractive',\n",
              "                                                     [key], {});\n",
              "          if (!dataTable) return;\n",
              "\n",
              "          const docLinkHtml = 'Like what you see? Visit the ' +\n",
              "            '<a target=\"_blank\" href=https://colab.research.google.com/notebooks/data_table.ipynb>data table notebook</a>'\n",
              "            + ' to learn more about interactive tables.';\n",
              "          element.innerHTML = '';\n",
              "          dataTable['output_type'] = 'display_data';\n",
              "          await google.colab.output.renderOutput(dataTable, element);\n",
              "          const docLink = document.createElement('div');\n",
              "          docLink.innerHTML = docLinkHtml;\n",
              "          element.appendChild(docLink);\n",
              "        }\n",
              "      </script>\n",
              "    </div>\n",
              "  </div>\n",
              "  "
            ]
          },
          "metadata": {},
          "execution_count": 135
        }
      ]
    },
    {
      "cell_type": "code",
      "source": [
        "from sklearn.preprocessing import LabelEncoder\n",
        "\n",
        "#Get Categorical Columns\n",
        "cat_features=[i for i in tel_customer.columns if tel_customer.dtypes[i]=='object']\n",
        "\n",
        "# Creating a instance of label Encoder.\n",
        "le = LabelEncoder()\n",
        "\n",
        "# Using .fit_transform function to fit label\n",
        "# encoder and return encoded label\n",
        "\n",
        "for column in cat_features:\n",
        "  tel_customer[column] = le.fit_transform(tel_customer[column])\n",
        "\n",
        "\n"
      ],
      "metadata": {
        "id": "2KwD0M-SoamQ"
      },
      "execution_count": null,
      "outputs": []
    },
    {
      "cell_type": "markdown",
      "source": [
        "**Performance Before Feature Selection**"
      ],
      "metadata": {
        "id": "UT0GyGFi0zlY"
      }
    },
    {
      "cell_type": "code",
      "source": [
        "#First Model Trial\n",
        "from sklearn.model_selection import train_test_split\n",
        "import warnings\n",
        "warnings.filterwarnings('always')  # \"error\", \"ignore\", \"always\", \"default\", \"module\" or \"once\"\n",
        "y = tel_customer['Churn Value']\n",
        "x = tel_customer.drop(['Churn Value'],axis = 1)\n",
        "x_train,x_test, y_train, y_test = train_test_split(x,y, test_size=0.2,random_state=42)\n"
      ],
      "metadata": {
        "id": "n3wCjnRVmZt6"
      },
      "execution_count": null,
      "outputs": []
    },
    {
      "cell_type": "code",
      "source": [],
      "metadata": {
        "id": "17z7ZCOU70Os"
      },
      "execution_count": null,
      "outputs": []
    },
    {
      "cell_type": "code",
      "source": [
        "#Models Train and Test\n",
        "from sklearn.linear_model import LogisticRegression\n",
        "from sklearn.naive_bayes import GaussianNB\n",
        "from sklearn.neighbors import KNeighborsClassifier\n",
        "from sklearn import svm\n",
        "from sklearn.tree import DecisionTreeClassifier\n",
        "from sklearn.ensemble import RandomForestClassifier\n",
        "from xgboost import XGBClassifier\n",
        "from sklearn import metrics\n",
        "from sklearn.metrics import roc_auc_score\n",
        "\n",
        "\n",
        "\n",
        "\n",
        "Log_Reg_model = LogisticRegression(max_iter=5000)\n",
        "Nb_model = GaussianNB()\n",
        "knn = KNeighborsClassifier(n_neighbors=4)\n",
        "svm_model = svm.SVC(probability=True)\n",
        "DT_model = DecisionTreeClassifier()\n",
        "RF_model = RandomForestClassifier()\n",
        "XGB_model = XGBClassifier()\n",
        "models=[Log_Reg_model,Nb_model,svm_model,DT_model,RF_model,XGB_model]\n"
      ],
      "metadata": {
        "id": "WQyFTmqyGv6q"
      },
      "execution_count": null,
      "outputs": []
    },
    {
      "cell_type": "code",
      "source": [
        "\n",
        "for model in models:\n",
        "  model.fit(x_train,y_train)\n",
        "  y_pred = model.predict(x_test)\n",
        "  accuracy  = metrics.accuracy_score(y_test,y_pred)\n",
        "  recall = metrics.recall_score(y_test,y_pred)\n",
        "  precision = metrics.precision_score(y_test,y_pred)\n",
        "  f1_score = metrics.f1_score(y_test,y_pred)\n",
        "  y_pred_proba = model.predict_proba(x_test)[::,1]\n",
        "  ROC_AUC = roc_auc_score(y_test,y_pred_proba)\n",
        "\n",
        "  print(model)\n",
        "  print(f'Model Accuracy = {100*accuracy:0.3} %' )\n",
        "  print(f'Model recall = {100*recall:0.3} %' )\n",
        "  print(f'Model precision = {100*precision:0.3} %' )\n",
        "  print(f'Model f1_score = {100*f1_score:0.3} %' )\n",
        "  print(\"ROC_AUC : {:.4f}\".format(ROC_AUC))\n",
        "  print('\\n')\n",
        "\n",
        "\n",
        "\n"
      ],
      "metadata": {
        "colab": {
          "base_uri": "https://localhost:8080/"
        },
        "id": "gz2G6F9QGxc0",
        "outputId": "ec756c5f-c879-42e4-f334-33960154fbce"
      },
      "execution_count": null,
      "outputs": [
        {
          "output_type": "stream",
          "name": "stdout",
          "text": [
            "LogisticRegression(max_iter=5000)\n",
            "Model Accuracy = 82.8 %\n",
            "Model recall = 67.0 %\n",
            "Model precision = 70.7 %\n",
            "Model f1_score = 68.8 %\n",
            "ROC_AUC : 0.8864\n",
            "\n",
            "\n",
            "GaussianNB()\n",
            "Model Accuracy = 72.5 %\n",
            "Model recall = 81.2 %\n",
            "Model precision = 51.0 %\n",
            "Model f1_score = 62.7 %\n",
            "ROC_AUC : 0.8356\n",
            "\n",
            "\n"
          ]
        },
        {
          "output_type": "stream",
          "name": "stderr",
          "text": [
            "/usr/local/lib/python3.7/dist-packages/sklearn/metrics/_classification.py:1318: UndefinedMetricWarning: Precision is ill-defined and being set to 0.0 due to no predicted samples. Use `zero_division` parameter to control this behavior.\n",
            "  _warn_prf(average, modifier, msg_start, len(result))\n"
          ]
        },
        {
          "output_type": "stream",
          "name": "stdout",
          "text": [
            "SVC(probability=True)\n",
            "Model Accuracy = 71.6 %\n",
            "Model recall = 0.0 %\n",
            "Model precision = 0.0 %\n",
            "Model f1_score = 0.0 %\n",
            "ROC_AUC : 0.7928\n",
            "\n",
            "\n",
            "DecisionTreeClassifier()\n",
            "Model Accuracy = 77.9 %\n",
            "Model recall = 63.0 %\n",
            "Model precision = 60.7 %\n",
            "Model f1_score = 61.8 %\n",
            "ROC_AUC : 0.7342\n",
            "\n",
            "\n",
            "RandomForestClassifier()\n",
            "Model Accuracy = 83.8 %\n",
            "Model recall = 61.3 %\n",
            "Model precision = 77.0 %\n",
            "Model f1_score = 68.2 %\n",
            "ROC_AUC : 0.8922\n",
            "\n",
            "\n",
            "XGBClassifier()\n",
            "Model Accuracy = 85.2 %\n",
            "Model recall = 66.2 %\n",
            "Model precision = 78.4 %\n",
            "Model f1_score = 71.8 %\n",
            "ROC_AUC : 0.9171\n",
            "\n",
            "\n"
          ]
        }
      ]
    },
    {
      "cell_type": "markdown",
      "source": [
        "**Chi Squared**"
      ],
      "metadata": {
        "id": "2pHDjOjj2Swo"
      }
    },
    {
      "cell_type": "code",
      "source": [
        "tel_customer.columns"
      ],
      "metadata": {
        "colab": {
          "base_uri": "https://localhost:8080/"
        },
        "id": "qXOr-cO5iyrW",
        "outputId": "cd0b1d3f-564b-47eb-e0e4-00a2a7912423"
      },
      "execution_count": null,
      "outputs": [
        {
          "output_type": "execute_result",
          "data": {
            "text/plain": [
              "Index(['Gender', 'Age', 'Married', 'Number of Dependents', 'City',\n",
              "       'Population', 'Number of Referrals', 'Tenure in Months', 'Offer',\n",
              "       'Phone Service', 'Avg Monthly Long Distance Charges', 'Multiple Lines',\n",
              "       'Internet Service', 'Internet Type', 'Avg Monthly GB Download',\n",
              "       'Online Security', 'Online Backup', 'Device Protection Plan',\n",
              "       'Premium Tech Support', 'Streaming TV', 'Streaming Movies',\n",
              "       'Streaming Music', 'Unlimited Data', 'Contract', 'Paperless Billing',\n",
              "       'Payment Method', 'Monthly Charge', 'Total Charges', 'Total Refunds',\n",
              "       'Total Extra Data Charges', 'Total Long Distance Charges',\n",
              "       'Total Revenue', 'Churn Value'],\n",
              "      dtype='object')"
            ]
          },
          "metadata": {},
          "execution_count": 19
        }
      ]
    },
    {
      "cell_type": "code",
      "source": [
        "#Chi squared test\n",
        "columns_test=['Gender', 'Married', 'Number of Dependents', 'City',\n",
        "        'Number of Referrals', 'Tenure in Months', 'Offer',\n",
        "       'Phone Service', 'Multiple Lines',\n",
        "       'Internet Service', 'Internet Type',\n",
        "       'Online Security', 'Online Backup', 'Device Protection Plan',\n",
        "       'Premium Tech Support', 'Streaming TV', 'Streaming Movies',\n",
        "       'Streaming Music', 'Unlimited Data', 'Contract', 'Paperless Billing',\n",
        "       'Payment Method']\n",
        "\n",
        "  "
      ],
      "metadata": {
        "id": "Vyya8acaq-Gj"
      },
      "execution_count": null,
      "outputs": []
    },
    {
      "cell_type": "code",
      "source": [
        "# P Value>0.01 Get Dropped \"Independet from the output\"\n",
        "diction={}\n",
        "from scipy.stats import chi2_contingency \n",
        "for i in columns_test:\n",
        "  chisqt = pd.crosstab(tel_customer[i] ,tel_customer['Churn Value'], margins=True)\n",
        "  value = np.array([chisqt.iloc[0][0:5].values,\n",
        "                  chisqt.iloc[1][0:5].values])\n",
        "  if chi2_contingency(value)[1]>0.01:\n",
        "    diction[i]=chi2_contingency(value)[1]\n",
        "\n",
        "print(diction)\n"
      ],
      "metadata": {
        "colab": {
          "base_uri": "https://localhost:8080/"
        },
        "id": "x9VwWiOXrk60",
        "outputId": "571e4a82-03cb-4ca5-b392-0d2ce7f22704"
      },
      "execution_count": null,
      "outputs": [
        {
          "output_type": "stream",
          "name": "stdout",
          "text": [
            "{'Gender': 0.7701397772756198, 'City': 0.09071795328941248, 'Tenure in Months': 0.023066679426598773, 'Phone Service': 0.6051951937937965}\n"
          ]
        }
      ]
    },
    {
      "cell_type": "markdown",
      "source": [
        "**Chi Squared Conc: Drop Gender ,city, phone service, tensure in months**"
      ],
      "metadata": {
        "id": "v0TZadQ_30Ak"
      }
    },
    {
      "cell_type": "code",
      "source": [
        "#Drop Gender ,city, phone service, tensure in months\n",
        "ChiSquared_Data= tel_customer.drop(columns=['Gender','City','Phone Service','Tenure in Months'])\n"
      ],
      "metadata": {
        "id": "dYqRVHnDsG4x"
      },
      "execution_count": null,
      "outputs": []
    },
    {
      "cell_type": "code",
      "source": [
        "#Second Trial\n",
        "\n",
        "y = ChiSquared_Data['Churn Value']\n",
        "x = ChiSquared_Data.drop(['Churn Value'],axis = 1)\n",
        "x_train,x_test, y_train, y_test = train_test_split(x,y, test_size=0.2,random_state=42)\n",
        "\n"
      ],
      "metadata": {
        "id": "HcwGgIxLsngE"
      },
      "execution_count": null,
      "outputs": []
    },
    {
      "cell_type": "code",
      "source": [
        "#Models Train and Test\n",
        "from sklearn.linear_model import LogisticRegression\n",
        "from sklearn.naive_bayes import GaussianNB\n",
        "from sklearn.neighbors import KNeighborsClassifier\n",
        "from sklearn import svm\n",
        "from sklearn.tree import DecisionTreeClassifier\n",
        "from sklearn.ensemble import RandomForestClassifier\n",
        "from xgboost import XGBClassifier\n",
        "from sklearn import metrics\n",
        "from sklearn.metrics import roc_auc_score\n",
        "\n",
        "\n",
        "\n",
        "\n",
        "Log_Reg_model = LogisticRegression(max_iter=5000)\n",
        "Nb_model = GaussianNB()\n",
        "knn = KNeighborsClassifier(n_neighbors=4)\n",
        "svm_model = svm.SVC(probability=True)\n",
        "DT_model = DecisionTreeClassifier()\n",
        "RF_model = RandomForestClassifier()\n",
        "XGB_model = XGBClassifier()\n",
        "models=[Log_Reg_model,Nb_model,svm_model,DT_model,RF_model,XGB_model]\n"
      ],
      "metadata": {
        "id": "iFUkaHiWEzyd"
      },
      "execution_count": null,
      "outputs": []
    },
    {
      "cell_type": "code",
      "source": [
        "for model in models:\n",
        "  model.fit(x_train,y_train)\n",
        "  y_pred = model.predict(x_test)\n",
        "  accuracy  = metrics.accuracy_score(y_test,y_pred)\n",
        "  recall = metrics.recall_score(y_test,y_pred)\n",
        "  precision = metrics.precision_score(y_test,y_pred)\n",
        "  f1_score = metrics.f1_score(y_test,y_pred)\n",
        "  y_pred_proba = model.predict_proba(x_test)[::,1]\n",
        "  ROC_AUC = roc_auc_score(y_test,y_pred_proba)\n",
        "\n",
        "  print(model)\n",
        "  print(f'Model Accuracy = {100*accuracy:0.3} %' )\n",
        "  print(f'Model recall = {100*recall:0.3} %' )\n",
        "  print(f'Model precision = {100*precision:0.3} %' )\n",
        "  print(f'Model f1_score = {100*f1_score:0.3} %' )\n",
        "  print(\"ROC_AUC : {:.4f}\".format(ROC_AUC))\n",
        "  print('\\n')\n"
      ],
      "metadata": {
        "colab": {
          "base_uri": "https://localhost:8080/"
        },
        "id": "_O9ShKX6FtWI",
        "outputId": "2bcafea6-81db-4a22-ed5b-22ccfcad3856"
      },
      "execution_count": null,
      "outputs": [
        {
          "output_type": "stream",
          "name": "stdout",
          "text": [
            "LogisticRegression(max_iter=5000)\n",
            "Model Accuracy = 82.3 %\n",
            "Model recall = 66.5 %\n",
            "Model precision = 69.6 %\n",
            "Model f1_score = 68.0 %\n",
            "ROC_AUC : 0.8818\n",
            "\n",
            "\n",
            "GaussianNB()\n",
            "Model Accuracy = 72.5 %\n",
            "Model recall = 82.0 %\n",
            "Model precision = 51.0 %\n",
            "Model f1_score = 62.9 %\n",
            "ROC_AUC : 0.8381\n",
            "\n",
            "\n"
          ]
        },
        {
          "output_type": "stream",
          "name": "stderr",
          "text": [
            "/usr/local/lib/python3.7/dist-packages/sklearn/metrics/_classification.py:1318: UndefinedMetricWarning: Precision is ill-defined and being set to 0.0 due to no predicted samples. Use `zero_division` parameter to control this behavior.\n",
            "  _warn_prf(average, modifier, msg_start, len(result))\n"
          ]
        },
        {
          "output_type": "stream",
          "name": "stdout",
          "text": [
            "SVC(probability=True)\n",
            "Model Accuracy = 71.6 %\n",
            "Model recall = 0.0 %\n",
            "Model precision = 0.0 %\n",
            "Model f1_score = 0.0 %\n",
            "ROC_AUC : 0.7934\n",
            "\n",
            "\n",
            "DecisionTreeClassifier()\n",
            "Model Accuracy = 78.0 %\n",
            "Model recall = 58.5 %\n",
            "Model precision = 61.9 %\n",
            "Model f1_score = 60.2 %\n",
            "ROC_AUC : 0.7211\n",
            "\n",
            "\n",
            "RandomForestClassifier()\n",
            "Model Accuracy = 84.5 %\n",
            "Model recall = 64.0 %\n",
            "Model precision = 77.6 %\n",
            "Model f1_score = 70.1 %\n",
            "ROC_AUC : 0.9008\n",
            "\n",
            "\n",
            "XGBClassifier()\n",
            "Model Accuracy = 85.2 %\n",
            "Model recall = 66.5 %\n",
            "Model precision = 78.0 %\n",
            "Model f1_score = 71.8 %\n",
            "ROC_AUC : 0.9180\n",
            "\n",
            "\n"
          ]
        }
      ]
    },
    {
      "cell_type": "code",
      "source": [
        "#@title Annova Selection\n",
        "#Third Trial\n",
        "#Filter Numerical Data\n",
        "numerical = list(set(tel_customer.columns) - set(columns_test))\n"
      ],
      "metadata": {
        "id": "-pXsmA6kIwzW"
      },
      "execution_count": null,
      "outputs": []
    },
    {
      "cell_type": "code",
      "source": [
        "Numberical_data=tel_customer[numerical]"
      ],
      "metadata": {
        "id": "UMbpPmV0ORkT"
      },
      "execution_count": null,
      "outputs": []
    },
    {
      "cell_type": "code",
      "source": [
        "y = Numberical_data['Churn Value']\n",
        "x = Numberical_data.drop(['Churn Value'],axis = 1)\n",
        "x_train,x_test, y_train, y_test = train_test_split(x,y, test_size=0.2,random_state=42)"
      ],
      "metadata": {
        "id": "R4odcUv8Oryd"
      },
      "execution_count": null,
      "outputs": []
    },
    {
      "cell_type": "code",
      "source": [
        "#Annova\n",
        "# feature selection\n",
        "\n",
        "from sklearn.feature_selection import SelectKBest\n",
        "from sklearn.feature_selection import f_classif\n",
        "from matplotlib import pyplot\n",
        "\n",
        "\n",
        "def select_features(X_train, y_train, X_test):\n",
        "\t# configure to select all features\n",
        "\tfs = SelectKBest(score_func=f_classif, k='all')\n",
        "\t# learn relationship from training data\n",
        "\tfs.fit(X_train, y_train)\n",
        "\t# transform train input data\n",
        "\tX_train_fs = fs.transform(X_train)\n",
        "\t# transform test input data\n",
        "\tX_test_fs = fs.transform(X_test)\n",
        "\treturn X_train_fs, X_test_fs, fs\n",
        "\n",
        "\n"
      ],
      "metadata": {
        "id": "OvIxrnyZT0Js"
      },
      "execution_count": null,
      "outputs": []
    },
    {
      "cell_type": "code",
      "source": [
        "X_train_fs, X_test_fs, fs = select_features(x_train, y_train, x_test)\n",
        "# what are scores for the features\n",
        "for i in range(len(fs.scores_)):\n",
        "\tprint('Feature %d: %f' % (i, fs.scores_[i]))\n",
        "# plot the scores\n",
        "pyplot.bar([i for i in range(len(fs.scores_))], fs.scores_)\n",
        "pyplot.show()"
      ],
      "metadata": {
        "colab": {
          "base_uri": "https://localhost:8080/",
          "height": 439
        },
        "id": "NpAvD0cOWETZ",
        "outputId": "48301f49-1c62-4628-9503-ed1c4e9f9e8e"
      },
      "execution_count": null,
      "outputs": [
        {
          "output_type": "stream",
          "name": "stdout",
          "text": [
            "Feature 0: 209.372782\n",
            "Feature 1: 0.006742\n",
            "Feature 2: 299.432419\n",
            "Feature 3: 76.989819\n",
            "Feature 4: 14.899783\n",
            "Feature 5: 234.549067\n",
            "Feature 6: 7.236246\n",
            "Feature 7: 306.463122\n",
            "Feature 8: 0.010319\n",
            "Feature 9: 12.152476\n"
          ]
        },
        {
          "output_type": "display_data",
          "data": {
            "text/plain": [
              "<Figure size 432x288 with 1 Axes>"
            ],
            "image/png": "[encoded data removed]"
          },
          "metadata": {
            "needs_background": "light"
          }
        }
      ]
    },
    {
      "cell_type": "code",
      "source": [
        "\n",
        "'''\n",
        "['Monthly Charge',\n",
        " 'Total Revenue',\n",
        " 'Age',\n",
        " 'Total Charges', \n",
        " 'Total Long Distance Charges'\n",
        "'''\n",
        "\n",
        "#Trial good\n",
        "annova= tel_customer.drop(columns=['Total Extra Data Charges','Age','Total Charges','Avg Monthly Long Distance Charges',\n",
        " 'Population'])"
      ],
      "metadata": {
        "id": "JrH8o1lAYBmA"
      },
      "execution_count": null,
      "outputs": []
    },
    {
      "cell_type": "code",
      "source": [
        "y = annova['Churn Value']\n",
        "x = annova.drop(['Churn Value'],axis = 1)\n",
        "x_train,x_test, y_train, y_test = train_test_split(x,y, test_size=0.2,random_state=42)\n"
      ],
      "metadata": {
        "id": "D6emyfTMYzn3"
      },
      "execution_count": null,
      "outputs": []
    },
    {
      "cell_type": "code",
      "source": [
        "#Models Train and Test\n",
        "from sklearn.linear_model import LogisticRegression\n",
        "from sklearn.naive_bayes import GaussianNB\n",
        "from sklearn.neighbors import KNeighborsClassifier\n",
        "from sklearn import svm\n",
        "from sklearn.tree import DecisionTreeClassifier\n",
        "from sklearn.ensemble import RandomForestClassifier\n",
        "from xgboost import XGBClassifier\n",
        "from sklearn import metrics\n",
        "from sklearn.metrics import roc_auc_score\n",
        "\n",
        "\n",
        "\n",
        "\n",
        "Log_Reg_model = LogisticRegression(max_iter=5000)\n",
        "Nb_model = GaussianNB()\n",
        "knn = KNeighborsClassifier(n_neighbors=4)\n",
        "svm_model = svm.SVC(probability=True)\n",
        "DT_model = DecisionTreeClassifier()\n",
        "RF_model = RandomForestClassifier()\n",
        "XGB_model = XGBClassifier()\n",
        "models=[Log_Reg_model,Nb_model,svm_model,DT_model,RF_model,XGB_model]\n"
      ],
      "metadata": {
        "id": "hSrqpontY57H"
      },
      "execution_count": null,
      "outputs": []
    },
    {
      "cell_type": "code",
      "source": [
        "for model in models:\n",
        "  model.fit(x_train,y_train)\n",
        "  y_pred = model.predict(x_test)\n",
        "  accuracy  = metrics.accuracy_score(y_test,y_pred)\n",
        "  recall = metrics.recall_score(y_test,y_pred)\n",
        "  precision = metrics.precision_score(y_test,y_pred)\n",
        "  f1_score = metrics.f1_score(y_test,y_pred)\n",
        "  y_pred_proba = model.predict_proba(x_test)[::,1]\n",
        "  ROC_AUC = roc_auc_score(y_test,y_pred_proba)\n",
        "\n",
        "  print(model)\n",
        "  print(f'Model Accuracy = {100*accuracy:0.3} %' )\n",
        "  print(f'Model recall = {100*recall:0.3} %' )\n",
        "  print(f'Model precision = {100*precision:0.3} %' )\n",
        "  print(f'Model f1_score = {100*f1_score:0.3} %' )\n",
        "  print(\"ROC_AUC : {:.4f}\".format(ROC_AUC))\n",
        "  print('\\n')\n"
      ],
      "metadata": {
        "colab": {
          "base_uri": "https://localhost:8080/"
        },
        "id": "EGIXoxHNY-DM",
        "outputId": "86359410-7eb3-458c-c240-c977decc3a84"
      },
      "execution_count": null,
      "outputs": [
        {
          "output_type": "stream",
          "name": "stdout",
          "text": [
            "LogisticRegression(max_iter=5000)\n",
            "Model Accuracy = 83.2 %\n",
            "Model recall = 68.5 %\n",
            "Model precision = 71.2 %\n",
            "Model f1_score = 69.8 %\n",
            "ROC_AUC : 0.8971\n",
            "\n",
            "\n",
            "GaussianNB()\n",
            "Model Accuracy = 78.4 %\n",
            "Model recall = 77.2 %\n",
            "Model precision = 59.1 %\n",
            "Model f1_score = 67.0 %\n",
            "ROC_AUC : 0.8640\n",
            "\n",
            "\n"
          ]
        },
        {
          "output_type": "stream",
          "name": "stderr",
          "text": [
            "/usr/local/lib/python3.7/dist-packages/sklearn/metrics/_classification.py:1318: UndefinedMetricWarning: Precision is ill-defined and being set to 0.0 due to no predicted samples. Use `zero_division` parameter to control this behavior.\n",
            "  _warn_prf(average, modifier, msg_start, len(result))\n"
          ]
        },
        {
          "output_type": "stream",
          "name": "stdout",
          "text": [
            "SVC(probability=True)\n",
            "Model Accuracy = 71.6 %\n",
            "Model recall = 0.0 %\n",
            "Model precision = 0.0 %\n",
            "Model f1_score = 0.0 %\n",
            "ROC_AUC : 0.7837\n",
            "\n",
            "\n",
            "DecisionTreeClassifier()\n",
            "Model Accuracy = 78.4 %\n",
            "Model recall = 58.2 %\n",
            "Model precision = 63.0 %\n",
            "Model f1_score = 60.5 %\n",
            "ROC_AUC : 0.7234\n",
            "\n",
            "\n",
            "RandomForestClassifier()\n",
            "Model Accuracy = 83.3 %\n",
            "Model recall = 59.5 %\n",
            "Model precision = 76.3 %\n",
            "Model f1_score = 66.9 %\n",
            "ROC_AUC : 0.8912\n",
            "\n",
            "\n",
            "XGBClassifier()\n",
            "Model Accuracy = 83.5 %\n",
            "Model recall = 64.8 %\n",
            "Model precision = 74.0 %\n",
            "Model f1_score = 69.1 %\n",
            "ROC_AUC : 0.9103\n",
            "\n",
            "\n"
          ]
        }
      ]
    },
    {
      "cell_type": "code",
      "source": [
        "#@title Mutual Information Selection\n",
        "#Mutual Information Category Input and Output\n",
        "\n",
        "\n",
        "mutual=tel_customer.drop(tel_customer.columns.difference(['Gender', 'Married', 'Number of Dependents', 'City',\n",
        "        'Number of Referrals', 'Tenure in Months', 'Offer',\n",
        "       'Phone Service', 'Multiple Lines',\n",
        "       'Internet Service', 'Internet Type',\n",
        "       'Online Security', 'Online Backup', 'Device Protection Plan',\n",
        "       'Premium Tech Support', 'Streaming TV', 'Streaming Movies',\n",
        "       'Streaming Music', 'Unlimited Data', 'Contract', 'Paperless Billing',\n",
        "       'Payment Method','Churn Value']\n",
        "), 1)\n",
        "\n",
        "\n"
      ],
      "metadata": {
        "colab": {
          "base_uri": "https://localhost:8080/"
        },
        "id": "9rGeEfsoHo17",
        "outputId": "d5d65236-72a9-47df-8604-7e4ec3a98e39"
      },
      "execution_count": null,
      "outputs": [
        {
          "output_type": "stream",
          "name": "stderr",
          "text": [
            "/usr/local/lib/python3.7/dist-packages/ipykernel_launcher.py:13: FutureWarning: In a future version of pandas all arguments of DataFrame.drop except for the argument 'labels' will be keyword-only\n",
            "  del sys.path[0]\n"
          ]
        }
      ]
    },
    {
      "cell_type": "code",
      "source": [
        "y = mutual['Churn Value']\n",
        "x = mutual.drop(['Churn Value'],axis = 1)\n",
        "x_train,x_test, y_train, y_test = train_test_split(x,y, test_size=0.2)\n",
        "\n"
      ],
      "metadata": {
        "id": "mB0DecpHJYJ4"
      },
      "execution_count": null,
      "outputs": []
    },
    {
      "cell_type": "code",
      "source": [
        "from sklearn.feature_selection import mutual_info_classif\n",
        "mutual_info = mutual_info_classif(x_train, y_train)\n",
        "mutual_info"
      ],
      "metadata": {
        "colab": {
          "base_uri": "https://localhost:8080/"
        },
        "id": "JzMLBRrIPMNj",
        "outputId": "1a4b553e-7865-4343-80a7-71345ca9f1d0"
      },
      "execution_count": null,
      "outputs": [
        {
          "output_type": "execute_result",
          "data": {
            "text/plain": [
              "array([0.00914387, 0.01482819, 0.04972408, 0.01821482, 0.07558018,\n",
              "       0.07447033, 0.04486806, 0.00515897, 0.        , 0.03003027,\n",
              "       0.05000552, 0.00874151, 0.0077264 , 0.        , 0.01482622,\n",
              "       0.        , 0.00760997, 0.00616091, 0.0170762 , 0.12180046,\n",
              "       0.02111304, 0.02202333])"
            ]
          },
          "metadata": {},
          "execution_count": 77
        }
      ]
    },
    {
      "cell_type": "code",
      "source": [
        "mutual_info = pd.Series(mutual_info)\n",
        "mutual_info.index = x_train.columns\n",
        "mutual_info.sort_values(ascending=False)\n",
        "mutual_info.sort_values(ascending=False).plot.bar(figsize=(20, 8))\n"
      ],
      "metadata": {
        "colab": {
          "base_uri": "https://localhost:8080/",
          "height": 584
        },
        "id": "cCCLRPKsQAgm",
        "outputId": "af984ded-2be0-4ae2-d737-67e432afcf27"
      },
      "execution_count": null,
      "outputs": [
        {
          "output_type": "execute_result",
          "data": {
            "text/plain": [
              "<matplotlib.axes._subplots.AxesSubplot at 0x7facf3070290>"
            ]
          },
          "metadata": {},
          "execution_count": 78
        },
        {
          "output_type": "display_data",
          "data": {
            "text/plain": [
              "<Figure size 1440x576 with 1 Axes>"
            ],
            "image/png": "[encoded data removed]"
          },
          "metadata": {
            "needs_background": "light"
          }
        }
      ]
    },
    {
      "cell_type": "code",
      "source": [
        "from sklearn.feature_selection import SelectKBest\n",
        "sel_five_cols = SelectKBest(mutual_info_classif, k=7)\n",
        "sel_five_cols.fit(x_train, y_train)\n",
        "x_train.columns[sel_five_cols.get_support()]"
      ],
      "metadata": {
        "colab": {
          "base_uri": "https://localhost:8080/"
        },
        "id": "tn0XCSHwKvgD",
        "outputId": "70e1554f-5148-4844-99fe-6bdbfd3b14d9"
      },
      "execution_count": null,
      "outputs": [
        {
          "output_type": "execute_result",
          "data": {
            "text/plain": [
              "Index(['Number of Dependents', 'Number of Referrals', 'Tenure in Months',\n",
              "       'Offer', 'Internet Type', 'Contract', 'Payment Method'],\n",
              "      dtype='object')"
            ]
          },
          "metadata": {},
          "execution_count": 80
        }
      ]
    },
    {
      "cell_type": "code",
      "source": [
        "cat=['Number of Dependents', 'Number of Referrals', 'Tenure in Months',\n",
        "       'Offer', 'Internet Type', 'Contract', 'Payment Method']\n",
        "num=['Monthly Charge',\n",
        " 'Total Revenue',\n",
        " 'Age',\n",
        " 'Total Charges', \n",
        " 'Total Long Distance Charges']\n",
        "all=cat+num\n",
        "all"
      ],
      "metadata": {
        "id": "cp3C4oJjQTjI",
        "colab": {
          "base_uri": "https://localhost:8080/"
        },
        "outputId": "ef2ec0a2-7981-4fa4-c70c-2ff923d41204"
      },
      "execution_count": null,
      "outputs": [
        {
          "output_type": "execute_result",
          "data": {
            "text/plain": [
              "['Number of Dependents',\n",
              " 'Number of Referrals',\n",
              " 'Tenure in Months',\n",
              " 'Offer',\n",
              " 'Internet Type',\n",
              " 'Contract',\n",
              " 'Payment Method',\n",
              " 'Monthly Charge',\n",
              " 'Total Revenue',\n",
              " 'Age',\n",
              " 'Total Charges',\n",
              " 'Total Long Distance Charges']"
            ]
          },
          "metadata": {},
          "execution_count": 95
        }
      ]
    },
    {
      "cell_type": "code",
      "source": [
        "#Third Trial \n",
        "\n",
        "y = tel_customer['Churn Value']\n",
        "x = tel_customer[all]\n",
        "x_train,x_test, y_train, y_test = train_test_split(x,y, test_size=0.2,random_state=42)\n",
        "\n"
      ],
      "metadata": {
        "id": "zDBFVdF3QyH8"
      },
      "execution_count": null,
      "outputs": []
    },
    {
      "cell_type": "code",
      "source": [
        "#Models Train and Test\n",
        "from sklearn.linear_model import LogisticRegression\n",
        "from sklearn.naive_bayes import GaussianNB\n",
        "from sklearn.neighbors import KNeighborsClassifier\n",
        "from sklearn import svm\n",
        "from sklearn.tree import DecisionTreeClassifier\n",
        "from sklearn.ensemble import RandomForestClassifier\n",
        "from xgboost import XGBClassifier\n",
        "from sklearn import metrics\n",
        "from sklearn.metrics import roc_auc_score\n",
        "\n",
        "\n",
        "\n",
        "\n",
        "Log_Reg_model = LogisticRegression(max_iter=5000)\n",
        "Nb_model = GaussianNB()\n",
        "knn = KNeighborsClassifier(n_neighbors=4)\n",
        "svm_model = svm.SVC(probability=True)\n",
        "DT_model = DecisionTreeClassifier()\n",
        "RF_model = RandomForestClassifier()\n",
        "XGB_model = XGBClassifier()\n",
        "models=[Log_Reg_model,Nb_model,svm_model,DT_model,RF_model,XGB_model]\n"
      ],
      "metadata": {
        "id": "Ct_TgwtpRCrs"
      },
      "execution_count": null,
      "outputs": []
    },
    {
      "cell_type": "code",
      "source": [
        "for model in models:\n",
        "  model.fit(x_train,y_train)\n",
        "  y_pred = model.predict(x_test)\n",
        "  accuracy  = metrics.accuracy_score(y_test,y_pred)\n",
        "  recall = metrics.recall_score(y_test,y_pred)\n",
        "  precision = metrics.precision_score(y_test,y_pred)\n",
        "  f1_score = metrics.f1_score(y_test,y_pred)\n",
        "  y_pred_proba = model.predict_proba(x_test)[::,1]\n",
        "  ROC_AUC = roc_auc_score(y_test,y_pred_proba)\n",
        "\n",
        "  print(model)\n",
        "  print(f'Model Accuracy = {100*accuracy:0.3} %' )\n",
        "  print(f'Model recall = {100*recall:0.3} %' )\n",
        "  print(f'Model precision = {100*precision:0.3} %' )\n",
        "  print(f'Model f1_score = {100*f1_score:0.3} %' )\n",
        "  print(\"ROC_AUC : {:.4f}\".format(ROC_AUC))\n",
        "  print('\\n')\n"
      ],
      "metadata": {
        "colab": {
          "base_uri": "https://localhost:8080/"
        },
        "id": "fpz9msxBRGLA",
        "outputId": "d6436742-5361-4e90-f4c3-86bcb28c5e0b"
      },
      "execution_count": null,
      "outputs": [
        {
          "output_type": "stream",
          "name": "stdout",
          "text": [
            "LogisticRegression(max_iter=5000)\n",
            "Model Accuracy = 81.3 %\n",
            "Model recall = 63.5 %\n",
            "Model precision = 68.5 %\n",
            "Model f1_score = 65.9 %\n",
            "ROC_AUC : 0.8741\n",
            "\n",
            "\n",
            "GaussianNB()\n",
            "Model Accuracy = 75.9 %\n",
            "Model recall = 81.8 %\n",
            "Model precision = 55.1 %\n",
            "Model f1_score = 65.9 %\n",
            "ROC_AUC : 0.8492\n",
            "\n",
            "\n"
          ]
        },
        {
          "output_type": "stream",
          "name": "stderr",
          "text": [
            "/usr/local/lib/python3.7/dist-packages/sklearn/metrics/_classification.py:1318: UndefinedMetricWarning: Precision is ill-defined and being set to 0.0 due to no predicted samples. Use `zero_division` parameter to control this behavior.\n",
            "  _warn_prf(average, modifier, msg_start, len(result))\n"
          ]
        },
        {
          "output_type": "stream",
          "name": "stdout",
          "text": [
            "SVC(probability=True)\n",
            "Model Accuracy = 71.6 %\n",
            "Model recall = 0.0 %\n",
            "Model precision = 0.0 %\n",
            "Model f1_score = 0.0 %\n",
            "ROC_AUC : 0.7909\n",
            "\n",
            "\n",
            "DecisionTreeClassifier()\n",
            "Model Accuracy = 77.1 %\n",
            "Model recall = 58.5 %\n",
            "Model precision = 60.0 %\n",
            "Model f1_score = 59.2 %\n",
            "ROC_AUC : 0.7152\n",
            "\n",
            "\n",
            "RandomForestClassifier()\n",
            "Model Accuracy = 83.3 %\n",
            "Model recall = 61.8 %\n",
            "Model precision = 74.8 %\n",
            "Model f1_score = 67.7 %\n",
            "ROC_AUC : 0.8890\n",
            "\n",
            "\n",
            "XGBClassifier()\n",
            "Model Accuracy = 84.0 %\n",
            "Model recall = 63.2 %\n",
            "Model precision = 76.2 %\n",
            "Model f1_score = 69.1 %\n",
            "ROC_AUC : 0.9096\n",
            "\n",
            "\n"
          ]
        }
      ]
    },
    {
      "cell_type": "code",
      "source": [
        "#@title Wrapper 7 to 9 Features\n",
        "#importing the necessary libraries\n",
        "from sklearn.linear_model import LogisticRegression\n",
        "from sklearn.feature_selection import SequentialFeatureSelector as SFS\n",
        "\n",
        "# Sequential Forward Selection(sfs)\n",
        "compound=[]\n",
        "for i in range(7,10):\n",
        "  sfs = SFS(XGBClassifier( max_iter=10000),\n",
        "          n_features_to_select=i,\n",
        "          scoring = 'roc_auc'\n",
        "          )\n",
        "\n",
        "  y = tel_customer['Churn Value']\n",
        "  x = tel_customer.drop(['Churn Value'],axis = 1)\n",
        "  sfs.fit(x,y)\n",
        "  print(\"Number of Features is:\",i)\n",
        "  x=list(sfs.get_feature_names_out())\n",
        "  print(x)\n",
        "  compound.append(x)\n",
        "  "
      ],
      "metadata": {
        "colab": {
          "base_uri": "https://localhost:8080/"
        },
        "id": "Z5ul2hok8knE",
        "outputId": "d629083e-094d-4ec5-9c87-a3845638a13c",
        "cellView": "form"
      },
      "execution_count": null,
      "outputs": [
        {
          "output_type": "stream",
          "name": "stdout",
          "text": [
            "Number of Features is: 7\n",
            "['Age', 'Number of Dependents', 'City', 'Number of Referrals', 'Contract', 'Monthly Charge', 'Total Charges']\n",
            "Number of Features is: 8\n",
            "['Age', 'Number of Dependents', 'City', 'Number of Referrals', 'Contract', 'Payment Method', 'Monthly Charge', 'Total Charges']\n",
            "Number of Features is: 9\n",
            "['Age', 'Number of Dependents', 'City', 'Number of Referrals', 'Streaming Music', 'Contract', 'Payment Method', 'Monthly Charge', 'Total Charges']\n"
          ]
        }
      ]
    },
    {
      "cell_type": "code",
      "source": [
        "#@title Wrapper 7 to 9 Features Evaluation\n",
        "\n",
        "for element in compound:\n",
        "  y = tel_customer['Churn Value']\n",
        "  x = tel_customer[element]\n",
        "  x_train,x_test, y_train, y_test = train_test_split(x,y, test_size=0.2)\n",
        "  XGB_model = XGBClassifier()\n",
        "  XGB_model.fit(x_train,y_train)\n",
        "  y_pred = XGB_model.predict(x_test)\n",
        "\n",
        "  accuracy  = metrics.accuracy_score(y_test,y_pred)\n",
        "  recall = metrics.recall_score(y_test,y_pred)\n",
        "  precision = metrics.precision_score(y_test,y_pred)\n",
        "  f1_score = metrics.f1_score(y_test,y_pred)\n",
        "  y_pred_proba = XGB_model.predict_proba(x_test)[::,1]\n",
        "  ROC_AUC = roc_auc_score(y_test,y_pred_proba)\n",
        "\n",
        "  print(\"Number Of features is \",len(element))\n",
        "  print(f'Model Accuracy = {100*accuracy:0.3} %' )\n",
        "  print(f'Model recall = {100*recall:0.3} %' )\n",
        "  print(f'Model precision = {100*precision:0.3} %' )\n",
        "  print(f'Model f1_score = {100*f1_score:0.3} %' )\n",
        "  print(\"ROC_AUC : {:.4f}\".format(ROC_AUC))\n",
        "  print('\\n')\n",
        "\n",
        "\n"
      ],
      "metadata": {
        "colab": {
          "base_uri": "https://localhost:8080/"
        },
        "cellView": "form",
        "id": "M6Cqkvi_QJGf",
        "outputId": "e15bb9f1-c5ea-431a-c279-34d1b686f7f0"
      },
      "execution_count": null,
      "outputs": [
        {
          "output_type": "stream",
          "name": "stdout",
          "text": [
            "Number Of features is  7\n",
            "Model Accuracy = 84.2 %\n",
            "Model recall = 61.9 %\n",
            "Model precision = 74.6 %\n",
            "Model f1_score = 67.6 %\n",
            "ROC_AUC : 0.9130\n",
            "\n",
            "\n",
            "Number Of features is  8\n",
            "Model Accuracy = 85.3 %\n",
            "Model recall = 69.7 %\n",
            "Model precision = 73.8 %\n",
            "Model f1_score = 71.7 %\n",
            "ROC_AUC : 0.9104\n",
            "\n",
            "\n",
            "Number Of features is  9\n",
            "Model Accuracy = 85.5 %\n",
            "Model recall = 68.3 %\n",
            "Model precision = 75.4 %\n",
            "Model f1_score = 71.7 %\n",
            "ROC_AUC : 0.9176\n",
            "\n",
            "\n"
          ]
        }
      ]
    },
    {
      "cell_type": "code",
      "source": [
        "#@title Wrapper 10 to 14 Features\n",
        "#importing the necessary libraries\n",
        "from sklearn.feature_selection import SequentialFeatureSelector as SFS\n",
        "\n",
        "# Sequential Forward Selection(sfs)\n",
        "compound=[]\n",
        "for i in range(10,15):\n",
        "  sfs = SFS(XGBClassifier( max_iter=10000),\n",
        "          n_features_to_select=i,\n",
        "          scoring = 'roc_auc'\n",
        "          )\n",
        "\n",
        "  y = tel_customer['Churn Value']\n",
        "  x = tel_customer.drop(['Churn Value'],axis = 1)\n",
        "  sfs.fit(x,y)\n",
        "  print(\"Number of Features is:\",i)\n",
        "  x=list(sfs.get_feature_names_out())\n",
        "  print(x)\n",
        "  compound.append(x)\n",
        "  "
      ],
      "metadata": {
        "colab": {
          "base_uri": "https://localhost:8080/"
        },
        "cellView": "form",
        "id": "EktCwCi5Sd6n",
        "outputId": "76827254-769e-418a-c4d5-134440a8b172"
      },
      "execution_count": null,
      "outputs": [
        {
          "output_type": "stream",
          "name": "stdout",
          "text": [
            "Number of Features is: 10\n",
            "['Age', 'Number of Dependents', 'City', 'Number of Referrals', 'Streaming Music', 'Contract', 'Paperless Billing', 'Payment Method', 'Monthly Charge', 'Total Charges']\n",
            "Number of Features is: 11\n",
            "['Age', 'Number of Dependents', 'City', 'Number of Referrals', 'Phone Service', 'Streaming Music', 'Contract', 'Paperless Billing', 'Payment Method', 'Monthly Charge', 'Total Charges']\n",
            "Number of Features is: 12\n",
            "['Age', 'Number of Dependents', 'City', 'Number of Referrals', 'Phone Service', 'Online Security', 'Streaming Music', 'Contract', 'Paperless Billing', 'Payment Method', 'Monthly Charge', 'Total Charges']\n",
            "Number of Features is: 13\n",
            "['Age', 'Number of Dependents', 'City', 'Number of Referrals', 'Phone Service', 'Online Security', 'Premium Tech Support', 'Streaming Music', 'Contract', 'Paperless Billing', 'Payment Method', 'Monthly Charge', 'Total Charges']\n",
            "Number of Features is: 14\n",
            "['Age', 'Number of Dependents', 'City', 'Number of Referrals', 'Phone Service', 'Internet Type', 'Online Security', 'Premium Tech Support', 'Streaming Music', 'Contract', 'Paperless Billing', 'Payment Method', 'Monthly Charge', 'Total Charges']\n"
          ]
        }
      ]
    },
    {
      "cell_type": "code",
      "source": [
        "#@title Wrapper 10 to 14 Features Evaluation\n",
        "\n",
        "for element in compound:\n",
        "  y = tel_customer['Churn Value']\n",
        "  x = tel_customer[element]\n",
        "  x_train,x_test, y_train, y_test = train_test_split(x,y, test_size=0.2)\n",
        "  XGB_model = XGBClassifier()\n",
        "  XGB_model.fit(x_train,y_train)\n",
        "  y_pred = XGB_model.predict(x_test)\n",
        "\n",
        "  accuracy  = metrics.accuracy_score(y_test,y_pred)\n",
        "  recall = metrics.recall_score(y_test,y_pred)\n",
        "  precision = metrics.precision_score(y_test,y_pred)\n",
        "  f1_score = metrics.f1_score(y_test,y_pred)\n",
        "  y_pred_proba = XGB_model.predict_proba(x_test)[::,1]\n",
        "  ROC_AUC = roc_auc_score(y_test,y_pred_proba)\n",
        "\n",
        "  print(\"Number Of features is \",len(element))\n",
        "  print(f'Model Accuracy = {100*accuracy:0.3} %' )\n",
        "  print(f'Model recall = {100*recall:0.3} %' )\n",
        "  print(f'Model precision = {100*precision:0.3} %' )\n",
        "  print(f'Model f1_score = {100*f1_score:0.3} %' )\n",
        "  print(\"ROC_AUC : {:.4f}\".format(ROC_AUC))\n",
        "  print('\\n')\n",
        "\n",
        "\n"
      ],
      "metadata": {
        "colab": {
          "base_uri": "https://localhost:8080/"
        },
        "cellView": "form",
        "id": "A7w9-nn7nqJ_",
        "outputId": "3b427ce7-c54e-4fce-e6f1-627e1f6bbd7d"
      },
      "execution_count": null,
      "outputs": [
        {
          "output_type": "stream",
          "name": "stdout",
          "text": [
            "Number Of features is  10\n",
            "Model Accuracy = 84.0 %\n",
            "Model recall = 63.5 %\n",
            "Model precision = 73.8 %\n",
            "Model f1_score = 68.3 %\n",
            "ROC_AUC : 0.9122\n",
            "\n",
            "\n",
            "Number Of features is  11\n",
            "Model Accuracy = 85.2 %\n",
            "Model recall = 66.0 %\n",
            "Model precision = 74.3 %\n",
            "Model f1_score = 69.9 %\n",
            "ROC_AUC : 0.9148\n",
            "\n",
            "\n",
            "Number Of features is  12\n",
            "Model Accuracy = 85.0 %\n",
            "Model recall = 67.5 %\n",
            "Model precision = 72.6 %\n",
            "Model f1_score = 70.0 %\n",
            "ROC_AUC : 0.9170\n",
            "\n",
            "\n",
            "Number Of features is  13\n",
            "Model Accuracy = 84.7 %\n",
            "Model recall = 64.1 %\n",
            "Model precision = 72.1 %\n",
            "Model f1_score = 67.9 %\n",
            "ROC_AUC : 0.9174\n",
            "\n",
            "\n",
            "Number Of features is  14\n",
            "Model Accuracy = 84.9 %\n",
            "Model recall = 62.5 %\n",
            "Model precision = 73.8 %\n",
            "Model f1_score = 67.7 %\n",
            "ROC_AUC : 0.9061\n",
            "\n",
            "\n"
          ]
        }
      ]
    },
    {
      "cell_type": "code",
      "source": [
        "#@title Wrapper 15 to 24 Features\n",
        "#importing the necessary libraries\n",
        "from sklearn.feature_selection import SequentialFeatureSelector as SFS\n",
        "\n",
        "# Sequential Forward Selection(sfs)\n",
        "compound=[]\n",
        "for i in range(15,25):\n",
        "  sfs = SFS(XGBClassifier( max_iter=10000),\n",
        "          n_features_to_select=i,\n",
        "          scoring = 'roc_auc'\n",
        "          )\n",
        "\n",
        "  y = tel_customer['Churn Value']\n",
        "  x = tel_customer.drop(['Churn Value'],axis = 1)\n",
        "  sfs.fit(x,y)\n",
        "  print(\"Number of Features is:\",i)\n",
        "  x=list(sfs.get_feature_names_out())\n",
        "  print(x)\n",
        "  compound.append(x)\n",
        "  "
      ],
      "metadata": {
        "colab": {
          "base_uri": "https://localhost:8080/"
        },
        "cellView": "form",
        "id": "yM9MC4ydoE04",
        "outputId": "5cac3611-e90e-4570-80df-17bcdfe787da"
      },
      "execution_count": null,
      "outputs": [
        {
          "output_type": "stream",
          "name": "stdout",
          "text": [
            "Number of Features is: 15\n",
            "['Gender', 'Age', 'Number of Dependents', 'City', 'Number of Referrals', 'Phone Service', 'Internet Type', 'Online Security', 'Premium Tech Support', 'Streaming Music', 'Contract', 'Paperless Billing', 'Payment Method', 'Monthly Charge', 'Total Charges']\n",
            "Number of Features is: 16\n",
            "['Gender', 'Age', 'Number of Dependents', 'City', 'Number of Referrals', 'Phone Service', 'Internet Service', 'Internet Type', 'Online Security', 'Premium Tech Support', 'Streaming Music', 'Contract', 'Paperless Billing', 'Payment Method', 'Monthly Charge', 'Total Charges']\n",
            "Number of Features is: 17\n",
            "['Gender', 'Age', 'Number of Dependents', 'City', 'Number of Referrals', 'Phone Service', 'Internet Service', 'Internet Type', 'Online Security', 'Device Protection Plan', 'Premium Tech Support', 'Streaming Music', 'Contract', 'Paperless Billing', 'Payment Method', 'Monthly Charge', 'Total Charges']\n",
            "Number of Features is: 18\n",
            "['Gender', 'Age', 'Number of Dependents', 'City', 'Number of Referrals', 'Phone Service', 'Internet Service', 'Internet Type', 'Online Security', 'Device Protection Plan', 'Premium Tech Support', 'Streaming Music', 'Unlimited Data', 'Contract', 'Paperless Billing', 'Payment Method', 'Monthly Charge', 'Total Charges']\n",
            "Number of Features is: 19\n",
            "['Gender', 'Age', 'Number of Dependents', 'City', 'Number of Referrals', 'Phone Service', 'Internet Service', 'Internet Type', 'Online Security', 'Device Protection Plan', 'Premium Tech Support', 'Streaming TV', 'Streaming Music', 'Unlimited Data', 'Contract', 'Paperless Billing', 'Payment Method', 'Monthly Charge', 'Total Charges']\n",
            "Number of Features is: 20\n",
            "['Gender', 'Age', 'Married', 'Number of Dependents', 'City', 'Number of Referrals', 'Phone Service', 'Internet Service', 'Internet Type', 'Online Security', 'Device Protection Plan', 'Premium Tech Support', 'Streaming TV', 'Streaming Music', 'Unlimited Data', 'Contract', 'Paperless Billing', 'Payment Method', 'Monthly Charge', 'Total Charges']\n",
            "Number of Features is: 21\n",
            "['Gender', 'Age', 'Married', 'Number of Dependents', 'City', 'Number of Referrals', 'Phone Service', 'Multiple Lines', 'Internet Service', 'Internet Type', 'Online Security', 'Device Protection Plan', 'Premium Tech Support', 'Streaming TV', 'Streaming Music', 'Unlimited Data', 'Contract', 'Paperless Billing', 'Payment Method', 'Monthly Charge', 'Total Charges']\n",
            "Number of Features is: 22\n",
            "['Gender', 'Age', 'Married', 'Number of Dependents', 'City', 'Number of Referrals', 'Phone Service', 'Multiple Lines', 'Internet Service', 'Internet Type', 'Online Security', 'Device Protection Plan', 'Premium Tech Support', 'Streaming TV', 'Streaming Movies', 'Streaming Music', 'Unlimited Data', 'Contract', 'Paperless Billing', 'Payment Method', 'Monthly Charge', 'Total Charges']\n",
            "Number of Features is: 23\n",
            "['Gender', 'Age', 'Married', 'Number of Dependents', 'City', 'Number of Referrals', 'Phone Service', 'Multiple Lines', 'Internet Service', 'Internet Type', 'Online Security', 'Online Backup', 'Device Protection Plan', 'Premium Tech Support', 'Streaming TV', 'Streaming Movies', 'Streaming Music', 'Unlimited Data', 'Contract', 'Paperless Billing', 'Payment Method', 'Monthly Charge', 'Total Charges']\n",
            "Number of Features is: 24\n",
            "['Gender', 'Age', 'Married', 'Number of Dependents', 'City', 'Number of Referrals', 'Phone Service', 'Multiple Lines', 'Internet Service', 'Internet Type', 'Online Security', 'Online Backup', 'Device Protection Plan', 'Premium Tech Support', 'Streaming TV', 'Streaming Movies', 'Streaming Music', 'Unlimited Data', 'Contract', 'Paperless Billing', 'Payment Method', 'Monthly Charge', 'Total Charges', 'Total Refunds']\n"
          ]
        }
      ]
    },
    {
      "cell_type": "code",
      "source": [
        "#@title Wrapper 15 to 24 Features Evaluation\n",
        "\n",
        "for element in compound:\n",
        "  y = tel_customer['Churn Value']\n",
        "  x = tel_customer[element]\n",
        "  x_train,x_test, y_train, y_test = train_test_split(x,y, test_size=0.2)\n",
        "  XGB_model = XGBClassifier()\n",
        "  XGB_model.fit(x_train,y_train)\n",
        "  y_pred = XGB_model.predict(x_test)\n",
        "\n",
        "  accuracy  = metrics.accuracy_score(y_test,y_pred)\n",
        "  recall = metrics.recall_score(y_test,y_pred)\n",
        "  precision = metrics.precision_score(y_test,y_pred)\n",
        "  f1_score = metrics.f1_score(y_test,y_pred)\n",
        "  y_pred_proba = XGB_model.predict_proba(x_test)[::,1]\n",
        "  ROC_AUC = roc_auc_score(y_test,y_pred_proba)\n",
        "\n",
        "  print(\"Number Of features is \",len(element))\n",
        "  print(f'Model Accuracy = {100*accuracy:0.3} %' )\n",
        "  print(f'Model recall = {100*recall:0.3} %' )\n",
        "  print(f'Model precision = {100*precision:0.3} %' )\n",
        "  print(f'Model f1_score = {100*f1_score:0.3} %' )\n",
        "  print(\"ROC_AUC : {:.4f}\".format(ROC_AUC))\n",
        "  print('\\n')\n",
        "\n",
        "\n"
      ],
      "metadata": {
        "colab": {
          "base_uri": "https://localhost:8080/"
        },
        "cellView": "form",
        "id": "9cLvtrq9DJMO",
        "outputId": "f71215be-c0da-4240-fd6e-091e440c6398"
      },
      "execution_count": null,
      "outputs": [
        {
          "output_type": "stream",
          "name": "stdout",
          "text": [
            "Number Of features is  15\n",
            "Model Accuracy = 85.0 %\n",
            "Model recall = 66.2 %\n",
            "Model precision = 72.5 %\n",
            "Model f1_score = 69.2 %\n",
            "ROC_AUC : 0.9061\n",
            "\n",
            "\n",
            "Number Of features is  16\n",
            "Model Accuracy = 87.0 %\n",
            "Model recall = 68.4 %\n",
            "Model precision = 80.1 %\n",
            "Model f1_score = 73.7 %\n",
            "ROC_AUC : 0.9246\n",
            "\n",
            "\n",
            "Number Of features is  17\n",
            "Model Accuracy = 84.9 %\n",
            "Model recall = 63.4 %\n",
            "Model precision = 73.9 %\n",
            "Model f1_score = 68.3 %\n",
            "ROC_AUC : 0.9024\n",
            "\n",
            "\n",
            "Number Of features is  18\n",
            "Model Accuracy = 85.5 %\n",
            "Model recall = 68.0 %\n",
            "Model precision = 77.1 %\n",
            "Model f1_score = 72.3 %\n",
            "ROC_AUC : 0.9163\n",
            "\n",
            "\n",
            "Number Of features is  19\n",
            "Model Accuracy = 85.7 %\n",
            "Model recall = 65.1 %\n",
            "Model precision = 76.6 %\n",
            "Model f1_score = 70.4 %\n",
            "ROC_AUC : 0.9191\n",
            "\n",
            "\n",
            "Number Of features is  20\n",
            "Model Accuracy = 84.9 %\n",
            "Model recall = 61.8 %\n",
            "Model precision = 79.0 %\n",
            "Model f1_score = 69.4 %\n",
            "ROC_AUC : 0.9116\n",
            "\n",
            "\n",
            "Number Of features is  21\n",
            "Model Accuracy = 85.4 %\n",
            "Model recall = 66.5 %\n",
            "Model precision = 77.2 %\n",
            "Model f1_score = 71.5 %\n",
            "ROC_AUC : 0.9123\n",
            "\n",
            "\n",
            "Number Of features is  22\n",
            "Model Accuracy = 84.7 %\n",
            "Model recall = 65.0 %\n",
            "Model precision = 73.0 %\n",
            "Model f1_score = 68.8 %\n",
            "ROC_AUC : 0.9049\n",
            "\n",
            "\n",
            "Number Of features is  23\n",
            "Model Accuracy = 85.2 %\n",
            "Model recall = 69.1 %\n",
            "Model precision = 75.1 %\n",
            "Model f1_score = 71.9 %\n",
            "ROC_AUC : 0.9103\n",
            "\n",
            "\n",
            "Number Of features is  24\n",
            "Model Accuracy = 86.2 %\n",
            "Model recall = 70.0 %\n",
            "Model precision = 77.0 %\n",
            "Model f1_score = 73.3 %\n",
            "ROC_AUC : 0.9234\n",
            "\n",
            "\n"
          ]
        }
      ]
    },
    {
      "cell_type": "code",
      "source": [
        "#@title Wrapper 25 to 30 Features\n",
        "#importing the necessary libraries\n",
        "from sklearn.feature_selection import SequentialFeatureSelector as SFS\n",
        "\n",
        "# Sequential Forward Selection(sfs)\n",
        "compound=[]\n",
        "for i in range(25,31):\n",
        "  sfs = SFS(XGBClassifier( max_iter=10000),\n",
        "          n_features_to_select=i,\n",
        "          scoring = 'roc_auc'\n",
        "          )\n",
        "\n",
        "  y = tel_customer['Churn Value']\n",
        "  x = tel_customer.drop(['Churn Value'],axis = 1)\n",
        "  sfs.fit(x,y)\n",
        "  print(\"Number of Features is:\",i)\n",
        "  x=list(sfs.get_feature_names_out())\n",
        "  print(x)\n",
        "  compound.append(x)\n",
        "  "
      ],
      "metadata": {
        "colab": {
          "base_uri": "https://localhost:8080/"
        },
        "id": "ItcfD2ppDhg7",
        "outputId": "ad8c2aab-1fa2-45b8-f1b7-62ae9d5329b2"
      },
      "execution_count": null,
      "outputs": [
        {
          "output_type": "stream",
          "name": "stdout",
          "text": [
            "Number of Features is: 25\n",
            "['Gender', 'Age', 'Married', 'Number of Dependents', 'City', 'Number of Referrals', 'Phone Service', 'Multiple Lines', 'Internet Service', 'Internet Type', 'Online Security', 'Online Backup', 'Device Protection Plan', 'Premium Tech Support', 'Streaming TV', 'Streaming Movies', 'Streaming Music', 'Unlimited Data', 'Contract', 'Paperless Billing', 'Payment Method', 'Monthly Charge', 'Total Charges', 'Total Refunds', 'Total Extra Data Charges']\n",
            "Number of Features is: 26\n",
            "['Gender', 'Age', 'Married', 'Number of Dependents', 'City', 'Number of Referrals', 'Offer', 'Phone Service', 'Multiple Lines', 'Internet Service', 'Internet Type', 'Online Security', 'Online Backup', 'Device Protection Plan', 'Premium Tech Support', 'Streaming TV', 'Streaming Movies', 'Streaming Music', 'Unlimited Data', 'Contract', 'Paperless Billing', 'Payment Method', 'Monthly Charge', 'Total Charges', 'Total Refunds', 'Total Extra Data Charges']\n",
            "Number of Features is: 27\n",
            "['Gender', 'Age', 'Married', 'Number of Dependents', 'City', 'Number of Referrals', 'Offer', 'Phone Service', 'Multiple Lines', 'Internet Service', 'Internet Type', 'Online Security', 'Online Backup', 'Device Protection Plan', 'Premium Tech Support', 'Streaming TV', 'Streaming Movies', 'Streaming Music', 'Unlimited Data', 'Contract', 'Paperless Billing', 'Payment Method', 'Monthly Charge', 'Total Charges', 'Total Refunds', 'Total Extra Data Charges', 'Total Revenue']\n",
            "Number of Features is: 28\n",
            "['Gender', 'Age', 'Married', 'Number of Dependents', 'City', 'Number of Referrals', 'Offer', 'Phone Service', 'Multiple Lines', 'Internet Service', 'Internet Type', 'Avg Monthly GB Download', 'Online Security', 'Online Backup', 'Device Protection Plan', 'Premium Tech Support', 'Streaming TV', 'Streaming Movies', 'Streaming Music', 'Unlimited Data', 'Contract', 'Paperless Billing', 'Payment Method', 'Monthly Charge', 'Total Charges', 'Total Refunds', 'Total Extra Data Charges', 'Total Revenue']\n",
            "Number of Features is: 29\n",
            "['Gender', 'Age', 'Married', 'Number of Dependents', 'City', 'Population', 'Number of Referrals', 'Offer', 'Phone Service', 'Multiple Lines', 'Internet Service', 'Internet Type', 'Avg Monthly GB Download', 'Online Security', 'Online Backup', 'Device Protection Plan', 'Premium Tech Support', 'Streaming TV', 'Streaming Movies', 'Streaming Music', 'Unlimited Data', 'Contract', 'Paperless Billing', 'Payment Method', 'Monthly Charge', 'Total Charges', 'Total Refunds', 'Total Extra Data Charges', 'Total Revenue']\n",
            "Number of Features is: 30\n",
            "['Gender', 'Age', 'Married', 'Number of Dependents', 'City', 'Population', 'Number of Referrals', 'Offer', 'Phone Service', 'Avg Monthly Long Distance Charges', 'Multiple Lines', 'Internet Service', 'Internet Type', 'Avg Monthly GB Download', 'Online Security', 'Online Backup', 'Device Protection Plan', 'Premium Tech Support', 'Streaming TV', 'Streaming Movies', 'Streaming Music', 'Unlimited Data', 'Contract', 'Paperless Billing', 'Payment Method', 'Monthly Charge', 'Total Charges', 'Total Refunds', 'Total Extra Data Charges', 'Total Revenue']\n"
          ]
        }
      ]
    },
    {
      "cell_type": "code",
      "source": [
        "#@title Wrapper 25 to 30 Features Evaluation\n",
        "\n",
        "for element in compound:\n",
        "  y = tel_customer['Churn Value']\n",
        "  x = tel_customer[element]\n",
        "  x_train,x_test, y_train, y_test = train_test_split(x,y, test_size=0.2)\n",
        "  XGB_model = XGBClassifier()\n",
        "  XGB_model.fit(x_train,y_train)\n",
        "  y_pred = XGB_model.predict(x_test)\n",
        "\n",
        "  accuracy  = metrics.accuracy_score(y_test,y_pred)\n",
        "  recall = metrics.recall_score(y_test,y_pred)\n",
        "  precision = metrics.precision_score(y_test,y_pred)\n",
        "  f1_score = metrics.f1_score(y_test,y_pred)\n",
        "  y_pred_proba = XGB_model.predict_proba(x_test)[::,1]\n",
        "  ROC_AUC = roc_auc_score(y_test,y_pred_proba)\n",
        "\n",
        "  print(\"Number Of features is \",len(element))\n",
        "  print(f'Model Accuracy = {100*accuracy:0.3} %' )\n",
        "  print(f'Model recall = {100*recall:0.3} %' )\n",
        "  print(f'Model precision = {100*precision:0.3} %' )\n",
        "  print(f'Model f1_score = {100*f1_score:0.3} %' )\n",
        "  print(\"ROC_AUC : {:.4f}\".format(ROC_AUC))\n",
        "  print('\\n')\n",
        "\n",
        "\n"
      ],
      "metadata": {
        "colab": {
          "base_uri": "https://localhost:8080/"
        },
        "id": "7o1qRx2qYSUC",
        "outputId": "32193959-9d66-447a-ec4d-dd1af3b06089"
      },
      "execution_count": null,
      "outputs": [
        {
          "output_type": "stream",
          "name": "stdout",
          "text": [
            "Number Of features is  25\n",
            "Model Accuracy = 85.8 %\n",
            "Model recall = 67.1 %\n",
            "Model precision = 75.4 %\n",
            "Model f1_score = 71.0 %\n",
            "ROC_AUC : 0.9254\n",
            "\n",
            "\n",
            "Number Of features is  26\n",
            "Model Accuracy = 84.7 %\n",
            "Model recall = 65.4 %\n",
            "Model precision = 73.7 %\n",
            "Model f1_score = 69.3 %\n",
            "ROC_AUC : 0.9102\n",
            "\n",
            "\n",
            "Number Of features is  27\n",
            "Model Accuracy = 83.5 %\n",
            "Model recall = 62.5 %\n",
            "Model precision = 72.1 %\n",
            "Model f1_score = 67.0 %\n",
            "ROC_AUC : 0.8963\n",
            "\n",
            "\n",
            "Number Of features is  28\n",
            "Model Accuracy = 86.5 %\n",
            "Model recall = 70.6 %\n",
            "Model precision = 75.6 %\n",
            "Model f1_score = 73.0 %\n",
            "ROC_AUC : 0.9218\n",
            "\n",
            "\n",
            "Number Of features is  29\n",
            "Model Accuracy = 86.1 %\n",
            "Model recall = 66.6 %\n",
            "Model precision = 77.8 %\n",
            "Model f1_score = 71.8 %\n",
            "ROC_AUC : 0.9200\n",
            "\n",
            "\n",
            "Number Of features is  30\n",
            "Model Accuracy = 84.7 %\n",
            "Model recall = 66.5 %\n",
            "Model precision = 72.2 %\n",
            "Model f1_score = 69.2 %\n",
            "ROC_AUC : 0.9170\n",
            "\n",
            "\n"
          ]
        }
      ]
    },
    {
      "cell_type": "code",
      "source": [
        "#@title Final Decision\n",
        "#16 Features are the highest performance \n",
        "#['Gender', 'Age', 'Number of Dependents', 'City', 'Number of Referrals', 'Phone Service', 'Internet Service', 'Internet Type', 'Online Security', 'Premium Tech Support', 'Streaming Music', 'Contract', 'Paperless Billing', 'Payment Method', 'Monthly Charge', 'Total Charges']\n",
        "from sklearn.model_selection import train_test_split\n",
        "\n",
        "y = tel_customer['Churn Value']\n",
        "x = tel_customer[['Gender', 'Age', 'Number of Dependents', 'City', 'Number of Referrals', 'Phone Service', 'Internet Service', 'Internet Type', 'Online Security', 'Premium Tech Support', 'Streaming Music', 'Contract', 'Paperless Billing', 'Payment Method', 'Monthly Charge', 'Total Charges']]\n",
        "x_train,x_test, y_train, y_test = train_test_split(x,y, test_size=0.2)\n"
      ],
      "metadata": {
        "id": "aWM2E0j3aAoa",
        "colab": {
          "base_uri": "https://localhost:8080/",
          "height": 269
        },
        "outputId": "7d4121cd-3f62-40a1-d3e8-7cd22d786d2f"
      },
      "execution_count": null,
      "outputs": [
        {
          "output_type": "error",
          "ename": "NameError",
          "evalue": "ignored",
          "traceback": [
            "\u001b[0;31m---------------------------------------------------------------------------\u001b[0m",
            "\u001b[0;31mNameError\u001b[0m                                 Traceback (most recent call last)",
            "\u001b[0;32m<ipython-input-4-34f207f41d7f>\u001b[0m in \u001b[0;36m<module>\u001b[0;34m\u001b[0m\n\u001b[1;32m      4\u001b[0m \u001b[0;32mfrom\u001b[0m \u001b[0msklearn\u001b[0m\u001b[0;34m.\u001b[0m\u001b[0mmodel_selection\u001b[0m \u001b[0;32mimport\u001b[0m \u001b[0mtrain_test_split\u001b[0m\u001b[0;34m\u001b[0m\u001b[0;34m\u001b[0m\u001b[0m\n\u001b[1;32m      5\u001b[0m \u001b[0;34m\u001b[0m\u001b[0m\n\u001b[0;32m----> 6\u001b[0;31m \u001b[0my\u001b[0m \u001b[0;34m=\u001b[0m \u001b[0mtel_customer\u001b[0m\u001b[0;34m[\u001b[0m\u001b[0;34m'Churn Value'\u001b[0m\u001b[0;34m]\u001b[0m\u001b[0;34m\u001b[0m\u001b[0;34m\u001b[0m\u001b[0m\n\u001b[0m\u001b[1;32m      7\u001b[0m \u001b[0mx\u001b[0m \u001b[0;34m=\u001b[0m \u001b[0mtel_customer\u001b[0m\u001b[0;34m[\u001b[0m\u001b[0;34m[\u001b[0m\u001b[0;34m'Gender'\u001b[0m\u001b[0;34m,\u001b[0m \u001b[0;34m'Age'\u001b[0m\u001b[0;34m,\u001b[0m \u001b[0;34m'Number of Dependents'\u001b[0m\u001b[0;34m,\u001b[0m \u001b[0;34m'City'\u001b[0m\u001b[0;34m,\u001b[0m \u001b[0;34m'Number of Referrals'\u001b[0m\u001b[0;34m,\u001b[0m \u001b[0;34m'Phone Service'\u001b[0m\u001b[0;34m,\u001b[0m \u001b[0;34m'Internet Service'\u001b[0m\u001b[0;34m,\u001b[0m \u001b[0;34m'Internet Type'\u001b[0m\u001b[0;34m,\u001b[0m \u001b[0;34m'Online Security'\u001b[0m\u001b[0;34m,\u001b[0m \u001b[0;34m'Premium Tech Support'\u001b[0m\u001b[0;34m,\u001b[0m \u001b[0;34m'Streaming Music'\u001b[0m\u001b[0;34m,\u001b[0m \u001b[0;34m'Contract'\u001b[0m\u001b[0;34m,\u001b[0m \u001b[0;34m'Paperless Billing'\u001b[0m\u001b[0;34m,\u001b[0m \u001b[0;34m'Payment Method'\u001b[0m\u001b[0;34m,\u001b[0m \u001b[0;34m'Monthly Charge'\u001b[0m\u001b[0;34m,\u001b[0m \u001b[0;34m'Total Charges'\u001b[0m\u001b[0;34m]\u001b[0m\u001b[0;34m]\u001b[0m\u001b[0;34m\u001b[0m\u001b[0;34m\u001b[0m\u001b[0m\n\u001b[1;32m      8\u001b[0m \u001b[0mx_train\u001b[0m\u001b[0;34m,\u001b[0m\u001b[0mx_test\u001b[0m\u001b[0;34m,\u001b[0m \u001b[0my_train\u001b[0m\u001b[0;34m,\u001b[0m \u001b[0my_test\u001b[0m \u001b[0;34m=\u001b[0m \u001b[0mtrain_test_split\u001b[0m\u001b[0;34m(\u001b[0m\u001b[0mx\u001b[0m\u001b[0;34m,\u001b[0m\u001b[0my\u001b[0m\u001b[0;34m,\u001b[0m \u001b[0mtest_size\u001b[0m\u001b[0;34m=\u001b[0m\u001b[0;36m0.2\u001b[0m\u001b[0;34m)\u001b[0m\u001b[0;34m\u001b[0m\u001b[0;34m\u001b[0m\u001b[0m\n",
            "\u001b[0;31mNameError\u001b[0m: name 'tel_customer' is not defined"
          ]
        }
      ]
    },
    {
      "cell_type": "code",
      "source": [
        "#@title Hypertune XGB Boost\n",
        "from xgboost import XGBClassifier\n",
        "from sklearn.model_selection import GridSearchCV\n",
        "\n",
        "PARAMETERS = {'n_estimators': [400, 700, 1000],\n",
        "    'colsample_bytree': [0.7, 0.8],\n",
        "    'max_depth': [15,20,25],\n",
        "    'reg_alpha': [1.1, 1.2, 1.3],\n",
        "    'reg_lambda': [1.1, 1.2, 1.3],\n",
        "    'subsample': [0.7, 0.8, 0.9]\n",
        "          }\n",
        "XGB_model = XGBClassifier()\n",
        "grid=GridSearchCV(XGB_model,param_grid=PARAMETERS,cv=5,scoring='accuracy')\n",
        "grid.fit(x_train,y_train)\n",
        "print(grid.best_params_)\n"
      ],
      "metadata": {
        "id": "2o1Jlm5VbOV7",
        "colab": {
          "base_uri": "https://localhost:8080/",
          "height": 217
        },
        "outputId": "08f3bb38-5310-4351-db1e-2441fb7a3e7f"
      },
      "execution_count": null,
      "outputs": [
        {
          "output_type": "error",
          "ename": "NameError",
          "evalue": "ignored",
          "traceback": [
            "\u001b[0;31m---------------------------------------------------------------------------\u001b[0m",
            "\u001b[0;31mNameError\u001b[0m                                 Traceback (most recent call last)",
            "\u001b[0;32m<ipython-input-3-6ef446446e79>\u001b[0m in \u001b[0;36m<module>\u001b[0;34m\u001b[0m\n\u001b[1;32m     12\u001b[0m \u001b[0mXGB_model\u001b[0m \u001b[0;34m=\u001b[0m \u001b[0mXGBClassifier\u001b[0m\u001b[0;34m(\u001b[0m\u001b[0;34m)\u001b[0m\u001b[0;34m\u001b[0m\u001b[0;34m\u001b[0m\u001b[0m\n\u001b[1;32m     13\u001b[0m \u001b[0mgrid\u001b[0m\u001b[0;34m=\u001b[0m\u001b[0mGridSearchCV\u001b[0m\u001b[0;34m(\u001b[0m\u001b[0mXGB_model\u001b[0m\u001b[0;34m,\u001b[0m\u001b[0mparam_grid\u001b[0m\u001b[0;34m=\u001b[0m\u001b[0mPARAMETERS\u001b[0m\u001b[0;34m,\u001b[0m\u001b[0mcv\u001b[0m\u001b[0;34m=\u001b[0m\u001b[0;36m5\u001b[0m\u001b[0;34m,\u001b[0m\u001b[0mscoring\u001b[0m\u001b[0;34m=\u001b[0m\u001b[0;34m'accuracy'\u001b[0m\u001b[0;34m)\u001b[0m\u001b[0;34m\u001b[0m\u001b[0;34m\u001b[0m\u001b[0m\n\u001b[0;32m---> 14\u001b[0;31m \u001b[0mgrid\u001b[0m\u001b[0;34m.\u001b[0m\u001b[0mfit\u001b[0m\u001b[0;34m(\u001b[0m\u001b[0mx_train\u001b[0m\u001b[0;34m,\u001b[0m\u001b[0my_train\u001b[0m\u001b[0;34m)\u001b[0m\u001b[0;34m\u001b[0m\u001b[0;34m\u001b[0m\u001b[0m\n\u001b[0m\u001b[1;32m     15\u001b[0m \u001b[0mprint\u001b[0m\u001b[0;34m(\u001b[0m\u001b[0mgrid\u001b[0m\u001b[0;34m.\u001b[0m\u001b[0mbest_params_\u001b[0m\u001b[0;34m)\u001b[0m\u001b[0;34m\u001b[0m\u001b[0;34m\u001b[0m\u001b[0m\n",
            "\u001b[0;31mNameError\u001b[0m: name 'x_train' is not defined"
          ]
        }
      ]
    },
    {
      "cell_type": "code",
      "source": [
        "XGB_model = XGBClassifier(colsample_bytree=0.5, learning_rate= 0.1, max_depth =6,min_child_weight=1,n_estimators=100,subsample=1)\n",
        "\n",
        "\n",
        "XGB_model.fit(x_train,y_train)\n",
        "y_predxgb = XGB_model.predict(x_test)\n",
        "accuracy  = metrics.accuracy_score(y_test,y_predxgb)\n",
        "recall = metrics.recall_score(y_test,y_predxgb)\n",
        "precision = metrics.precision_score(y_test,y_predxgb)\n",
        "f1_score = metrics.f1_score(y_test,y_predxgb)\n",
        "y_pred_proba = XGB_model.predict_proba(x_test)[::,1]\n",
        "ROC_AUC = roc_auc_score(y_test,y_pred_proba)\n",
        "\n",
        "print(f'Model Accuracy = {100*accuracy:0.3} %' )\n",
        "print(f'Model recall = {100*recall:0.3} %' )\n",
        "print(f'Model precision = {100*precision:0.3} %' )\n",
        "print(f'Model f1_score = {100*f1_score:0.3} %' )\n",
        "print(\"ROC_AUC : {:.4f}\".format(ROC_AUC))\n",
        "print('\\n')\n",
        "\n"
      ],
      "metadata": {
        "colab": {
          "base_uri": "https://localhost:8080/"
        },
        "id": "PLf_XMnqguXe",
        "outputId": "fe7c7c26-460d-4f45-b228-fe22dcc07d1e"
      },
      "execution_count": null,
      "outputs": [
        {
          "output_type": "stream",
          "name": "stdout",
          "text": [
            "Model Accuracy = 85.2 %\n",
            "Model recall = 66.2 %\n",
            "Model precision = 74.5 %\n",
            "Model f1_score = 70.1 %\n",
            "ROC_AUC : 0.9083\n",
            "\n",
            "\n"
          ]
        }
      ]
    },
    {
      "cell_type": "code",
      "source": [
        "#@title Logistic Regression Wrapper\n",
        "#importing the necessary libraries\n",
        "from sklearn.linear_model import LogisticRegression\n",
        "from sklearn.feature_selection import SequentialFeatureSelector as SFS\n",
        "\n",
        "# Sequential Forward Selection(sfs)\n",
        "compound=[]\n",
        "for i in range(12,20):\n",
        "  sfs = SFS(LogisticRegression( max_iter=5000),\n",
        "          n_features_to_select=i,\n",
        "          scoring = 'roc_auc'\n",
        "          )\n",
        "\n",
        "  y = tel_customer['Churn Value']\n",
        "  x = tel_customer.drop(['Churn Value'],axis = 1)\n",
        "  sfs.fit(x,y)\n",
        "  print(\"Number of Features is:\",i)\n",
        "  x=list(sfs.get_feature_names_out())\n",
        "  print(x)\n",
        "  compound.append(x)\n",
        "  "
      ],
      "metadata": {
        "colab": {
          "base_uri": "https://localhost:8080/"
        },
        "id": "3-9XAOaYAB-P",
        "outputId": "e8dfc5c2-16fd-4b42-f80e-6be573aaa086"
      },
      "execution_count": null,
      "outputs": [
        {
          "output_type": "stream",
          "name": "stdout",
          "text": [
            "Number of Features is: 12\n",
            "['Age', 'Married', 'Number of Dependents', 'City', 'Number of Referrals', 'Tenure in Months', 'Phone Service', 'Online Security', 'Premium Tech Support', 'Contract', 'Monthly Charge', 'Total Revenue']\n",
            "Number of Features is: 13\n",
            "['Age', 'Married', 'Number of Dependents', 'City', 'Number of Referrals', 'Tenure in Months', 'Phone Service', 'Online Security', 'Premium Tech Support', 'Contract', 'Monthly Charge', 'Total Charges', 'Total Revenue']\n",
            "Number of Features is: 14\n",
            "['Age', 'Married', 'Number of Dependents', 'City', 'Number of Referrals', 'Tenure in Months', 'Phone Service', 'Online Security', 'Premium Tech Support', 'Unlimited Data', 'Contract', 'Monthly Charge', 'Total Charges', 'Total Revenue']\n",
            "Number of Features is: 15\n",
            "['Age', 'Married', 'Number of Dependents', 'City', 'Number of Referrals', 'Tenure in Months', 'Phone Service', 'Multiple Lines', 'Online Security', 'Premium Tech Support', 'Unlimited Data', 'Contract', 'Monthly Charge', 'Total Charges', 'Total Revenue']\n",
            "Number of Features is: 16\n",
            "['Age', 'Married', 'Number of Dependents', 'City', 'Number of Referrals', 'Tenure in Months', 'Phone Service', 'Multiple Lines', 'Online Security', 'Online Backup', 'Premium Tech Support', 'Unlimited Data', 'Contract', 'Monthly Charge', 'Total Charges', 'Total Revenue']\n",
            "Number of Features is: 17\n",
            "['Age', 'Married', 'Number of Dependents', 'City', 'Number of Referrals', 'Tenure in Months', 'Phone Service', 'Multiple Lines', 'Online Security', 'Online Backup', 'Premium Tech Support', 'Unlimited Data', 'Contract', 'Paperless Billing', 'Monthly Charge', 'Total Charges', 'Total Revenue']\n",
            "Number of Features is: 18\n",
            "['Age', 'Married', 'Number of Dependents', 'City', 'Number of Referrals', 'Tenure in Months', 'Offer', 'Phone Service', 'Multiple Lines', 'Online Security', 'Online Backup', 'Premium Tech Support', 'Unlimited Data', 'Contract', 'Paperless Billing', 'Monthly Charge', 'Total Charges', 'Total Revenue']\n",
            "Number of Features is: 19\n",
            "['Age', 'Married', 'Number of Dependents', 'City', 'Number of Referrals', 'Tenure in Months', 'Offer', 'Phone Service', 'Multiple Lines', 'Avg Monthly GB Download', 'Online Security', 'Online Backup', 'Premium Tech Support', 'Unlimited Data', 'Contract', 'Paperless Billing', 'Monthly Charge', 'Total Charges', 'Total Revenue']\n"
          ]
        }
      ]
    },
    {
      "cell_type": "code",
      "source": [
        "#@title Wrapper 25 to 30 Features Evaluation\n",
        "\n",
        "for element in compound:\n",
        "  y = tel_customer['Churn Value']\n",
        "  x = tel_customer[element]\n",
        "  x_train,x_test, y_train, y_test = train_test_split(x,y, test_size=0.2,random_state=42)\n",
        "  Log_Reg_model = LogisticRegression(max_iter=5000)\n",
        "  Log_Reg_model.fit(x_train,y_train)\n",
        "  y_pred = Log_Reg_model.predict(x_test)\n",
        "\n",
        "  accuracy  = metrics.accuracy_score(y_test,y_pred)\n",
        "  recall = metrics.recall_score(y_test,y_pred)\n",
        "  precision = metrics.precision_score(y_test,y_pred)\n",
        "  f1_score = metrics.f1_score(y_test,y_pred)\n",
        "  y_pred_proba = Log_Reg_model.predict_proba(x_test)[::,1]\n",
        "  ROC_AUC = roc_auc_score(y_test,y_pred_proba)\n",
        "\n",
        "  print(\"Number Of features is \",len(element))\n",
        "  print(f'Model Accuracy = {100*accuracy:0.3} %' )\n",
        "  print(f'Model recall = {100*recall:0.3} %' )\n",
        "  print(f'Model precision = {100*precision:0.3} %' )\n",
        "  print(f'Model f1_score = {100*f1_score:0.3} %' )\n",
        "  print(\"ROC_AUC : {:.4f}\".format(ROC_AUC))\n",
        "  print('\\n')\n",
        "\n",
        "\n"
      ],
      "metadata": {
        "colab": {
          "base_uri": "https://localhost:8080/"
        },
        "id": "YUuS-ACxSQL8",
        "outputId": "9e254aaf-db00-4046-e0aa-e9bb7f3a0e40"
      },
      "execution_count": null,
      "outputs": [
        {
          "output_type": "stream",
          "name": "stdout",
          "text": [
            "Number Of features is  12\n",
            "Model Accuracy = 82.7 %\n",
            "Model recall = 66.2 %\n",
            "Model precision = 70.9 %\n",
            "Model f1_score = 68.5 %\n",
            "ROC_AUC : 0.8989\n",
            "\n",
            "\n",
            "Number Of features is  13\n",
            "Model Accuracy = 83.4 %\n",
            "Model recall = 67.2 %\n",
            "Model precision = 72.3 %\n",
            "Model f1_score = 69.7 %\n",
            "ROC_AUC : 0.8978\n",
            "\n",
            "\n",
            "Number Of features is  14\n",
            "Model Accuracy = 82.8 %\n",
            "Model recall = 66.8 %\n",
            "Model precision = 71.0 %\n",
            "Model f1_score = 68.8 %\n",
            "ROC_AUC : 0.8984\n",
            "\n",
            "\n",
            "Number Of features is  15\n",
            "Model Accuracy = 83.0 %\n",
            "Model recall = 66.8 %\n",
            "Model precision = 71.6 %\n",
            "Model f1_score = 69.1 %\n",
            "ROC_AUC : 0.8977\n",
            "\n",
            "\n",
            "Number Of features is  16\n",
            "Model Accuracy = 83.2 %\n",
            "Model recall = 66.0 %\n",
            "Model precision = 72.3 %\n",
            "Model f1_score = 69.0 %\n",
            "ROC_AUC : 0.8988\n",
            "\n",
            "\n",
            "Number Of features is  17\n",
            "Model Accuracy = 83.3 %\n",
            "Model recall = 67.0 %\n",
            "Model precision = 72.2 %\n",
            "Model f1_score = 69.5 %\n",
            "ROC_AUC : 0.9001\n",
            "\n",
            "\n",
            "Number Of features is  18\n",
            "Model Accuracy = 83.5 %\n",
            "Model recall = 68.5 %\n",
            "Model precision = 72.1 %\n",
            "Model f1_score = 70.3 %\n",
            "ROC_AUC : 0.9009\n",
            "\n",
            "\n",
            "Number Of features is  19\n",
            "Model Accuracy = 83.3 %\n",
            "Model recall = 68.0 %\n",
            "Model precision = 71.8 %\n",
            "Model f1_score = 69.8 %\n",
            "ROC_AUC : 0.9010\n",
            "\n",
            "\n"
          ]
        }
      ]
    },
    {
      "cell_type": "code",
      "source": [
        "#@title Logistic Regression Wrapper\n",
        "#importing the necessary libraries\n",
        "from sklearn.linear_model import LogisticRegression\n",
        "from sklearn.feature_selection import SequentialFeatureSelector as SFS\n",
        "\n",
        "# Sequential Forward Selection(sfs)\n",
        "compound=[]\n",
        "for i in range(15,25):\n",
        "  sfs = SFS(LogisticRegression( max_iter=5000),\n",
        "          n_features_to_select=i,\n",
        "          scoring = 'roc_auc'\n",
        "          )\n",
        "\n",
        "  y = tel_customer['Churn Value']\n",
        "  x = tel_customer.drop(['Churn Value'],axis = 1)\n",
        "  sfs.fit(x,y)\n",
        "  print(\"Number of Features is:\",i)\n",
        "  x=list(sfs.get_feature_names_out())\n",
        "  print(x)\n",
        "  compound.append(x)\n",
        "  "
      ],
      "metadata": {
        "colab": {
          "base_uri": "https://localhost:8080/"
        },
        "id": "54aQnB-qS-MP",
        "outputId": "471d3f36-33d9-420f-e155-a0c931c71e8d"
      },
      "execution_count": null,
      "outputs": [
        {
          "metadata": {
            "tags": null
          },
          "name": "stdout",
          "output_type": "stream",
          "text": [
            "Number of Features is: 15\n",
            "['Age', 'Married', 'Number of Dependents', 'City', 'Number of Referrals', 'Tenure in Months', 'Phone Service', 'Multiple Lines', 'Online Security', 'Premium Tech Support', 'Unlimited Data', 'Contract', 'Monthly Charge', 'Total Charges', 'Total Revenue']\n",
            "Number of Features is: 16\n",
            "['Age', 'Married', 'Number of Dependents', 'City', 'Number of Referrals', 'Tenure in Months', 'Phone Service', 'Multiple Lines', 'Online Security', 'Online Backup', 'Premium Tech Support', 'Unlimited Data', 'Contract', 'Monthly Charge', 'Total Charges', 'Total Revenue']\n",
            "Number of Features is: 17\n",
            "['Age', 'Married', 'Number of Dependents', 'City', 'Number of Referrals', 'Tenure in Months', 'Phone Service', 'Multiple Lines', 'Online Security', 'Online Backup', 'Premium Tech Support', 'Unlimited Data', 'Contract', 'Paperless Billing', 'Monthly Charge', 'Total Charges', 'Total Revenue']\n",
            "Number of Features is: 18\n",
            "['Age', 'Married', 'Number of Dependents', 'City', 'Number of Referrals', 'Tenure in Months', 'Offer', 'Phone Service', 'Multiple Lines', 'Online Security', 'Online Backup', 'Premium Tech Support', 'Unlimited Data', 'Contract', 'Paperless Billing', 'Monthly Charge', 'Total Charges', 'Total Revenue']\n",
            "Number of Features is: 19\n",
            "['Age', 'Married', 'Number of Dependents', 'City', 'Number of Referrals', 'Tenure in Months', 'Offer', 'Phone Service', 'Multiple Lines', 'Avg Monthly GB Download', 'Online Security', 'Online Backup', 'Premium Tech Support', 'Unlimited Data', 'Contract', 'Paperless Billing', 'Monthly Charge', 'Total Charges', 'Total Revenue']\n",
            "Number of Features is: 20\n",
            "['Age', 'Married', 'Number of Dependents', 'City', 'Number of Referrals', 'Tenure in Months', 'Offer', 'Phone Service', 'Multiple Lines', 'Internet Type', 'Avg Monthly GB Download', 'Online Security', 'Online Backup', 'Premium Tech Support', 'Unlimited Data', 'Contract', 'Paperless Billing', 'Monthly Charge', 'Total Charges', 'Total Revenue']\n",
            "Number of Features is: 21\n",
            "['Age', 'Married', 'Number of Dependents', 'City', 'Number of Referrals', 'Tenure in Months', 'Offer', 'Phone Service', 'Multiple Lines', 'Internet Service', 'Internet Type', 'Avg Monthly GB Download', 'Online Security', 'Online Backup', 'Premium Tech Support', 'Unlimited Data', 'Contract', 'Paperless Billing', 'Monthly Charge', 'Total Charges', 'Total Revenue']\n"
          ]
        },
        {
          "output_type": "stream",
          "name": "stderr",
          "text": [
            "/usr/local/lib/python3.7/dist-packages/sklearn/linear_model/_logistic.py:818: ConvergenceWarning: lbfgs failed to converge (status=1):\n",
            "STOP: TOTAL NO. of ITERATIONS REACHED LIMIT.\n",
            "\n",
            "Increase the number of iterations (max_iter) or scale the data as shown in:\n",
            "    https://scikit-learn.org/stable/modules/preprocessing.html\n",
            "Please also refer to the documentation for alternative solver options:\n",
            "    https://scikit-learn.org/stable/modules/linear_model.html#logistic-regression\n",
            "  extra_warning_msg=_LOGISTIC_SOLVER_CONVERGENCE_MSG,\n"
          ]
        },
        {
          "output_type": "stream",
          "name": "stdout",
          "text": [
            "Number of Features is: 22\n",
            "['Gender', 'Age', 'Married', 'Number of Dependents', 'City', 'Number of Referrals', 'Tenure in Months', 'Offer', 'Phone Service', 'Multiple Lines', 'Internet Service', 'Internet Type', 'Avg Monthly GB Download', 'Online Security', 'Online Backup', 'Premium Tech Support', 'Unlimited Data', 'Contract', 'Paperless Billing', 'Monthly Charge', 'Total Charges', 'Total Revenue']\n"
          ]
        },
        {
          "output_type": "stream",
          "name": "stderr",
          "text": [
            "/usr/local/lib/python3.7/dist-packages/sklearn/linear_model/_logistic.py:818: ConvergenceWarning: lbfgs failed to converge (status=1):\n",
            "STOP: TOTAL NO. of ITERATIONS REACHED LIMIT.\n",
            "\n",
            "Increase the number of iterations (max_iter) or scale the data as shown in:\n",
            "    https://scikit-learn.org/stable/modules/preprocessing.html\n",
            "Please also refer to the documentation for alternative solver options:\n",
            "    https://scikit-learn.org/stable/modules/linear_model.html#logistic-regression\n",
            "  extra_warning_msg=_LOGISTIC_SOLVER_CONVERGENCE_MSG,\n"
          ]
        },
        {
          "output_type": "stream",
          "name": "stdout",
          "text": [
            "Number of Features is: 23\n",
            "['Gender', 'Age', 'Married', 'Number of Dependents', 'City', 'Number of Referrals', 'Tenure in Months', 'Offer', 'Phone Service', 'Multiple Lines', 'Internet Service', 'Internet Type', 'Avg Monthly GB Download', 'Online Security', 'Online Backup', 'Premium Tech Support', 'Streaming Movies', 'Unlimited Data', 'Contract', 'Paperless Billing', 'Monthly Charge', 'Total Charges', 'Total Revenue']\n"
          ]
        },
        {
          "output_type": "stream",
          "name": "stderr",
          "text": [
            "/usr/local/lib/python3.7/dist-packages/sklearn/linear_model/_logistic.py:818: ConvergenceWarning: lbfgs failed to converge (status=1):\n",
            "STOP: TOTAL NO. of ITERATIONS REACHED LIMIT.\n",
            "\n",
            "Increase the number of iterations (max_iter) or scale the data as shown in:\n",
            "    https://scikit-learn.org/stable/modules/preprocessing.html\n",
            "Please also refer to the documentation for alternative solver options:\n",
            "    https://scikit-learn.org/stable/modules/linear_model.html#logistic-regression\n",
            "  extra_warning_msg=_LOGISTIC_SOLVER_CONVERGENCE_MSG,\n"
          ]
        },
        {
          "output_type": "stream",
          "name": "stdout",
          "text": [
            "Number of Features is: 24\n",
            "['Gender', 'Age', 'Married', 'Number of Dependents', 'City', 'Number of Referrals', 'Tenure in Months', 'Offer', 'Phone Service', 'Multiple Lines', 'Internet Service', 'Internet Type', 'Avg Monthly GB Download', 'Online Security', 'Online Backup', 'Premium Tech Support', 'Streaming Movies', 'Streaming Music', 'Unlimited Data', 'Contract', 'Paperless Billing', 'Monthly Charge', 'Total Charges', 'Total Revenue']\n"
          ]
        }
      ]
    },
    {
      "cell_type": "code",
      "source": [
        "#@title Wrapper 25 to 30 Features Evaluation\n",
        "\n",
        "for element in compound:\n",
        "  y = tel_customer['Churn Value']\n",
        "  x = tel_customer[element]\n",
        "  x_train,x_test, y_train, y_test = train_test_split(x,y, test_size=0.2,random_state=42)\n",
        "  Log_Reg_model = LogisticRegression(max_iter=5000)\n",
        "  Log_Reg_model.fit(x_train,y_train)\n",
        "  y_pred = Log_Reg_model.predict(x_test)\n",
        "\n",
        "  accuracy  = metrics.accuracy_score(y_test,y_pred)\n",
        "  recall = metrics.recall_score(y_test,y_pred)\n",
        "  precision = metrics.precision_score(y_test,y_pred)\n",
        "  f1_score = metrics.f1_score(y_test,y_pred)\n",
        "  y_pred_proba = Log_Reg_model.predict_proba(x_test)[::,1]\n",
        "  ROC_AUC = roc_auc_score(y_test,y_pred_proba)\n",
        "\n",
        "  print(\"Number Of features is \",len(element))\n",
        "  print(f'Model Accuracy = {100*accuracy:0.3} %' )\n",
        "  print(f'Model recall = {100*recall:0.3} %' )\n",
        "  print(f'Model precision = {100*precision:0.3} %' )\n",
        "  print(f'Model f1_score = {100*f1_score:0.3} %' )\n",
        "  print(\"ROC_AUC : {:.4f}\".format(ROC_AUC))\n",
        "  print('\\n')\n",
        "\n",
        "\n"
      ],
      "metadata": {
        "colab": {
          "base_uri": "https://localhost:8080/"
        },
        "id": "WYpvNqsYbj2l",
        "outputId": "4012a6b9-50bb-4bec-ab8b-9bef436eb2f7"
      },
      "execution_count": null,
      "outputs": [
        {
          "output_type": "stream",
          "name": "stdout",
          "text": [
            "Number Of features is  15\n",
            "Model Accuracy = 83.0 %\n",
            "Model recall = 66.8 %\n",
            "Model precision = 71.6 %\n",
            "Model f1_score = 69.1 %\n",
            "ROC_AUC : 0.8977\n",
            "\n",
            "\n",
            "Number Of features is  16\n",
            "Model Accuracy = 83.2 %\n",
            "Model recall = 66.0 %\n",
            "Model precision = 72.3 %\n",
            "Model f1_score = 69.0 %\n",
            "ROC_AUC : 0.8988\n",
            "\n",
            "\n",
            "Number Of features is  17\n",
            "Model Accuracy = 83.3 %\n",
            "Model recall = 67.0 %\n",
            "Model precision = 72.2 %\n",
            "Model f1_score = 69.5 %\n",
            "ROC_AUC : 0.9001\n",
            "\n",
            "\n",
            "Number Of features is  18\n",
            "Model Accuracy = 83.5 %\n",
            "Model recall = 68.5 %\n",
            "Model precision = 72.1 %\n",
            "Model f1_score = 70.3 %\n",
            "ROC_AUC : 0.9009\n",
            "\n",
            "\n",
            "Number Of features is  19\n",
            "Model Accuracy = 83.3 %\n",
            "Model recall = 68.0 %\n",
            "Model precision = 71.8 %\n",
            "Model f1_score = 69.8 %\n",
            "ROC_AUC : 0.9010\n",
            "\n",
            "\n",
            "Number Of features is  20\n",
            "Model Accuracy = 83.3 %\n",
            "Model recall = 69.2 %\n",
            "Model precision = 71.0 %\n",
            "Model f1_score = 70.1 %\n",
            "ROC_AUC : 0.8999\n",
            "\n",
            "\n",
            "Number Of features is  21\n",
            "Model Accuracy = 83.0 %\n",
            "Model recall = 68.2 %\n",
            "Model precision = 70.9 %\n",
            "Model f1_score = 69.6 %\n",
            "ROC_AUC : 0.9002\n",
            "\n",
            "\n",
            "Number Of features is  22\n",
            "Model Accuracy = 83.2 %\n",
            "Model recall = 67.0 %\n",
            "Model precision = 71.8 %\n",
            "Model f1_score = 69.3 %\n",
            "ROC_AUC : 0.9003\n",
            "\n",
            "\n",
            "Number Of features is  23\n",
            "Model Accuracy = 82.7 %\n",
            "Model recall = 67.2 %\n",
            "Model precision = 70.4 %\n",
            "Model f1_score = 68.8 %\n",
            "ROC_AUC : 0.8996\n",
            "\n",
            "\n",
            "Number Of features is  24\n",
            "Model Accuracy = 83.4 %\n",
            "Model recall = 67.5 %\n",
            "Model precision = 72.2 %\n",
            "Model f1_score = 69.8 %\n",
            "ROC_AUC : 0.9002\n",
            "\n",
            "\n"
          ]
        }
      ]
    },
    {
      "cell_type": "code",
      "source": [
        "#@title Logistic Regression Wrapper\n",
        "#importing the necessary libraries\n",
        "from sklearn.linear_model import LogisticRegression\n",
        "from sklearn.feature_selection import SequentialFeatureSelector as SFS\n",
        "\n",
        "# Sequential Forward Selection(sfs)\n",
        "compound=[]\n",
        "for i in range(25,29):\n",
        "  sfs = SFS(LogisticRegression( max_iter=5000),\n",
        "          n_features_to_select=i,\n",
        "          scoring = 'roc_auc'\n",
        "          )\n",
        "\n",
        "  y = tel_customer['Churn Value']\n",
        "  x = tel_customer.drop(['Churn Value'],axis = 1)\n",
        "  sfs.fit(x,y)\n",
        "  print(\"Number of Features is:\",i)\n",
        "  x=list(sfs.get_feature_names_out())\n",
        "  print(x)\n",
        "  compound.append(x)\n",
        "  "
      ],
      "metadata": {
        "colab": {
          "base_uri": "https://localhost:8080/",
          "height": 851
        },
        "id": "2ZMRiBwYb_KD",
        "outputId": "dedeeff9-1c12-4838-f763-694f8915ef9c"
      },
      "execution_count": null,
      "outputs": [
        {
          "output_type": "stream",
          "name": "stderr",
          "text": [
            "/usr/local/lib/python3.7/dist-packages/sklearn/linear_model/_logistic.py:818: ConvergenceWarning: lbfgs failed to converge (status=1):\n",
            "STOP: TOTAL NO. of ITERATIONS REACHED LIMIT.\n",
            "\n",
            "Increase the number of iterations (max_iter) or scale the data as shown in:\n",
            "    https://scikit-learn.org/stable/modules/preprocessing.html\n",
            "Please also refer to the documentation for alternative solver options:\n",
            "    https://scikit-learn.org/stable/modules/linear_model.html#logistic-regression\n",
            "  extra_warning_msg=_LOGISTIC_SOLVER_CONVERGENCE_MSG,\n"
          ]
        },
        {
          "output_type": "stream",
          "name": "stdout",
          "text": [
            "Number of Features is: 25\n",
            "['Gender', 'Age', 'Married', 'Number of Dependents', 'City', 'Number of Referrals', 'Tenure in Months', 'Offer', 'Phone Service', 'Multiple Lines', 'Internet Service', 'Internet Type', 'Avg Monthly GB Download', 'Online Security', 'Online Backup', 'Device Protection Plan', 'Premium Tech Support', 'Streaming Movies', 'Streaming Music', 'Unlimited Data', 'Contract', 'Paperless Billing', 'Monthly Charge', 'Total Charges', 'Total Revenue']\n"
          ]
        },
        {
          "output_type": "stream",
          "name": "stderr",
          "text": [
            "/usr/local/lib/python3.7/dist-packages/sklearn/linear_model/_logistic.py:818: ConvergenceWarning: lbfgs failed to converge (status=1):\n",
            "STOP: TOTAL NO. of ITERATIONS REACHED LIMIT.\n",
            "\n",
            "Increase the number of iterations (max_iter) or scale the data as shown in:\n",
            "    https://scikit-learn.org/stable/modules/preprocessing.html\n",
            "Please also refer to the documentation for alternative solver options:\n",
            "    https://scikit-learn.org/stable/modules/linear_model.html#logistic-regression\n",
            "  extra_warning_msg=_LOGISTIC_SOLVER_CONVERGENCE_MSG,\n",
            "/usr/local/lib/python3.7/dist-packages/sklearn/linear_model/_logistic.py:818: ConvergenceWarning: lbfgs failed to converge (status=1):\n",
            "STOP: TOTAL NO. of ITERATIONS REACHED LIMIT.\n",
            "\n",
            "Increase the number of iterations (max_iter) or scale the data as shown in:\n",
            "    https://scikit-learn.org/stable/modules/preprocessing.html\n",
            "Please also refer to the documentation for alternative solver options:\n",
            "    https://scikit-learn.org/stable/modules/linear_model.html#logistic-regression\n",
            "  extra_warning_msg=_LOGISTIC_SOLVER_CONVERGENCE_MSG,\n"
          ]
        },
        {
          "output_type": "error",
          "ename": "KeyboardInterrupt",
          "evalue": "ignored",
          "traceback": [
            "\u001b[0;31m---------------------------------------------------------------------------\u001b[0m",
            "\u001b[0;31mKeyboardInterrupt\u001b[0m                         Traceback (most recent call last)",
            "\u001b[0;32m<ipython-input-106-7e770dea73bc>\u001b[0m in \u001b[0;36m<module>\u001b[0;34m\u001b[0m\n\u001b[1;32m     14\u001b[0m   \u001b[0my\u001b[0m \u001b[0;34m=\u001b[0m \u001b[0mtel_customer\u001b[0m\u001b[0;34m[\u001b[0m\u001b[0;34m'Churn Value'\u001b[0m\u001b[0;34m]\u001b[0m\u001b[0;34m\u001b[0m\u001b[0;34m\u001b[0m\u001b[0m\n\u001b[1;32m     15\u001b[0m   \u001b[0mx\u001b[0m \u001b[0;34m=\u001b[0m \u001b[0mtel_customer\u001b[0m\u001b[0;34m.\u001b[0m\u001b[0mdrop\u001b[0m\u001b[0;34m(\u001b[0m\u001b[0;34m[\u001b[0m\u001b[0;34m'Churn Value'\u001b[0m\u001b[0;34m]\u001b[0m\u001b[0;34m,\u001b[0m\u001b[0maxis\u001b[0m \u001b[0;34m=\u001b[0m \u001b[0;36m1\u001b[0m\u001b[0;34m)\u001b[0m\u001b[0;34m\u001b[0m\u001b[0;34m\u001b[0m\u001b[0m\n\u001b[0;32m---> 16\u001b[0;31m   \u001b[0msfs\u001b[0m\u001b[0;34m.\u001b[0m\u001b[0mfit\u001b[0m\u001b[0;34m(\u001b[0m\u001b[0mx\u001b[0m\u001b[0;34m,\u001b[0m\u001b[0my\u001b[0m\u001b[0;34m)\u001b[0m\u001b[0;34m\u001b[0m\u001b[0;34m\u001b[0m\u001b[0m\n\u001b[0m\u001b[1;32m     17\u001b[0m   \u001b[0mprint\u001b[0m\u001b[0;34m(\u001b[0m\u001b[0;34m\"Number of Features is:\"\u001b[0m\u001b[0;34m,\u001b[0m\u001b[0mi\u001b[0m\u001b[0;34m)\u001b[0m\u001b[0;34m\u001b[0m\u001b[0;34m\u001b[0m\u001b[0m\n\u001b[1;32m     18\u001b[0m   \u001b[0mx\u001b[0m\u001b[0;34m=\u001b[0m\u001b[0mlist\u001b[0m\u001b[0;34m(\u001b[0m\u001b[0msfs\u001b[0m\u001b[0;34m.\u001b[0m\u001b[0mget_feature_names_out\u001b[0m\u001b[0;34m(\u001b[0m\u001b[0;34m)\u001b[0m\u001b[0;34m)\u001b[0m\u001b[0;34m\u001b[0m\u001b[0;34m\u001b[0m\u001b[0m\n",
            "\u001b[0;32m/usr/local/lib/python3.7/dist-packages/sklearn/feature_selection/_sequential.py\u001b[0m in \u001b[0;36mfit\u001b[0;34m(self, X, y)\u001b[0m\n\u001b[1;32m    208\u001b[0m         \u001b[0;32mfor\u001b[0m \u001b[0m_\u001b[0m \u001b[0;32min\u001b[0m \u001b[0mrange\u001b[0m\u001b[0;34m(\u001b[0m\u001b[0mn_iterations\u001b[0m\u001b[0;34m)\u001b[0m\u001b[0;34m:\u001b[0m\u001b[0;34m\u001b[0m\u001b[0;34m\u001b[0m\u001b[0m\n\u001b[1;32m    209\u001b[0m             new_feature_idx = self._get_best_new_feature(\n\u001b[0;32m--> 210\u001b[0;31m                 \u001b[0mcloned_estimator\u001b[0m\u001b[0;34m,\u001b[0m \u001b[0mX\u001b[0m\u001b[0;34m,\u001b[0m \u001b[0my\u001b[0m\u001b[0;34m,\u001b[0m \u001b[0mcurrent_mask\u001b[0m\u001b[0;34m\u001b[0m\u001b[0;34m\u001b[0m\u001b[0m\n\u001b[0m\u001b[1;32m    211\u001b[0m             )\n\u001b[1;32m    212\u001b[0m             \u001b[0mcurrent_mask\u001b[0m\u001b[0;34m[\u001b[0m\u001b[0mnew_feature_idx\u001b[0m\u001b[0;34m]\u001b[0m \u001b[0;34m=\u001b[0m \u001b[0;32mTrue\u001b[0m\u001b[0;34m\u001b[0m\u001b[0;34m\u001b[0m\u001b[0m\n",
            "\u001b[0;32m/usr/local/lib/python3.7/dist-packages/sklearn/feature_selection/_sequential.py\u001b[0m in \u001b[0;36m_get_best_new_feature\u001b[0;34m(self, estimator, X, y, current_mask)\u001b[0m\n\u001b[1;32m    236\u001b[0m                 \u001b[0mcv\u001b[0m\u001b[0;34m=\u001b[0m\u001b[0mself\u001b[0m\u001b[0;34m.\u001b[0m\u001b[0mcv\u001b[0m\u001b[0;34m,\u001b[0m\u001b[0;34m\u001b[0m\u001b[0;34m\u001b[0m\u001b[0m\n\u001b[1;32m    237\u001b[0m                 \u001b[0mscoring\u001b[0m\u001b[0;34m=\u001b[0m\u001b[0mself\u001b[0m\u001b[0;34m.\u001b[0m\u001b[0mscoring\u001b[0m\u001b[0;34m,\u001b[0m\u001b[0;34m\u001b[0m\u001b[0;34m\u001b[0m\u001b[0m\n\u001b[0;32m--> 238\u001b[0;31m                 \u001b[0mn_jobs\u001b[0m\u001b[0;34m=\u001b[0m\u001b[0mself\u001b[0m\u001b[0;34m.\u001b[0m\u001b[0mn_jobs\u001b[0m\u001b[0;34m,\u001b[0m\u001b[0;34m\u001b[0m\u001b[0;34m\u001b[0m\u001b[0m\n\u001b[0m\u001b[1;32m    239\u001b[0m             ).mean()\n\u001b[1;32m    240\u001b[0m         \u001b[0;32mreturn\u001b[0m \u001b[0mmax\u001b[0m\u001b[0;34m(\u001b[0m\u001b[0mscores\u001b[0m\u001b[0;34m,\u001b[0m \u001b[0mkey\u001b[0m\u001b[0;34m=\u001b[0m\u001b[0;32mlambda\u001b[0m \u001b[0mfeature_idx\u001b[0m\u001b[0;34m:\u001b[0m \u001b[0mscores\u001b[0m\u001b[0;34m[\u001b[0m\u001b[0mfeature_idx\u001b[0m\u001b[0;34m]\u001b[0m\u001b[0;34m)\u001b[0m\u001b[0;34m\u001b[0m\u001b[0;34m\u001b[0m\u001b[0m\n",
            "\u001b[0;32m/usr/local/lib/python3.7/dist-packages/sklearn/model_selection/_validation.py\u001b[0m in \u001b[0;36mcross_val_score\u001b[0;34m(estimator, X, y, groups, scoring, cv, n_jobs, verbose, fit_params, pre_dispatch, error_score)\u001b[0m\n\u001b[1;32m    518\u001b[0m         \u001b[0mfit_params\u001b[0m\u001b[0;34m=\u001b[0m\u001b[0mfit_params\u001b[0m\u001b[0;34m,\u001b[0m\u001b[0;34m\u001b[0m\u001b[0;34m\u001b[0m\u001b[0m\n\u001b[1;32m    519\u001b[0m         \u001b[0mpre_dispatch\u001b[0m\u001b[0;34m=\u001b[0m\u001b[0mpre_dispatch\u001b[0m\u001b[0;34m,\u001b[0m\u001b[0;34m\u001b[0m\u001b[0;34m\u001b[0m\u001b[0m\n\u001b[0;32m--> 520\u001b[0;31m         \u001b[0merror_score\u001b[0m\u001b[0;34m=\u001b[0m\u001b[0merror_score\u001b[0m\u001b[0;34m,\u001b[0m\u001b[0;34m\u001b[0m\u001b[0;34m\u001b[0m\u001b[0m\n\u001b[0m\u001b[1;32m    521\u001b[0m     )\n\u001b[1;32m    522\u001b[0m     \u001b[0;32mreturn\u001b[0m \u001b[0mcv_results\u001b[0m\u001b[0;34m[\u001b[0m\u001b[0;34m\"test_score\"\u001b[0m\u001b[0;34m]\u001b[0m\u001b[0;34m\u001b[0m\u001b[0;34m\u001b[0m\u001b[0m\n",
            "\u001b[0;32m/usr/local/lib/python3.7/dist-packages/sklearn/model_selection/_validation.py\u001b[0m in \u001b[0;36mcross_validate\u001b[0;34m(estimator, X, y, groups, scoring, cv, n_jobs, verbose, fit_params, pre_dispatch, return_train_score, return_estimator, error_score)\u001b[0m\n\u001b[1;32m    281\u001b[0m             \u001b[0merror_score\u001b[0m\u001b[0;34m=\u001b[0m\u001b[0merror_score\u001b[0m\u001b[0;34m,\u001b[0m\u001b[0;34m\u001b[0m\u001b[0;34m\u001b[0m\u001b[0m\n\u001b[1;32m    282\u001b[0m         )\n\u001b[0;32m--> 283\u001b[0;31m         \u001b[0;32mfor\u001b[0m \u001b[0mtrain\u001b[0m\u001b[0;34m,\u001b[0m \u001b[0mtest\u001b[0m \u001b[0;32min\u001b[0m \u001b[0mcv\u001b[0m\u001b[0;34m.\u001b[0m\u001b[0msplit\u001b[0m\u001b[0;34m(\u001b[0m\u001b[0mX\u001b[0m\u001b[0;34m,\u001b[0m \u001b[0my\u001b[0m\u001b[0;34m,\u001b[0m \u001b[0mgroups\u001b[0m\u001b[0;34m)\u001b[0m\u001b[0;34m\u001b[0m\u001b[0;34m\u001b[0m\u001b[0m\n\u001b[0m\u001b[1;32m    284\u001b[0m     )\n\u001b[1;32m    285\u001b[0m \u001b[0;34m\u001b[0m\u001b[0m\n",
            "\u001b[0;32m/usr/local/lib/python3.7/dist-packages/joblib/parallel.py\u001b[0m in \u001b[0;36m__call__\u001b[0;34m(self, iterable)\u001b[0m\n\u001b[1;32m   1044\u001b[0m                 \u001b[0mself\u001b[0m\u001b[0;34m.\u001b[0m\u001b[0m_iterating\u001b[0m \u001b[0;34m=\u001b[0m \u001b[0mself\u001b[0m\u001b[0;34m.\u001b[0m\u001b[0m_original_iterator\u001b[0m \u001b[0;32mis\u001b[0m \u001b[0;32mnot\u001b[0m \u001b[0;32mNone\u001b[0m\u001b[0;34m\u001b[0m\u001b[0;34m\u001b[0m\u001b[0m\n\u001b[1;32m   1045\u001b[0m \u001b[0;34m\u001b[0m\u001b[0m\n\u001b[0;32m-> 1046\u001b[0;31m             \u001b[0;32mwhile\u001b[0m \u001b[0mself\u001b[0m\u001b[0;34m.\u001b[0m\u001b[0mdispatch_one_batch\u001b[0m\u001b[0;34m(\u001b[0m\u001b[0miterator\u001b[0m\u001b[0;34m)\u001b[0m\u001b[0;34m:\u001b[0m\u001b[0;34m\u001b[0m\u001b[0;34m\u001b[0m\u001b[0m\n\u001b[0m\u001b[1;32m   1047\u001b[0m                 \u001b[0;32mpass\u001b[0m\u001b[0;34m\u001b[0m\u001b[0;34m\u001b[0m\u001b[0m\n\u001b[1;32m   1048\u001b[0m \u001b[0;34m\u001b[0m\u001b[0m\n",
            "\u001b[0;32m/usr/local/lib/python3.7/dist-packages/joblib/parallel.py\u001b[0m in \u001b[0;36mdispatch_one_batch\u001b[0;34m(self, iterator)\u001b[0m\n\u001b[1;32m    859\u001b[0m                 \u001b[0;32mreturn\u001b[0m \u001b[0;32mFalse\u001b[0m\u001b[0;34m\u001b[0m\u001b[0;34m\u001b[0m\u001b[0m\n\u001b[1;32m    860\u001b[0m             \u001b[0;32melse\u001b[0m\u001b[0;34m:\u001b[0m\u001b[0;34m\u001b[0m\u001b[0;34m\u001b[0m\u001b[0m\n\u001b[0;32m--> 861\u001b[0;31m                 \u001b[0mself\u001b[0m\u001b[0;34m.\u001b[0m\u001b[0m_dispatch\u001b[0m\u001b[0;34m(\u001b[0m\u001b[0mtasks\u001b[0m\u001b[0;34m)\u001b[0m\u001b[0;34m\u001b[0m\u001b[0;34m\u001b[0m\u001b[0m\n\u001b[0m\u001b[1;32m    862\u001b[0m                 \u001b[0;32mreturn\u001b[0m \u001b[0;32mTrue\u001b[0m\u001b[0;34m\u001b[0m\u001b[0;34m\u001b[0m\u001b[0m\n\u001b[1;32m    863\u001b[0m \u001b[0;34m\u001b[0m\u001b[0m\n",
            "\u001b[0;32m/usr/local/lib/python3.7/dist-packages/joblib/parallel.py\u001b[0m in \u001b[0;36m_dispatch\u001b[0;34m(self, batch)\u001b[0m\n\u001b[1;32m    777\u001b[0m         \u001b[0;32mwith\u001b[0m \u001b[0mself\u001b[0m\u001b[0;34m.\u001b[0m\u001b[0m_lock\u001b[0m\u001b[0;34m:\u001b[0m\u001b[0;34m\u001b[0m\u001b[0;34m\u001b[0m\u001b[0m\n\u001b[1;32m    778\u001b[0m             \u001b[0mjob_idx\u001b[0m \u001b[0;34m=\u001b[0m \u001b[0mlen\u001b[0m\u001b[0;34m(\u001b[0m\u001b[0mself\u001b[0m\u001b[0;34m.\u001b[0m\u001b[0m_jobs\u001b[0m\u001b[0;34m)\u001b[0m\u001b[0;34m\u001b[0m\u001b[0;34m\u001b[0m\u001b[0m\n\u001b[0;32m--> 779\u001b[0;31m             \u001b[0mjob\u001b[0m \u001b[0;34m=\u001b[0m \u001b[0mself\u001b[0m\u001b[0;34m.\u001b[0m\u001b[0m_backend\u001b[0m\u001b[0;34m.\u001b[0m\u001b[0mapply_async\u001b[0m\u001b[0;34m(\u001b[0m\u001b[0mbatch\u001b[0m\u001b[0;34m,\u001b[0m \u001b[0mcallback\u001b[0m\u001b[0;34m=\u001b[0m\u001b[0mcb\u001b[0m\u001b[0;34m)\u001b[0m\u001b[0;34m\u001b[0m\u001b[0;34m\u001b[0m\u001b[0m\n\u001b[0m\u001b[1;32m    780\u001b[0m             \u001b[0;31m# A job can complete so quickly than its callback is\u001b[0m\u001b[0;34m\u001b[0m\u001b[0;34m\u001b[0m\u001b[0;34m\u001b[0m\u001b[0m\n\u001b[1;32m    781\u001b[0m             \u001b[0;31m# called before we get here, causing self._jobs to\u001b[0m\u001b[0;34m\u001b[0m\u001b[0;34m\u001b[0m\u001b[0;34m\u001b[0m\u001b[0m\n",
            "\u001b[0;32m/usr/local/lib/python3.7/dist-packages/joblib/_parallel_backends.py\u001b[0m in \u001b[0;36mapply_async\u001b[0;34m(self, func, callback)\u001b[0m\n\u001b[1;32m    206\u001b[0m     \u001b[0;32mdef\u001b[0m \u001b[0mapply_async\u001b[0m\u001b[0;34m(\u001b[0m\u001b[0mself\u001b[0m\u001b[0;34m,\u001b[0m \u001b[0mfunc\u001b[0m\u001b[0;34m,\u001b[0m \u001b[0mcallback\u001b[0m\u001b[0;34m=\u001b[0m\u001b[0;32mNone\u001b[0m\u001b[0;34m)\u001b[0m\u001b[0;34m:\u001b[0m\u001b[0;34m\u001b[0m\u001b[0;34m\u001b[0m\u001b[0m\n\u001b[1;32m    207\u001b[0m         \u001b[0;34m\"\"\"Schedule a func to be run\"\"\"\u001b[0m\u001b[0;34m\u001b[0m\u001b[0;34m\u001b[0m\u001b[0m\n\u001b[0;32m--> 208\u001b[0;31m         \u001b[0mresult\u001b[0m \u001b[0;34m=\u001b[0m \u001b[0mImmediateResult\u001b[0m\u001b[0;34m(\u001b[0m\u001b[0mfunc\u001b[0m\u001b[0;34m)\u001b[0m\u001b[0;34m\u001b[0m\u001b[0;34m\u001b[0m\u001b[0m\n\u001b[0m\u001b[1;32m    209\u001b[0m         \u001b[0;32mif\u001b[0m \u001b[0mcallback\u001b[0m\u001b[0;34m:\u001b[0m\u001b[0;34m\u001b[0m\u001b[0;34m\u001b[0m\u001b[0m\n\u001b[1;32m    210\u001b[0m             \u001b[0mcallback\u001b[0m\u001b[0;34m(\u001b[0m\u001b[0mresult\u001b[0m\u001b[0;34m)\u001b[0m\u001b[0;34m\u001b[0m\u001b[0;34m\u001b[0m\u001b[0m\n",
            "\u001b[0;32m/usr/local/lib/python3.7/dist-packages/joblib/_parallel_backends.py\u001b[0m in \u001b[0;36m__init__\u001b[0;34m(self, batch)\u001b[0m\n\u001b[1;32m    570\u001b[0m         \u001b[0;31m# Don't delay the application, to avoid keeping the input\u001b[0m\u001b[0;34m\u001b[0m\u001b[0;34m\u001b[0m\u001b[0;34m\u001b[0m\u001b[0m\n\u001b[1;32m    571\u001b[0m         \u001b[0;31m# arguments in memory\u001b[0m\u001b[0;34m\u001b[0m\u001b[0;34m\u001b[0m\u001b[0;34m\u001b[0m\u001b[0m\n\u001b[0;32m--> 572\u001b[0;31m         \u001b[0mself\u001b[0m\u001b[0;34m.\u001b[0m\u001b[0mresults\u001b[0m \u001b[0;34m=\u001b[0m \u001b[0mbatch\u001b[0m\u001b[0;34m(\u001b[0m\u001b[0;34m)\u001b[0m\u001b[0;34m\u001b[0m\u001b[0;34m\u001b[0m\u001b[0m\n\u001b[0m\u001b[1;32m    573\u001b[0m \u001b[0;34m\u001b[0m\u001b[0m\n\u001b[1;32m    574\u001b[0m     \u001b[0;32mdef\u001b[0m \u001b[0mget\u001b[0m\u001b[0;34m(\u001b[0m\u001b[0mself\u001b[0m\u001b[0;34m)\u001b[0m\u001b[0;34m:\u001b[0m\u001b[0;34m\u001b[0m\u001b[0;34m\u001b[0m\u001b[0m\n",
            "\u001b[0;32m/usr/local/lib/python3.7/dist-packages/joblib/parallel.py\u001b[0m in \u001b[0;36m__call__\u001b[0;34m(self)\u001b[0m\n\u001b[1;32m    261\u001b[0m         \u001b[0;32mwith\u001b[0m \u001b[0mparallel_backend\u001b[0m\u001b[0;34m(\u001b[0m\u001b[0mself\u001b[0m\u001b[0;34m.\u001b[0m\u001b[0m_backend\u001b[0m\u001b[0;34m,\u001b[0m \u001b[0mn_jobs\u001b[0m\u001b[0;34m=\u001b[0m\u001b[0mself\u001b[0m\u001b[0;34m.\u001b[0m\u001b[0m_n_jobs\u001b[0m\u001b[0;34m)\u001b[0m\u001b[0;34m:\u001b[0m\u001b[0;34m\u001b[0m\u001b[0;34m\u001b[0m\u001b[0m\n\u001b[1;32m    262\u001b[0m             return [func(*args, **kwargs)\n\u001b[0;32m--> 263\u001b[0;31m                     for func, args, kwargs in self.items]\n\u001b[0m\u001b[1;32m    264\u001b[0m \u001b[0;34m\u001b[0m\u001b[0m\n\u001b[1;32m    265\u001b[0m     \u001b[0;32mdef\u001b[0m \u001b[0m__reduce__\u001b[0m\u001b[0;34m(\u001b[0m\u001b[0mself\u001b[0m\u001b[0;34m)\u001b[0m\u001b[0;34m:\u001b[0m\u001b[0;34m\u001b[0m\u001b[0;34m\u001b[0m\u001b[0m\n",
            "\u001b[0;32m/usr/local/lib/python3.7/dist-packages/joblib/parallel.py\u001b[0m in \u001b[0;36m<listcomp>\u001b[0;34m(.0)\u001b[0m\n\u001b[1;32m    261\u001b[0m         \u001b[0;32mwith\u001b[0m \u001b[0mparallel_backend\u001b[0m\u001b[0;34m(\u001b[0m\u001b[0mself\u001b[0m\u001b[0;34m.\u001b[0m\u001b[0m_backend\u001b[0m\u001b[0;34m,\u001b[0m \u001b[0mn_jobs\u001b[0m\u001b[0;34m=\u001b[0m\u001b[0mself\u001b[0m\u001b[0;34m.\u001b[0m\u001b[0m_n_jobs\u001b[0m\u001b[0;34m)\u001b[0m\u001b[0;34m:\u001b[0m\u001b[0;34m\u001b[0m\u001b[0;34m\u001b[0m\u001b[0m\n\u001b[1;32m    262\u001b[0m             return [func(*args, **kwargs)\n\u001b[0;32m--> 263\u001b[0;31m                     for func, args, kwargs in self.items]\n\u001b[0m\u001b[1;32m    264\u001b[0m \u001b[0;34m\u001b[0m\u001b[0m\n\u001b[1;32m    265\u001b[0m     \u001b[0;32mdef\u001b[0m \u001b[0m__reduce__\u001b[0m\u001b[0;34m(\u001b[0m\u001b[0mself\u001b[0m\u001b[0;34m)\u001b[0m\u001b[0;34m:\u001b[0m\u001b[0;34m\u001b[0m\u001b[0;34m\u001b[0m\u001b[0m\n",
            "\u001b[0;32m/usr/local/lib/python3.7/dist-packages/sklearn/utils/fixes.py\u001b[0m in \u001b[0;36m__call__\u001b[0;34m(self, *args, **kwargs)\u001b[0m\n\u001b[1;32m    214\u001b[0m     \u001b[0;32mdef\u001b[0m \u001b[0m__call__\u001b[0m\u001b[0;34m(\u001b[0m\u001b[0mself\u001b[0m\u001b[0;34m,\u001b[0m \u001b[0;34m*\u001b[0m\u001b[0margs\u001b[0m\u001b[0;34m,\u001b[0m \u001b[0;34m**\u001b[0m\u001b[0mkwargs\u001b[0m\u001b[0;34m)\u001b[0m\u001b[0;34m:\u001b[0m\u001b[0;34m\u001b[0m\u001b[0;34m\u001b[0m\u001b[0m\n\u001b[1;32m    215\u001b[0m         \u001b[0;32mwith\u001b[0m \u001b[0mconfig_context\u001b[0m\u001b[0;34m(\u001b[0m\u001b[0;34m**\u001b[0m\u001b[0mself\u001b[0m\u001b[0;34m.\u001b[0m\u001b[0mconfig\u001b[0m\u001b[0;34m)\u001b[0m\u001b[0;34m:\u001b[0m\u001b[0;34m\u001b[0m\u001b[0;34m\u001b[0m\u001b[0m\n\u001b[0;32m--> 216\u001b[0;31m             \u001b[0;32mreturn\u001b[0m \u001b[0mself\u001b[0m\u001b[0;34m.\u001b[0m\u001b[0mfunction\u001b[0m\u001b[0;34m(\u001b[0m\u001b[0;34m*\u001b[0m\u001b[0margs\u001b[0m\u001b[0;34m,\u001b[0m \u001b[0;34m**\u001b[0m\u001b[0mkwargs\u001b[0m\u001b[0;34m)\u001b[0m\u001b[0;34m\u001b[0m\u001b[0;34m\u001b[0m\u001b[0m\n\u001b[0m\u001b[1;32m    217\u001b[0m \u001b[0;34m\u001b[0m\u001b[0m\n\u001b[1;32m    218\u001b[0m \u001b[0;34m\u001b[0m\u001b[0m\n",
            "\u001b[0;32m/usr/local/lib/python3.7/dist-packages/sklearn/model_selection/_validation.py\u001b[0m in \u001b[0;36m_fit_and_score\u001b[0;34m(estimator, X, y, scorer, train, test, verbose, parameters, fit_params, return_train_score, return_parameters, return_n_test_samples, return_times, return_estimator, split_progress, candidate_progress, error_score)\u001b[0m\n\u001b[1;32m    678\u001b[0m             \u001b[0mestimator\u001b[0m\u001b[0;34m.\u001b[0m\u001b[0mfit\u001b[0m\u001b[0;34m(\u001b[0m\u001b[0mX_train\u001b[0m\u001b[0;34m,\u001b[0m \u001b[0;34m**\u001b[0m\u001b[0mfit_params\u001b[0m\u001b[0;34m)\u001b[0m\u001b[0;34m\u001b[0m\u001b[0;34m\u001b[0m\u001b[0m\n\u001b[1;32m    679\u001b[0m         \u001b[0;32melse\u001b[0m\u001b[0;34m:\u001b[0m\u001b[0;34m\u001b[0m\u001b[0;34m\u001b[0m\u001b[0m\n\u001b[0;32m--> 680\u001b[0;31m             \u001b[0mestimator\u001b[0m\u001b[0;34m.\u001b[0m\u001b[0mfit\u001b[0m\u001b[0;34m(\u001b[0m\u001b[0mX_train\u001b[0m\u001b[0;34m,\u001b[0m \u001b[0my_train\u001b[0m\u001b[0;34m,\u001b[0m \u001b[0;34m**\u001b[0m\u001b[0mfit_params\u001b[0m\u001b[0;34m)\u001b[0m\u001b[0;34m\u001b[0m\u001b[0;34m\u001b[0m\u001b[0m\n\u001b[0m\u001b[1;32m    681\u001b[0m \u001b[0;34m\u001b[0m\u001b[0m\n\u001b[1;32m    682\u001b[0m     \u001b[0;32mexcept\u001b[0m \u001b[0mException\u001b[0m\u001b[0;34m:\u001b[0m\u001b[0;34m\u001b[0m\u001b[0;34m\u001b[0m\u001b[0m\n",
            "\u001b[0;32m/usr/local/lib/python3.7/dist-packages/sklearn/linear_model/_logistic.py\u001b[0m in \u001b[0;36mfit\u001b[0;34m(self, X, y, sample_weight)\u001b[0m\n\u001b[1;32m   1612\u001b[0m                 \u001b[0msample_weight\u001b[0m\u001b[0;34m=\u001b[0m\u001b[0msample_weight\u001b[0m\u001b[0;34m,\u001b[0m\u001b[0;34m\u001b[0m\u001b[0;34m\u001b[0m\u001b[0m\n\u001b[1;32m   1613\u001b[0m             )\n\u001b[0;32m-> 1614\u001b[0;31m             \u001b[0;32mfor\u001b[0m \u001b[0mclass_\u001b[0m\u001b[0;34m,\u001b[0m \u001b[0mwarm_start_coef_\u001b[0m \u001b[0;32min\u001b[0m \u001b[0mzip\u001b[0m\u001b[0;34m(\u001b[0m\u001b[0mclasses_\u001b[0m\u001b[0;34m,\u001b[0m \u001b[0mwarm_start_coef\u001b[0m\u001b[0;34m)\u001b[0m\u001b[0;34m\u001b[0m\u001b[0;34m\u001b[0m\u001b[0m\n\u001b[0m\u001b[1;32m   1615\u001b[0m         )\n\u001b[1;32m   1616\u001b[0m \u001b[0;34m\u001b[0m\u001b[0m\n",
            "\u001b[0;32m/usr/local/lib/python3.7/dist-packages/joblib/parallel.py\u001b[0m in \u001b[0;36m__call__\u001b[0;34m(self, iterable)\u001b[0m\n\u001b[1;32m   1041\u001b[0m             \u001b[0;31m# remaining jobs.\u001b[0m\u001b[0;34m\u001b[0m\u001b[0;34m\u001b[0m\u001b[0;34m\u001b[0m\u001b[0m\n\u001b[1;32m   1042\u001b[0m             \u001b[0mself\u001b[0m\u001b[0;34m.\u001b[0m\u001b[0m_iterating\u001b[0m \u001b[0;34m=\u001b[0m \u001b[0;32mFalse\u001b[0m\u001b[0;34m\u001b[0m\u001b[0;34m\u001b[0m\u001b[0m\n\u001b[0;32m-> 1043\u001b[0;31m             \u001b[0;32mif\u001b[0m \u001b[0mself\u001b[0m\u001b[0;34m.\u001b[0m\u001b[0mdispatch_one_batch\u001b[0m\u001b[0;34m(\u001b[0m\u001b[0miterator\u001b[0m\u001b[0;34m)\u001b[0m\u001b[0;34m:\u001b[0m\u001b[0;34m\u001b[0m\u001b[0;34m\u001b[0m\u001b[0m\n\u001b[0m\u001b[1;32m   1044\u001b[0m                 \u001b[0mself\u001b[0m\u001b[0;34m.\u001b[0m\u001b[0m_iterating\u001b[0m \u001b[0;34m=\u001b[0m \u001b[0mself\u001b[0m\u001b[0;34m.\u001b[0m\u001b[0m_original_iterator\u001b[0m \u001b[0;32mis\u001b[0m \u001b[0;32mnot\u001b[0m \u001b[0;32mNone\u001b[0m\u001b[0;34m\u001b[0m\u001b[0;34m\u001b[0m\u001b[0m\n\u001b[1;32m   1045\u001b[0m \u001b[0;34m\u001b[0m\u001b[0m\n",
            "\u001b[0;32m/usr/local/lib/python3.7/dist-packages/joblib/parallel.py\u001b[0m in \u001b[0;36mdispatch_one_batch\u001b[0;34m(self, iterator)\u001b[0m\n\u001b[1;32m    859\u001b[0m                 \u001b[0;32mreturn\u001b[0m \u001b[0;32mFalse\u001b[0m\u001b[0;34m\u001b[0m\u001b[0;34m\u001b[0m\u001b[0m\n\u001b[1;32m    860\u001b[0m             \u001b[0;32melse\u001b[0m\u001b[0;34m:\u001b[0m\u001b[0;34m\u001b[0m\u001b[0;34m\u001b[0m\u001b[0m\n\u001b[0;32m--> 861\u001b[0;31m                 \u001b[0mself\u001b[0m\u001b[0;34m.\u001b[0m\u001b[0m_dispatch\u001b[0m\u001b[0;34m(\u001b[0m\u001b[0mtasks\u001b[0m\u001b[0;34m)\u001b[0m\u001b[0;34m\u001b[0m\u001b[0;34m\u001b[0m\u001b[0m\n\u001b[0m\u001b[1;32m    862\u001b[0m                 \u001b[0;32mreturn\u001b[0m \u001b[0;32mTrue\u001b[0m\u001b[0;34m\u001b[0m\u001b[0;34m\u001b[0m\u001b[0m\n\u001b[1;32m    863\u001b[0m \u001b[0;34m\u001b[0m\u001b[0m\n",
            "\u001b[0;32m/usr/local/lib/python3.7/dist-packages/joblib/parallel.py\u001b[0m in \u001b[0;36m_dispatch\u001b[0;34m(self, batch)\u001b[0m\n\u001b[1;32m    777\u001b[0m         \u001b[0;32mwith\u001b[0m \u001b[0mself\u001b[0m\u001b[0;34m.\u001b[0m\u001b[0m_lock\u001b[0m\u001b[0;34m:\u001b[0m\u001b[0;34m\u001b[0m\u001b[0;34m\u001b[0m\u001b[0m\n\u001b[1;32m    778\u001b[0m             \u001b[0mjob_idx\u001b[0m \u001b[0;34m=\u001b[0m \u001b[0mlen\u001b[0m\u001b[0;34m(\u001b[0m\u001b[0mself\u001b[0m\u001b[0;34m.\u001b[0m\u001b[0m_jobs\u001b[0m\u001b[0;34m)\u001b[0m\u001b[0;34m\u001b[0m\u001b[0;34m\u001b[0m\u001b[0m\n\u001b[0;32m--> 779\u001b[0;31m             \u001b[0mjob\u001b[0m \u001b[0;34m=\u001b[0m \u001b[0mself\u001b[0m\u001b[0;34m.\u001b[0m\u001b[0m_backend\u001b[0m\u001b[0;34m.\u001b[0m\u001b[0mapply_async\u001b[0m\u001b[0;34m(\u001b[0m\u001b[0mbatch\u001b[0m\u001b[0;34m,\u001b[0m \u001b[0mcallback\u001b[0m\u001b[0;34m=\u001b[0m\u001b[0mcb\u001b[0m\u001b[0;34m)\u001b[0m\u001b[0;34m\u001b[0m\u001b[0;34m\u001b[0m\u001b[0m\n\u001b[0m\u001b[1;32m    780\u001b[0m             \u001b[0;31m# A job can complete so quickly than its callback is\u001b[0m\u001b[0;34m\u001b[0m\u001b[0;34m\u001b[0m\u001b[0;34m\u001b[0m\u001b[0m\n\u001b[1;32m    781\u001b[0m             \u001b[0;31m# called before we get here, causing self._jobs to\u001b[0m\u001b[0;34m\u001b[0m\u001b[0;34m\u001b[0m\u001b[0;34m\u001b[0m\u001b[0m\n",
            "\u001b[0;32m/usr/local/lib/python3.7/dist-packages/joblib/_parallel_backends.py\u001b[0m in \u001b[0;36mapply_async\u001b[0;34m(self, func, callback)\u001b[0m\n\u001b[1;32m    206\u001b[0m     \u001b[0;32mdef\u001b[0m \u001b[0mapply_async\u001b[0m\u001b[0;34m(\u001b[0m\u001b[0mself\u001b[0m\u001b[0;34m,\u001b[0m \u001b[0mfunc\u001b[0m\u001b[0;34m,\u001b[0m \u001b[0mcallback\u001b[0m\u001b[0;34m=\u001b[0m\u001b[0;32mNone\u001b[0m\u001b[0;34m)\u001b[0m\u001b[0;34m:\u001b[0m\u001b[0;34m\u001b[0m\u001b[0;34m\u001b[0m\u001b[0m\n\u001b[1;32m    207\u001b[0m         \u001b[0;34m\"\"\"Schedule a func to be run\"\"\"\u001b[0m\u001b[0;34m\u001b[0m\u001b[0;34m\u001b[0m\u001b[0m\n\u001b[0;32m--> 208\u001b[0;31m         \u001b[0mresult\u001b[0m \u001b[0;34m=\u001b[0m \u001b[0mImmediateResult\u001b[0m\u001b[0;34m(\u001b[0m\u001b[0mfunc\u001b[0m\u001b[0;34m)\u001b[0m\u001b[0;34m\u001b[0m\u001b[0;34m\u001b[0m\u001b[0m\n\u001b[0m\u001b[1;32m    209\u001b[0m         \u001b[0;32mif\u001b[0m \u001b[0mcallback\u001b[0m\u001b[0;34m:\u001b[0m\u001b[0;34m\u001b[0m\u001b[0;34m\u001b[0m\u001b[0m\n\u001b[1;32m    210\u001b[0m             \u001b[0mcallback\u001b[0m\u001b[0;34m(\u001b[0m\u001b[0mresult\u001b[0m\u001b[0;34m)\u001b[0m\u001b[0;34m\u001b[0m\u001b[0;34m\u001b[0m\u001b[0m\n",
            "\u001b[0;32m/usr/local/lib/python3.7/dist-packages/joblib/_parallel_backends.py\u001b[0m in \u001b[0;36m__init__\u001b[0;34m(self, batch)\u001b[0m\n\u001b[1;32m    570\u001b[0m         \u001b[0;31m# Don't delay the application, to avoid keeping the input\u001b[0m\u001b[0;34m\u001b[0m\u001b[0;34m\u001b[0m\u001b[0;34m\u001b[0m\u001b[0m\n\u001b[1;32m    571\u001b[0m         \u001b[0;31m# arguments in memory\u001b[0m\u001b[0;34m\u001b[0m\u001b[0;34m\u001b[0m\u001b[0;34m\u001b[0m\u001b[0m\n\u001b[0;32m--> 572\u001b[0;31m         \u001b[0mself\u001b[0m\u001b[0;34m.\u001b[0m\u001b[0mresults\u001b[0m \u001b[0;34m=\u001b[0m \u001b[0mbatch\u001b[0m\u001b[0;34m(\u001b[0m\u001b[0;34m)\u001b[0m\u001b[0;34m\u001b[0m\u001b[0;34m\u001b[0m\u001b[0m\n\u001b[0m\u001b[1;32m    573\u001b[0m \u001b[0;34m\u001b[0m\u001b[0m\n\u001b[1;32m    574\u001b[0m     \u001b[0;32mdef\u001b[0m \u001b[0mget\u001b[0m\u001b[0;34m(\u001b[0m\u001b[0mself\u001b[0m\u001b[0;34m)\u001b[0m\u001b[0;34m:\u001b[0m\u001b[0;34m\u001b[0m\u001b[0;34m\u001b[0m\u001b[0m\n",
            "\u001b[0;32m/usr/local/lib/python3.7/dist-packages/joblib/parallel.py\u001b[0m in \u001b[0;36m__call__\u001b[0;34m(self)\u001b[0m\n\u001b[1;32m    261\u001b[0m         \u001b[0;32mwith\u001b[0m \u001b[0mparallel_backend\u001b[0m\u001b[0;34m(\u001b[0m\u001b[0mself\u001b[0m\u001b[0;34m.\u001b[0m\u001b[0m_backend\u001b[0m\u001b[0;34m,\u001b[0m \u001b[0mn_jobs\u001b[0m\u001b[0;34m=\u001b[0m\u001b[0mself\u001b[0m\u001b[0;34m.\u001b[0m\u001b[0m_n_jobs\u001b[0m\u001b[0;34m)\u001b[0m\u001b[0;34m:\u001b[0m\u001b[0;34m\u001b[0m\u001b[0;34m\u001b[0m\u001b[0m\n\u001b[1;32m    262\u001b[0m             return [func(*args, **kwargs)\n\u001b[0;32m--> 263\u001b[0;31m                     for func, args, kwargs in self.items]\n\u001b[0m\u001b[1;32m    264\u001b[0m \u001b[0;34m\u001b[0m\u001b[0m\n\u001b[1;32m    265\u001b[0m     \u001b[0;32mdef\u001b[0m \u001b[0m__reduce__\u001b[0m\u001b[0;34m(\u001b[0m\u001b[0mself\u001b[0m\u001b[0;34m)\u001b[0m\u001b[0;34m:\u001b[0m\u001b[0;34m\u001b[0m\u001b[0;34m\u001b[0m\u001b[0m\n",
            "\u001b[0;32m/usr/local/lib/python3.7/dist-packages/joblib/parallel.py\u001b[0m in \u001b[0;36m<listcomp>\u001b[0;34m(.0)\u001b[0m\n\u001b[1;32m    261\u001b[0m         \u001b[0;32mwith\u001b[0m \u001b[0mparallel_backend\u001b[0m\u001b[0;34m(\u001b[0m\u001b[0mself\u001b[0m\u001b[0;34m.\u001b[0m\u001b[0m_backend\u001b[0m\u001b[0;34m,\u001b[0m \u001b[0mn_jobs\u001b[0m\u001b[0;34m=\u001b[0m\u001b[0mself\u001b[0m\u001b[0;34m.\u001b[0m\u001b[0m_n_jobs\u001b[0m\u001b[0;34m)\u001b[0m\u001b[0;34m:\u001b[0m\u001b[0;34m\u001b[0m\u001b[0;34m\u001b[0m\u001b[0m\n\u001b[1;32m    262\u001b[0m             return [func(*args, **kwargs)\n\u001b[0;32m--> 263\u001b[0;31m                     for func, args, kwargs in self.items]\n\u001b[0m\u001b[1;32m    264\u001b[0m \u001b[0;34m\u001b[0m\u001b[0m\n\u001b[1;32m    265\u001b[0m     \u001b[0;32mdef\u001b[0m \u001b[0m__reduce__\u001b[0m\u001b[0;34m(\u001b[0m\u001b[0mself\u001b[0m\u001b[0;34m)\u001b[0m\u001b[0;34m:\u001b[0m\u001b[0;34m\u001b[0m\u001b[0;34m\u001b[0m\u001b[0m\n",
            "\u001b[0;32m/usr/local/lib/python3.7/dist-packages/sklearn/utils/fixes.py\u001b[0m in \u001b[0;36m__call__\u001b[0;34m(self, *args, **kwargs)\u001b[0m\n\u001b[1;32m    214\u001b[0m     \u001b[0;32mdef\u001b[0m \u001b[0m__call__\u001b[0m\u001b[0;34m(\u001b[0m\u001b[0mself\u001b[0m\u001b[0;34m,\u001b[0m \u001b[0;34m*\u001b[0m\u001b[0margs\u001b[0m\u001b[0;34m,\u001b[0m \u001b[0;34m**\u001b[0m\u001b[0mkwargs\u001b[0m\u001b[0;34m)\u001b[0m\u001b[0;34m:\u001b[0m\u001b[0;34m\u001b[0m\u001b[0;34m\u001b[0m\u001b[0m\n\u001b[1;32m    215\u001b[0m         \u001b[0;32mwith\u001b[0m \u001b[0mconfig_context\u001b[0m\u001b[0;34m(\u001b[0m\u001b[0;34m**\u001b[0m\u001b[0mself\u001b[0m\u001b[0;34m.\u001b[0m\u001b[0mconfig\u001b[0m\u001b[0;34m)\u001b[0m\u001b[0;34m:\u001b[0m\u001b[0;34m\u001b[0m\u001b[0;34m\u001b[0m\u001b[0m\n\u001b[0;32m--> 216\u001b[0;31m             \u001b[0;32mreturn\u001b[0m \u001b[0mself\u001b[0m\u001b[0;34m.\u001b[0m\u001b[0mfunction\u001b[0m\u001b[0;34m(\u001b[0m\u001b[0;34m*\u001b[0m\u001b[0margs\u001b[0m\u001b[0;34m,\u001b[0m \u001b[0;34m**\u001b[0m\u001b[0mkwargs\u001b[0m\u001b[0;34m)\u001b[0m\u001b[0;34m\u001b[0m\u001b[0;34m\u001b[0m\u001b[0m\n\u001b[0m\u001b[1;32m    217\u001b[0m \u001b[0;34m\u001b[0m\u001b[0m\n\u001b[1;32m    218\u001b[0m \u001b[0;34m\u001b[0m\u001b[0m\n",
            "\u001b[0;32m/usr/local/lib/python3.7/dist-packages/sklearn/linear_model/_logistic.py\u001b[0m in \u001b[0;36m_logistic_regression_path\u001b[0;34m(X, y, pos_class, Cs, fit_intercept, max_iter, tol, verbose, solver, coef, class_weight, dual, penalty, intercept_scaling, multi_class, random_state, check_input, max_squared_sum, sample_weight, l1_ratio)\u001b[0m\n\u001b[1;32m    810\u001b[0m                 \u001b[0mjac\u001b[0m\u001b[0;34m=\u001b[0m\u001b[0;32mTrue\u001b[0m\u001b[0;34m,\u001b[0m\u001b[0;34m\u001b[0m\u001b[0;34m\u001b[0m\u001b[0m\n\u001b[1;32m    811\u001b[0m                 \u001b[0margs\u001b[0m\u001b[0;34m=\u001b[0m\u001b[0;34m(\u001b[0m\u001b[0mX\u001b[0m\u001b[0;34m,\u001b[0m \u001b[0mtarget\u001b[0m\u001b[0;34m,\u001b[0m \u001b[0;36m1.0\u001b[0m \u001b[0;34m/\u001b[0m \u001b[0mC\u001b[0m\u001b[0;34m,\u001b[0m \u001b[0msample_weight\u001b[0m\u001b[0;34m)\u001b[0m\u001b[0;34m,\u001b[0m\u001b[0;34m\u001b[0m\u001b[0;34m\u001b[0m\u001b[0m\n\u001b[0;32m--> 812\u001b[0;31m                 \u001b[0moptions\u001b[0m\u001b[0;34m=\u001b[0m\u001b[0;34m{\u001b[0m\u001b[0;34m\"iprint\"\u001b[0m\u001b[0;34m:\u001b[0m \u001b[0miprint\u001b[0m\u001b[0;34m,\u001b[0m \u001b[0;34m\"gtol\"\u001b[0m\u001b[0;34m:\u001b[0m \u001b[0mtol\u001b[0m\u001b[0;34m,\u001b[0m \u001b[0;34m\"maxiter\"\u001b[0m\u001b[0;34m:\u001b[0m \u001b[0mmax_iter\u001b[0m\u001b[0;34m}\u001b[0m\u001b[0;34m,\u001b[0m\u001b[0;34m\u001b[0m\u001b[0;34m\u001b[0m\u001b[0m\n\u001b[0m\u001b[1;32m    813\u001b[0m             )\n\u001b[1;32m    814\u001b[0m             n_iter_i = _check_optimize_result(\n",
            "\u001b[0;32m/usr/local/lib/python3.7/dist-packages/scipy/optimize/_minimize.py\u001b[0m in \u001b[0;36mminimize\u001b[0;34m(fun, x0, args, method, jac, hess, hessp, bounds, constraints, tol, callback, options)\u001b[0m\n\u001b[1;32m    622\u001b[0m     \u001b[0;32melif\u001b[0m \u001b[0mmeth\u001b[0m \u001b[0;34m==\u001b[0m \u001b[0;34m'l-bfgs-b'\u001b[0m\u001b[0;34m:\u001b[0m\u001b[0;34m\u001b[0m\u001b[0;34m\u001b[0m\u001b[0m\n\u001b[1;32m    623\u001b[0m         return _minimize_lbfgsb(fun, x0, args, jac, bounds,\n\u001b[0;32m--> 624\u001b[0;31m                                 callback=callback, **options)\n\u001b[0m\u001b[1;32m    625\u001b[0m     \u001b[0;32melif\u001b[0m \u001b[0mmeth\u001b[0m \u001b[0;34m==\u001b[0m \u001b[0;34m'tnc'\u001b[0m\u001b[0;34m:\u001b[0m\u001b[0;34m\u001b[0m\u001b[0;34m\u001b[0m\u001b[0m\n\u001b[1;32m    626\u001b[0m         return _minimize_tnc(fun, x0, args, jac, bounds, callback=callback,\n",
            "\u001b[0;32m/usr/local/lib/python3.7/dist-packages/scipy/optimize/lbfgsb.py\u001b[0m in \u001b[0;36m_minimize_lbfgsb\u001b[0;34m(fun, x0, args, jac, bounds, disp, maxcor, ftol, gtol, eps, maxfun, maxiter, iprint, callback, maxls, finite_diff_rel_step, **unknown_options)\u001b[0m\n\u001b[1;32m    358\u001b[0m             \u001b[0;31m# until the completion of the current minimization iteration.\u001b[0m\u001b[0;34m\u001b[0m\u001b[0;34m\u001b[0m\u001b[0;34m\u001b[0m\u001b[0m\n\u001b[1;32m    359\u001b[0m             \u001b[0;31m# Overwrite f and g:\u001b[0m\u001b[0;34m\u001b[0m\u001b[0;34m\u001b[0m\u001b[0;34m\u001b[0m\u001b[0m\n\u001b[0;32m--> 360\u001b[0;31m             \u001b[0mf\u001b[0m\u001b[0;34m,\u001b[0m \u001b[0mg\u001b[0m \u001b[0;34m=\u001b[0m \u001b[0mfunc_and_grad\u001b[0m\u001b[0;34m(\u001b[0m\u001b[0mx\u001b[0m\u001b[0;34m)\u001b[0m\u001b[0;34m\u001b[0m\u001b[0;34m\u001b[0m\u001b[0m\n\u001b[0m\u001b[1;32m    361\u001b[0m         \u001b[0;32melif\u001b[0m \u001b[0mtask_str\u001b[0m\u001b[0;34m.\u001b[0m\u001b[0mstartswith\u001b[0m\u001b[0;34m(\u001b[0m\u001b[0;34mb'NEW_X'\u001b[0m\u001b[0;34m)\u001b[0m\u001b[0;34m:\u001b[0m\u001b[0;34m\u001b[0m\u001b[0;34m\u001b[0m\u001b[0m\n\u001b[1;32m    362\u001b[0m             \u001b[0;31m# new iteration\u001b[0m\u001b[0;34m\u001b[0m\u001b[0;34m\u001b[0m\u001b[0;34m\u001b[0m\u001b[0m\n",
            "\u001b[0;32m/usr/local/lib/python3.7/dist-packages/scipy/optimize/_differentiable_functions.py\u001b[0m in \u001b[0;36mfun_and_grad\u001b[0;34m(self, x)\u001b[0m\n\u001b[1;32m    265\u001b[0m         \u001b[0;32mif\u001b[0m \u001b[0;32mnot\u001b[0m \u001b[0mnp\u001b[0m\u001b[0;34m.\u001b[0m\u001b[0marray_equal\u001b[0m\u001b[0;34m(\u001b[0m\u001b[0mx\u001b[0m\u001b[0;34m,\u001b[0m \u001b[0mself\u001b[0m\u001b[0;34m.\u001b[0m\u001b[0mx\u001b[0m\u001b[0;34m)\u001b[0m\u001b[0;34m:\u001b[0m\u001b[0;34m\u001b[0m\u001b[0;34m\u001b[0m\u001b[0m\n\u001b[1;32m    266\u001b[0m             \u001b[0mself\u001b[0m\u001b[0;34m.\u001b[0m\u001b[0m_update_x_impl\u001b[0m\u001b[0;34m(\u001b[0m\u001b[0mx\u001b[0m\u001b[0;34m)\u001b[0m\u001b[0;34m\u001b[0m\u001b[0;34m\u001b[0m\u001b[0m\n\u001b[0;32m--> 267\u001b[0;31m         \u001b[0mself\u001b[0m\u001b[0;34m.\u001b[0m\u001b[0m_update_fun\u001b[0m\u001b[0;34m(\u001b[0m\u001b[0;34m)\u001b[0m\u001b[0;34m\u001b[0m\u001b[0;34m\u001b[0m\u001b[0m\n\u001b[0m\u001b[1;32m    268\u001b[0m         \u001b[0mself\u001b[0m\u001b[0;34m.\u001b[0m\u001b[0m_update_grad\u001b[0m\u001b[0;34m(\u001b[0m\u001b[0;34m)\u001b[0m\u001b[0;34m\u001b[0m\u001b[0;34m\u001b[0m\u001b[0m\n\u001b[1;32m    269\u001b[0m         \u001b[0;32mreturn\u001b[0m \u001b[0mself\u001b[0m\u001b[0;34m.\u001b[0m\u001b[0mf\u001b[0m\u001b[0;34m,\u001b[0m \u001b[0mself\u001b[0m\u001b[0;34m.\u001b[0m\u001b[0mg\u001b[0m\u001b[0;34m\u001b[0m\u001b[0;34m\u001b[0m\u001b[0m\n",
            "\u001b[0;32m/usr/local/lib/python3.7/dist-packages/scipy/optimize/_differentiable_functions.py\u001b[0m in \u001b[0;36m_update_fun\u001b[0;34m(self)\u001b[0m\n\u001b[1;32m    231\u001b[0m     \u001b[0;32mdef\u001b[0m \u001b[0m_update_fun\u001b[0m\u001b[0;34m(\u001b[0m\u001b[0mself\u001b[0m\u001b[0;34m)\u001b[0m\u001b[0;34m:\u001b[0m\u001b[0;34m\u001b[0m\u001b[0;34m\u001b[0m\u001b[0m\n\u001b[1;32m    232\u001b[0m         \u001b[0;32mif\u001b[0m \u001b[0;32mnot\u001b[0m \u001b[0mself\u001b[0m\u001b[0;34m.\u001b[0m\u001b[0mf_updated\u001b[0m\u001b[0;34m:\u001b[0m\u001b[0;34m\u001b[0m\u001b[0;34m\u001b[0m\u001b[0m\n\u001b[0;32m--> 233\u001b[0;31m             \u001b[0mself\u001b[0m\u001b[0;34m.\u001b[0m\u001b[0m_update_fun_impl\u001b[0m\u001b[0;34m(\u001b[0m\u001b[0;34m)\u001b[0m\u001b[0;34m\u001b[0m\u001b[0;34m\u001b[0m\u001b[0m\n\u001b[0m\u001b[1;32m    234\u001b[0m             \u001b[0mself\u001b[0m\u001b[0;34m.\u001b[0m\u001b[0mf_updated\u001b[0m \u001b[0;34m=\u001b[0m \u001b[0;32mTrue\u001b[0m\u001b[0;34m\u001b[0m\u001b[0;34m\u001b[0m\u001b[0m\n\u001b[1;32m    235\u001b[0m \u001b[0;34m\u001b[0m\u001b[0m\n",
            "\u001b[0;32m/usr/local/lib/python3.7/dist-packages/scipy/optimize/_differentiable_functions.py\u001b[0m in \u001b[0;36mupdate_fun\u001b[0;34m()\u001b[0m\n\u001b[1;32m    135\u001b[0m \u001b[0;34m\u001b[0m\u001b[0m\n\u001b[1;32m    136\u001b[0m         \u001b[0;32mdef\u001b[0m \u001b[0mupdate_fun\u001b[0m\u001b[0;34m(\u001b[0m\u001b[0;34m)\u001b[0m\u001b[0;34m:\u001b[0m\u001b[0;34m\u001b[0m\u001b[0;34m\u001b[0m\u001b[0m\n\u001b[0;32m--> 137\u001b[0;31m             \u001b[0mself\u001b[0m\u001b[0;34m.\u001b[0m\u001b[0mf\u001b[0m \u001b[0;34m=\u001b[0m \u001b[0mfun_wrapped\u001b[0m\u001b[0;34m(\u001b[0m\u001b[0mself\u001b[0m\u001b[0;34m.\u001b[0m\u001b[0mx\u001b[0m\u001b[0;34m)\u001b[0m\u001b[0;34m\u001b[0m\u001b[0;34m\u001b[0m\u001b[0m\n\u001b[0m\u001b[1;32m    138\u001b[0m \u001b[0;34m\u001b[0m\u001b[0m\n\u001b[1;32m    139\u001b[0m         \u001b[0mself\u001b[0m\u001b[0;34m.\u001b[0m\u001b[0m_update_fun_impl\u001b[0m \u001b[0;34m=\u001b[0m \u001b[0mupdate_fun\u001b[0m\u001b[0;34m\u001b[0m\u001b[0;34m\u001b[0m\u001b[0m\n",
            "\u001b[0;32m/usr/local/lib/python3.7/dist-packages/scipy/optimize/_differentiable_functions.py\u001b[0m in \u001b[0;36mfun_wrapped\u001b[0;34m(x)\u001b[0m\n\u001b[1;32m    132\u001b[0m             \u001b[0;31m# Overwriting results in undefined behaviour because\u001b[0m\u001b[0;34m\u001b[0m\u001b[0;34m\u001b[0m\u001b[0;34m\u001b[0m\u001b[0m\n\u001b[1;32m    133\u001b[0m             \u001b[0;31m# fun(self.x) will change self.x, with the two no longer linked.\u001b[0m\u001b[0;34m\u001b[0m\u001b[0;34m\u001b[0m\u001b[0;34m\u001b[0m\u001b[0m\n\u001b[0;32m--> 134\u001b[0;31m             \u001b[0;32mreturn\u001b[0m \u001b[0mfun\u001b[0m\u001b[0;34m(\u001b[0m\u001b[0mnp\u001b[0m\u001b[0;34m.\u001b[0m\u001b[0mcopy\u001b[0m\u001b[0;34m(\u001b[0m\u001b[0mx\u001b[0m\u001b[0;34m)\u001b[0m\u001b[0;34m,\u001b[0m \u001b[0;34m*\u001b[0m\u001b[0margs\u001b[0m\u001b[0;34m)\u001b[0m\u001b[0;34m\u001b[0m\u001b[0;34m\u001b[0m\u001b[0m\n\u001b[0m\u001b[1;32m    135\u001b[0m \u001b[0;34m\u001b[0m\u001b[0m\n\u001b[1;32m    136\u001b[0m         \u001b[0;32mdef\u001b[0m \u001b[0mupdate_fun\u001b[0m\u001b[0;34m(\u001b[0m\u001b[0;34m)\u001b[0m\u001b[0;34m:\u001b[0m\u001b[0;34m\u001b[0m\u001b[0;34m\u001b[0m\u001b[0m\n",
            "\u001b[0;32m/usr/local/lib/python3.7/dist-packages/scipy/optimize/optimize.py\u001b[0m in \u001b[0;36m__call__\u001b[0;34m(self, x, *args)\u001b[0m\n\u001b[1;32m     72\u001b[0m     \u001b[0;32mdef\u001b[0m \u001b[0m__call__\u001b[0m\u001b[0;34m(\u001b[0m\u001b[0mself\u001b[0m\u001b[0;34m,\u001b[0m \u001b[0mx\u001b[0m\u001b[0;34m,\u001b[0m \u001b[0;34m*\u001b[0m\u001b[0margs\u001b[0m\u001b[0;34m)\u001b[0m\u001b[0;34m:\u001b[0m\u001b[0;34m\u001b[0m\u001b[0;34m\u001b[0m\u001b[0m\n\u001b[1;32m     73\u001b[0m         \u001b[0;34m\"\"\" returns the the function value \"\"\"\u001b[0m\u001b[0;34m\u001b[0m\u001b[0;34m\u001b[0m\u001b[0m\n\u001b[0;32m---> 74\u001b[0;31m         \u001b[0mself\u001b[0m\u001b[0;34m.\u001b[0m\u001b[0m_compute_if_needed\u001b[0m\u001b[0;34m(\u001b[0m\u001b[0mx\u001b[0m\u001b[0;34m,\u001b[0m \u001b[0;34m*\u001b[0m\u001b[0margs\u001b[0m\u001b[0;34m)\u001b[0m\u001b[0;34m\u001b[0m\u001b[0;34m\u001b[0m\u001b[0m\n\u001b[0m\u001b[1;32m     75\u001b[0m         \u001b[0;32mreturn\u001b[0m \u001b[0mself\u001b[0m\u001b[0;34m.\u001b[0m\u001b[0m_value\u001b[0m\u001b[0;34m\u001b[0m\u001b[0;34m\u001b[0m\u001b[0m\n\u001b[1;32m     76\u001b[0m \u001b[0;34m\u001b[0m\u001b[0m\n",
            "\u001b[0;32m/usr/local/lib/python3.7/dist-packages/scipy/optimize/optimize.py\u001b[0m in \u001b[0;36m_compute_if_needed\u001b[0;34m(self, x, *args)\u001b[0m\n\u001b[1;32m     66\u001b[0m         \u001b[0;32mif\u001b[0m \u001b[0;32mnot\u001b[0m \u001b[0mnp\u001b[0m\u001b[0;34m.\u001b[0m\u001b[0mall\u001b[0m\u001b[0;34m(\u001b[0m\u001b[0mx\u001b[0m \u001b[0;34m==\u001b[0m \u001b[0mself\u001b[0m\u001b[0;34m.\u001b[0m\u001b[0mx\u001b[0m\u001b[0;34m)\u001b[0m \u001b[0;32mor\u001b[0m \u001b[0mself\u001b[0m\u001b[0;34m.\u001b[0m\u001b[0m_value\u001b[0m \u001b[0;32mis\u001b[0m \u001b[0;32mNone\u001b[0m \u001b[0;32mor\u001b[0m \u001b[0mself\u001b[0m\u001b[0;34m.\u001b[0m\u001b[0mjac\u001b[0m \u001b[0;32mis\u001b[0m \u001b[0;32mNone\u001b[0m\u001b[0;34m:\u001b[0m\u001b[0;34m\u001b[0m\u001b[0;34m\u001b[0m\u001b[0m\n\u001b[1;32m     67\u001b[0m             \u001b[0mself\u001b[0m\u001b[0;34m.\u001b[0m\u001b[0mx\u001b[0m \u001b[0;34m=\u001b[0m \u001b[0mnp\u001b[0m\u001b[0;34m.\u001b[0m\u001b[0masarray\u001b[0m\u001b[0;34m(\u001b[0m\u001b[0mx\u001b[0m\u001b[0;34m)\u001b[0m\u001b[0;34m.\u001b[0m\u001b[0mcopy\u001b[0m\u001b[0;34m(\u001b[0m\u001b[0;34m)\u001b[0m\u001b[0;34m\u001b[0m\u001b[0;34m\u001b[0m\u001b[0m\n\u001b[0;32m---> 68\u001b[0;31m             \u001b[0mfg\u001b[0m \u001b[0;34m=\u001b[0m \u001b[0mself\u001b[0m\u001b[0;34m.\u001b[0m\u001b[0mfun\u001b[0m\u001b[0;34m(\u001b[0m\u001b[0mx\u001b[0m\u001b[0;34m,\u001b[0m \u001b[0;34m*\u001b[0m\u001b[0margs\u001b[0m\u001b[0;34m)\u001b[0m\u001b[0;34m\u001b[0m\u001b[0;34m\u001b[0m\u001b[0m\n\u001b[0m\u001b[1;32m     69\u001b[0m             \u001b[0mself\u001b[0m\u001b[0;34m.\u001b[0m\u001b[0mjac\u001b[0m \u001b[0;34m=\u001b[0m \u001b[0mfg\u001b[0m\u001b[0;34m[\u001b[0m\u001b[0;36m1\u001b[0m\u001b[0;34m]\u001b[0m\u001b[0;34m\u001b[0m\u001b[0;34m\u001b[0m\u001b[0m\n\u001b[1;32m     70\u001b[0m             \u001b[0mself\u001b[0m\u001b[0;34m.\u001b[0m\u001b[0m_value\u001b[0m \u001b[0;34m=\u001b[0m \u001b[0mfg\u001b[0m\u001b[0;34m[\u001b[0m\u001b[0;36m0\u001b[0m\u001b[0;34m]\u001b[0m\u001b[0;34m\u001b[0m\u001b[0;34m\u001b[0m\u001b[0m\n",
            "\u001b[0;32m/usr/local/lib/python3.7/dist-packages/sklearn/linear_model/_logistic.py\u001b[0m in \u001b[0;36m_logistic_loss_and_grad\u001b[0;34m(w, X, y, alpha, sample_weight)\u001b[0m\n\u001b[1;32m    120\u001b[0m \u001b[0;34m\u001b[0m\u001b[0m\n\u001b[1;32m    121\u001b[0m     \u001b[0;31m# Logistic loss is the negative of the log of the logistic function.\u001b[0m\u001b[0;34m\u001b[0m\u001b[0;34m\u001b[0m\u001b[0;34m\u001b[0m\u001b[0m\n\u001b[0;32m--> 122\u001b[0;31m     \u001b[0mout\u001b[0m \u001b[0;34m=\u001b[0m \u001b[0;34m-\u001b[0m\u001b[0mnp\u001b[0m\u001b[0;34m.\u001b[0m\u001b[0msum\u001b[0m\u001b[0;34m(\u001b[0m\u001b[0msample_weight\u001b[0m \u001b[0;34m*\u001b[0m \u001b[0mlog_logistic\u001b[0m\u001b[0;34m(\u001b[0m\u001b[0myz\u001b[0m\u001b[0;34m)\u001b[0m\u001b[0;34m)\u001b[0m \u001b[0;34m+\u001b[0m \u001b[0;36m0.5\u001b[0m \u001b[0;34m*\u001b[0m \u001b[0malpha\u001b[0m \u001b[0;34m*\u001b[0m \u001b[0mnp\u001b[0m\u001b[0;34m.\u001b[0m\u001b[0mdot\u001b[0m\u001b[0;34m(\u001b[0m\u001b[0mw\u001b[0m\u001b[0;34m,\u001b[0m \u001b[0mw\u001b[0m\u001b[0;34m)\u001b[0m\u001b[0;34m\u001b[0m\u001b[0;34m\u001b[0m\u001b[0m\n\u001b[0m\u001b[1;32m    123\u001b[0m \u001b[0;34m\u001b[0m\u001b[0m\n\u001b[1;32m    124\u001b[0m     \u001b[0mz\u001b[0m \u001b[0;34m=\u001b[0m \u001b[0mexpit\u001b[0m\u001b[0;34m(\u001b[0m\u001b[0myz\u001b[0m\u001b[0;34m)\u001b[0m\u001b[0;34m\u001b[0m\u001b[0;34m\u001b[0m\u001b[0m\n",
            "\u001b[0;32m/usr/local/lib/python3.7/dist-packages/sklearn/utils/extmath.py\u001b[0m in \u001b[0;36mlog_logistic\u001b[0;34m(X, out)\u001b[0m\n\u001b[1;32m    790\u001b[0m         \u001b[0mout\u001b[0m \u001b[0;34m=\u001b[0m \u001b[0mnp\u001b[0m\u001b[0;34m.\u001b[0m\u001b[0mempty_like\u001b[0m\u001b[0;34m(\u001b[0m\u001b[0mX\u001b[0m\u001b[0;34m)\u001b[0m\u001b[0;34m\u001b[0m\u001b[0;34m\u001b[0m\u001b[0m\n\u001b[1;32m    791\u001b[0m \u001b[0;34m\u001b[0m\u001b[0m\n\u001b[0;32m--> 792\u001b[0;31m     \u001b[0m_log_logistic_sigmoid\u001b[0m\u001b[0;34m(\u001b[0m\u001b[0mn_samples\u001b[0m\u001b[0;34m,\u001b[0m \u001b[0mn_features\u001b[0m\u001b[0;34m,\u001b[0m \u001b[0mX\u001b[0m\u001b[0;34m,\u001b[0m \u001b[0mout\u001b[0m\u001b[0;34m)\u001b[0m\u001b[0;34m\u001b[0m\u001b[0;34m\u001b[0m\u001b[0m\n\u001b[0m\u001b[1;32m    793\u001b[0m \u001b[0;34m\u001b[0m\u001b[0m\n\u001b[1;32m    794\u001b[0m     \u001b[0;32mif\u001b[0m \u001b[0mis_1d\u001b[0m\u001b[0;34m:\u001b[0m\u001b[0;34m\u001b[0m\u001b[0;34m\u001b[0m\u001b[0m\n",
            "\u001b[0;31mKeyboardInterrupt\u001b[0m: "
          ]
        }
      ]
    }
  ]
}