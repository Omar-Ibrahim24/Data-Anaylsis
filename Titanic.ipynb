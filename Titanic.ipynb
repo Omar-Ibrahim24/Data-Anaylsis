{
  "nbformat": 4,
  "nbformat_minor": 0,
  "metadata": {
    "colab": {
      "provenance": []
    },
    "kernelspec": {
      "name": "python3",
      "display_name": "Python 3"
    },
    "language_info": {
      "name": "python"
    }
  },
  "cells": [
    {
      "cell_type": "markdown",
      "source": [
        "#Data Preprocessing"
      ],
      "metadata": {
        "id": "srYLc_m4eFrw"
      }
    },
    {
      "cell_type": "code",
      "execution_count": null,
      "metadata": {
        "id": "EGyGPG0I81v-"
      },
      "outputs": [],
      "source": [
        "import pandas as pd\n",
        "import numpy as np\n",
        "import matplotlib.pyplot as plt\n",
        "import seaborn as sns\n",
        "%matplotlib inline"
      ]
    },
    {
      "cell_type": "code",
      "source": [
        "titanic=pd.read_csv(\"/content/titanic-Dataset.csv\")\n",
        "titanic.head()"
      ],
      "metadata": {
        "colab": {
          "base_uri": "https://localhost:8080/",
          "height": 206
        },
        "id": "V2xfw-8B89aI",
        "outputId": "60fe3767-ef09-4cbe-f9f8-88593a361937"
      },
      "execution_count": null,
      "outputs": [
        {
          "output_type": "execute_result",
          "data": {
            "text/plain": [
              "   PassengerId  Survived  Pclass  \\\n",
              "0            1         0       3   \n",
              "1            2         1       1   \n",
              "2            3         1       3   \n",
              "3            4         1       1   \n",
              "4            5         0       3   \n",
              "\n",
              "                                                Name     Sex   Age  SibSp  \\\n",
              "0                            Braund, Mr. Owen Harris    male  22.0      1   \n",
              "1  Cumings, Mrs. John Bradley (Florence Briggs Th...  female  38.0      1   \n",
              "2                             Heikkinen, Miss. Laina  female  26.0      0   \n",
              "3       Futrelle, Mrs. Jacques Heath (Lily May Peel)  female  35.0      1   \n",
              "4                           Allen, Mr. William Henry    male  35.0      0   \n",
              "\n",
              "   Parch            Ticket     Fare Cabin Embarked  \n",
              "0      0         A/5 21171   7.2500   NaN        S  \n",
              "1      0          PC 17599  71.2833   C85        C  \n",
              "2      0  STON/O2. 3101282   7.9250   NaN        S  \n",
              "3      0            113803  53.1000  C123        S  \n",
              "4      0            373450   8.0500   NaN        S  "
            ],
            "text/html": [
              "\n",
              "  <div id=\"df-b194debf-e62a-4e57-ba15-9adfe97261d3\">\n",
              "    <div class=\"colab-df-container\">\n",
              "      <div>\n",
              "<style scoped>\n",
              "    .dataframe tbody tr th:only-of-type {\n",
              "        vertical-align: middle;\n",
              "    }\n",
              "\n",
              "    .dataframe tbody tr th {\n",
              "        vertical-align: top;\n",
              "    }\n",
              "\n",
              "    .dataframe thead th {\n",
              "        text-align: right;\n",
              "    }\n",
              "</style>\n",
              "<table border=\"1\" class=\"dataframe\">\n",
              "  <thead>\n",
              "    <tr style=\"text-align: right;\">\n",
              "      <th></th>\n",
              "      <th>PassengerId</th>\n",
              "      <th>Survived</th>\n",
              "      <th>Pclass</th>\n",
              "      <th>Name</th>\n",
              "      <th>Sex</th>\n",
              "      <th>Age</th>\n",
              "      <th>SibSp</th>\n",
              "      <th>Parch</th>\n",
              "      <th>Ticket</th>\n",
              "      <th>Fare</th>\n",
              "      <th>Cabin</th>\n",
              "      <th>Embarked</th>\n",
              "    </tr>\n",
              "  </thead>\n",
              "  <tbody>\n",
              "    <tr>\n",
              "      <th>0</th>\n",
              "      <td>1</td>\n",
              "      <td>0</td>\n",
              "      <td>3</td>\n",
              "      <td>Braund, Mr. Owen Harris</td>\n",
              "      <td>male</td>\n",
              "      <td>22.0</td>\n",
              "      <td>1</td>\n",
              "      <td>0</td>\n",
              "      <td>A/5 21171</td>\n",
              "      <td>7.2500</td>\n",
              "      <td>NaN</td>\n",
              "      <td>S</td>\n",
              "    </tr>\n",
              "    <tr>\n",
              "      <th>1</th>\n",
              "      <td>2</td>\n",
              "      <td>1</td>\n",
              "      <td>1</td>\n",
              "      <td>Cumings, Mrs. John Bradley (Florence Briggs Th...</td>\n",
              "      <td>female</td>\n",
              "      <td>38.0</td>\n",
              "      <td>1</td>\n",
              "      <td>0</td>\n",
              "      <td>PC 17599</td>\n",
              "      <td>71.2833</td>\n",
              "      <td>C85</td>\n",
              "      <td>C</td>\n",
              "    </tr>\n",
              "    <tr>\n",
              "      <th>2</th>\n",
              "      <td>3</td>\n",
              "      <td>1</td>\n",
              "      <td>3</td>\n",
              "      <td>Heikkinen, Miss. Laina</td>\n",
              "      <td>female</td>\n",
              "      <td>26.0</td>\n",
              "      <td>0</td>\n",
              "      <td>0</td>\n",
              "      <td>STON/O2. 3101282</td>\n",
              "      <td>7.9250</td>\n",
              "      <td>NaN</td>\n",
              "      <td>S</td>\n",
              "    </tr>\n",
              "    <tr>\n",
              "      <th>3</th>\n",
              "      <td>4</td>\n",
              "      <td>1</td>\n",
              "      <td>1</td>\n",
              "      <td>Futrelle, Mrs. Jacques Heath (Lily May Peel)</td>\n",
              "      <td>female</td>\n",
              "      <td>35.0</td>\n",
              "      <td>1</td>\n",
              "      <td>0</td>\n",
              "      <td>113803</td>\n",
              "      <td>53.1000</td>\n",
              "      <td>C123</td>\n",
              "      <td>S</td>\n",
              "    </tr>\n",
              "    <tr>\n",
              "      <th>4</th>\n",
              "      <td>5</td>\n",
              "      <td>0</td>\n",
              "      <td>3</td>\n",
              "      <td>Allen, Mr. William Henry</td>\n",
              "      <td>male</td>\n",
              "      <td>35.0</td>\n",
              "      <td>0</td>\n",
              "      <td>0</td>\n",
              "      <td>373450</td>\n",
              "      <td>8.0500</td>\n",
              "      <td>NaN</td>\n",
              "      <td>S</td>\n",
              "    </tr>\n",
              "  </tbody>\n",
              "</table>\n",
              "</div>\n",
              "      <button class=\"colab-df-convert\" onclick=\"convertToInteractive('df-b194debf-e62a-4e57-ba15-9adfe97261d3')\"\n",
              "              title=\"Convert this dataframe to an interactive table.\"\n",
              "              style=\"display:none;\">\n",
              "        \n",
              "  <svg xmlns=\"http://www.w3.org/2000/svg\" height=\"24px\"viewBox=\"0 0 24 24\"\n",
              "       width=\"24px\">\n",
              "    <path d=\"M0 0h24v24H0V0z\" fill=\"none\"/>\n",
              "    <path d=\"M18.56 5.44l.94 2.06.94-2.06 2.06-.94-2.06-.94-.94-2.06-.94 2.06-2.06.94zm-11 1L8.5 8.5l.94-2.06 2.06-.94-2.06-.94L8.5 2.5l-.94 2.06-2.06.94zm10 10l.94 2.06.94-2.06 2.06-.94-2.06-.94-.94-2.06-.94 2.06-2.06.94z\"/><path d=\"M17.41 7.96l-1.37-1.37c-.4-.4-.92-.59-1.43-.59-.52 0-1.04.2-1.43.59L10.3 9.45l-7.72 7.72c-.78.78-.78 2.05 0 2.83L4 21.41c.39.39.9.59 1.41.59.51 0 1.02-.2 1.41-.59l7.78-7.78 2.81-2.81c.8-.78.8-2.07 0-2.86zM5.41 20L4 18.59l7.72-7.72 1.47 1.35L5.41 20z\"/>\n",
              "  </svg>\n",
              "      </button>\n",
              "      \n",
              "  <style>\n",
              "    .colab-df-container {\n",
              "      display:flex;\n",
              "      flex-wrap:wrap;\n",
              "      gap: 12px;\n",
              "    }\n",
              "\n",
              "    .colab-df-convert {\n",
              "      background-color: #E8F0FE;\n",
              "      border: none;\n",
              "      border-radius: 50%;\n",
              "      cursor: pointer;\n",
              "      display: none;\n",
              "      fill: #1967D2;\n",
              "      height: 32px;\n",
              "      padding: 0 0 0 0;\n",
              "      width: 32px;\n",
              "    }\n",
              "\n",
              "    .colab-df-convert:hover {\n",
              "      background-color: #E2EBFA;\n",
              "      box-shadow: 0px 1px 2px rgba(60, 64, 67, 0.3), 0px 1px 3px 1px rgba(60, 64, 67, 0.15);\n",
              "      fill: #174EA6;\n",
              "    }\n",
              "\n",
              "    [theme=dark] .colab-df-convert {\n",
              "      background-color: #3B4455;\n",
              "      fill: #D2E3FC;\n",
              "    }\n",
              "\n",
              "    [theme=dark] .colab-df-convert:hover {\n",
              "      background-color: #434B5C;\n",
              "      box-shadow: 0px 1px 3px 1px rgba(0, 0, 0, 0.15);\n",
              "      filter: drop-shadow(0px 1px 2px rgba(0, 0, 0, 0.3));\n",
              "      fill: #FFFFFF;\n",
              "    }\n",
              "  </style>\n",
              "\n",
              "      <script>\n",
              "        const buttonEl =\n",
              "          document.querySelector('#df-b194debf-e62a-4e57-ba15-9adfe97261d3 button.colab-df-convert');\n",
              "        buttonEl.style.display =\n",
              "          google.colab.kernel.accessAllowed ? 'block' : 'none';\n",
              "\n",
              "        async function convertToInteractive(key) {\n",
              "          const element = document.querySelector('#df-b194debf-e62a-4e57-ba15-9adfe97261d3');\n",
              "          const dataTable =\n",
              "            await google.colab.kernel.invokeFunction('convertToInteractive',\n",
              "                                                     [key], {});\n",
              "          if (!dataTable) return;\n",
              "\n",
              "          const docLinkHtml = 'Like what you see? Visit the ' +\n",
              "            '<a target=\"_blank\" href=https://colab.research.google.com/notebooks/data_table.ipynb>data table notebook</a>'\n",
              "            + ' to learn more about interactive tables.';\n",
              "          element.innerHTML = '';\n",
              "          dataTable['output_type'] = 'display_data';\n",
              "          await google.colab.output.renderOutput(dataTable, element);\n",
              "          const docLink = document.createElement('div');\n",
              "          docLink.innerHTML = docLinkHtml;\n",
              "          element.appendChild(docLink);\n",
              "        }\n",
              "      </script>\n",
              "    </div>\n",
              "  </div>\n",
              "  "
            ]
          },
          "metadata": {},
          "execution_count": 2
        }
      ]
    },
    {
      "cell_type": "code",
      "source": [
        "titanic.info()"
      ],
      "metadata": {
        "colab": {
          "base_uri": "https://localhost:8080/"
        },
        "id": "Qzcy500Wa6xu",
        "outputId": "783fcf2a-72e1-4c7a-b756-219fb912aa0d"
      },
      "execution_count": null,
      "outputs": [
        {
          "output_type": "stream",
          "name": "stdout",
          "text": [
            "<class 'pandas.core.frame.DataFrame'>\n",
            "RangeIndex: 891 entries, 0 to 890\n",
            "Data columns (total 12 columns):\n",
            " #   Column       Non-Null Count  Dtype  \n",
            "---  ------       --------------  -----  \n",
            " 0   PassengerId  891 non-null    int64  \n",
            " 1   Survived     891 non-null    int64  \n",
            " 2   Pclass       891 non-null    int64  \n",
            " 3   Name         891 non-null    object \n",
            " 4   Sex          891 non-null    object \n",
            " 5   Age          714 non-null    float64\n",
            " 6   SibSp        891 non-null    int64  \n",
            " 7   Parch        891 non-null    int64  \n",
            " 8   Ticket       891 non-null    object \n",
            " 9   Fare         891 non-null    float64\n",
            " 10  Cabin        204 non-null    object \n",
            " 11  Embarked     889 non-null    object \n",
            "dtypes: float64(2), int64(5), object(5)\n",
            "memory usage: 83.7+ KB\n"
          ]
        }
      ]
    },
    {
      "cell_type": "code",
      "source": [
        "#@title Chi Square \n",
        "from scipy.stats import chi2_contingency\n",
        "columns_test=titanic[['Pclass','Sex','Embarked']]\n",
        "diction={}\n",
        "for i in columns_test:\n",
        "  CrosstabResult=pd.crosstab(index=titanic[i],columns=titanic['Survived'])\n",
        "  ChiSqResult = chi2_contingency(CrosstabResult)\n",
        "  diction[i]=ChiSqResult[1] \n",
        "\n",
        "\n",
        "for key,value in diction.items():\n",
        "  if value>0.05:\n",
        "    print(key)\n",
        "  else:\n",
        "    print(\"All values are Correlated\")"
      ],
      "metadata": {
        "id": "9BzYeEGEQUG5"
      },
      "execution_count": null,
      "outputs": []
    },
    {
      "cell_type": "code",
      "source": [
        "#@title Annova\n",
        "import statsmodels.api as sm\n",
        "from statsmodels.formula.api import ols\n",
        "model = ols('Survived ~ Age', data=titanic).fit()\n",
        "sm.stats.anova_lm(model, typ=2)"
      ],
      "metadata": {
        "colab": {
          "base_uri": "https://localhost:8080/",
          "height": 112
        },
        "id": "DWIA77caSvoq",
        "outputId": "d878b7bc-8154-452d-8fcc-07032468c620"
      },
      "execution_count": null,
      "outputs": [
        {
          "output_type": "execute_result",
          "data": {
            "text/plain": [
              "              sum_sq     df         F    PR(>F)\n",
              "Age         1.026922    1.0  4.271195  0.039125\n",
              "Residual  171.185963  712.0       NaN       NaN"
            ],
            "text/html": [
              "\n",
              "  <div id=\"df-934d4af4-bd10-4b9c-89a1-73d4b2b42034\">\n",
              "    <div class=\"colab-df-container\">\n",
              "      <div>\n",
              "<style scoped>\n",
              "    .dataframe tbody tr th:only-of-type {\n",
              "        vertical-align: middle;\n",
              "    }\n",
              "\n",
              "    .dataframe tbody tr th {\n",
              "        vertical-align: top;\n",
              "    }\n",
              "\n",
              "    .dataframe thead th {\n",
              "        text-align: right;\n",
              "    }\n",
              "</style>\n",
              "<table border=\"1\" class=\"dataframe\">\n",
              "  <thead>\n",
              "    <tr style=\"text-align: right;\">\n",
              "      <th></th>\n",
              "      <th>sum_sq</th>\n",
              "      <th>df</th>\n",
              "      <th>F</th>\n",
              "      <th>PR(&gt;F)</th>\n",
              "    </tr>\n",
              "  </thead>\n",
              "  <tbody>\n",
              "    <tr>\n",
              "      <th>Age</th>\n",
              "      <td>1.026922</td>\n",
              "      <td>1.0</td>\n",
              "      <td>4.271195</td>\n",
              "      <td>0.039125</td>\n",
              "    </tr>\n",
              "    <tr>\n",
              "      <th>Residual</th>\n",
              "      <td>171.185963</td>\n",
              "      <td>712.0</td>\n",
              "      <td>NaN</td>\n",
              "      <td>NaN</td>\n",
              "    </tr>\n",
              "  </tbody>\n",
              "</table>\n",
              "</div>\n",
              "      <button class=\"colab-df-convert\" onclick=\"convertToInteractive('df-934d4af4-bd10-4b9c-89a1-73d4b2b42034')\"\n",
              "              title=\"Convert this dataframe to an interactive table.\"\n",
              "              style=\"display:none;\">\n",
              "        \n",
              "  <svg xmlns=\"http://www.w3.org/2000/svg\" height=\"24px\"viewBox=\"0 0 24 24\"\n",
              "       width=\"24px\">\n",
              "    <path d=\"M0 0h24v24H0V0z\" fill=\"none\"/>\n",
              "    <path d=\"M18.56 5.44l.94 2.06.94-2.06 2.06-.94-2.06-.94-.94-2.06-.94 2.06-2.06.94zm-11 1L8.5 8.5l.94-2.06 2.06-.94-2.06-.94L8.5 2.5l-.94 2.06-2.06.94zm10 10l.94 2.06.94-2.06 2.06-.94-2.06-.94-.94-2.06-.94 2.06-2.06.94z\"/><path d=\"M17.41 7.96l-1.37-1.37c-.4-.4-.92-.59-1.43-.59-.52 0-1.04.2-1.43.59L10.3 9.45l-7.72 7.72c-.78.78-.78 2.05 0 2.83L4 21.41c.39.39.9.59 1.41.59.51 0 1.02-.2 1.41-.59l7.78-7.78 2.81-2.81c.8-.78.8-2.07 0-2.86zM5.41 20L4 18.59l7.72-7.72 1.47 1.35L5.41 20z\"/>\n",
              "  </svg>\n",
              "      </button>\n",
              "      \n",
              "  <style>\n",
              "    .colab-df-container {\n",
              "      display:flex;\n",
              "      flex-wrap:wrap;\n",
              "      gap: 12px;\n",
              "    }\n",
              "\n",
              "    .colab-df-convert {\n",
              "      background-color: #E8F0FE;\n",
              "      border: none;\n",
              "      border-radius: 50%;\n",
              "      cursor: pointer;\n",
              "      display: none;\n",
              "      fill: #1967D2;\n",
              "      height: 32px;\n",
              "      padding: 0 0 0 0;\n",
              "      width: 32px;\n",
              "    }\n",
              "\n",
              "    .colab-df-convert:hover {\n",
              "      background-color: #E2EBFA;\n",
              "      box-shadow: 0px 1px 2px rgba(60, 64, 67, 0.3), 0px 1px 3px 1px rgba(60, 64, 67, 0.15);\n",
              "      fill: #174EA6;\n",
              "    }\n",
              "\n",
              "    [theme=dark] .colab-df-convert {\n",
              "      background-color: #3B4455;\n",
              "      fill: #D2E3FC;\n",
              "    }\n",
              "\n",
              "    [theme=dark] .colab-df-convert:hover {\n",
              "      background-color: #434B5C;\n",
              "      box-shadow: 0px 1px 3px 1px rgba(0, 0, 0, 0.15);\n",
              "      filter: drop-shadow(0px 1px 2px rgba(0, 0, 0, 0.3));\n",
              "      fill: #FFFFFF;\n",
              "    }\n",
              "  </style>\n",
              "\n",
              "      <script>\n",
              "        const buttonEl =\n",
              "          document.querySelector('#df-934d4af4-bd10-4b9c-89a1-73d4b2b42034 button.colab-df-convert');\n",
              "        buttonEl.style.display =\n",
              "          google.colab.kernel.accessAllowed ? 'block' : 'none';\n",
              "\n",
              "        async function convertToInteractive(key) {\n",
              "          const element = document.querySelector('#df-934d4af4-bd10-4b9c-89a1-73d4b2b42034');\n",
              "          const dataTable =\n",
              "            await google.colab.kernel.invokeFunction('convertToInteractive',\n",
              "                                                     [key], {});\n",
              "          if (!dataTable) return;\n",
              "\n",
              "          const docLinkHtml = 'Like what you see? Visit the ' +\n",
              "            '<a target=\"_blank\" href=https://colab.research.google.com/notebooks/data_table.ipynb>data table notebook</a>'\n",
              "            + ' to learn more about interactive tables.';\n",
              "          element.innerHTML = '';\n",
              "          dataTable['output_type'] = 'display_data';\n",
              "          await google.colab.output.renderOutput(dataTable, element);\n",
              "          const docLink = document.createElement('div');\n",
              "          docLink.innerHTML = docLinkHtml;\n",
              "          element.appendChild(docLink);\n",
              "        }\n",
              "      </script>\n",
              "    </div>\n",
              "  </div>\n",
              "  "
            ]
          },
          "metadata": {},
          "execution_count": 16
        }
      ]
    },
    {
      "cell_type": "code",
      "source": [
        "#@title Violin For age\n",
        "\n",
        "p = sns.violinplot(data =titanic, x = 'Survived', y = 'Age')\n",
        "p.set(title = 'Age Distribution by Survival', \n",
        "        xlabel = 'Survival', \n",
        "        ylabel = 'Age Distribution', \n",
        "        xticklabels = ['Died', 'Survived']);"
      ],
      "metadata": {
        "colab": {
          "base_uri": "https://localhost:8080/",
          "height": 295
        },
        "id": "IGSoY5wJWpe5",
        "outputId": "f9736da7-d2a1-4b40-e6d1-4288fbf4418b"
      },
      "execution_count": null,
      "outputs": [
        {
          "output_type": "display_data",
          "data": {
            "text/plain": [
              "<Figure size 432x288 with 1 Axes>"
            ],
            "image/png": "[encoded data removed]"
          },
          "metadata": {
            "needs_background": "light"
          }
        }
      ]
    },
    {
      "cell_type": "code",
      "source": [
        "#@title Correlation Between Numerical Features\n",
        "plt.figure(figsize=(12,10))\n",
        "numeric=titanic[['Age','SibSp','Parch','Fare']]\n",
        "cor = numeric.corr()\n",
        "sns.heatmap(cor, annot=True, cmap=plt.cm.Reds)\n"
      ],
      "metadata": {
        "colab": {
          "base_uri": "https://localhost:8080/",
          "height": 613
        },
        "id": "X6hEt3SQbwMa",
        "outputId": "5f850f0d-1696-4626-d17d-e4a5400fb58c"
      },
      "execution_count": null,
      "outputs": [
        {
          "output_type": "execute_result",
          "data": {
            "text/plain": [
              "<AxesSubplot:>"
            ]
          },
          "metadata": {},
          "execution_count": 12
        },
        {
          "output_type": "display_data",
          "data": {
            "text/plain": [
              "<Figure size 864x720 with 2 Axes>"
            ],
            "image/png": "[encoded data removed]"
          },
          "metadata": {
            "needs_background": "light"
          }
        }
      ]
    },
    {
      "cell_type": "code",
      "source": [
        "crosstb=pd.crosstab(titanic['Pclass'],titanic['Survived'])\n",
        "barplot = crosstb.plot.bar(rot=0)\n"
      ],
      "metadata": {
        "colab": {
          "base_uri": "https://localhost:8080/",
          "height": 279
        },
        "id": "854T1qM4ceMZ",
        "outputId": "2020ce5f-a365-41dc-8d28-bfdbeadeb614"
      },
      "execution_count": null,
      "outputs": [
        {
          "output_type": "display_data",
          "data": {
            "text/plain": [
              "<Figure size 432x288 with 1 Axes>"
            ],
            "image/png": "[encoded data removed]"
          },
          "metadata": {
            "needs_background": "light"
          }
        }
      ]
    },
    {
      "cell_type": "code",
      "source": [
        "crosstb=pd.crosstab(titanic['Embarked'],titanic['Survived'])\n",
        "barplot = crosstb.plot.bar(rot=0)\n"
      ],
      "metadata": {
        "colab": {
          "base_uri": "https://localhost:8080/",
          "height": 279
        },
        "id": "zNyQFCmpSACO",
        "outputId": "41cfb14a-d561-4243-da09-96d86a7d4db1"
      },
      "execution_count": null,
      "outputs": [
        {
          "output_type": "display_data",
          "data": {
            "text/plain": [
              "<Figure size 432x288 with 1 Axes>"
            ],
            "image/png": "[encoded data removed]"
          },
          "metadata": {
            "needs_background": "light"
          }
        }
      ]
    },
    {
      "cell_type": "code",
      "source": [
        "#titanic.nunique()\n",
        "titanic.isna().sum()\n"
      ],
      "metadata": {
        "colab": {
          "base_uri": "https://localhost:8080/"
        },
        "id": "moJdeJ3lXfER",
        "outputId": "8e2cf32e-34da-442b-f1ae-3083771783c1"
      },
      "execution_count": null,
      "outputs": [
        {
          "output_type": "execute_result",
          "data": {
            "text/plain": [
              "PassengerId      0\n",
              "Survived         0\n",
              "Pclass           0\n",
              "Name             0\n",
              "Sex              0\n",
              "Age            177\n",
              "SibSp            0\n",
              "Parch            0\n",
              "Ticket           0\n",
              "Fare             0\n",
              "Cabin          687\n",
              "Embarked         2\n",
              "dtype: int64"
            ]
          },
          "metadata": {},
          "execution_count": 3
        }
      ]
    },
    {
      "cell_type": "code",
      "source": [
        "titanic['Age'].fillna(value=titanic['Age'].mean(), inplace=True)\n",
        "titanic['Cabin'].fillna(value='A',inplace=True)\n",
        "\n",
        "titanic.isna().sum()\n",
        "#titanic.info()"
      ],
      "metadata": {
        "colab": {
          "base_uri": "https://localhost:8080/"
        },
        "id": "JI3GHBOnYjGx",
        "outputId": "30d4945b-18fb-4f29-af01-ef919f73cf1b"
      },
      "execution_count": null,
      "outputs": [
        {
          "output_type": "execute_result",
          "data": {
            "text/plain": [
              "PassengerId    0\n",
              "Survived       0\n",
              "Pclass         0\n",
              "Name           0\n",
              "Sex            0\n",
              "Age            0\n",
              "SibSp          0\n",
              "Parch          0\n",
              "Ticket         0\n",
              "Fare           0\n",
              "Cabin          0\n",
              "Embarked       2\n",
              "dtype: int64"
            ]
          },
          "metadata": {},
          "execution_count": 3
        }
      ]
    },
    {
      "cell_type": "code",
      "source": [
        "titanic.dropna(inplace=True)\n",
        "titanic.info()"
      ],
      "metadata": {
        "colab": {
          "base_uri": "https://localhost:8080/"
        },
        "id": "kt3UopEoahaj",
        "outputId": "f933b16b-9c4d-4897-d80d-9efb4678fc4b"
      },
      "execution_count": null,
      "outputs": [
        {
          "output_type": "stream",
          "name": "stdout",
          "text": [
            "<class 'pandas.core.frame.DataFrame'>\n",
            "Int64Index: 889 entries, 0 to 890\n",
            "Data columns (total 12 columns):\n",
            " #   Column       Non-Null Count  Dtype  \n",
            "---  ------       --------------  -----  \n",
            " 0   PassengerId  889 non-null    int64  \n",
            " 1   Survived     889 non-null    int64  \n",
            " 2   Pclass       889 non-null    int64  \n",
            " 3   Name         889 non-null    object \n",
            " 4   Sex          889 non-null    object \n",
            " 5   Age          889 non-null    float64\n",
            " 6   SibSp        889 non-null    int64  \n",
            " 7   Parch        889 non-null    int64  \n",
            " 8   Ticket       889 non-null    object \n",
            " 9   Fare         889 non-null    float64\n",
            " 10  Cabin        889 non-null    object \n",
            " 11  Embarked     889 non-null    object \n",
            "dtypes: float64(2), int64(5), object(5)\n",
            "memory usage: 90.3+ KB\n"
          ]
        }
      ]
    },
    {
      "cell_type": "markdown",
      "source": [
        "#EDA"
      ],
      "metadata": {
        "id": "xR6Nxb9ZeOOo"
      }
    },
    {
      "cell_type": "code",
      "source": [
        "#Total Number of People Survived or Not\n",
        "plt.figure(figsize= (5,5))\n",
        "\n",
        "sns.countplot(x=titanic['Survived'],data=titanic)"
      ],
      "metadata": {
        "colab": {
          "base_uri": "https://localhost:8080/",
          "height": 351
        },
        "id": "8gSmZpx79IXL",
        "outputId": "b03bfd32-1680-4869-f948-64e18615c8d6"
      },
      "execution_count": null,
      "outputs": [
        {
          "output_type": "execute_result",
          "data": {
            "text/plain": [
              "<AxesSubplot:xlabel='Survived', ylabel='count'>"
            ]
          },
          "metadata": {},
          "execution_count": 7
        },
        {
          "output_type": "display_data",
          "data": {
            "text/plain": [
              "<Figure size 360x360 with 1 Axes>"
            ],
            "image/png": "[encoded data removed]"
          },
          "metadata": {
            "needs_background": "light"
          }
        }
      ]
    },
    {
      "cell_type": "code",
      "source": [
        "#There were nearly 550 men and 300 women on titanic\n",
        "plt.figure(figsize= (17,15))\n",
        "plt.subplot(4,2,1)\n",
        "plt.title('Number of Males And Female on Titanic')\n",
        "sns.countplot(x=titanic['Sex'],data=titanic)\n",
        "\n",
        "#More Females Survived from the accident 100 men and 200 women survived \n",
        "plt.subplot(4,2,2)\n",
        "plt.title('Number of Males And Female on Survived or Not')\n",
        "\n",
        "sns.countplot(data=titanic, x='Sex', hue=\"Survived\")"
      ],
      "metadata": {
        "colab": {
          "base_uri": "https://localhost:8080/",
          "height": 272
        },
        "id": "c6eBFhRubw5p",
        "outputId": "6f5d0e71-6cb4-40d0-d10d-8009fc9f53e5"
      },
      "execution_count": null,
      "outputs": [
        {
          "output_type": "execute_result",
          "data": {
            "text/plain": [
              "<AxesSubplot:title={'center':'Number of Males And Female on Survived or Not'}, xlabel='Sex', ylabel='count'>"
            ]
          },
          "metadata": {},
          "execution_count": 9
        },
        {
          "output_type": "display_data",
          "data": {
            "text/plain": [
              "<Figure size 1224x1080 with 2 Axes>"
            ],
            "image/png": "[encoded data removed]"
          },
          "metadata": {
            "needs_background": "light"
          }
        }
      ]
    },
    {
      "cell_type": "code",
      "source": [
        "#Count of people having partners with them or not on Titanic\n",
        "plt.figure(figsize= (30,20))\n",
        "plt.subplot(4,2,1)\n",
        "plt.title('Number of Partners with Passengers')\n",
        "sns.countplot(x=titanic['SibSp'],data=titanic)\n",
        "\n",
        "#If Person was alone the probability that he died is higher than survived\n",
        "plt.subplot(4,2,2)\n",
        "plt.title('The Relation between having Partner and Surviving')\n",
        "\n",
        "sns.countplot(data=titanic, x='SibSp', hue=\"Survived\")\n"
      ],
      "metadata": {
        "colab": {
          "base_uri": "https://localhost:8080/",
          "height": 277
        },
        "id": "EKtLTlJN__Iy",
        "outputId": "8249b026-51f7-43b7-9c0a-71032be1ca38"
      },
      "execution_count": null,
      "outputs": [
        {
          "output_type": "execute_result",
          "data": {
            "text/plain": [
              "<matplotlib.axes._subplots.AxesSubplot at 0x7f02df92fc10>"
            ]
          },
          "metadata": {},
          "execution_count": 277
        },
        {
          "output_type": "display_data",
          "data": {
            "text/plain": [
              "<Figure size 2160x1440 with 2 Axes>"
            ],
            "image/png": "[encoded data removed]"
          },
          "metadata": {
            "needs_background": "light"
          }
        }
      ]
    },
    {
      "cell_type": "code",
      "source": [
        "#@title Count of people having Parents and Children with them or not on Titanic\n",
        "plt.figure(figsize= (30,20))\n",
        "plt.subplot(4,2,1)\n",
        "plt.title('Number of Parents and Children with Passengers')\n",
        "sns.countplot(x=titanic['Parch'],data=titanic)\n",
        "\n",
        "#If Person was alone the probability that he died is higher than survived\n",
        "plt.subplot(4,2,2)\n",
        "plt.title('The Relation between having Family and Surviving')\n",
        "\n",
        "sns.countplot(data=titanic, x='Parch', hue=\"Survived\")\n"
      ],
      "metadata": {
        "colab": {
          "base_uri": "https://localhost:8080/",
          "height": 277
        },
        "id": "qDlVLRR0JjT1",
        "outputId": "b4a1e0d5-a971-4887-9f16-5887a5f8145d"
      },
      "execution_count": null,
      "outputs": [
        {
          "output_type": "execute_result",
          "data": {
            "text/plain": [
              "<matplotlib.axes._subplots.AxesSubplot at 0x7f02e81d9cd0>"
            ]
          },
          "metadata": {},
          "execution_count": 109
        },
        {
          "output_type": "display_data",
          "data": {
            "text/plain": [
              "<Figure size 2160x1440 with 2 Axes>"
            ],
            "image/png": "[encoded data removed]"
          },
          "metadata": {
            "needs_background": "light"
          }
        }
      ]
    },
    {
      "cell_type": "code",
      "source": [
        "#@title Count of people of Different Classes on Titanic\n",
        "plt.figure(figsize= (30,20))\n",
        "plt.subplot(4,2,1)\n",
        "plt.title('Distribution of People According to Classes')\n",
        "sns.countplot(x=titanic['Pclass'],data=titanic)\n",
        "\n",
        "#If Person was 3rd class  the probability that he died is higher than survived\n",
        "plt.subplot(4,2,2)\n",
        "plt.title('The Relation between having Family and Surviving')\n",
        "\n",
        "sns.countplot(data=titanic, x='Pclass', hue=\"Survived\")"
      ],
      "metadata": {
        "colab": {
          "base_uri": "https://localhost:8080/",
          "height": 277
        },
        "id": "7xYFJoXcKEyb",
        "outputId": "59e4a031-8733-4b69-d8b8-fcadbad1033c"
      },
      "execution_count": null,
      "outputs": [
        {
          "output_type": "execute_result",
          "data": {
            "text/plain": [
              "<matplotlib.axes._subplots.AxesSubplot at 0x7f02df84fb90>"
            ]
          },
          "metadata": {},
          "execution_count": 278
        },
        {
          "output_type": "display_data",
          "data": {
            "text/plain": [
              "<Figure size 2160x1440 with 2 Axes>"
            ],
            "image/png": "[encoded data removed]"
          },
          "metadata": {
            "needs_background": "light"
          }
        }
      ]
    },
    {
      "cell_type": "code",
      "source": [
        "#@title Southampton, Cherbourg, and Queenstown\n",
        "plt.figure(figsize= (30,20))\n",
        "plt.subplot(4,2,1)\n",
        "plt.title('Count Of People from each city:Southampton, Cherbourg, and Queenstown')\n",
        "sns.countplot(x=titanic['Embarked'],data=titanic)\n",
        "\n",
        "\n",
        "plt.subplot(4,2,2)\n",
        "plt.title('Survived People from each city')\n",
        "sns.countplot(data=titanic, x='Embarked', hue=\"Survived\")\n"
      ],
      "metadata": {
        "colab": {
          "base_uri": "https://localhost:8080/",
          "height": 277
        },
        "id": "LA-7KqwNA1eA",
        "outputId": "09209f67-9366-4a61-ad3b-b905a7a3c264"
      },
      "execution_count": null,
      "outputs": [
        {
          "output_type": "execute_result",
          "data": {
            "text/plain": [
              "<matplotlib.axes._subplots.AxesSubplot at 0x7f02df7209d0>"
            ]
          },
          "metadata": {},
          "execution_count": 279
        },
        {
          "output_type": "display_data",
          "data": {
            "text/plain": [
              "<Figure size 2160x1440 with 2 Axes>"
            ],
            "image/png": "[encoded data removed]"
          },
          "metadata": {
            "needs_background": "light"
          }
        }
      ]
    },
    {
      "cell_type": "code",
      "source": [
        "plt.figure(figsize= (25,10))\n",
        "plt.subplot(4,2,1)\n",
        "x=titanic.sort_values(by=['Fare']).head(40)\n",
        "sns.countplot(data=x, x='Fare', hue=\"Survived\")\n",
        "plt.title('Numver Of Survival When The Fare was the lowest')\n",
        "plt.subplot(4,2,2)\n",
        "plt.title('Numver Of Survival When The Fare was the Highest')\n",
        "\n",
        "y=titanic.sort_values(by=['Fare']).tail(40)\n",
        "sns.countplot(data=y, x='Fare', hue=\"Survived\")\n",
        "\n"
      ],
      "metadata": {
        "colab": {
          "base_uri": "https://localhost:8080/",
          "height": 213
        },
        "id": "3tuB6Q0TDYD3",
        "outputId": "5c2645fa-00ec-47e1-885c-383704e07797"
      },
      "execution_count": null,
      "outputs": [
        {
          "output_type": "execute_result",
          "data": {
            "text/plain": [
              "<AxesSubplot:title={'center':'Numver Of Survival When The Fare was the Highest'}, xlabel='Fare', ylabel='count'>"
            ]
          },
          "metadata": {},
          "execution_count": 15
        },
        {
          "output_type": "display_data",
          "data": {
            "text/plain": [
              "<Figure size 1800x720 with 2 Axes>"
            ],
            "image/png": "[encoded data removed]"
          },
          "metadata": {
            "needs_background": "light"
          }
        }
      ]
    },
    {
      "cell_type": "code",
      "source": [
        "plt.figure(figsize= (25,15))\n",
        "plt.subplot(4,2,1)\n",
        "x=titanic.sort_values(by=['Fare']).head(40)\n",
        "sns.countplot(data=x, x='Fare', hue=\"Embarked\")\n",
        "plt.title('Numver Of Survival according to citites When The Fare was the lowest')\n",
        "plt.subplot(4,2,2)\n",
        "plt.title('Numver Of Survival acccording to citites When The Fare was the Highest')\n",
        "\n",
        "y=titanic.sort_values(by=['Fare']).tail(40)\n",
        "sns.countplot(data=y, x='Fare', hue=\"Embarked\")"
      ],
      "metadata": {
        "colab": {
          "base_uri": "https://localhost:8080/",
          "height": 267
        },
        "id": "9OzP-hdBIh89",
        "outputId": "1d48f280-56be-4f8a-fb18-387f142e6d45"
      },
      "execution_count": null,
      "outputs": [
        {
          "output_type": "execute_result",
          "data": {
            "text/plain": [
              "<matplotlib.axes._subplots.AxesSubplot at 0x7f02e829bb90>"
            ]
          },
          "metadata": {},
          "execution_count": 107
        },
        {
          "output_type": "display_data",
          "data": {
            "text/plain": [
              "<Figure size 1800x1080 with 2 Axes>"
            ],
            "image/png": "[encoded data removed]"
          },
          "metadata": {
            "needs_background": "light"
          }
        }
      ]
    },
    {
      "cell_type": "code",
      "source": [
        "#People Who are mentioned to have Cabin Has better chance to survive\n",
        "plt.figure(figsize= (15,10))\n",
        "\n",
        "plt.subplot(4,2,1)\n",
        "plt.title('People Who Mentioned to Have Cabin')\n",
        "x=titanic[titanic['Cabin']!='A' ]\n",
        "sns.countplot(data=x, x='Pclass', hue=\"Survived\")\n",
        "\n",
        "\n",
        "plt.subplot(4,2,2)\n",
        "plt.title('People Who are not mentioned to Have Cabin')\n",
        "y=titanic[titanic['Cabin']=='A']\n",
        "sns.countplot(data=y, x='Pclass', hue=\"Survived\")\n",
        "\n"
      ],
      "metadata": {
        "colab": {
          "base_uri": "https://localhost:8080/",
          "height": 213
        },
        "id": "uYAuBOMOSadw",
        "outputId": "557c571c-0572-4bb8-97a5-ea92cfcf0042"
      },
      "execution_count": null,
      "outputs": [
        {
          "output_type": "execute_result",
          "data": {
            "text/plain": [
              "<matplotlib.axes._subplots.AxesSubplot at 0x7f02df390650>"
            ]
          },
          "metadata": {},
          "execution_count": 283
        },
        {
          "output_type": "display_data",
          "data": {
            "text/plain": [
              "<Figure size 1080x720 with 2 Axes>"
            ],
            "image/png": "[encoded data removed]"
          },
          "metadata": {
            "needs_background": "light"
          }
        }
      ]
    },
    {
      "cell_type": "markdown",
      "source": [
        "#Machine Learning Models\n"
      ],
      "metadata": {
        "id": "EdeSlxR4eSld"
      }
    },
    {
      "cell_type": "code",
      "source": [
        "from sklearn.preprocessing import LabelEncoder\n",
        "\n",
        "# Creating a instance of label Encoder.\n",
        "le = LabelEncoder()\n",
        "\n",
        "# Using .fit_transform function to fit label\n",
        "# encoder and return encoded label\n",
        "\n",
        "titanic['Sex'] = le.fit_transform(titanic['Sex'])\n",
        "titanic['Embarked'] = le.fit_transform(titanic['Embarked'])\n",
        "\n",
        "\n",
        "titanic.info()"
      ],
      "metadata": {
        "colab": {
          "base_uri": "https://localhost:8080/"
        },
        "id": "Aq7FhwzICHn7",
        "outputId": "d21d3ab8-8d0a-4ae3-b257-ab7cdffa1c51"
      },
      "execution_count": null,
      "outputs": [
        {
          "output_type": "stream",
          "name": "stdout",
          "text": [
            "<class 'pandas.core.frame.DataFrame'>\n",
            "Int64Index: 889 entries, 0 to 890\n",
            "Data columns (total 12 columns):\n",
            " #   Column       Non-Null Count  Dtype  \n",
            "---  ------       --------------  -----  \n",
            " 0   PassengerId  889 non-null    int64  \n",
            " 1   Survived     889 non-null    int64  \n",
            " 2   Pclass       889 non-null    int64  \n",
            " 3   Name         889 non-null    object \n",
            " 4   Sex          889 non-null    int64  \n",
            " 5   Age          889 non-null    float64\n",
            " 6   SibSp        889 non-null    int64  \n",
            " 7   Parch        889 non-null    int64  \n",
            " 8   Ticket       889 non-null    object \n",
            " 9   Fare         889 non-null    float64\n",
            " 10  Cabin        889 non-null    object \n",
            " 11  Embarked     889 non-null    int64  \n",
            "dtypes: float64(2), int64(7), object(3)\n",
            "memory usage: 90.3+ KB\n"
          ]
        }
      ]
    },
    {
      "cell_type": "code",
      "source": [
        "from sklearn.model_selection import train_test_split\n",
        "\n",
        "y = titanic.Survived\n",
        "x = titanic.drop(['Name','PassengerId','Cabin','Ticket','Survived'],axis = 1)\n",
        "x_train,x_test, y_train, y_test = train_test_split(x,y, test_size=0.2,random_state=42,shuffle=True)"
      ],
      "metadata": {
        "id": "0MzkMxCcZKy7"
      },
      "execution_count": null,
      "outputs": []
    },
    {
      "cell_type": "code",
      "source": [
        "#Models Train and Test\n",
        "from sklearn.linear_model import LogisticRegression\n",
        "from sklearn.naive_bayes import GaussianNB\n",
        "from sklearn.neighbors import KNeighborsClassifier\n",
        "from sklearn import svm\n",
        "from sklearn.tree import DecisionTreeClassifier\n",
        "from sklearn.ensemble import RandomForestClassifier\n",
        "from xgboost import XGBClassifier\n",
        "from sklearn import metrics\n",
        "from sklearn.metrics import roc_auc_score\n",
        "\n",
        "\n",
        "Log_Reg_model = LogisticRegression()\n",
        "Nb_model = GaussianNB()\n",
        "knn = KNeighborsClassifier(n_neighbors=11)\n",
        "svm_model = svm.SVC(probability=True)\n",
        "DT_model = DecisionTreeClassifier()\n",
        "RF_model = RandomForestClassifier()\n",
        "XGB_model = XGBClassifier()\n",
        "models=[Log_Reg_model,Nb_model,knn,svm_model,DT_model,RF_model,XGB_model]\n"
      ],
      "metadata": {
        "id": "knv9NH9J706g"
      },
      "execution_count": null,
      "outputs": []
    },
    {
      "cell_type": "code",
      "source": [
        "for model in models:\n",
        "  model.fit(x_train,y_train)\n",
        "  y_pred = model.predict(x_test)\n",
        "  accuracy  = metrics.accuracy_score(y_test,y_pred)\n",
        "  recall = metrics.recall_score(y_test,y_pred)\n",
        "  precision = metrics.precision_score(y_test,y_pred)\n",
        "  f1_score = metrics.f1_score(y_test,y_pred)\n",
        "  y_pred_proba = model.predict_proba(x_test)[::,1]\n",
        "  ROC_AUC = roc_auc_score(y_test,y_pred_proba)\n",
        "\n",
        "  print(model)\n",
        "  print(f'Model Accuracy = {100*accuracy:0.3} %' )\n",
        "  print(f'Model recall = {100*recall:0.3} %' )\n",
        "  print(f'Model precision = {100*precision:0.3} %' )\n",
        "  print(f'Model f1_score = {100*f1_score:0.3} %' )\n",
        "  print(\"ROC_AUC : {:.4f}\".format(ROC_AUC))\n",
        "  print('\\n')\n",
        "\n",
        "\n",
        "\n",
        "\n"
      ],
      "metadata": {
        "colab": {
          "base_uri": "https://localhost:8080/"
        },
        "id": "O8vlmk9T7-7w",
        "outputId": "b6674574-21ea-4cb0-be17-130c0bf9a78f"
      },
      "execution_count": null,
      "outputs": [
        {
          "output_type": "stream",
          "name": "stdout",
          "text": [
            "LogisticRegression()\n",
            "Model Accuracy = 78.1 %\n",
            "Model recall = 78.3 %\n",
            "Model precision = 69.2 %\n",
            "Model f1_score = 73.5 %\n",
            "ROC_AUC : 0.8527\n",
            "\n",
            "\n",
            "GaussianNB()\n",
            "Model Accuracy = 77.5 %\n",
            "Model recall = 76.8 %\n",
            "Model precision = 68.8 %\n",
            "Model f1_score = 72.6 %\n",
            "ROC_AUC : 0.8098\n",
            "\n",
            "\n",
            "KNeighborsClassifier(n_neighbors=11)\n",
            "Model Accuracy = 75.8 %\n",
            "Model recall = 60.9 %\n",
            "Model precision = 72.4 %\n",
            "Model f1_score = 66.1 %\n",
            "ROC_AUC : 0.7754\n",
            "\n",
            "\n",
            "SVC(probability=True)\n",
            "Model Accuracy = 68.5 %\n",
            "Model recall = 31.9 %\n",
            "Model precision = 71.0 %\n",
            "Model f1_score = 44.0 %\n",
            "ROC_AUC : 0.7327\n",
            "\n",
            "\n",
            "DecisionTreeClassifier()\n",
            "Model Accuracy = 74.2 %\n",
            "Model recall = 76.8 %\n",
            "Model precision = 63.9 %\n",
            "Model f1_score = 69.7 %\n",
            "ROC_AUC : 0.7384\n",
            "\n",
            "\n",
            "RandomForestClassifier()\n",
            "Model Accuracy = 77.5 %\n",
            "Model recall = 73.9 %\n",
            "Model precision = 69.9 %\n",
            "Model f1_score = 71.8 %\n",
            "ROC_AUC : 0.8436\n",
            "\n",
            "\n",
            "XGBClassifier()\n",
            "Model Accuracy = 79.8 %\n",
            "Model recall = 72.5 %\n",
            "Model precision = 74.6 %\n",
            "Model f1_score = 73.5 %\n",
            "ROC_AUC : 0.8656\n",
            "\n",
            "\n"
          ]
        }
      ]
    },
    {
      "cell_type": "code",
      "source": [
        "#@title KNN Hyptertuning\n",
        "error_rate = []\n",
        "\n",
        "for i in range(1,15):\n",
        "\n",
        "  Knn_tuning = KNeighborsClassifier(n_neighbors=i)\n",
        "\n",
        "  Knn_tuning.fit(x_train,y_train)\n",
        "\n",
        "  predict_i= Knn_tuning.predict(x_test)\n",
        "\n",
        "  error_rate.append(np.mean(predict_i != y_test))\n",
        "plt.figure(figsize=(10,6))\n",
        "plt.plot(range(1,15), error_rate, color='blue', linestyle = 'dashed', marker = 'o', markerfacecolor = 'red', markersize = 10)\n",
        "plt.title(\"Error rate VS K\")\n",
        "\n",
        "# plt.ylim(0.060,0.064)\n",
        "# plt.xlim(10,35)\n",
        "plt.xlabel('K vlaue')\n",
        "plt.ylabel('Error Rate')"
      ],
      "metadata": {
        "colab": {
          "base_uri": "https://localhost:8080/",
          "height": 428
        },
        "id": "FO1bPdNFvMHJ",
        "outputId": "677039e5-7811-45f7-a8f2-9a96970f5ef0",
        "cellView": "form"
      },
      "execution_count": null,
      "outputs": [
        {
          "output_type": "execute_result",
          "data": {
            "text/plain": [
              "Text(0, 0.5, 'Error Rate')"
            ]
          },
          "metadata": {},
          "execution_count": 73
        },
        {
          "output_type": "display_data",
          "data": {
            "text/plain": [
              "<Figure size 720x432 with 1 Axes>"
            ],
            "image/png": "[encoded data removed]"
          },
          "metadata": {
            "needs_background": "light"
          }
        }
      ]
    },
    {
      "cell_type": "code",
      "source": [
        "#@title SVC hypertunning\n",
        "param_grid = {'C': [0.01, 0.1, 1, 10, 100], 'kernel': ['rbf', 'linear']}\n",
        "svm_model = svm.SVC(probability=True)\n",
        "\n",
        "clf = GridSearchCV(estimator=svm_model, param_grid=param_grid)\n",
        "clf = clf.fit(x_train, y_train)\n",
        "print(\"Best estimator found by grid search:\")\n",
        "print(clf.best_estimator_)"
      ],
      "metadata": {
        "id": "2xVPfw-A7W6l"
      },
      "execution_count": null,
      "outputs": []
    },
    {
      "cell_type": "code",
      "source": [
        "#@title Decision Tree\n",
        "# Create the parameter grid based on the results of random search \n",
        "params = {\n",
        "    'max_depth': [2, 3, 5, 10, 20],\n",
        "    'min_samples_leaf': [5, 10, 20, 50, 100],\n",
        "    'criterion': [\"gini\", \"entropy\"]\n",
        "}\n",
        "\n",
        "DT_model = DecisionTreeClassifier()\n",
        "grid_search = GridSearchCV(estimator=DT_model, \n",
        "                           param_grid=params, \n",
        "                           cv=4, n_jobs=-1, verbose=1, scoring = \"accuracy\")\n",
        "grid_search.fit(x_train, y_train)\n",
        "grid_search.best_params_\n",
        "\n"
      ],
      "metadata": {
        "colab": {
          "base_uri": "https://localhost:8080/"
        },
        "id": "zk0_VlYT32zX",
        "outputId": "0aebcee9-272b-4507-a88b-c26a53b403b7"
      },
      "execution_count": null,
      "outputs": [
        {
          "output_type": "stream",
          "name": "stdout",
          "text": [
            "Fitting 4 folds for each of 50 candidates, totalling 200 fits\n"
          ]
        },
        {
          "output_type": "execute_result",
          "data": {
            "text/plain": [
              "{'criterion': 'gini', 'max_depth': 3, 'min_samples_leaf': 5}"
            ]
          },
          "metadata": {},
          "execution_count": 105
        }
      ]
    },
    {
      "cell_type": "code",
      "source": [
        "DT_model = DecisionTreeClassifier(criterion='gini',max_depth=3,min_samples_leaf=5)\n",
        "DT_model.fit(x_train,y_train)\n",
        "\n",
        "\n",
        "y_pred = DT_model.predict(x_test)\n",
        "accuracy  = metrics.accuracy_score(y_test,y_pred)\n",
        "recall = metrics.recall_score(y_test,y_pred)\n",
        "precision = metrics.precision_score(y_test,y_pred)\n",
        "f1_score = metrics.f1_score(y_test,y_pred)\n",
        "y_pred_proba = DT_model.predict_proba(x_test)[::,1]\n",
        "ROC_AUC = roc_auc_score(y_test,y_pred_proba)\n",
        "\n",
        "print(f'Model Accuracy = {100*accuracy:0.3} %' )\n",
        "print(f'Model recall = {100*recall:0.3} %' )\n",
        "print(f'Model precision = {100*precision:0.3} %' )\n",
        "print(f'Model f1_score = {100*f1_score:0.3} %' )\n",
        "print(\"ROC_AUC : {:.4f}\".format(ROC_AUC))\n",
        "\n",
        "\n",
        "'''\n",
        "#Hypertuned Decision tree\n",
        "Model Accuracy = 82.0 %\n",
        "Model recall = 78.3 %\n",
        "Model precision = 76.1 %\n",
        "Model f1_score = 77.1 %\n",
        "ROC_AUC : 0.8671\n",
        "\n",
        "'''"
      ],
      "metadata": {
        "colab": {
          "base_uri": "https://localhost:8080/"
        },
        "id": "m8jO77sM4Ne6",
        "outputId": "3d0bccfc-5c59-4d4b-bcb0-b2cf4f62e1e8"
      },
      "execution_count": null,
      "outputs": [
        {
          "output_type": "stream",
          "name": "stdout",
          "text": [
            "Model Accuracy = 82.0 %\n",
            "Model recall = 78.3 %\n",
            "Model precision = 76.1 %\n",
            "Model f1_score = 77.1 %\n",
            "ROC_AUC : 0.8671\n"
          ]
        }
      ]
    },
    {
      "cell_type": "code",
      "source": [
        "#@title Naive Bayes Hypertunning\n",
        "from sklearn.model_selection import RepeatedStratifiedKFold\n",
        "\n",
        "cv_method = RepeatedStratifiedKFold(n_splits=5, \n",
        "                                    n_repeats=3\n",
        "                                    )\n",
        "from sklearn.preprocessing import PowerTransformer\n",
        "params_NB = {'var_smoothing': np.logspace(0,-9, num=100)}\n",
        "\n",
        "gs_NB = GridSearchCV(estimator=model, \n",
        "                     param_grid=params_NB, \n",
        "                     cv=cv_method,\n",
        "                     verbose=1, \n",
        "                     scoring='accuracy')\n",
        "\n",
        "Data_transformed = PowerTransformer().fit_transform(x_test)\n",
        "\n",
        "gs_NB.fit(Data_transformed, y_test);\n",
        "gs_NB.best_params_\n"
      ],
      "metadata": {
        "colab": {
          "base_uri": "https://localhost:8080/"
        },
        "id": "ZiEzXHg52L5P",
        "outputId": "0f18872d-174d-4e22-99b2-a2b37077fde7",
        "cellView": "form"
      },
      "execution_count": null,
      "outputs": [
        {
          "output_type": "stream",
          "name": "stdout",
          "text": [
            "Fitting 15 folds for each of 100 candidates, totalling 1500 fits\n"
          ]
        },
        {
          "output_type": "execute_result",
          "data": {
            "text/plain": [
              "{'var_smoothing': 1.0}"
            ]
          },
          "metadata": {},
          "execution_count": 103
        }
      ]
    },
    {
      "cell_type": "markdown",
      "source": [
        "#Random forrest hypertuning\n"
      ],
      "metadata": {
        "id": "xdzFkfp9e0ZY"
      }
    },
    {
      "cell_type": "code",
      "source": [
        "rfc=RandomForestClassifier(random_state=42)\n",
        "param_grid = { \n",
        "    'n_estimators': [200, 500],\n",
        "    'max_features': ['auto', 'sqrt', 'log2'],\n",
        "    'max_depth' : [4,5,6,7,8],\n",
        "    'criterion' :['gini', 'entropy']\n",
        "}\n",
        "CV_rfc = GridSearchCV(estimator=rfc, param_grid=param_grid, cv= 5)\n",
        "CV_rfc.fit(x_train, y_train)\n",
        "CV_rfc.best_params_\n"
      ],
      "metadata": {
        "colab": {
          "base_uri": "https://localhost:8080/"
        },
        "id": "wqmm_SRNzaLI",
        "outputId": "e2fddf75-75f8-4914-ad61-890bb4cebf2c"
      },
      "execution_count": null,
      "outputs": [
        {
          "output_type": "execute_result",
          "data": {
            "text/plain": [
              "{'criterion': 'gini',\n",
              " 'max_depth': 7,\n",
              " 'max_features': 'auto',\n",
              " 'n_estimators': 500}"
            ]
          },
          "metadata": {},
          "execution_count": 74
        }
      ]
    },
    {
      "cell_type": "code",
      "source": [
        "rfc=RandomForestClassifier(random_state=42,criterion='gini',max_depth=7,max_features='auto',n_estimators=500)\n",
        "rfc.fit(x_train,y_train)\n",
        "\n",
        "\n",
        "y_pred = rfc.predict(x_test)\n",
        "accuracy  = metrics.accuracy_score(y_test,y_pred)\n",
        "recall = metrics.recall_score(y_test,y_pred)\n",
        "precision = metrics.precision_score(y_test,y_pred)\n",
        "f1_score = metrics.f1_score(y_test,y_pred)\n",
        "y_pred_proba = rfc.predict_proba(x_test)[::,1]\n",
        "ROC_AUC = roc_auc_score(y_test,y_pred_proba)\n",
        "\n",
        "print(f'Model Accuracy = {100*accuracy:0.3} %' )\n",
        "print(f'Model recall = {100*recall:0.3} %' )\n",
        "print(f'Model precision = {100*precision:0.3} %' )\n",
        "print(f'Model f1_score = {100*f1_score:0.3} %' )\n",
        "print(\"ROC_AUC : {:.4f}\".format(ROC_AUC))\n",
        "\n"
      ],
      "metadata": {
        "colab": {
          "base_uri": "https://localhost:8080/"
        },
        "id": "wpxdmFuAzowg",
        "outputId": "63676a4b-f486-4290-863e-1730074d5e04"
      },
      "execution_count": null,
      "outputs": [
        {
          "output_type": "stream",
          "name": "stdout",
          "text": [
            "Model Accuracy = 79.8 %\n",
            "Model recall = 69.6 %\n",
            "Model precision = 76.2 %\n",
            "Model f1_score = 72.7 %\n",
            "ROC_AUC : 0.8488\n"
          ]
        }
      ]
    },
    {
      "cell_type": "markdown",
      "source": [
        "#Logistic Regression hypertunning"
      ],
      "metadata": {
        "id": "Z7PSa7QWe5uI"
      }
    },
    {
      "cell_type": "code",
      "source": [
        "\n",
        "\n",
        "\n",
        "from sklearn.linear_model import LogisticRegression\n",
        "from sklearn.model_selection import GridSearchCV\n",
        "\n",
        "from sklearn.metrics import make_scorer, accuracy_score, precision_score, recall_score, f1_score\n",
        "\n",
        "scoring1 = {'accuracy': make_scorer(accuracy_score),\n",
        "           'precision': make_scorer(precision_score, average = 'macro'),\n",
        "           'recall': make_scorer(recall_score, average = 'macro'),\n",
        "           'f1': make_scorer(f1_score, average = 'macro')}\n",
        "\n",
        "\n",
        "Log_Reg_model = LogisticRegression(max_iter=12000)\n",
        "\n",
        "grid={\"C\":np.logspace(-3,3,7),'solver':['newton-cg', 'lbfgs', 'liblinear', 'sag', 'saga']}\n",
        "      \n",
        "grid_search = GridSearchCV(estimator = Log_Reg_model,  \n",
        "                           param_grid = grid,\n",
        "                           scoring = scoring1,\n",
        "                           cv = 5,\n",
        "                           refit='accuracy'\n",
        "                           )\n",
        "\n",
        "grid_search.fit(x_train, y_train)   \n",
        "print(grid_search.best_params_)\n"
      ],
      "metadata": {
        "id": "s3PwYefjAVXH",
        "colab": {
          "base_uri": "https://localhost:8080/"
        },
        "outputId": "9cb8d5a2-37f1-421b-fc9f-7f603d0bd9c1"
      },
      "execution_count": null,
      "outputs": [
        {
          "output_type": "stream",
          "name": "stdout",
          "text": [
            "{'C': 0.1, 'solver': 'newton-cg'}\n"
          ]
        }
      ]
    },
    {
      "cell_type": "code",
      "source": [
        "Log_Reg_model = LogisticRegression(C=0.1,solver='newton-cg')\n",
        "Log_Reg_model.fit(x_train,y_train)\n",
        "y_pred = Log_Reg_model.predict(x_test)\n",
        "accuracy  = metrics.accuracy_score(y_test,y_pred)\n",
        "recall = metrics.recall_score(y_test,y_pred)\n",
        "precision = metrics.precision_score(y_test,y_pred)\n",
        "f1_score = metrics.f1_score(y_test,y_pred)\n",
        "y_pred_proba = Log_Reg_model.predict_proba(x_test)[::,1]\n",
        "ROC_AUC = roc_auc_score(y_test,y_pred_proba)\n",
        "\n",
        "print(f'Model Accuracy = {100*accuracy:0.3} %' )\n",
        "print(f'Model recall = {100*recall:0.3} %' )\n",
        "print(f'Model precision = {100*precision:0.3} %' )\n",
        "print(f'Model f1_score = {100*f1_score:0.3} %' )\n",
        "print(\"ROC_AUC : {:.4f}\".format(ROC_AUC))\n",
        "\n",
        "\n",
        "'''\n",
        "HyperTuned\n",
        "#logistic\n",
        "Model Accuracy = 81.5 %\n",
        "Model recall = 78.3 %\n",
        "Model precision = 75.0 %\n",
        "Model f1_score = 76.6 %\n",
        "ROC_AUC : 0.8509\n",
        "'''\n"
      ],
      "metadata": {
        "colab": {
          "base_uri": "https://localhost:8080/"
        },
        "id": "CUsWJgsYbnIf",
        "outputId": "887ec1cf-a43a-47f3-f846-8bc7413a2328"
      },
      "execution_count": null,
      "outputs": [
        {
          "output_type": "stream",
          "name": "stdout",
          "text": [
            "Model Accuracy = 81.5 %\n",
            "Model recall = 78.3 %\n",
            "Model precision = 75.0 %\n",
            "Model f1_score = 76.6 %\n",
            "ROC_AUC : 0.8509\n"
          ]
        }
      ]
    },
    {
      "cell_type": "markdown",
      "source": [
        "#Hypertune XGB Boost"
      ],
      "metadata": {
        "id": "yNbjicPofAiH"
      }
    },
    {
      "cell_type": "code",
      "source": [
        "\n",
        "from xgboost import XGBClassifier\n",
        "from sklearn.model_selection import GridSearchCV\n",
        "\n",
        "PARAMETERS = {'n_estimators': [400, 700, 1000],\n",
        "    'colsample_bytree': [0.7, 0.8],\n",
        "    'max_depth': [15,20,25],\n",
        "    'reg_alpha': [1.1, 1.2, 1.3],\n",
        "    'reg_lambda': [1.1, 1.2, 1.3],\n",
        "    'subsample': [0.7, 0.8, 0.9]\n",
        "          }\n",
        "XGB_model = XGBClassifier()\n",
        "grid=GridSearchCV(XGB_model,param_grid=PARAMETERS,cv=5,scoring='f1')\n",
        "grid.fit(x_train,y_train)\n",
        "print(grid.best_params_)\n"
      ],
      "metadata": {
        "colab": {
          "base_uri": "https://localhost:8080/"
        },
        "id": "QH9-xdxhivZp",
        "outputId": "ddb8e18b-aa3b-4cb2-801f-36035db7893a"
      },
      "execution_count": null,
      "outputs": [
        {
          "output_type": "stream",
          "name": "stdout",
          "text": [
            "{'colsample_bytree': 0.8, 'max_depth': 15, 'n_estimators': 400, 'reg_alpha': 1.3, 'reg_lambda': 1.2, 'subsample': 0.8}\n"
          ]
        }
      ]
    },
    {
      "cell_type": "code",
      "source": [
        "#@title xgb hypertune\n",
        "XGB_model = XGBClassifier(colsample_bytree=0.8, max_depth= 15, n_estimators=400, reg_alpha= 1.3, reg_lambda= 1.2, subsample= 0.8)\n",
        "\n",
        "XGB_model.fit(x_train,y_train)\n",
        "\n",
        "\n",
        "y_pred = XGB_model.predict(x_test)\n",
        "accuracy  = metrics.accuracy_score(y_test,y_pred)\n",
        "recall = metrics.recall_score(y_test,y_pred)\n",
        "precision = metrics.precision_score(y_test,y_pred)\n",
        "f1_score = metrics.f1_score(y_test,y_pred)\n",
        "y_pred_proba = XGB_model.predict_proba(x_test)[::,1]\n",
        "ROC_AUC = roc_auc_score(y_test,y_pred_proba)\n",
        "\n",
        "print(f'Model Accuracy = {100*accuracy:0.3} %' )\n",
        "print(f'Model recall = {100*recall:0.3} %' )\n",
        "print(f'Model precision = {100*precision:0.3} %' )\n",
        "print(f'Model f1_score = {100*f1_score:0.3} %' )\n",
        "print(\"ROC_AUC : {:.4f}\".format(ROC_AUC))\n",
        "\n",
        "\n",
        "\n",
        "'''\n",
        "#xgb\n",
        "\n",
        "Model Accuracy = 82.0 %\n",
        "Model recall = 76.8 %\n",
        "Model precision = 76.8 %\n",
        "Model f1_score = 76.8 %\n",
        "ROC_AUC : 0.8704\n",
        "'''\n",
        "\n"
      ],
      "metadata": {
        "colab": {
          "base_uri": "https://localhost:8080/"
        },
        "id": "0qWCLgDSlVae",
        "outputId": "463df381-5a9a-4b3a-efb0-b8cf1337ec5d"
      },
      "execution_count": null,
      "outputs": [
        {
          "output_type": "stream",
          "name": "stdout",
          "text": [
            "Model Accuracy = 82.0 %\n",
            "Model recall = 76.8 %\n",
            "Model precision = 76.8 %\n",
            "Model f1_score = 76.8 %\n",
            "ROC_AUC : 0.8704\n"
          ]
        }
      ]
    },
    {
      "cell_type": "markdown",
      "source": [
        "#Extra"
      ],
      "metadata": {
        "id": "3GDd2xZhfFnd"
      }
    },
    {
      "cell_type": "code",
      "source": [
        "from sklearn.metrics import confusion_matrix\n",
        "import matplotlib.pyplot as plt\n",
        "\n",
        "cf_matrix = confusion_matrix(y_test,y_pred)\n",
        "\n",
        "\n",
        "print(cf_matrix)\n",
        "\n",
        "import seaborn as sns\n",
        "\n",
        "ax = sns.heatmap(cf_matrix, annot=True, cmap='Blues')\n",
        "\n",
        "ax.set_title('Seaborn Confusion Matrix with labels\\n\\n');\n",
        "ax.set_xlabel('\\nPredicted Values')\n",
        "ax.set_ylabel('Actual Values ');\n",
        "\n",
        "## Ticket labels - List must be in alphabetical order\n",
        "ax.xaxis.set_ticklabels(['0','1'])\n",
        "ax.yaxis.set_ticklabels(['0','1'])\n",
        "\n",
        "## Display the visualization of the Confusion Matrix.\n",
        "plt.show()"
      ],
      "metadata": {
        "colab": {
          "base_uri": "https://localhost:8080/",
          "height": 385
        },
        "id": "OTZLlZI9UPd3",
        "outputId": "4ccf0b84-965b-4523-9808-fd051936edd0"
      },
      "execution_count": null,
      "outputs": [
        {
          "output_type": "stream",
          "name": "stdout",
          "text": [
            "[[108   9]\n",
            " [ 30  31]]\n"
          ]
        },
        {
          "output_type": "display_data",
          "data": {
            "text/plain": [
              "<Figure size 432x288 with 2 Axes>"
            ],
            "image/png": "[encoded data removed]"
          },
          "metadata": {
            "needs_background": "light"
          }
        }
      ]
    },
    {
      "cell_type": "code",
      "source": [
        "features = x.columns\n",
        "importances = DT_model.feature_importances_\n",
        "indices = np.argsort(importances)\n",
        "\n",
        "plt.figure(figsize=(10,8))\n",
        "plt.title('Feature Importances')\n",
        "plt.barh(range(len(indices)), importances[indices], color='b', align='center')\n",
        "plt.yticks(range(len(indices)), [features[i] for i in indices])\n",
        "plt.xlabel('Relative Importance')\n",
        "plt.show()"
      ],
      "metadata": {
        "colab": {
          "base_uri": "https://localhost:8080/",
          "height": 513
        },
        "id": "hfLE4wk4GXNw",
        "outputId": "c209a9d7-219d-4891-9791-0b08ff427ef6"
      },
      "execution_count": null,
      "outputs": [
        {
          "output_type": "display_data",
          "data": {
            "text/plain": [
              "<Figure size 720x576 with 1 Axes>"
            ],
            "image/png": "[encoded data removed]"
          },
          "metadata": {
            "needs_background": "light"
          }
        }
      ]
    },
    {
      "cell_type": "markdown",
      "source": [
        "**Random Forrest**"
      ],
      "metadata": {
        "id": "g1FZqv4XGmFi"
      }
    },
    {
      "cell_type": "code",
      "source": [
        "features = x.columns\n",
        "importances = RF_model.feature_importances_\n",
        "indices = np.argsort(importances)\n",
        "\n",
        "plt.figure(figsize=(10,8))\n",
        "plt.title('Feature Importances')\n",
        "plt.barh(range(len(indices)), importances[indices], color='b', align='center')\n",
        "plt.yticks(range(len(indices)), [features[i] for i in indices])\n",
        "plt.xlabel('Relative Importance')\n",
        "plt.show()"
      ],
      "metadata": {
        "colab": {
          "base_uri": "https://localhost:8080/",
          "height": 520
        },
        "id": "HEKkd8jwHEa3",
        "outputId": "97eaf8e0-26ce-4970-ab7e-05120d8cb973"
      },
      "execution_count": null,
      "outputs": [
        {
          "output_type": "display_data",
          "data": {
            "text/plain": [
              "<Figure size 720x576 with 1 Axes>"
            ],
            "image/png": "[encoded data removed]"
          },
          "metadata": {
            "needs_background": "light"
          }
        }
      ]
    },
    {
      "cell_type": "code",
      "source": [],
      "metadata": {
        "id": "8KodtrDbjGvD"
      },
      "execution_count": null,
      "outputs": []
    },
    {
      "cell_type": "code",
      "source": [],
      "metadata": {
        "id": "mfpztu98jKSm"
      },
      "execution_count": null,
      "outputs": []
    },
    {
      "cell_type": "markdown",
      "source": [
        "#Ensemble"
      ],
      "metadata": {
        "id": "hxnrUxX3fKIq"
      }
    },
    {
      "cell_type": "code",
      "source": [
        "#New\n",
        "from sklearn.ensemble import VotingClassifier\n",
        "from xgboost import XGBClassifier\n",
        "from sklearn.naive_bayes import GaussianNB\n",
        "x_train,x_test, y_train, y_test = train_test_split(x,y, test_size=0.2,random_state=42,shuffle=True)\n",
        "\n",
        "\n",
        "clf = VotingClassifier(\n",
        "          estimators=[('lr',LogisticRegression()), ('DT',DecisionTreeClassifier()),('Xgb',XGBClassifier())]\n",
        "          , voting='soft')\n",
        "#put the combination of parameters here \n",
        "p = [{'lr__C':[1,2],'gboost__n_estimator':[10,20]}]\n",
        "\n",
        "grid = GridSearchCV(clf,p,cv=5,scoring='neg_log_loss')\n",
        "grid.fit(X_train,Y_train)\n",
        "\n",
        "\n",
        "\n",
        "\n",
        "\n",
        "params = {'c0__learning_rate': [0.1, 0.2, 0.3],\n",
        "          'c0__n_estimators': [50, 100, 150, 200],\n",
        "          'c0__max_depth': [3, 4, 5],\n",
        "          'c0__subsample': [1.0, 0.9, 0.7],\n",
        "          'c1__n_estimators': [50, 100, 150, 200],\n",
        "          'c1__min_samples_split': [2, 3]}\n",
        "\n",
        "eclf = VotingClassifier(estimators=[('c0', clf0), ('c1', clf1), ('c2', clf2)], voting='soft', weights=[1, 2, 1])\n",
        "clf = GridSearchCV(estimator=eclf, param_grid=params, cv=5, verbose=1)"
      ],
      "metadata": {
        "id": "P1heafeKhlMv"
      },
      "execution_count": null,
      "outputs": []
    },
    {
      "cell_type": "code",
      "source": [
        "from sklearn.model_selection import RandomizedSearchCV\n",
        "\n",
        "xg = XGBClassifier()\n",
        "dt =DecisionTreeClassifier()\n",
        "lr = LogisticRegression(max_iter=8000)\n",
        "\n",
        "\n",
        "xg_param = {\n",
        "    \"n_estimators\": [50, 100, 150,400,550],\n",
        "    \"max_depth\": [3, 6, 9],\n",
        "    \"colsample_bytree\": [0.5, 0.9, 1.0],\n",
        "    \"learning_rate\": [0.5, 0.9, 1.0],\n",
        "     'colsample_bytree': [0.7, 0.8],\n",
        "    'reg_alpha': [1.1, 1.2, 1.3],\n",
        "    'reg_lambda': [1.1, 1.2, 1.3]\n",
        "    \n",
        "}\n",
        "\n",
        "dt_param={\n",
        "    'max_depth': [2, 3, 5, 10, 20],\n",
        "    'min_samples_leaf': [5, 10, 20, 50, 100],\n",
        "    'criterion': [\"gini\", \"entropy\"]\n",
        "}\n",
        "\n",
        "\n",
        "lr_param = {\n",
        "  \"C\":np.logspace(-3,3,7),'solver':['newton-cg', 'lbfgs', 'liblinear', 'sag', 'saga']\n",
        "}\n",
        "\n",
        "\n",
        "\n",
        "\n",
        "\n",
        "\n",
        "\n",
        "\n",
        "\n",
        "params = {}\n",
        "params.update({\"xg__\" + k: v for k, v in xg_param.items()})\n",
        "params.update({\"dt__\" + k: v for k, v in dt_param.items()})\n",
        "params.update({\"lr__\" + k: v for k, v in lr_param.items()})\n",
        "\n",
        "eclf = VotingClassifier(estimators=[(\"xg\", xg),\n",
        "                                    (\"dt\", dt),\n",
        "                                    (\"lr\", lr)],\n",
        "                        voting=\"soft\")\n",
        "\n",
        "clf = RandomizedSearchCV(eclf,\n",
        "                         param_distributions=params,\n",
        "                         cv=5,\n",
        "                         n_iter=100,\n",
        "                         n_jobs=1,\n",
        "                         verbose=2)\n",
        "clf.fit(x_train, y_train)\n",
        "predict = clf.predict(x_test)"
      ],
      "metadata": {
        "colab": {
          "base_uri": "https://localhost:8080/"
        },
        "id": "lQF0h0wejM6b",
        "outputId": "90257d4b-66b5-4f19-87e4-e00bfb889a76"
      },
      "execution_count": null,
      "outputs": [
        {
          "output_type": "stream",
          "name": "stdout",
          "text": [
            "Fitting 5 folds for each of 100 candidates, totalling 500 fits\n",
            "[CV] END dt__criterion=entropy, dt__max_depth=3, dt__min_samples_leaf=100, lr__C=10.0, lr__solver=sag, xg__colsample_bytree=0.7, xg__learning_rate=1.0, xg__max_depth=3, xg__n_estimators=50, xg__reg_alpha=1.2, xg__reg_lambda=1.3; total time=   1.5s\n",
            "[CV] END dt__criterion=entropy, dt__max_depth=3, dt__min_samples_leaf=100, lr__C=10.0, lr__solver=sag, xg__colsample_bytree=0.7, xg__learning_rate=1.0, xg__max_depth=3, xg__n_estimators=50, xg__reg_alpha=1.2, xg__reg_lambda=1.3; total time=   1.4s\n",
            "[CV] END dt__criterion=entropy, dt__max_depth=3, dt__min_samples_leaf=100, lr__C=10.0, lr__solver=sag, xg__colsample_bytree=0.7, xg__learning_rate=1.0, xg__max_depth=3, xg__n_estimators=50, xg__reg_alpha=1.2, xg__reg_lambda=1.3; total time=   1.5s\n",
            "[CV] END dt__criterion=entropy, dt__max_depth=3, dt__min_samples_leaf=100, lr__C=10.0, lr__solver=sag, xg__colsample_bytree=0.7, xg__learning_rate=1.0, xg__max_depth=3, xg__n_estimators=50, xg__reg_alpha=1.2, xg__reg_lambda=1.3; total time=   1.5s\n",
            "[CV] END dt__criterion=entropy, dt__max_depth=3, dt__min_samples_leaf=100, lr__C=10.0, lr__solver=sag, xg__colsample_bytree=0.7, xg__learning_rate=1.0, xg__max_depth=3, xg__n_estimators=50, xg__reg_alpha=1.2, xg__reg_lambda=1.3; total time=   1.3s\n",
            "[CV] END dt__criterion=entropy, dt__max_depth=3, dt__min_samples_leaf=100, lr__C=0.01, lr__solver=saga, xg__colsample_bytree=0.8, xg__learning_rate=0.5, xg__max_depth=3, xg__n_estimators=50, xg__reg_alpha=1.2, xg__reg_lambda=1.2; total time=   1.0s\n",
            "[CV] END dt__criterion=entropy, dt__max_depth=3, dt__min_samples_leaf=100, lr__C=0.01, lr__solver=saga, xg__colsample_bytree=0.8, xg__learning_rate=0.5, xg__max_depth=3, xg__n_estimators=50, xg__reg_alpha=1.2, xg__reg_lambda=1.2; total time=   1.2s\n",
            "[CV] END dt__criterion=entropy, dt__max_depth=3, dt__min_samples_leaf=100, lr__C=0.01, lr__solver=saga, xg__colsample_bytree=0.8, xg__learning_rate=0.5, xg__max_depth=3, xg__n_estimators=50, xg__reg_alpha=1.2, xg__reg_lambda=1.2; total time=   1.1s\n",
            "[CV] END dt__criterion=entropy, dt__max_depth=3, dt__min_samples_leaf=100, lr__C=0.01, lr__solver=saga, xg__colsample_bytree=0.8, xg__learning_rate=0.5, xg__max_depth=3, xg__n_estimators=50, xg__reg_alpha=1.2, xg__reg_lambda=1.2; total time=   1.0s\n",
            "[CV] END dt__criterion=entropy, dt__max_depth=3, dt__min_samples_leaf=100, lr__C=0.01, lr__solver=saga, xg__colsample_bytree=0.8, xg__learning_rate=0.5, xg__max_depth=3, xg__n_estimators=50, xg__reg_alpha=1.2, xg__reg_lambda=1.2; total time=   0.9s\n",
            "[CV] END dt__criterion=gini, dt__max_depth=10, dt__min_samples_leaf=10, lr__C=0.001, lr__solver=lbfgs, xg__colsample_bytree=0.7, xg__learning_rate=0.5, xg__max_depth=3, xg__n_estimators=50, xg__reg_alpha=1.3, xg__reg_lambda=1.1; total time=   0.2s\n",
            "[CV] END dt__criterion=gini, dt__max_depth=10, dt__min_samples_leaf=10, lr__C=0.001, lr__solver=lbfgs, xg__colsample_bytree=0.7, xg__learning_rate=0.5, xg__max_depth=3, xg__n_estimators=50, xg__reg_alpha=1.3, xg__reg_lambda=1.1; total time=   0.2s\n",
            "[CV] END dt__criterion=gini, dt__max_depth=10, dt__min_samples_leaf=10, lr__C=0.001, lr__solver=lbfgs, xg__colsample_bytree=0.7, xg__learning_rate=0.5, xg__max_depth=3, xg__n_estimators=50, xg__reg_alpha=1.3, xg__reg_lambda=1.1; total time=   0.1s\n",
            "[CV] END dt__criterion=gini, dt__max_depth=10, dt__min_samples_leaf=10, lr__C=0.001, lr__solver=lbfgs, xg__colsample_bytree=0.7, xg__learning_rate=0.5, xg__max_depth=3, xg__n_estimators=50, xg__reg_alpha=1.3, xg__reg_lambda=1.1; total time=   0.2s\n",
            "[CV] END dt__criterion=gini, dt__max_depth=10, dt__min_samples_leaf=10, lr__C=0.001, lr__solver=lbfgs, xg__colsample_bytree=0.7, xg__learning_rate=0.5, xg__max_depth=3, xg__n_estimators=50, xg__reg_alpha=1.3, xg__reg_lambda=1.1; total time=   0.2s\n",
            "[CV] END dt__criterion=gini, dt__max_depth=3, dt__min_samples_leaf=100, lr__C=10.0, lr__solver=newton-cg, xg__colsample_bytree=0.8, xg__learning_rate=0.5, xg__max_depth=9, xg__n_estimators=50, xg__reg_alpha=1.2, xg__reg_lambda=1.1; total time=   0.2s\n",
            "[CV] END dt__criterion=gini, dt__max_depth=3, dt__min_samples_leaf=100, lr__C=10.0, lr__solver=newton-cg, xg__colsample_bytree=0.8, xg__learning_rate=0.5, xg__max_depth=9, xg__n_estimators=50, xg__reg_alpha=1.2, xg__reg_lambda=1.1; total time=   0.2s\n",
            "[CV] END dt__criterion=gini, dt__max_depth=3, dt__min_samples_leaf=100, lr__C=10.0, lr__solver=newton-cg, xg__colsample_bytree=0.8, xg__learning_rate=0.5, xg__max_depth=9, xg__n_estimators=50, xg__reg_alpha=1.2, xg__reg_lambda=1.1; total time=   0.2s\n",
            "[CV] END dt__criterion=gini, dt__max_depth=3, dt__min_samples_leaf=100, lr__C=10.0, lr__solver=newton-cg, xg__colsample_bytree=0.8, xg__learning_rate=0.5, xg__max_depth=9, xg__n_estimators=50, xg__reg_alpha=1.2, xg__reg_lambda=1.1; total time=   0.2s\n",
            "[CV] END dt__criterion=gini, dt__max_depth=3, dt__min_samples_leaf=100, lr__C=10.0, lr__solver=newton-cg, xg__colsample_bytree=0.8, xg__learning_rate=0.5, xg__max_depth=9, xg__n_estimators=50, xg__reg_alpha=1.2, xg__reg_lambda=1.1; total time=   0.2s\n",
            "[CV] END dt__criterion=entropy, dt__max_depth=2, dt__min_samples_leaf=5, lr__C=0.1, lr__solver=lbfgs, xg__colsample_bytree=0.8, xg__learning_rate=0.5, xg__max_depth=3, xg__n_estimators=100, xg__reg_alpha=1.3, xg__reg_lambda=1.1; total time=   0.1s\n",
            "[CV] END dt__criterion=entropy, dt__max_depth=2, dt__min_samples_leaf=5, lr__C=0.1, lr__solver=lbfgs, xg__colsample_bytree=0.8, xg__learning_rate=0.5, xg__max_depth=3, xg__n_estimators=100, xg__reg_alpha=1.3, xg__reg_lambda=1.1; total time=   0.3s\n",
            "[CV] END dt__criterion=entropy, dt__max_depth=2, dt__min_samples_leaf=5, lr__C=0.1, lr__solver=lbfgs, xg__colsample_bytree=0.8, xg__learning_rate=0.5, xg__max_depth=3, xg__n_estimators=100, xg__reg_alpha=1.3, xg__reg_lambda=1.1; total time=   0.3s\n",
            "[CV] END dt__criterion=entropy, dt__max_depth=2, dt__min_samples_leaf=5, lr__C=0.1, lr__solver=lbfgs, xg__colsample_bytree=0.8, xg__learning_rate=0.5, xg__max_depth=3, xg__n_estimators=100, xg__reg_alpha=1.3, xg__reg_lambda=1.1; total time=   0.1s\n",
            "[CV] END dt__criterion=entropy, dt__max_depth=2, dt__min_samples_leaf=5, lr__C=0.1, lr__solver=lbfgs, xg__colsample_bytree=0.8, xg__learning_rate=0.5, xg__max_depth=3, xg__n_estimators=100, xg__reg_alpha=1.3, xg__reg_lambda=1.1; total time=   0.3s\n",
            "[CV] END dt__criterion=entropy, dt__max_depth=3, dt__min_samples_leaf=5, lr__C=0.001, lr__solver=newton-cg, xg__colsample_bytree=0.8, xg__learning_rate=1.0, xg__max_depth=3, xg__n_estimators=400, xg__reg_alpha=1.1, xg__reg_lambda=1.3; total time=   0.3s\n",
            "[CV] END dt__criterion=entropy, dt__max_depth=3, dt__min_samples_leaf=5, lr__C=0.001, lr__solver=newton-cg, xg__colsample_bytree=0.8, xg__learning_rate=1.0, xg__max_depth=3, xg__n_estimators=400, xg__reg_alpha=1.1, xg__reg_lambda=1.3; total time=   0.3s\n",
            "[CV] END dt__criterion=entropy, dt__max_depth=3, dt__min_samples_leaf=5, lr__C=0.001, lr__solver=newton-cg, xg__colsample_bytree=0.8, xg__learning_rate=1.0, xg__max_depth=3, xg__n_estimators=400, xg__reg_alpha=1.1, xg__reg_lambda=1.3; total time=   0.2s\n",
            "[CV] END dt__criterion=entropy, dt__max_depth=3, dt__min_samples_leaf=5, lr__C=0.001, lr__solver=newton-cg, xg__colsample_bytree=0.8, xg__learning_rate=1.0, xg__max_depth=3, xg__n_estimators=400, xg__reg_alpha=1.1, xg__reg_lambda=1.3; total time=   0.2s\n",
            "[CV] END dt__criterion=entropy, dt__max_depth=3, dt__min_samples_leaf=5, lr__C=0.001, lr__solver=newton-cg, xg__colsample_bytree=0.8, xg__learning_rate=1.0, xg__max_depth=3, xg__n_estimators=400, xg__reg_alpha=1.1, xg__reg_lambda=1.3; total time=   0.4s\n",
            "[CV] END dt__criterion=gini, dt__max_depth=20, dt__min_samples_leaf=5, lr__C=0.001, lr__solver=lbfgs, xg__colsample_bytree=0.7, xg__learning_rate=1.0, xg__max_depth=6, xg__n_estimators=550, xg__reg_alpha=1.1, xg__reg_lambda=1.2; total time=   0.4s\n",
            "[CV] END dt__criterion=gini, dt__max_depth=20, dt__min_samples_leaf=5, lr__C=0.001, lr__solver=lbfgs, xg__colsample_bytree=0.7, xg__learning_rate=1.0, xg__max_depth=6, xg__n_estimators=550, xg__reg_alpha=1.1, xg__reg_lambda=1.2; total time=   0.4s\n",
            "[CV] END dt__criterion=gini, dt__max_depth=20, dt__min_samples_leaf=5, lr__C=0.001, lr__solver=lbfgs, xg__colsample_bytree=0.7, xg__learning_rate=1.0, xg__max_depth=6, xg__n_estimators=550, xg__reg_alpha=1.1, xg__reg_lambda=1.2; total time=   0.4s\n",
            "[CV] END dt__criterion=gini, dt__max_depth=20, dt__min_samples_leaf=5, lr__C=0.001, lr__solver=lbfgs, xg__colsample_bytree=0.7, xg__learning_rate=1.0, xg__max_depth=6, xg__n_estimators=550, xg__reg_alpha=1.1, xg__reg_lambda=1.2; total time=   0.2s\n",
            "[CV] END dt__criterion=gini, dt__max_depth=20, dt__min_samples_leaf=5, lr__C=0.001, lr__solver=lbfgs, xg__colsample_bytree=0.7, xg__learning_rate=1.0, xg__max_depth=6, xg__n_estimators=550, xg__reg_alpha=1.1, xg__reg_lambda=1.2; total time=   0.3s\n",
            "[CV] END dt__criterion=entropy, dt__max_depth=5, dt__min_samples_leaf=20, lr__C=1.0, lr__solver=sag, xg__colsample_bytree=0.7, xg__learning_rate=1.0, xg__max_depth=9, xg__n_estimators=550, xg__reg_alpha=1.2, xg__reg_lambda=1.1; total time=   0.9s\n",
            "[CV] END dt__criterion=entropy, dt__max_depth=5, dt__min_samples_leaf=20, lr__C=1.0, lr__solver=sag, xg__colsample_bytree=0.7, xg__learning_rate=1.0, xg__max_depth=9, xg__n_estimators=550, xg__reg_alpha=1.2, xg__reg_lambda=1.1; total time=   1.0s\n",
            "[CV] END dt__criterion=entropy, dt__max_depth=5, dt__min_samples_leaf=20, lr__C=1.0, lr__solver=sag, xg__colsample_bytree=0.7, xg__learning_rate=1.0, xg__max_depth=9, xg__n_estimators=550, xg__reg_alpha=1.2, xg__reg_lambda=1.1; total time=   0.9s\n",
            "[CV] END dt__criterion=entropy, dt__max_depth=5, dt__min_samples_leaf=20, lr__C=1.0, lr__solver=sag, xg__colsample_bytree=0.7, xg__learning_rate=1.0, xg__max_depth=9, xg__n_estimators=550, xg__reg_alpha=1.2, xg__reg_lambda=1.1; total time=   0.4s\n",
            "[CV] END dt__criterion=entropy, dt__max_depth=5, dt__min_samples_leaf=20, lr__C=1.0, lr__solver=sag, xg__colsample_bytree=0.7, xg__learning_rate=1.0, xg__max_depth=9, xg__n_estimators=550, xg__reg_alpha=1.2, xg__reg_lambda=1.1; total time=   0.5s\n",
            "[CV] END dt__criterion=gini, dt__max_depth=20, dt__min_samples_leaf=100, lr__C=10.0, lr__solver=sag, xg__colsample_bytree=0.7, xg__learning_rate=0.5, xg__max_depth=6, xg__n_estimators=150, xg__reg_alpha=1.3, xg__reg_lambda=1.1; total time=   0.4s\n",
            "[CV] END dt__criterion=gini, dt__max_depth=20, dt__min_samples_leaf=100, lr__C=10.0, lr__solver=sag, xg__colsample_bytree=0.7, xg__learning_rate=0.5, xg__max_depth=6, xg__n_estimators=150, xg__reg_alpha=1.3, xg__reg_lambda=1.1; total time=   0.4s\n",
            "[CV] END dt__criterion=gini, dt__max_depth=20, dt__min_samples_leaf=100, lr__C=10.0, lr__solver=sag, xg__colsample_bytree=0.7, xg__learning_rate=0.5, xg__max_depth=6, xg__n_estimators=150, xg__reg_alpha=1.3, xg__reg_lambda=1.1; total time=   0.4s\n",
            "[CV] END dt__criterion=gini, dt__max_depth=20, dt__min_samples_leaf=100, lr__C=10.0, lr__solver=sag, xg__colsample_bytree=0.7, xg__learning_rate=0.5, xg__max_depth=6, xg__n_estimators=150, xg__reg_alpha=1.3, xg__reg_lambda=1.1; total time=   0.4s\n",
            "[CV] END dt__criterion=gini, dt__max_depth=20, dt__min_samples_leaf=100, lr__C=10.0, lr__solver=sag, xg__colsample_bytree=0.7, xg__learning_rate=0.5, xg__max_depth=6, xg__n_estimators=150, xg__reg_alpha=1.3, xg__reg_lambda=1.1; total time=   0.4s\n",
            "[CV] END dt__criterion=entropy, dt__max_depth=10, dt__min_samples_leaf=10, lr__C=10.0, lr__solver=lbfgs, xg__colsample_bytree=0.8, xg__learning_rate=1.0, xg__max_depth=6, xg__n_estimators=50, xg__reg_alpha=1.2, xg__reg_lambda=1.1; total time=   0.1s\n",
            "[CV] END dt__criterion=entropy, dt__max_depth=10, dt__min_samples_leaf=10, lr__C=10.0, lr__solver=lbfgs, xg__colsample_bytree=0.8, xg__learning_rate=1.0, xg__max_depth=6, xg__n_estimators=50, xg__reg_alpha=1.2, xg__reg_lambda=1.1; total time=   0.1s\n",
            "[CV] END dt__criterion=entropy, dt__max_depth=10, dt__min_samples_leaf=10, lr__C=10.0, lr__solver=lbfgs, xg__colsample_bytree=0.8, xg__learning_rate=1.0, xg__max_depth=6, xg__n_estimators=50, xg__reg_alpha=1.2, xg__reg_lambda=1.1; total time=   0.1s\n",
            "[CV] END dt__criterion=entropy, dt__max_depth=10, dt__min_samples_leaf=10, lr__C=10.0, lr__solver=lbfgs, xg__colsample_bytree=0.8, xg__learning_rate=1.0, xg__max_depth=6, xg__n_estimators=50, xg__reg_alpha=1.2, xg__reg_lambda=1.1; total time=   0.1s\n",
            "[CV] END dt__criterion=entropy, dt__max_depth=10, dt__min_samples_leaf=10, lr__C=10.0, lr__solver=lbfgs, xg__colsample_bytree=0.8, xg__learning_rate=1.0, xg__max_depth=6, xg__n_estimators=50, xg__reg_alpha=1.2, xg__reg_lambda=1.1; total time=   0.1s\n",
            "[CV] END dt__criterion=gini, dt__max_depth=3, dt__min_samples_leaf=100, lr__C=0.1, lr__solver=sag, xg__colsample_bytree=0.8, xg__learning_rate=0.9, xg__max_depth=9, xg__n_estimators=150, xg__reg_alpha=1.1, xg__reg_lambda=1.2; total time=   0.4s\n",
            "[CV] END dt__criterion=gini, dt__max_depth=3, dt__min_samples_leaf=100, lr__C=0.1, lr__solver=sag, xg__colsample_bytree=0.8, xg__learning_rate=0.9, xg__max_depth=9, xg__n_estimators=150, xg__reg_alpha=1.1, xg__reg_lambda=1.2; total time=   0.4s\n",
            "[CV] END dt__criterion=gini, dt__max_depth=3, dt__min_samples_leaf=100, lr__C=0.1, lr__solver=sag, xg__colsample_bytree=0.8, xg__learning_rate=0.9, xg__max_depth=9, xg__n_estimators=150, xg__reg_alpha=1.1, xg__reg_lambda=1.2; total time=   0.3s\n",
            "[CV] END dt__criterion=gini, dt__max_depth=3, dt__min_samples_leaf=100, lr__C=0.1, lr__solver=sag, xg__colsample_bytree=0.8, xg__learning_rate=0.9, xg__max_depth=9, xg__n_estimators=150, xg__reg_alpha=1.1, xg__reg_lambda=1.2; total time=   0.3s\n",
            "[CV] END dt__criterion=gini, dt__max_depth=3, dt__min_samples_leaf=100, lr__C=0.1, lr__solver=sag, xg__colsample_bytree=0.8, xg__learning_rate=0.9, xg__max_depth=9, xg__n_estimators=150, xg__reg_alpha=1.1, xg__reg_lambda=1.2; total time=   0.4s\n",
            "[CV] END dt__criterion=entropy, dt__max_depth=5, dt__min_samples_leaf=5, lr__C=0.001, lr__solver=sag, xg__colsample_bytree=0.8, xg__learning_rate=1.0, xg__max_depth=6, xg__n_estimators=550, xg__reg_alpha=1.1, xg__reg_lambda=1.2; total time=   0.1s\n",
            "[CV] END dt__criterion=entropy, dt__max_depth=5, dt__min_samples_leaf=5, lr__C=0.001, lr__solver=sag, xg__colsample_bytree=0.8, xg__learning_rate=1.0, xg__max_depth=6, xg__n_estimators=550, xg__reg_alpha=1.1, xg__reg_lambda=1.2; total time=   0.1s\n",
            "[CV] END dt__criterion=entropy, dt__max_depth=5, dt__min_samples_leaf=5, lr__C=0.001, lr__solver=sag, xg__colsample_bytree=0.8, xg__learning_rate=1.0, xg__max_depth=6, xg__n_estimators=550, xg__reg_alpha=1.1, xg__reg_lambda=1.2; total time=   0.1s\n",
            "[CV] END dt__criterion=entropy, dt__max_depth=5, dt__min_samples_leaf=5, lr__C=0.001, lr__solver=sag, xg__colsample_bytree=0.8, xg__learning_rate=1.0, xg__max_depth=6, xg__n_estimators=550, xg__reg_alpha=1.1, xg__reg_lambda=1.2; total time=   0.1s\n",
            "[CV] END dt__criterion=entropy, dt__max_depth=5, dt__min_samples_leaf=5, lr__C=0.001, lr__solver=sag, xg__colsample_bytree=0.8, xg__learning_rate=1.0, xg__max_depth=6, xg__n_estimators=550, xg__reg_alpha=1.1, xg__reg_lambda=1.2; total time=   0.1s\n",
            "[CV] END dt__criterion=entropy, dt__max_depth=5, dt__min_samples_leaf=20, lr__C=0.01, lr__solver=liblinear, xg__colsample_bytree=0.7, xg__learning_rate=0.9, xg__max_depth=3, xg__n_estimators=150, xg__reg_alpha=1.3, xg__reg_lambda=1.1; total time=   0.0s\n",
            "[CV] END dt__criterion=entropy, dt__max_depth=5, dt__min_samples_leaf=20, lr__C=0.01, lr__solver=liblinear, xg__colsample_bytree=0.7, xg__learning_rate=0.9, xg__max_depth=3, xg__n_estimators=150, xg__reg_alpha=1.3, xg__reg_lambda=1.1; total time=   0.0s\n",
            "[CV] END dt__criterion=entropy, dt__max_depth=5, dt__min_samples_leaf=20, lr__C=0.01, lr__solver=liblinear, xg__colsample_bytree=0.7, xg__learning_rate=0.9, xg__max_depth=3, xg__n_estimators=150, xg__reg_alpha=1.3, xg__reg_lambda=1.1; total time=   0.0s\n",
            "[CV] END dt__criterion=entropy, dt__max_depth=5, dt__min_samples_leaf=20, lr__C=0.01, lr__solver=liblinear, xg__colsample_bytree=0.7, xg__learning_rate=0.9, xg__max_depth=3, xg__n_estimators=150, xg__reg_alpha=1.3, xg__reg_lambda=1.1; total time=   0.0s\n",
            "[CV] END dt__criterion=entropy, dt__max_depth=5, dt__min_samples_leaf=20, lr__C=0.01, lr__solver=liblinear, xg__colsample_bytree=0.7, xg__learning_rate=0.9, xg__max_depth=3, xg__n_estimators=150, xg__reg_alpha=1.3, xg__reg_lambda=1.1; total time=   0.0s\n",
            "[CV] END dt__criterion=gini, dt__max_depth=2, dt__min_samples_leaf=100, lr__C=1.0, lr__solver=liblinear, xg__colsample_bytree=0.8, xg__learning_rate=0.9, xg__max_depth=3, xg__n_estimators=550, xg__reg_alpha=1.1, xg__reg_lambda=1.2; total time=   0.1s\n",
            "[CV] END dt__criterion=gini, dt__max_depth=2, dt__min_samples_leaf=100, lr__C=1.0, lr__solver=liblinear, xg__colsample_bytree=0.8, xg__learning_rate=0.9, xg__max_depth=3, xg__n_estimators=550, xg__reg_alpha=1.1, xg__reg_lambda=1.2; total time=   0.1s\n",
            "[CV] END dt__criterion=gini, dt__max_depth=2, dt__min_samples_leaf=100, lr__C=1.0, lr__solver=liblinear, xg__colsample_bytree=0.8, xg__learning_rate=0.9, xg__max_depth=3, xg__n_estimators=550, xg__reg_alpha=1.1, xg__reg_lambda=1.2; total time=   0.1s\n",
            "[CV] END dt__criterion=gini, dt__max_depth=2, dt__min_samples_leaf=100, lr__C=1.0, lr__solver=liblinear, xg__colsample_bytree=0.8, xg__learning_rate=0.9, xg__max_depth=3, xg__n_estimators=550, xg__reg_alpha=1.1, xg__reg_lambda=1.2; total time=   0.1s\n",
            "[CV] END dt__criterion=gini, dt__max_depth=2, dt__min_samples_leaf=100, lr__C=1.0, lr__solver=liblinear, xg__colsample_bytree=0.8, xg__learning_rate=0.9, xg__max_depth=3, xg__n_estimators=550, xg__reg_alpha=1.1, xg__reg_lambda=1.2; total time=   0.1s\n",
            "[CV] END dt__criterion=entropy, dt__max_depth=20, dt__min_samples_leaf=5, lr__C=0.001, lr__solver=liblinear, xg__colsample_bytree=0.7, xg__learning_rate=0.5, xg__max_depth=9, xg__n_estimators=150, xg__reg_alpha=1.3, xg__reg_lambda=1.3; total time=   0.1s\n",
            "[CV] END dt__criterion=entropy, dt__max_depth=20, dt__min_samples_leaf=5, lr__C=0.001, lr__solver=liblinear, xg__colsample_bytree=0.7, xg__learning_rate=0.5, xg__max_depth=9, xg__n_estimators=150, xg__reg_alpha=1.3, xg__reg_lambda=1.3; total time=   0.1s\n",
            "[CV] END dt__criterion=entropy, dt__max_depth=20, dt__min_samples_leaf=5, lr__C=0.001, lr__solver=liblinear, xg__colsample_bytree=0.7, xg__learning_rate=0.5, xg__max_depth=9, xg__n_estimators=150, xg__reg_alpha=1.3, xg__reg_lambda=1.3; total time=   0.1s\n",
            "[CV] END dt__criterion=entropy, dt__max_depth=20, dt__min_samples_leaf=5, lr__C=0.001, lr__solver=liblinear, xg__colsample_bytree=0.7, xg__learning_rate=0.5, xg__max_depth=9, xg__n_estimators=150, xg__reg_alpha=1.3, xg__reg_lambda=1.3; total time=   0.1s\n",
            "[CV] END dt__criterion=entropy, dt__max_depth=20, dt__min_samples_leaf=5, lr__C=0.001, lr__solver=liblinear, xg__colsample_bytree=0.7, xg__learning_rate=0.5, xg__max_depth=9, xg__n_estimators=150, xg__reg_alpha=1.3, xg__reg_lambda=1.3; total time=   0.1s\n",
            "[CV] END dt__criterion=gini, dt__max_depth=20, dt__min_samples_leaf=5, lr__C=100.0, lr__solver=saga, xg__colsample_bytree=0.8, xg__learning_rate=1.0, xg__max_depth=9, xg__n_estimators=50, xg__reg_alpha=1.1, xg__reg_lambda=1.1; total time=   0.6s\n",
            "[CV] END dt__criterion=gini, dt__max_depth=20, dt__min_samples_leaf=5, lr__C=100.0, lr__solver=saga, xg__colsample_bytree=0.8, xg__learning_rate=1.0, xg__max_depth=9, xg__n_estimators=50, xg__reg_alpha=1.1, xg__reg_lambda=1.1; total time=   0.6s\n",
            "[CV] END dt__criterion=gini, dt__max_depth=20, dt__min_samples_leaf=5, lr__C=100.0, lr__solver=saga, xg__colsample_bytree=0.8, xg__learning_rate=1.0, xg__max_depth=9, xg__n_estimators=50, xg__reg_alpha=1.1, xg__reg_lambda=1.1; total time=   0.6s\n",
            "[CV] END dt__criterion=gini, dt__max_depth=20, dt__min_samples_leaf=5, lr__C=100.0, lr__solver=saga, xg__colsample_bytree=0.8, xg__learning_rate=1.0, xg__max_depth=9, xg__n_estimators=50, xg__reg_alpha=1.1, xg__reg_lambda=1.1; total time=   0.5s\n",
            "[CV] END dt__criterion=gini, dt__max_depth=20, dt__min_samples_leaf=5, lr__C=100.0, lr__solver=saga, xg__colsample_bytree=0.8, xg__learning_rate=1.0, xg__max_depth=9, xg__n_estimators=50, xg__reg_alpha=1.1, xg__reg_lambda=1.1; total time=   0.6s\n",
            "[CV] END dt__criterion=entropy, dt__max_depth=20, dt__min_samples_leaf=50, lr__C=1.0, lr__solver=sag, xg__colsample_bytree=0.8, xg__learning_rate=0.9, xg__max_depth=3, xg__n_estimators=100, xg__reg_alpha=1.1, xg__reg_lambda=1.3; total time=   0.4s\n",
            "[CV] END dt__criterion=entropy, dt__max_depth=20, dt__min_samples_leaf=50, lr__C=1.0, lr__solver=sag, xg__colsample_bytree=0.8, xg__learning_rate=0.9, xg__max_depth=3, xg__n_estimators=100, xg__reg_alpha=1.1, xg__reg_lambda=1.3; total time=   0.4s\n",
            "[CV] END dt__criterion=entropy, dt__max_depth=20, dt__min_samples_leaf=50, lr__C=1.0, lr__solver=sag, xg__colsample_bytree=0.8, xg__learning_rate=0.9, xg__max_depth=3, xg__n_estimators=100, xg__reg_alpha=1.1, xg__reg_lambda=1.3; total time=   0.4s\n",
            "[CV] END dt__criterion=entropy, dt__max_depth=20, dt__min_samples_leaf=50, lr__C=1.0, lr__solver=sag, xg__colsample_bytree=0.8, xg__learning_rate=0.9, xg__max_depth=3, xg__n_estimators=100, xg__reg_alpha=1.1, xg__reg_lambda=1.3; total time=   0.4s\n",
            "[CV] END dt__criterion=entropy, dt__max_depth=20, dt__min_samples_leaf=50, lr__C=1.0, lr__solver=sag, xg__colsample_bytree=0.8, xg__learning_rate=0.9, xg__max_depth=3, xg__n_estimators=100, xg__reg_alpha=1.1, xg__reg_lambda=1.3; total time=   0.4s\n",
            "[CV] END dt__criterion=entropy, dt__max_depth=3, dt__min_samples_leaf=10, lr__C=0.01, lr__solver=saga, xg__colsample_bytree=0.8, xg__learning_rate=0.5, xg__max_depth=6, xg__n_estimators=50, xg__reg_alpha=1.2, xg__reg_lambda=1.1; total time=   0.3s\n",
            "[CV] END dt__criterion=entropy, dt__max_depth=3, dt__min_samples_leaf=10, lr__C=0.01, lr__solver=saga, xg__colsample_bytree=0.8, xg__learning_rate=0.5, xg__max_depth=6, xg__n_estimators=50, xg__reg_alpha=1.2, xg__reg_lambda=1.1; total time=   0.3s\n",
            "[CV] END dt__criterion=entropy, dt__max_depth=3, dt__min_samples_leaf=10, lr__C=0.01, lr__solver=saga, xg__colsample_bytree=0.8, xg__learning_rate=0.5, xg__max_depth=6, xg__n_estimators=50, xg__reg_alpha=1.2, xg__reg_lambda=1.1; total time=   0.3s\n",
            "[CV] END dt__criterion=entropy, dt__max_depth=3, dt__min_samples_leaf=10, lr__C=0.01, lr__solver=saga, xg__colsample_bytree=0.8, xg__learning_rate=0.5, xg__max_depth=6, xg__n_estimators=50, xg__reg_alpha=1.2, xg__reg_lambda=1.1; total time=   0.3s\n",
            "[CV] END dt__criterion=entropy, dt__max_depth=3, dt__min_samples_leaf=10, lr__C=0.01, lr__solver=saga, xg__colsample_bytree=0.8, xg__learning_rate=0.5, xg__max_depth=6, xg__n_estimators=50, xg__reg_alpha=1.2, xg__reg_lambda=1.1; total time=   0.3s\n",
            "[CV] END dt__criterion=entropy, dt__max_depth=20, dt__min_samples_leaf=5, lr__C=1000.0, lr__solver=newton-cg, xg__colsample_bytree=0.7, xg__learning_rate=0.9, xg__max_depth=9, xg__n_estimators=100, xg__reg_alpha=1.2, xg__reg_lambda=1.1; total time=   0.1s\n",
            "[CV] END dt__criterion=entropy, dt__max_depth=20, dt__min_samples_leaf=5, lr__C=1000.0, lr__solver=newton-cg, xg__colsample_bytree=0.7, xg__learning_rate=0.9, xg__max_depth=9, xg__n_estimators=100, xg__reg_alpha=1.2, xg__reg_lambda=1.1; total time=   0.1s\n",
            "[CV] END dt__criterion=entropy, dt__max_depth=20, dt__min_samples_leaf=5, lr__C=1000.0, lr__solver=newton-cg, xg__colsample_bytree=0.7, xg__learning_rate=0.9, xg__max_depth=9, xg__n_estimators=100, xg__reg_alpha=1.2, xg__reg_lambda=1.1; total time=   0.1s\n",
            "[CV] END dt__criterion=entropy, dt__max_depth=20, dt__min_samples_leaf=5, lr__C=1000.0, lr__solver=newton-cg, xg__colsample_bytree=0.7, xg__learning_rate=0.9, xg__max_depth=9, xg__n_estimators=100, xg__reg_alpha=1.2, xg__reg_lambda=1.1; total time=   0.1s\n",
            "[CV] END dt__criterion=entropy, dt__max_depth=20, dt__min_samples_leaf=5, lr__C=1000.0, lr__solver=newton-cg, xg__colsample_bytree=0.7, xg__learning_rate=0.9, xg__max_depth=9, xg__n_estimators=100, xg__reg_alpha=1.2, xg__reg_lambda=1.1; total time=   0.1s\n",
            "[CV] END dt__criterion=entropy, dt__max_depth=20, dt__min_samples_leaf=5, lr__C=100.0, lr__solver=sag, xg__colsample_bytree=0.8, xg__learning_rate=0.9, xg__max_depth=9, xg__n_estimators=50, xg__reg_alpha=1.2, xg__reg_lambda=1.3; total time=   0.4s\n",
            "[CV] END dt__criterion=entropy, dt__max_depth=20, dt__min_samples_leaf=5, lr__C=100.0, lr__solver=sag, xg__colsample_bytree=0.8, xg__learning_rate=0.9, xg__max_depth=9, xg__n_estimators=50, xg__reg_alpha=1.2, xg__reg_lambda=1.3; total time=   0.4s\n",
            "[CV] END dt__criterion=entropy, dt__max_depth=20, dt__min_samples_leaf=5, lr__C=100.0, lr__solver=sag, xg__colsample_bytree=0.8, xg__learning_rate=0.9, xg__max_depth=9, xg__n_estimators=50, xg__reg_alpha=1.2, xg__reg_lambda=1.3; total time=   0.4s\n",
            "[CV] END dt__criterion=entropy, dt__max_depth=20, dt__min_samples_leaf=5, lr__C=100.0, lr__solver=sag, xg__colsample_bytree=0.8, xg__learning_rate=0.9, xg__max_depth=9, xg__n_estimators=50, xg__reg_alpha=1.2, xg__reg_lambda=1.3; total time=   0.4s\n",
            "[CV] END dt__criterion=entropy, dt__max_depth=20, dt__min_samples_leaf=5, lr__C=100.0, lr__solver=sag, xg__colsample_bytree=0.8, xg__learning_rate=0.9, xg__max_depth=9, xg__n_estimators=50, xg__reg_alpha=1.2, xg__reg_lambda=1.3; total time=   0.4s\n",
            "[CV] END dt__criterion=gini, dt__max_depth=2, dt__min_samples_leaf=20, lr__C=100.0, lr__solver=newton-cg, xg__colsample_bytree=0.8, xg__learning_rate=1.0, xg__max_depth=3, xg__n_estimators=50, xg__reg_alpha=1.2, xg__reg_lambda=1.1; total time=   0.1s\n",
            "[CV] END dt__criterion=gini, dt__max_depth=2, dt__min_samples_leaf=20, lr__C=100.0, lr__solver=newton-cg, xg__colsample_bytree=0.8, xg__learning_rate=1.0, xg__max_depth=3, xg__n_estimators=50, xg__reg_alpha=1.2, xg__reg_lambda=1.1; total time=   0.0s\n",
            "[CV] END dt__criterion=gini, dt__max_depth=2, dt__min_samples_leaf=20, lr__C=100.0, lr__solver=newton-cg, xg__colsample_bytree=0.8, xg__learning_rate=1.0, xg__max_depth=3, xg__n_estimators=50, xg__reg_alpha=1.2, xg__reg_lambda=1.1; total time=   0.1s\n",
            "[CV] END dt__criterion=gini, dt__max_depth=2, dt__min_samples_leaf=20, lr__C=100.0, lr__solver=newton-cg, xg__colsample_bytree=0.8, xg__learning_rate=1.0, xg__max_depth=3, xg__n_estimators=50, xg__reg_alpha=1.2, xg__reg_lambda=1.1; total time=   0.0s\n",
            "[CV] END dt__criterion=gini, dt__max_depth=2, dt__min_samples_leaf=20, lr__C=100.0, lr__solver=newton-cg, xg__colsample_bytree=0.8, xg__learning_rate=1.0, xg__max_depth=3, xg__n_estimators=50, xg__reg_alpha=1.2, xg__reg_lambda=1.1; total time=   0.0s\n",
            "[CV] END dt__criterion=gini, dt__max_depth=5, dt__min_samples_leaf=5, lr__C=0.01, lr__solver=newton-cg, xg__colsample_bytree=0.7, xg__learning_rate=0.5, xg__max_depth=3, xg__n_estimators=50, xg__reg_alpha=1.1, xg__reg_lambda=1.1; total time=   0.0s\n",
            "[CV] END dt__criterion=gini, dt__max_depth=5, dt__min_samples_leaf=5, lr__C=0.01, lr__solver=newton-cg, xg__colsample_bytree=0.7, xg__learning_rate=0.5, xg__max_depth=3, xg__n_estimators=50, xg__reg_alpha=1.1, xg__reg_lambda=1.1; total time=   0.0s\n",
            "[CV] END dt__criterion=gini, dt__max_depth=5, dt__min_samples_leaf=5, lr__C=0.01, lr__solver=newton-cg, xg__colsample_bytree=0.7, xg__learning_rate=0.5, xg__max_depth=3, xg__n_estimators=50, xg__reg_alpha=1.1, xg__reg_lambda=1.1; total time=   0.0s\n",
            "[CV] END dt__criterion=gini, dt__max_depth=5, dt__min_samples_leaf=5, lr__C=0.01, lr__solver=newton-cg, xg__colsample_bytree=0.7, xg__learning_rate=0.5, xg__max_depth=3, xg__n_estimators=50, xg__reg_alpha=1.1, xg__reg_lambda=1.1; total time=   0.0s\n",
            "[CV] END dt__criterion=gini, dt__max_depth=5, dt__min_samples_leaf=5, lr__C=0.01, lr__solver=newton-cg, xg__colsample_bytree=0.7, xg__learning_rate=0.5, xg__max_depth=3, xg__n_estimators=50, xg__reg_alpha=1.1, xg__reg_lambda=1.1; total time=   0.0s\n",
            "[CV] END dt__criterion=gini, dt__max_depth=20, dt__min_samples_leaf=20, lr__C=1000.0, lr__solver=newton-cg, xg__colsample_bytree=0.8, xg__learning_rate=0.9, xg__max_depth=6, xg__n_estimators=100, xg__reg_alpha=1.3, xg__reg_lambda=1.2; total time=   0.1s\n",
            "[CV] END dt__criterion=gini, dt__max_depth=20, dt__min_samples_leaf=20, lr__C=1000.0, lr__solver=newton-cg, xg__colsample_bytree=0.8, xg__learning_rate=0.9, xg__max_depth=6, xg__n_estimators=100, xg__reg_alpha=1.3, xg__reg_lambda=1.2; total time=   0.1s\n",
            "[CV] END dt__criterion=gini, dt__max_depth=20, dt__min_samples_leaf=20, lr__C=1000.0, lr__solver=newton-cg, xg__colsample_bytree=0.8, xg__learning_rate=0.9, xg__max_depth=6, xg__n_estimators=100, xg__reg_alpha=1.3, xg__reg_lambda=1.2; total time=   0.1s\n",
            "[CV] END dt__criterion=gini, dt__max_depth=20, dt__min_samples_leaf=20, lr__C=1000.0, lr__solver=newton-cg, xg__colsample_bytree=0.8, xg__learning_rate=0.9, xg__max_depth=6, xg__n_estimators=100, xg__reg_alpha=1.3, xg__reg_lambda=1.2; total time=   0.1s\n",
            "[CV] END dt__criterion=gini, dt__max_depth=20, dt__min_samples_leaf=20, lr__C=1000.0, lr__solver=newton-cg, xg__colsample_bytree=0.8, xg__learning_rate=0.9, xg__max_depth=6, xg__n_estimators=100, xg__reg_alpha=1.3, xg__reg_lambda=1.2; total time=   0.1s\n",
            "[CV] END dt__criterion=entropy, dt__max_depth=5, dt__min_samples_leaf=50, lr__C=0.001, lr__solver=newton-cg, xg__colsample_bytree=0.8, xg__learning_rate=0.5, xg__max_depth=3, xg__n_estimators=50, xg__reg_alpha=1.3, xg__reg_lambda=1.2; total time=   0.0s\n",
            "[CV] END dt__criterion=entropy, dt__max_depth=5, dt__min_samples_leaf=50, lr__C=0.001, lr__solver=newton-cg, xg__colsample_bytree=0.8, xg__learning_rate=0.5, xg__max_depth=3, xg__n_estimators=50, xg__reg_alpha=1.3, xg__reg_lambda=1.2; total time=   0.0s\n",
            "[CV] END dt__criterion=entropy, dt__max_depth=5, dt__min_samples_leaf=50, lr__C=0.001, lr__solver=newton-cg, xg__colsample_bytree=0.8, xg__learning_rate=0.5, xg__max_depth=3, xg__n_estimators=50, xg__reg_alpha=1.3, xg__reg_lambda=1.2; total time=   0.0s\n",
            "[CV] END dt__criterion=entropy, dt__max_depth=5, dt__min_samples_leaf=50, lr__C=0.001, lr__solver=newton-cg, xg__colsample_bytree=0.8, xg__learning_rate=0.5, xg__max_depth=3, xg__n_estimators=50, xg__reg_alpha=1.3, xg__reg_lambda=1.2; total time=   0.0s\n",
            "[CV] END dt__criterion=entropy, dt__max_depth=5, dt__min_samples_leaf=50, lr__C=0.001, lr__solver=newton-cg, xg__colsample_bytree=0.8, xg__learning_rate=0.5, xg__max_depth=3, xg__n_estimators=50, xg__reg_alpha=1.3, xg__reg_lambda=1.2; total time=   0.0s\n",
            "[CV] END dt__criterion=entropy, dt__max_depth=20, dt__min_samples_leaf=50, lr__C=1000.0, lr__solver=liblinear, xg__colsample_bytree=0.7, xg__learning_rate=0.9, xg__max_depth=6, xg__n_estimators=150, xg__reg_alpha=1.1, xg__reg_lambda=1.2; total time=   0.0s\n",
            "[CV] END dt__criterion=entropy, dt__max_depth=20, dt__min_samples_leaf=50, lr__C=1000.0, lr__solver=liblinear, xg__colsample_bytree=0.7, xg__learning_rate=0.9, xg__max_depth=6, xg__n_estimators=150, xg__reg_alpha=1.1, xg__reg_lambda=1.2; total time=   0.0s\n",
            "[CV] END dt__criterion=entropy, dt__max_depth=20, dt__min_samples_leaf=50, lr__C=1000.0, lr__solver=liblinear, xg__colsample_bytree=0.7, xg__learning_rate=0.9, xg__max_depth=6, xg__n_estimators=150, xg__reg_alpha=1.1, xg__reg_lambda=1.2; total time=   0.1s\n",
            "[CV] END dt__criterion=entropy, dt__max_depth=20, dt__min_samples_leaf=50, lr__C=1000.0, lr__solver=liblinear, xg__colsample_bytree=0.7, xg__learning_rate=0.9, xg__max_depth=6, xg__n_estimators=150, xg__reg_alpha=1.1, xg__reg_lambda=1.2; total time=   0.0s\n",
            "[CV] END dt__criterion=entropy, dt__max_depth=20, dt__min_samples_leaf=50, lr__C=1000.0, lr__solver=liblinear, xg__colsample_bytree=0.7, xg__learning_rate=0.9, xg__max_depth=6, xg__n_estimators=150, xg__reg_alpha=1.1, xg__reg_lambda=1.2; total time=   0.1s\n",
            "[CV] END dt__criterion=gini, dt__max_depth=5, dt__min_samples_leaf=5, lr__C=100.0, lr__solver=lbfgs, xg__colsample_bytree=0.8, xg__learning_rate=0.5, xg__max_depth=6, xg__n_estimators=50, xg__reg_alpha=1.2, xg__reg_lambda=1.1; total time=   0.1s\n",
            "[CV] END dt__criterion=gini, dt__max_depth=5, dt__min_samples_leaf=5, lr__C=100.0, lr__solver=lbfgs, xg__colsample_bytree=0.8, xg__learning_rate=0.5, xg__max_depth=6, xg__n_estimators=50, xg__reg_alpha=1.2, xg__reg_lambda=1.1; total time=   0.1s\n",
            "[CV] END dt__criterion=gini, dt__max_depth=5, dt__min_samples_leaf=5, lr__C=100.0, lr__solver=lbfgs, xg__colsample_bytree=0.8, xg__learning_rate=0.5, xg__max_depth=6, xg__n_estimators=50, xg__reg_alpha=1.2, xg__reg_lambda=1.1; total time=   0.1s\n",
            "[CV] END dt__criterion=gini, dt__max_depth=5, dt__min_samples_leaf=5, lr__C=100.0, lr__solver=lbfgs, xg__colsample_bytree=0.8, xg__learning_rate=0.5, xg__max_depth=6, xg__n_estimators=50, xg__reg_alpha=1.2, xg__reg_lambda=1.1; total time=   0.1s\n",
            "[CV] END dt__criterion=gini, dt__max_depth=5, dt__min_samples_leaf=5, lr__C=100.0, lr__solver=lbfgs, xg__colsample_bytree=0.8, xg__learning_rate=0.5, xg__max_depth=6, xg__n_estimators=50, xg__reg_alpha=1.2, xg__reg_lambda=1.1; total time=   0.1s\n",
            "[CV] END dt__criterion=entropy, dt__max_depth=3, dt__min_samples_leaf=100, lr__C=0.01, lr__solver=lbfgs, xg__colsample_bytree=0.7, xg__learning_rate=0.9, xg__max_depth=6, xg__n_estimators=100, xg__reg_alpha=1.3, xg__reg_lambda=1.3; total time=   0.1s\n",
            "[CV] END dt__criterion=entropy, dt__max_depth=3, dt__min_samples_leaf=100, lr__C=0.01, lr__solver=lbfgs, xg__colsample_bytree=0.7, xg__learning_rate=0.9, xg__max_depth=6, xg__n_estimators=100, xg__reg_alpha=1.3, xg__reg_lambda=1.3; total time=   0.0s\n",
            "[CV] END dt__criterion=entropy, dt__max_depth=3, dt__min_samples_leaf=100, lr__C=0.01, lr__solver=lbfgs, xg__colsample_bytree=0.7, xg__learning_rate=0.9, xg__max_depth=6, xg__n_estimators=100, xg__reg_alpha=1.3, xg__reg_lambda=1.3; total time=   0.1s\n",
            "[CV] END dt__criterion=entropy, dt__max_depth=3, dt__min_samples_leaf=100, lr__C=0.01, lr__solver=lbfgs, xg__colsample_bytree=0.7, xg__learning_rate=0.9, xg__max_depth=6, xg__n_estimators=100, xg__reg_alpha=1.3, xg__reg_lambda=1.3; total time=   0.1s\n",
            "[CV] END dt__criterion=entropy, dt__max_depth=3, dt__min_samples_leaf=100, lr__C=0.01, lr__solver=lbfgs, xg__colsample_bytree=0.7, xg__learning_rate=0.9, xg__max_depth=6, xg__n_estimators=100, xg__reg_alpha=1.3, xg__reg_lambda=1.3; total time=   0.1s\n",
            "[CV] END dt__criterion=entropy, dt__max_depth=20, dt__min_samples_leaf=10, lr__C=0.1, lr__solver=saga, xg__colsample_bytree=0.8, xg__learning_rate=0.9, xg__max_depth=9, xg__n_estimators=150, xg__reg_alpha=1.2, xg__reg_lambda=1.1; total time=   0.5s\n",
            "[CV] END dt__criterion=entropy, dt__max_depth=20, dt__min_samples_leaf=10, lr__C=0.1, lr__solver=saga, xg__colsample_bytree=0.8, xg__learning_rate=0.9, xg__max_depth=9, xg__n_estimators=150, xg__reg_alpha=1.2, xg__reg_lambda=1.1; total time=   0.5s\n",
            "[CV] END dt__criterion=entropy, dt__max_depth=20, dt__min_samples_leaf=10, lr__C=0.1, lr__solver=saga, xg__colsample_bytree=0.8, xg__learning_rate=0.9, xg__max_depth=9, xg__n_estimators=150, xg__reg_alpha=1.2, xg__reg_lambda=1.1; total time=   0.5s\n",
            "[CV] END dt__criterion=entropy, dt__max_depth=20, dt__min_samples_leaf=10, lr__C=0.1, lr__solver=saga, xg__colsample_bytree=0.8, xg__learning_rate=0.9, xg__max_depth=9, xg__n_estimators=150, xg__reg_alpha=1.2, xg__reg_lambda=1.1; total time=   0.5s\n",
            "[CV] END dt__criterion=entropy, dt__max_depth=20, dt__min_samples_leaf=10, lr__C=0.1, lr__solver=saga, xg__colsample_bytree=0.8, xg__learning_rate=0.9, xg__max_depth=9, xg__n_estimators=150, xg__reg_alpha=1.2, xg__reg_lambda=1.1; total time=   0.5s\n",
            "[CV] END dt__criterion=entropy, dt__max_depth=20, dt__min_samples_leaf=50, lr__C=0.001, lr__solver=lbfgs, xg__colsample_bytree=0.8, xg__learning_rate=1.0, xg__max_depth=6, xg__n_estimators=400, xg__reg_alpha=1.3, xg__reg_lambda=1.3; total time=   0.1s\n",
            "[CV] END dt__criterion=entropy, dt__max_depth=20, dt__min_samples_leaf=50, lr__C=0.001, lr__solver=lbfgs, xg__colsample_bytree=0.8, xg__learning_rate=1.0, xg__max_depth=6, xg__n_estimators=400, xg__reg_alpha=1.3, xg__reg_lambda=1.3; total time=   0.1s\n",
            "[CV] END dt__criterion=entropy, dt__max_depth=20, dt__min_samples_leaf=50, lr__C=0.001, lr__solver=lbfgs, xg__colsample_bytree=0.8, xg__learning_rate=1.0, xg__max_depth=6, xg__n_estimators=400, xg__reg_alpha=1.3, xg__reg_lambda=1.3; total time=   0.1s\n",
            "[CV] END dt__criterion=entropy, dt__max_depth=20, dt__min_samples_leaf=50, lr__C=0.001, lr__solver=lbfgs, xg__colsample_bytree=0.8, xg__learning_rate=1.0, xg__max_depth=6, xg__n_estimators=400, xg__reg_alpha=1.3, xg__reg_lambda=1.3; total time=   0.1s\n",
            "[CV] END dt__criterion=entropy, dt__max_depth=20, dt__min_samples_leaf=50, lr__C=0.001, lr__solver=lbfgs, xg__colsample_bytree=0.8, xg__learning_rate=1.0, xg__max_depth=6, xg__n_estimators=400, xg__reg_alpha=1.3, xg__reg_lambda=1.3; total time=   0.1s\n",
            "[CV] END dt__criterion=gini, dt__max_depth=5, dt__min_samples_leaf=20, lr__C=1000.0, lr__solver=sag, xg__colsample_bytree=0.8, xg__learning_rate=0.5, xg__max_depth=3, xg__n_estimators=50, xg__reg_alpha=1.2, xg__reg_lambda=1.3; total time=   0.4s\n",
            "[CV] END dt__criterion=gini, dt__max_depth=5, dt__min_samples_leaf=20, lr__C=1000.0, lr__solver=sag, xg__colsample_bytree=0.8, xg__learning_rate=0.5, xg__max_depth=3, xg__n_estimators=50, xg__reg_alpha=1.2, xg__reg_lambda=1.3; total time=   0.4s\n",
            "[CV] END dt__criterion=gini, dt__max_depth=5, dt__min_samples_leaf=20, lr__C=1000.0, lr__solver=sag, xg__colsample_bytree=0.8, xg__learning_rate=0.5, xg__max_depth=3, xg__n_estimators=50, xg__reg_alpha=1.2, xg__reg_lambda=1.3; total time=   0.4s\n",
            "[CV] END dt__criterion=gini, dt__max_depth=5, dt__min_samples_leaf=20, lr__C=1000.0, lr__solver=sag, xg__colsample_bytree=0.8, xg__learning_rate=0.5, xg__max_depth=3, xg__n_estimators=50, xg__reg_alpha=1.2, xg__reg_lambda=1.3; total time=   0.4s\n",
            "[CV] END dt__criterion=gini, dt__max_depth=5, dt__min_samples_leaf=20, lr__C=1000.0, lr__solver=sag, xg__colsample_bytree=0.8, xg__learning_rate=0.5, xg__max_depth=3, xg__n_estimators=50, xg__reg_alpha=1.2, xg__reg_lambda=1.3; total time=   0.4s\n",
            "[CV] END dt__criterion=gini, dt__max_depth=2, dt__min_samples_leaf=100, lr__C=0.001, lr__solver=liblinear, xg__colsample_bytree=0.7, xg__learning_rate=0.5, xg__max_depth=6, xg__n_estimators=50, xg__reg_alpha=1.3, xg__reg_lambda=1.3; total time=   0.0s\n",
            "[CV] END dt__criterion=gini, dt__max_depth=2, dt__min_samples_leaf=100, lr__C=0.001, lr__solver=liblinear, xg__colsample_bytree=0.7, xg__learning_rate=0.5, xg__max_depth=6, xg__n_estimators=50, xg__reg_alpha=1.3, xg__reg_lambda=1.3; total time=   0.0s\n",
            "[CV] END dt__criterion=gini, dt__max_depth=2, dt__min_samples_leaf=100, lr__C=0.001, lr__solver=liblinear, xg__colsample_bytree=0.7, xg__learning_rate=0.5, xg__max_depth=6, xg__n_estimators=50, xg__reg_alpha=1.3, xg__reg_lambda=1.3; total time=   0.0s\n",
            "[CV] END dt__criterion=gini, dt__max_depth=2, dt__min_samples_leaf=100, lr__C=0.001, lr__solver=liblinear, xg__colsample_bytree=0.7, xg__learning_rate=0.5, xg__max_depth=6, xg__n_estimators=50, xg__reg_alpha=1.3, xg__reg_lambda=1.3; total time=   0.0s\n",
            "[CV] END dt__criterion=gini, dt__max_depth=2, dt__min_samples_leaf=100, lr__C=0.001, lr__solver=liblinear, xg__colsample_bytree=0.7, xg__learning_rate=0.5, xg__max_depth=6, xg__n_estimators=50, xg__reg_alpha=1.3, xg__reg_lambda=1.3; total time=   0.0s\n",
            "[CV] END dt__criterion=entropy, dt__max_depth=5, dt__min_samples_leaf=10, lr__C=100.0, lr__solver=newton-cg, xg__colsample_bytree=0.8, xg__learning_rate=0.9, xg__max_depth=9, xg__n_estimators=100, xg__reg_alpha=1.3, xg__reg_lambda=1.2; total time=   0.1s\n",
            "[CV] END dt__criterion=entropy, dt__max_depth=5, dt__min_samples_leaf=10, lr__C=100.0, lr__solver=newton-cg, xg__colsample_bytree=0.8, xg__learning_rate=0.9, xg__max_depth=9, xg__n_estimators=100, xg__reg_alpha=1.3, xg__reg_lambda=1.2; total time=   0.1s\n",
            "[CV] END dt__criterion=entropy, dt__max_depth=5, dt__min_samples_leaf=10, lr__C=100.0, lr__solver=newton-cg, xg__colsample_bytree=0.8, xg__learning_rate=0.9, xg__max_depth=9, xg__n_estimators=100, xg__reg_alpha=1.3, xg__reg_lambda=1.2; total time=   0.1s\n",
            "[CV] END dt__criterion=entropy, dt__max_depth=5, dt__min_samples_leaf=10, lr__C=100.0, lr__solver=newton-cg, xg__colsample_bytree=0.8, xg__learning_rate=0.9, xg__max_depth=9, xg__n_estimators=100, xg__reg_alpha=1.3, xg__reg_lambda=1.2; total time=   0.1s\n",
            "[CV] END dt__criterion=entropy, dt__max_depth=5, dt__min_samples_leaf=10, lr__C=100.0, lr__solver=newton-cg, xg__colsample_bytree=0.8, xg__learning_rate=0.9, xg__max_depth=9, xg__n_estimators=100, xg__reg_alpha=1.3, xg__reg_lambda=1.2; total time=   0.1s\n",
            "[CV] END dt__criterion=entropy, dt__max_depth=5, dt__min_samples_leaf=50, lr__C=0.01, lr__solver=liblinear, xg__colsample_bytree=0.7, xg__learning_rate=0.9, xg__max_depth=9, xg__n_estimators=100, xg__reg_alpha=1.3, xg__reg_lambda=1.2; total time=   0.0s\n",
            "[CV] END dt__criterion=entropy, dt__max_depth=5, dt__min_samples_leaf=50, lr__C=0.01, lr__solver=liblinear, xg__colsample_bytree=0.7, xg__learning_rate=0.9, xg__max_depth=9, xg__n_estimators=100, xg__reg_alpha=1.3, xg__reg_lambda=1.2; total time=   0.0s\n",
            "[CV] END dt__criterion=entropy, dt__max_depth=5, dt__min_samples_leaf=50, lr__C=0.01, lr__solver=liblinear, xg__colsample_bytree=0.7, xg__learning_rate=0.9, xg__max_depth=9, xg__n_estimators=100, xg__reg_alpha=1.3, xg__reg_lambda=1.2; total time=   0.0s\n",
            "[CV] END dt__criterion=entropy, dt__max_depth=5, dt__min_samples_leaf=50, lr__C=0.01, lr__solver=liblinear, xg__colsample_bytree=0.7, xg__learning_rate=0.9, xg__max_depth=9, xg__n_estimators=100, xg__reg_alpha=1.3, xg__reg_lambda=1.2; total time=   0.0s\n",
            "[CV] END dt__criterion=entropy, dt__max_depth=5, dt__min_samples_leaf=50, lr__C=0.01, lr__solver=liblinear, xg__colsample_bytree=0.7, xg__learning_rate=0.9, xg__max_depth=9, xg__n_estimators=100, xg__reg_alpha=1.3, xg__reg_lambda=1.2; total time=   0.0s\n",
            "[CV] END dt__criterion=gini, dt__max_depth=20, dt__min_samples_leaf=20, lr__C=1.0, lr__solver=lbfgs, xg__colsample_bytree=0.8, xg__learning_rate=0.9, xg__max_depth=9, xg__n_estimators=50, xg__reg_alpha=1.1, xg__reg_lambda=1.2; total time=   0.1s\n",
            "[CV] END dt__criterion=gini, dt__max_depth=20, dt__min_samples_leaf=20, lr__C=1.0, lr__solver=lbfgs, xg__colsample_bytree=0.8, xg__learning_rate=0.9, xg__max_depth=9, xg__n_estimators=50, xg__reg_alpha=1.1, xg__reg_lambda=1.2; total time=   0.1s\n",
            "[CV] END dt__criterion=gini, dt__max_depth=20, dt__min_samples_leaf=20, lr__C=1.0, lr__solver=lbfgs, xg__colsample_bytree=0.8, xg__learning_rate=0.9, xg__max_depth=9, xg__n_estimators=50, xg__reg_alpha=1.1, xg__reg_lambda=1.2; total time=   0.1s\n",
            "[CV] END dt__criterion=gini, dt__max_depth=20, dt__min_samples_leaf=20, lr__C=1.0, lr__solver=lbfgs, xg__colsample_bytree=0.8, xg__learning_rate=0.9, xg__max_depth=9, xg__n_estimators=50, xg__reg_alpha=1.1, xg__reg_lambda=1.2; total time=   0.1s\n",
            "[CV] END dt__criterion=gini, dt__max_depth=20, dt__min_samples_leaf=20, lr__C=1.0, lr__solver=lbfgs, xg__colsample_bytree=0.8, xg__learning_rate=0.9, xg__max_depth=9, xg__n_estimators=50, xg__reg_alpha=1.1, xg__reg_lambda=1.2; total time=   0.1s\n",
            "[CV] END dt__criterion=gini, dt__max_depth=2, dt__min_samples_leaf=20, lr__C=100.0, lr__solver=saga, xg__colsample_bytree=0.8, xg__learning_rate=0.9, xg__max_depth=6, xg__n_estimators=400, xg__reg_alpha=1.2, xg__reg_lambda=1.2; total time=   0.6s\n",
            "[CV] END dt__criterion=gini, dt__max_depth=2, dt__min_samples_leaf=20, lr__C=100.0, lr__solver=saga, xg__colsample_bytree=0.8, xg__learning_rate=0.9, xg__max_depth=6, xg__n_estimators=400, xg__reg_alpha=1.2, xg__reg_lambda=1.2; total time=   0.6s\n",
            "[CV] END dt__criterion=gini, dt__max_depth=2, dt__min_samples_leaf=20, lr__C=100.0, lr__solver=saga, xg__colsample_bytree=0.8, xg__learning_rate=0.9, xg__max_depth=6, xg__n_estimators=400, xg__reg_alpha=1.2, xg__reg_lambda=1.2; total time=   0.6s\n",
            "[CV] END dt__criterion=gini, dt__max_depth=2, dt__min_samples_leaf=20, lr__C=100.0, lr__solver=saga, xg__colsample_bytree=0.8, xg__learning_rate=0.9, xg__max_depth=6, xg__n_estimators=400, xg__reg_alpha=1.2, xg__reg_lambda=1.2; total time=   0.6s\n",
            "[CV] END dt__criterion=gini, dt__max_depth=2, dt__min_samples_leaf=20, lr__C=100.0, lr__solver=saga, xg__colsample_bytree=0.8, xg__learning_rate=0.9, xg__max_depth=6, xg__n_estimators=400, xg__reg_alpha=1.2, xg__reg_lambda=1.2; total time=   0.6s\n",
            "[CV] END dt__criterion=gini, dt__max_depth=5, dt__min_samples_leaf=20, lr__C=0.01, lr__solver=sag, xg__colsample_bytree=0.7, xg__learning_rate=1.0, xg__max_depth=3, xg__n_estimators=50, xg__reg_alpha=1.2, xg__reg_lambda=1.1; total time=   0.2s\n",
            "[CV] END dt__criterion=gini, dt__max_depth=5, dt__min_samples_leaf=20, lr__C=0.01, lr__solver=sag, xg__colsample_bytree=0.7, xg__learning_rate=1.0, xg__max_depth=3, xg__n_estimators=50, xg__reg_alpha=1.2, xg__reg_lambda=1.1; total time=   0.2s\n",
            "[CV] END dt__criterion=gini, dt__max_depth=5, dt__min_samples_leaf=20, lr__C=0.01, lr__solver=sag, xg__colsample_bytree=0.7, xg__learning_rate=1.0, xg__max_depth=3, xg__n_estimators=50, xg__reg_alpha=1.2, xg__reg_lambda=1.1; total time=   0.2s\n",
            "[CV] END dt__criterion=gini, dt__max_depth=5, dt__min_samples_leaf=20, lr__C=0.01, lr__solver=sag, xg__colsample_bytree=0.7, xg__learning_rate=1.0, xg__max_depth=3, xg__n_estimators=50, xg__reg_alpha=1.2, xg__reg_lambda=1.1; total time=   0.2s\n",
            "[CV] END dt__criterion=gini, dt__max_depth=5, dt__min_samples_leaf=20, lr__C=0.01, lr__solver=sag, xg__colsample_bytree=0.7, xg__learning_rate=1.0, xg__max_depth=3, xg__n_estimators=50, xg__reg_alpha=1.2, xg__reg_lambda=1.1; total time=   0.2s\n",
            "[CV] END dt__criterion=entropy, dt__max_depth=2, dt__min_samples_leaf=5, lr__C=1.0, lr__solver=saga, xg__colsample_bytree=0.7, xg__learning_rate=0.5, xg__max_depth=9, xg__n_estimators=400, xg__reg_alpha=1.2, xg__reg_lambda=1.2; total time=   0.6s\n",
            "[CV] END dt__criterion=entropy, dt__max_depth=2, dt__min_samples_leaf=5, lr__C=1.0, lr__solver=saga, xg__colsample_bytree=0.7, xg__learning_rate=0.5, xg__max_depth=9, xg__n_estimators=400, xg__reg_alpha=1.2, xg__reg_lambda=1.2; total time=   0.6s\n",
            "[CV] END dt__criterion=entropy, dt__max_depth=2, dt__min_samples_leaf=5, lr__C=1.0, lr__solver=saga, xg__colsample_bytree=0.7, xg__learning_rate=0.5, xg__max_depth=9, xg__n_estimators=400, xg__reg_alpha=1.2, xg__reg_lambda=1.2; total time=   0.6s\n",
            "[CV] END dt__criterion=entropy, dt__max_depth=2, dt__min_samples_leaf=5, lr__C=1.0, lr__solver=saga, xg__colsample_bytree=0.7, xg__learning_rate=0.5, xg__max_depth=9, xg__n_estimators=400, xg__reg_alpha=1.2, xg__reg_lambda=1.2; total time=   0.6s\n",
            "[CV] END dt__criterion=entropy, dt__max_depth=2, dt__min_samples_leaf=5, lr__C=1.0, lr__solver=saga, xg__colsample_bytree=0.7, xg__learning_rate=0.5, xg__max_depth=9, xg__n_estimators=400, xg__reg_alpha=1.2, xg__reg_lambda=1.2; total time=   0.6s\n",
            "[CV] END dt__criterion=gini, dt__max_depth=10, dt__min_samples_leaf=20, lr__C=0.1, lr__solver=saga, xg__colsample_bytree=0.8, xg__learning_rate=1.0, xg__max_depth=6, xg__n_estimators=100, xg__reg_alpha=1.1, xg__reg_lambda=1.1; total time=   0.5s\n",
            "[CV] END dt__criterion=gini, dt__max_depth=10, dt__min_samples_leaf=20, lr__C=0.1, lr__solver=saga, xg__colsample_bytree=0.8, xg__learning_rate=1.0, xg__max_depth=6, xg__n_estimators=100, xg__reg_alpha=1.1, xg__reg_lambda=1.1; total time=   0.5s\n",
            "[CV] END dt__criterion=gini, dt__max_depth=10, dt__min_samples_leaf=20, lr__C=0.1, lr__solver=saga, xg__colsample_bytree=0.8, xg__learning_rate=1.0, xg__max_depth=6, xg__n_estimators=100, xg__reg_alpha=1.1, xg__reg_lambda=1.1; total time=   0.5s\n",
            "[CV] END dt__criterion=gini, dt__max_depth=10, dt__min_samples_leaf=20, lr__C=0.1, lr__solver=saga, xg__colsample_bytree=0.8, xg__learning_rate=1.0, xg__max_depth=6, xg__n_estimators=100, xg__reg_alpha=1.1, xg__reg_lambda=1.1; total time=   0.5s\n",
            "[CV] END dt__criterion=gini, dt__max_depth=10, dt__min_samples_leaf=20, lr__C=0.1, lr__solver=saga, xg__colsample_bytree=0.8, xg__learning_rate=1.0, xg__max_depth=6, xg__n_estimators=100, xg__reg_alpha=1.1, xg__reg_lambda=1.1; total time=   0.5s\n",
            "[CV] END dt__criterion=gini, dt__max_depth=5, dt__min_samples_leaf=50, lr__C=100.0, lr__solver=newton-cg, xg__colsample_bytree=0.7, xg__learning_rate=1.0, xg__max_depth=3, xg__n_estimators=400, xg__reg_alpha=1.1, xg__reg_lambda=1.3; total time=   0.1s\n",
            "[CV] END dt__criterion=gini, dt__max_depth=5, dt__min_samples_leaf=50, lr__C=100.0, lr__solver=newton-cg, xg__colsample_bytree=0.7, xg__learning_rate=1.0, xg__max_depth=3, xg__n_estimators=400, xg__reg_alpha=1.1, xg__reg_lambda=1.3; total time=   0.1s\n",
            "[CV] END dt__criterion=gini, dt__max_depth=5, dt__min_samples_leaf=50, lr__C=100.0, lr__solver=newton-cg, xg__colsample_bytree=0.7, xg__learning_rate=1.0, xg__max_depth=3, xg__n_estimators=400, xg__reg_alpha=1.1, xg__reg_lambda=1.3; total time=   0.1s\n",
            "[CV] END dt__criterion=gini, dt__max_depth=5, dt__min_samples_leaf=50, lr__C=100.0, lr__solver=newton-cg, xg__colsample_bytree=0.7, xg__learning_rate=1.0, xg__max_depth=3, xg__n_estimators=400, xg__reg_alpha=1.1, xg__reg_lambda=1.3; total time=   0.1s\n",
            "[CV] END dt__criterion=gini, dt__max_depth=5, dt__min_samples_leaf=50, lr__C=100.0, lr__solver=newton-cg, xg__colsample_bytree=0.7, xg__learning_rate=1.0, xg__max_depth=3, xg__n_estimators=400, xg__reg_alpha=1.1, xg__reg_lambda=1.3; total time=   0.1s\n",
            "[CV] END dt__criterion=gini, dt__max_depth=3, dt__min_samples_leaf=5, lr__C=100.0, lr__solver=liblinear, xg__colsample_bytree=0.8, xg__learning_rate=0.9, xg__max_depth=9, xg__n_estimators=50, xg__reg_alpha=1.2, xg__reg_lambda=1.1; total time=   0.0s\n",
            "[CV] END dt__criterion=gini, dt__max_depth=3, dt__min_samples_leaf=5, lr__C=100.0, lr__solver=liblinear, xg__colsample_bytree=0.8, xg__learning_rate=0.9, xg__max_depth=9, xg__n_estimators=50, xg__reg_alpha=1.2, xg__reg_lambda=1.1; total time=   0.0s\n",
            "[CV] END dt__criterion=gini, dt__max_depth=3, dt__min_samples_leaf=5, lr__C=100.0, lr__solver=liblinear, xg__colsample_bytree=0.8, xg__learning_rate=0.9, xg__max_depth=9, xg__n_estimators=50, xg__reg_alpha=1.2, xg__reg_lambda=1.1; total time=   0.0s\n",
            "[CV] END dt__criterion=gini, dt__max_depth=3, dt__min_samples_leaf=5, lr__C=100.0, lr__solver=liblinear, xg__colsample_bytree=0.8, xg__learning_rate=0.9, xg__max_depth=9, xg__n_estimators=50, xg__reg_alpha=1.2, xg__reg_lambda=1.1; total time=   0.0s\n",
            "[CV] END dt__criterion=gini, dt__max_depth=3, dt__min_samples_leaf=5, lr__C=100.0, lr__solver=liblinear, xg__colsample_bytree=0.8, xg__learning_rate=0.9, xg__max_depth=9, xg__n_estimators=50, xg__reg_alpha=1.2, xg__reg_lambda=1.1; total time=   0.0s\n",
            "[CV] END dt__criterion=gini, dt__max_depth=10, dt__min_samples_leaf=50, lr__C=1.0, lr__solver=liblinear, xg__colsample_bytree=0.7, xg__learning_rate=1.0, xg__max_depth=3, xg__n_estimators=400, xg__reg_alpha=1.2, xg__reg_lambda=1.2; total time=   0.1s\n",
            "[CV] END dt__criterion=gini, dt__max_depth=10, dt__min_samples_leaf=50, lr__C=1.0, lr__solver=liblinear, xg__colsample_bytree=0.7, xg__learning_rate=1.0, xg__max_depth=3, xg__n_estimators=400, xg__reg_alpha=1.2, xg__reg_lambda=1.2; total time=   0.1s\n",
            "[CV] END dt__criterion=gini, dt__max_depth=10, dt__min_samples_leaf=50, lr__C=1.0, lr__solver=liblinear, xg__colsample_bytree=0.7, xg__learning_rate=1.0, xg__max_depth=3, xg__n_estimators=400, xg__reg_alpha=1.2, xg__reg_lambda=1.2; total time=   0.1s\n",
            "[CV] END dt__criterion=gini, dt__max_depth=10, dt__min_samples_leaf=50, lr__C=1.0, lr__solver=liblinear, xg__colsample_bytree=0.7, xg__learning_rate=1.0, xg__max_depth=3, xg__n_estimators=400, xg__reg_alpha=1.2, xg__reg_lambda=1.2; total time=   0.1s\n",
            "[CV] END dt__criterion=gini, dt__max_depth=10, dt__min_samples_leaf=50, lr__C=1.0, lr__solver=liblinear, xg__colsample_bytree=0.7, xg__learning_rate=1.0, xg__max_depth=3, xg__n_estimators=400, xg__reg_alpha=1.2, xg__reg_lambda=1.2; total time=   0.1s\n",
            "[CV] END dt__criterion=gini, dt__max_depth=3, dt__min_samples_leaf=50, lr__C=0.01, lr__solver=liblinear, xg__colsample_bytree=0.8, xg__learning_rate=0.9, xg__max_depth=9, xg__n_estimators=50, xg__reg_alpha=1.3, xg__reg_lambda=1.2; total time=   0.0s\n",
            "[CV] END dt__criterion=gini, dt__max_depth=3, dt__min_samples_leaf=50, lr__C=0.01, lr__solver=liblinear, xg__colsample_bytree=0.8, xg__learning_rate=0.9, xg__max_depth=9, xg__n_estimators=50, xg__reg_alpha=1.3, xg__reg_lambda=1.2; total time=   0.0s\n",
            "[CV] END dt__criterion=gini, dt__max_depth=3, dt__min_samples_leaf=50, lr__C=0.01, lr__solver=liblinear, xg__colsample_bytree=0.8, xg__learning_rate=0.9, xg__max_depth=9, xg__n_estimators=50, xg__reg_alpha=1.3, xg__reg_lambda=1.2; total time=   0.0s\n",
            "[CV] END dt__criterion=gini, dt__max_depth=3, dt__min_samples_leaf=50, lr__C=0.01, lr__solver=liblinear, xg__colsample_bytree=0.8, xg__learning_rate=0.9, xg__max_depth=9, xg__n_estimators=50, xg__reg_alpha=1.3, xg__reg_lambda=1.2; total time=   0.0s\n",
            "[CV] END dt__criterion=gini, dt__max_depth=3, dt__min_samples_leaf=50, lr__C=0.01, lr__solver=liblinear, xg__colsample_bytree=0.8, xg__learning_rate=0.9, xg__max_depth=9, xg__n_estimators=50, xg__reg_alpha=1.3, xg__reg_lambda=1.2; total time=   0.0s\n",
            "[CV] END dt__criterion=gini, dt__max_depth=10, dt__min_samples_leaf=5, lr__C=0.01, lr__solver=newton-cg, xg__colsample_bytree=0.7, xg__learning_rate=1.0, xg__max_depth=9, xg__n_estimators=400, xg__reg_alpha=1.2, xg__reg_lambda=1.2; total time=   0.1s\n",
            "[CV] END dt__criterion=gini, dt__max_depth=10, dt__min_samples_leaf=5, lr__C=0.01, lr__solver=newton-cg, xg__colsample_bytree=0.7, xg__learning_rate=1.0, xg__max_depth=9, xg__n_estimators=400, xg__reg_alpha=1.2, xg__reg_lambda=1.2; total time=   0.1s\n",
            "[CV] END dt__criterion=gini, dt__max_depth=10, dt__min_samples_leaf=5, lr__C=0.01, lr__solver=newton-cg, xg__colsample_bytree=0.7, xg__learning_rate=1.0, xg__max_depth=9, xg__n_estimators=400, xg__reg_alpha=1.2, xg__reg_lambda=1.2; total time=   0.1s\n",
            "[CV] END dt__criterion=gini, dt__max_depth=10, dt__min_samples_leaf=5, lr__C=0.01, lr__solver=newton-cg, xg__colsample_bytree=0.7, xg__learning_rate=1.0, xg__max_depth=9, xg__n_estimators=400, xg__reg_alpha=1.2, xg__reg_lambda=1.2; total time=   0.1s\n",
            "[CV] END dt__criterion=gini, dt__max_depth=10, dt__min_samples_leaf=5, lr__C=0.01, lr__solver=newton-cg, xg__colsample_bytree=0.7, xg__learning_rate=1.0, xg__max_depth=9, xg__n_estimators=400, xg__reg_alpha=1.2, xg__reg_lambda=1.2; total time=   0.1s\n",
            "[CV] END dt__criterion=entropy, dt__max_depth=5, dt__min_samples_leaf=5, lr__C=0.1, lr__solver=liblinear, xg__colsample_bytree=0.8, xg__learning_rate=0.5, xg__max_depth=3, xg__n_estimators=400, xg__reg_alpha=1.1, xg__reg_lambda=1.2; total time=   0.1s\n",
            "[CV] END dt__criterion=entropy, dt__max_depth=5, dt__min_samples_leaf=5, lr__C=0.1, lr__solver=liblinear, xg__colsample_bytree=0.8, xg__learning_rate=0.5, xg__max_depth=3, xg__n_estimators=400, xg__reg_alpha=1.1, xg__reg_lambda=1.2; total time=   0.1s\n",
            "[CV] END dt__criterion=entropy, dt__max_depth=5, dt__min_samples_leaf=5, lr__C=0.1, lr__solver=liblinear, xg__colsample_bytree=0.8, xg__learning_rate=0.5, xg__max_depth=3, xg__n_estimators=400, xg__reg_alpha=1.1, xg__reg_lambda=1.2; total time=   0.1s\n",
            "[CV] END dt__criterion=entropy, dt__max_depth=5, dt__min_samples_leaf=5, lr__C=0.1, lr__solver=liblinear, xg__colsample_bytree=0.8, xg__learning_rate=0.5, xg__max_depth=3, xg__n_estimators=400, xg__reg_alpha=1.1, xg__reg_lambda=1.2; total time=   0.1s\n",
            "[CV] END dt__criterion=entropy, dt__max_depth=5, dt__min_samples_leaf=5, lr__C=0.1, lr__solver=liblinear, xg__colsample_bytree=0.8, xg__learning_rate=0.5, xg__max_depth=3, xg__n_estimators=400, xg__reg_alpha=1.1, xg__reg_lambda=1.2; total time=   0.1s\n",
            "[CV] END dt__criterion=gini, dt__max_depth=3, dt__min_samples_leaf=20, lr__C=100.0, lr__solver=lbfgs, xg__colsample_bytree=0.8, xg__learning_rate=0.5, xg__max_depth=6, xg__n_estimators=100, xg__reg_alpha=1.3, xg__reg_lambda=1.1; total time=   0.1s\n",
            "[CV] END dt__criterion=gini, dt__max_depth=3, dt__min_samples_leaf=20, lr__C=100.0, lr__solver=lbfgs, xg__colsample_bytree=0.8, xg__learning_rate=0.5, xg__max_depth=6, xg__n_estimators=100, xg__reg_alpha=1.3, xg__reg_lambda=1.1; total time=   0.1s\n",
            "[CV] END dt__criterion=gini, dt__max_depth=3, dt__min_samples_leaf=20, lr__C=100.0, lr__solver=lbfgs, xg__colsample_bytree=0.8, xg__learning_rate=0.5, xg__max_depth=6, xg__n_estimators=100, xg__reg_alpha=1.3, xg__reg_lambda=1.1; total time=   0.1s\n",
            "[CV] END dt__criterion=gini, dt__max_depth=3, dt__min_samples_leaf=20, lr__C=100.0, lr__solver=lbfgs, xg__colsample_bytree=0.8, xg__learning_rate=0.5, xg__max_depth=6, xg__n_estimators=100, xg__reg_alpha=1.3, xg__reg_lambda=1.1; total time=   0.1s\n",
            "[CV] END dt__criterion=gini, dt__max_depth=3, dt__min_samples_leaf=20, lr__C=100.0, lr__solver=lbfgs, xg__colsample_bytree=0.8, xg__learning_rate=0.5, xg__max_depth=6, xg__n_estimators=100, xg__reg_alpha=1.3, xg__reg_lambda=1.1; total time=   0.1s\n",
            "[CV] END dt__criterion=entropy, dt__max_depth=2, dt__min_samples_leaf=10, lr__C=1000.0, lr__solver=saga, xg__colsample_bytree=0.8, xg__learning_rate=1.0, xg__max_depth=3, xg__n_estimators=400, xg__reg_alpha=1.1, xg__reg_lambda=1.3; total time=   0.6s\n",
            "[CV] END dt__criterion=entropy, dt__max_depth=2, dt__min_samples_leaf=10, lr__C=1000.0, lr__solver=saga, xg__colsample_bytree=0.8, xg__learning_rate=1.0, xg__max_depth=3, xg__n_estimators=400, xg__reg_alpha=1.1, xg__reg_lambda=1.3; total time=   0.6s\n",
            "[CV] END dt__criterion=entropy, dt__max_depth=2, dt__min_samples_leaf=10, lr__C=1000.0, lr__solver=saga, xg__colsample_bytree=0.8, xg__learning_rate=1.0, xg__max_depth=3, xg__n_estimators=400, xg__reg_alpha=1.1, xg__reg_lambda=1.3; total time=   0.6s\n",
            "[CV] END dt__criterion=entropy, dt__max_depth=2, dt__min_samples_leaf=10, lr__C=1000.0, lr__solver=saga, xg__colsample_bytree=0.8, xg__learning_rate=1.0, xg__max_depth=3, xg__n_estimators=400, xg__reg_alpha=1.1, xg__reg_lambda=1.3; total time=   0.6s\n",
            "[CV] END dt__criterion=entropy, dt__max_depth=2, dt__min_samples_leaf=10, lr__C=1000.0, lr__solver=saga, xg__colsample_bytree=0.8, xg__learning_rate=1.0, xg__max_depth=3, xg__n_estimators=400, xg__reg_alpha=1.1, xg__reg_lambda=1.3; total time=   0.6s\n",
            "[CV] END dt__criterion=entropy, dt__max_depth=2, dt__min_samples_leaf=5, lr__C=0.01, lr__solver=sag, xg__colsample_bytree=0.8, xg__learning_rate=0.5, xg__max_depth=6, xg__n_estimators=100, xg__reg_alpha=1.3, xg__reg_lambda=1.2; total time=   0.2s\n",
            "[CV] END dt__criterion=entropy, dt__max_depth=2, dt__min_samples_leaf=5, lr__C=0.01, lr__solver=sag, xg__colsample_bytree=0.8, xg__learning_rate=0.5, xg__max_depth=6, xg__n_estimators=100, xg__reg_alpha=1.3, xg__reg_lambda=1.2; total time=   0.2s\n",
            "[CV] END dt__criterion=entropy, dt__max_depth=2, dt__min_samples_leaf=5, lr__C=0.01, lr__solver=sag, xg__colsample_bytree=0.8, xg__learning_rate=0.5, xg__max_depth=6, xg__n_estimators=100, xg__reg_alpha=1.3, xg__reg_lambda=1.2; total time=   0.2s\n",
            "[CV] END dt__criterion=entropy, dt__max_depth=2, dt__min_samples_leaf=5, lr__C=0.01, lr__solver=sag, xg__colsample_bytree=0.8, xg__learning_rate=0.5, xg__max_depth=6, xg__n_estimators=100, xg__reg_alpha=1.3, xg__reg_lambda=1.2; total time=   0.2s\n",
            "[CV] END dt__criterion=entropy, dt__max_depth=2, dt__min_samples_leaf=5, lr__C=0.01, lr__solver=sag, xg__colsample_bytree=0.8, xg__learning_rate=0.5, xg__max_depth=6, xg__n_estimators=100, xg__reg_alpha=1.3, xg__reg_lambda=1.2; total time=   0.2s\n",
            "[CV] END dt__criterion=gini, dt__max_depth=10, dt__min_samples_leaf=20, lr__C=0.001, lr__solver=saga, xg__colsample_bytree=0.7, xg__learning_rate=0.5, xg__max_depth=6, xg__n_estimators=400, xg__reg_alpha=1.2, xg__reg_lambda=1.3; total time=   0.1s\n",
            "[CV] END dt__criterion=gini, dt__max_depth=10, dt__min_samples_leaf=20, lr__C=0.001, lr__solver=saga, xg__colsample_bytree=0.7, xg__learning_rate=0.5, xg__max_depth=6, xg__n_estimators=400, xg__reg_alpha=1.2, xg__reg_lambda=1.3; total time=   0.1s\n",
            "[CV] END dt__criterion=gini, dt__max_depth=10, dt__min_samples_leaf=20, lr__C=0.001, lr__solver=saga, xg__colsample_bytree=0.7, xg__learning_rate=0.5, xg__max_depth=6, xg__n_estimators=400, xg__reg_alpha=1.2, xg__reg_lambda=1.3; total time=   0.1s\n",
            "[CV] END dt__criterion=gini, dt__max_depth=10, dt__min_samples_leaf=20, lr__C=0.001, lr__solver=saga, xg__colsample_bytree=0.7, xg__learning_rate=0.5, xg__max_depth=6, xg__n_estimators=400, xg__reg_alpha=1.2, xg__reg_lambda=1.3; total time=   0.1s\n",
            "[CV] END dt__criterion=gini, dt__max_depth=10, dt__min_samples_leaf=20, lr__C=0.001, lr__solver=saga, xg__colsample_bytree=0.7, xg__learning_rate=0.5, xg__max_depth=6, xg__n_estimators=400, xg__reg_alpha=1.2, xg__reg_lambda=1.3; total time=   0.1s\n",
            "[CV] END dt__criterion=entropy, dt__max_depth=2, dt__min_samples_leaf=20, lr__C=100.0, lr__solver=saga, xg__colsample_bytree=0.7, xg__learning_rate=1.0, xg__max_depth=9, xg__n_estimators=400, xg__reg_alpha=1.2, xg__reg_lambda=1.3; total time=   0.6s\n",
            "[CV] END dt__criterion=entropy, dt__max_depth=2, dt__min_samples_leaf=20, lr__C=100.0, lr__solver=saga, xg__colsample_bytree=0.7, xg__learning_rate=1.0, xg__max_depth=9, xg__n_estimators=400, xg__reg_alpha=1.2, xg__reg_lambda=1.3; total time=   0.6s\n",
            "[CV] END dt__criterion=entropy, dt__max_depth=2, dt__min_samples_leaf=20, lr__C=100.0, lr__solver=saga, xg__colsample_bytree=0.7, xg__learning_rate=1.0, xg__max_depth=9, xg__n_estimators=400, xg__reg_alpha=1.2, xg__reg_lambda=1.3; total time=   0.6s\n",
            "[CV] END dt__criterion=entropy, dt__max_depth=2, dt__min_samples_leaf=20, lr__C=100.0, lr__solver=saga, xg__colsample_bytree=0.7, xg__learning_rate=1.0, xg__max_depth=9, xg__n_estimators=400, xg__reg_alpha=1.2, xg__reg_lambda=1.3; total time=   0.6s\n",
            "[CV] END dt__criterion=entropy, dt__max_depth=2, dt__min_samples_leaf=20, lr__C=100.0, lr__solver=saga, xg__colsample_bytree=0.7, xg__learning_rate=1.0, xg__max_depth=9, xg__n_estimators=400, xg__reg_alpha=1.2, xg__reg_lambda=1.3; total time=   0.6s\n",
            "[CV] END dt__criterion=entropy, dt__max_depth=20, dt__min_samples_leaf=20, lr__C=100.0, lr__solver=lbfgs, xg__colsample_bytree=0.8, xg__learning_rate=0.9, xg__max_depth=3, xg__n_estimators=50, xg__reg_alpha=1.2, xg__reg_lambda=1.3; total time=   0.0s\n",
            "[CV] END dt__criterion=entropy, dt__max_depth=20, dt__min_samples_leaf=20, lr__C=100.0, lr__solver=lbfgs, xg__colsample_bytree=0.8, xg__learning_rate=0.9, xg__max_depth=3, xg__n_estimators=50, xg__reg_alpha=1.2, xg__reg_lambda=1.3; total time=   0.1s\n",
            "[CV] END dt__criterion=entropy, dt__max_depth=20, dt__min_samples_leaf=20, lr__C=100.0, lr__solver=lbfgs, xg__colsample_bytree=0.8, xg__learning_rate=0.9, xg__max_depth=3, xg__n_estimators=50, xg__reg_alpha=1.2, xg__reg_lambda=1.3; total time=   0.1s\n",
            "[CV] END dt__criterion=entropy, dt__max_depth=20, dt__min_samples_leaf=20, lr__C=100.0, lr__solver=lbfgs, xg__colsample_bytree=0.8, xg__learning_rate=0.9, xg__max_depth=3, xg__n_estimators=50, xg__reg_alpha=1.2, xg__reg_lambda=1.3; total time=   0.1s\n",
            "[CV] END dt__criterion=entropy, dt__max_depth=20, dt__min_samples_leaf=20, lr__C=100.0, lr__solver=lbfgs, xg__colsample_bytree=0.8, xg__learning_rate=0.9, xg__max_depth=3, xg__n_estimators=50, xg__reg_alpha=1.2, xg__reg_lambda=1.3; total time=   0.0s\n",
            "[CV] END dt__criterion=entropy, dt__max_depth=10, dt__min_samples_leaf=5, lr__C=0.001, lr__solver=newton-cg, xg__colsample_bytree=0.8, xg__learning_rate=0.9, xg__max_depth=9, xg__n_estimators=50, xg__reg_alpha=1.1, xg__reg_lambda=1.3; total time=   0.0s\n",
            "[CV] END dt__criterion=entropy, dt__max_depth=10, dt__min_samples_leaf=5, lr__C=0.001, lr__solver=newton-cg, xg__colsample_bytree=0.8, xg__learning_rate=0.9, xg__max_depth=9, xg__n_estimators=50, xg__reg_alpha=1.1, xg__reg_lambda=1.3; total time=   0.0s\n",
            "[CV] END dt__criterion=entropy, dt__max_depth=10, dt__min_samples_leaf=5, lr__C=0.001, lr__solver=newton-cg, xg__colsample_bytree=0.8, xg__learning_rate=0.9, xg__max_depth=9, xg__n_estimators=50, xg__reg_alpha=1.1, xg__reg_lambda=1.3; total time=   0.0s\n",
            "[CV] END dt__criterion=entropy, dt__max_depth=10, dt__min_samples_leaf=5, lr__C=0.001, lr__solver=newton-cg, xg__colsample_bytree=0.8, xg__learning_rate=0.9, xg__max_depth=9, xg__n_estimators=50, xg__reg_alpha=1.1, xg__reg_lambda=1.3; total time=   0.0s\n",
            "[CV] END dt__criterion=entropy, dt__max_depth=10, dt__min_samples_leaf=5, lr__C=0.001, lr__solver=newton-cg, xg__colsample_bytree=0.8, xg__learning_rate=0.9, xg__max_depth=9, xg__n_estimators=50, xg__reg_alpha=1.1, xg__reg_lambda=1.3; total time=   0.0s\n",
            "[CV] END dt__criterion=entropy, dt__max_depth=3, dt__min_samples_leaf=50, lr__C=100.0, lr__solver=newton-cg, xg__colsample_bytree=0.7, xg__learning_rate=1.0, xg__max_depth=6, xg__n_estimators=400, xg__reg_alpha=1.1, xg__reg_lambda=1.3; total time=   0.1s\n",
            "[CV] END dt__criterion=entropy, dt__max_depth=3, dt__min_samples_leaf=50, lr__C=100.0, lr__solver=newton-cg, xg__colsample_bytree=0.7, xg__learning_rate=1.0, xg__max_depth=6, xg__n_estimators=400, xg__reg_alpha=1.1, xg__reg_lambda=1.3; total time=   0.1s\n",
            "[CV] END dt__criterion=entropy, dt__max_depth=3, dt__min_samples_leaf=50, lr__C=100.0, lr__solver=newton-cg, xg__colsample_bytree=0.7, xg__learning_rate=1.0, xg__max_depth=6, xg__n_estimators=400, xg__reg_alpha=1.1, xg__reg_lambda=1.3; total time=   0.1s\n",
            "[CV] END dt__criterion=entropy, dt__max_depth=3, dt__min_samples_leaf=50, lr__C=100.0, lr__solver=newton-cg, xg__colsample_bytree=0.7, xg__learning_rate=1.0, xg__max_depth=6, xg__n_estimators=400, xg__reg_alpha=1.1, xg__reg_lambda=1.3; total time=   0.1s\n",
            "[CV] END dt__criterion=entropy, dt__max_depth=3, dt__min_samples_leaf=50, lr__C=100.0, lr__solver=newton-cg, xg__colsample_bytree=0.7, xg__learning_rate=1.0, xg__max_depth=6, xg__n_estimators=400, xg__reg_alpha=1.1, xg__reg_lambda=1.3; total time=   0.1s\n",
            "[CV] END dt__criterion=entropy, dt__max_depth=10, dt__min_samples_leaf=20, lr__C=0.001, lr__solver=liblinear, xg__colsample_bytree=0.7, xg__learning_rate=0.9, xg__max_depth=3, xg__n_estimators=50, xg__reg_alpha=1.2, xg__reg_lambda=1.2; total time=   0.0s\n",
            "[CV] END dt__criterion=entropy, dt__max_depth=10, dt__min_samples_leaf=20, lr__C=0.001, lr__solver=liblinear, xg__colsample_bytree=0.7, xg__learning_rate=0.9, xg__max_depth=3, xg__n_estimators=50, xg__reg_alpha=1.2, xg__reg_lambda=1.2; total time=   0.0s\n",
            "[CV] END dt__criterion=entropy, dt__max_depth=10, dt__min_samples_leaf=20, lr__C=0.001, lr__solver=liblinear, xg__colsample_bytree=0.7, xg__learning_rate=0.9, xg__max_depth=3, xg__n_estimators=50, xg__reg_alpha=1.2, xg__reg_lambda=1.2; total time=   0.0s\n",
            "[CV] END dt__criterion=entropy, dt__max_depth=10, dt__min_samples_leaf=20, lr__C=0.001, lr__solver=liblinear, xg__colsample_bytree=0.7, xg__learning_rate=0.9, xg__max_depth=3, xg__n_estimators=50, xg__reg_alpha=1.2, xg__reg_lambda=1.2; total time=   0.0s\n",
            "[CV] END dt__criterion=entropy, dt__max_depth=10, dt__min_samples_leaf=20, lr__C=0.001, lr__solver=liblinear, xg__colsample_bytree=0.7, xg__learning_rate=0.9, xg__max_depth=3, xg__n_estimators=50, xg__reg_alpha=1.2, xg__reg_lambda=1.2; total time=   0.0s\n",
            "[CV] END dt__criterion=entropy, dt__max_depth=5, dt__min_samples_leaf=20, lr__C=1.0, lr__solver=newton-cg, xg__colsample_bytree=0.8, xg__learning_rate=0.9, xg__max_depth=3, xg__n_estimators=550, xg__reg_alpha=1.1, xg__reg_lambda=1.3; total time=   0.1s\n",
            "[CV] END dt__criterion=entropy, dt__max_depth=5, dt__min_samples_leaf=20, lr__C=1.0, lr__solver=newton-cg, xg__colsample_bytree=0.8, xg__learning_rate=0.9, xg__max_depth=3, xg__n_estimators=550, xg__reg_alpha=1.1, xg__reg_lambda=1.3; total time=   0.1s\n",
            "[CV] END dt__criterion=entropy, dt__max_depth=5, dt__min_samples_leaf=20, lr__C=1.0, lr__solver=newton-cg, xg__colsample_bytree=0.8, xg__learning_rate=0.9, xg__max_depth=3, xg__n_estimators=550, xg__reg_alpha=1.1, xg__reg_lambda=1.3; total time=   0.1s\n",
            "[CV] END dt__criterion=entropy, dt__max_depth=5, dt__min_samples_leaf=20, lr__C=1.0, lr__solver=newton-cg, xg__colsample_bytree=0.8, xg__learning_rate=0.9, xg__max_depth=3, xg__n_estimators=550, xg__reg_alpha=1.1, xg__reg_lambda=1.3; total time=   0.1s\n",
            "[CV] END dt__criterion=entropy, dt__max_depth=5, dt__min_samples_leaf=20, lr__C=1.0, lr__solver=newton-cg, xg__colsample_bytree=0.8, xg__learning_rate=0.9, xg__max_depth=3, xg__n_estimators=550, xg__reg_alpha=1.1, xg__reg_lambda=1.3; total time=   0.1s\n",
            "[CV] END dt__criterion=entropy, dt__max_depth=10, dt__min_samples_leaf=5, lr__C=10.0, lr__solver=lbfgs, xg__colsample_bytree=0.8, xg__learning_rate=0.5, xg__max_depth=3, xg__n_estimators=550, xg__reg_alpha=1.1, xg__reg_lambda=1.2; total time=   0.1s\n",
            "[CV] END dt__criterion=entropy, dt__max_depth=10, dt__min_samples_leaf=5, lr__C=10.0, lr__solver=lbfgs, xg__colsample_bytree=0.8, xg__learning_rate=0.5, xg__max_depth=3, xg__n_estimators=550, xg__reg_alpha=1.1, xg__reg_lambda=1.2; total time=   0.1s\n",
            "[CV] END dt__criterion=entropy, dt__max_depth=10, dt__min_samples_leaf=5, lr__C=10.0, lr__solver=lbfgs, xg__colsample_bytree=0.8, xg__learning_rate=0.5, xg__max_depth=3, xg__n_estimators=550, xg__reg_alpha=1.1, xg__reg_lambda=1.2; total time=   0.1s\n",
            "[CV] END dt__criterion=entropy, dt__max_depth=10, dt__min_samples_leaf=5, lr__C=10.0, lr__solver=lbfgs, xg__colsample_bytree=0.8, xg__learning_rate=0.5, xg__max_depth=3, xg__n_estimators=550, xg__reg_alpha=1.1, xg__reg_lambda=1.2; total time=   0.1s\n",
            "[CV] END dt__criterion=entropy, dt__max_depth=10, dt__min_samples_leaf=5, lr__C=10.0, lr__solver=lbfgs, xg__colsample_bytree=0.8, xg__learning_rate=0.5, xg__max_depth=3, xg__n_estimators=550, xg__reg_alpha=1.1, xg__reg_lambda=1.2; total time=   0.1s\n",
            "[CV] END dt__criterion=gini, dt__max_depth=10, dt__min_samples_leaf=10, lr__C=0.1, lr__solver=saga, xg__colsample_bytree=0.7, xg__learning_rate=0.5, xg__max_depth=3, xg__n_estimators=550, xg__reg_alpha=1.1, xg__reg_lambda=1.1; total time=   0.5s\n",
            "[CV] END dt__criterion=gini, dt__max_depth=10, dt__min_samples_leaf=10, lr__C=0.1, lr__solver=saga, xg__colsample_bytree=0.7, xg__learning_rate=0.5, xg__max_depth=3, xg__n_estimators=550, xg__reg_alpha=1.1, xg__reg_lambda=1.1; total time=   0.6s\n",
            "[CV] END dt__criterion=gini, dt__max_depth=10, dt__min_samples_leaf=10, lr__C=0.1, lr__solver=saga, xg__colsample_bytree=0.7, xg__learning_rate=0.5, xg__max_depth=3, xg__n_estimators=550, xg__reg_alpha=1.1, xg__reg_lambda=1.1; total time=   0.5s\n",
            "[CV] END dt__criterion=gini, dt__max_depth=10, dt__min_samples_leaf=10, lr__C=0.1, lr__solver=saga, xg__colsample_bytree=0.7, xg__learning_rate=0.5, xg__max_depth=3, xg__n_estimators=550, xg__reg_alpha=1.1, xg__reg_lambda=1.1; total time=   0.5s\n",
            "[CV] END dt__criterion=gini, dt__max_depth=10, dt__min_samples_leaf=10, lr__C=0.1, lr__solver=saga, xg__colsample_bytree=0.7, xg__learning_rate=0.5, xg__max_depth=3, xg__n_estimators=550, xg__reg_alpha=1.1, xg__reg_lambda=1.1; total time=   0.5s\n",
            "[CV] END dt__criterion=entropy, dt__max_depth=5, dt__min_samples_leaf=50, lr__C=0.001, lr__solver=lbfgs, xg__colsample_bytree=0.8, xg__learning_rate=0.5, xg__max_depth=3, xg__n_estimators=150, xg__reg_alpha=1.3, xg__reg_lambda=1.2; total time=   0.1s\n",
            "[CV] END dt__criterion=entropy, dt__max_depth=5, dt__min_samples_leaf=50, lr__C=0.001, lr__solver=lbfgs, xg__colsample_bytree=0.8, xg__learning_rate=0.5, xg__max_depth=3, xg__n_estimators=150, xg__reg_alpha=1.3, xg__reg_lambda=1.2; total time=   0.1s\n",
            "[CV] END dt__criterion=entropy, dt__max_depth=5, dt__min_samples_leaf=50, lr__C=0.001, lr__solver=lbfgs, xg__colsample_bytree=0.8, xg__learning_rate=0.5, xg__max_depth=3, xg__n_estimators=150, xg__reg_alpha=1.3, xg__reg_lambda=1.2; total time=   0.1s\n",
            "[CV] END dt__criterion=entropy, dt__max_depth=5, dt__min_samples_leaf=50, lr__C=0.001, lr__solver=lbfgs, xg__colsample_bytree=0.8, xg__learning_rate=0.5, xg__max_depth=3, xg__n_estimators=150, xg__reg_alpha=1.3, xg__reg_lambda=1.2; total time=   0.1s\n",
            "[CV] END dt__criterion=entropy, dt__max_depth=5, dt__min_samples_leaf=50, lr__C=0.001, lr__solver=lbfgs, xg__colsample_bytree=0.8, xg__learning_rate=0.5, xg__max_depth=3, xg__n_estimators=150, xg__reg_alpha=1.3, xg__reg_lambda=1.2; total time=   0.1s\n",
            "[CV] END dt__criterion=entropy, dt__max_depth=10, dt__min_samples_leaf=100, lr__C=0.1, lr__solver=lbfgs, xg__colsample_bytree=0.7, xg__learning_rate=0.5, xg__max_depth=6, xg__n_estimators=400, xg__reg_alpha=1.3, xg__reg_lambda=1.3; total time=   0.1s\n",
            "[CV] END dt__criterion=entropy, dt__max_depth=10, dt__min_samples_leaf=100, lr__C=0.1, lr__solver=lbfgs, xg__colsample_bytree=0.7, xg__learning_rate=0.5, xg__max_depth=6, xg__n_estimators=400, xg__reg_alpha=1.3, xg__reg_lambda=1.3; total time=   0.1s\n",
            "[CV] END dt__criterion=entropy, dt__max_depth=10, dt__min_samples_leaf=100, lr__C=0.1, lr__solver=lbfgs, xg__colsample_bytree=0.7, xg__learning_rate=0.5, xg__max_depth=6, xg__n_estimators=400, xg__reg_alpha=1.3, xg__reg_lambda=1.3; total time=   0.1s\n",
            "[CV] END dt__criterion=entropy, dt__max_depth=10, dt__min_samples_leaf=100, lr__C=0.1, lr__solver=lbfgs, xg__colsample_bytree=0.7, xg__learning_rate=0.5, xg__max_depth=6, xg__n_estimators=400, xg__reg_alpha=1.3, xg__reg_lambda=1.3; total time=   0.1s\n",
            "[CV] END dt__criterion=entropy, dt__max_depth=10, dt__min_samples_leaf=100, lr__C=0.1, lr__solver=lbfgs, xg__colsample_bytree=0.7, xg__learning_rate=0.5, xg__max_depth=6, xg__n_estimators=400, xg__reg_alpha=1.3, xg__reg_lambda=1.3; total time=   0.1s\n",
            "[CV] END dt__criterion=gini, dt__max_depth=20, dt__min_samples_leaf=20, lr__C=0.001, lr__solver=liblinear, xg__colsample_bytree=0.7, xg__learning_rate=1.0, xg__max_depth=3, xg__n_estimators=150, xg__reg_alpha=1.3, xg__reg_lambda=1.2; total time=   0.0s\n",
            "[CV] END dt__criterion=gini, dt__max_depth=20, dt__min_samples_leaf=20, lr__C=0.001, lr__solver=liblinear, xg__colsample_bytree=0.7, xg__learning_rate=1.0, xg__max_depth=3, xg__n_estimators=150, xg__reg_alpha=1.3, xg__reg_lambda=1.2; total time=   0.0s\n",
            "[CV] END dt__criterion=gini, dt__max_depth=20, dt__min_samples_leaf=20, lr__C=0.001, lr__solver=liblinear, xg__colsample_bytree=0.7, xg__learning_rate=1.0, xg__max_depth=3, xg__n_estimators=150, xg__reg_alpha=1.3, xg__reg_lambda=1.2; total time=   0.0s\n",
            "[CV] END dt__criterion=gini, dt__max_depth=20, dt__min_samples_leaf=20, lr__C=0.001, lr__solver=liblinear, xg__colsample_bytree=0.7, xg__learning_rate=1.0, xg__max_depth=3, xg__n_estimators=150, xg__reg_alpha=1.3, xg__reg_lambda=1.2; total time=   0.0s\n",
            "[CV] END dt__criterion=gini, dt__max_depth=20, dt__min_samples_leaf=20, lr__C=0.001, lr__solver=liblinear, xg__colsample_bytree=0.7, xg__learning_rate=1.0, xg__max_depth=3, xg__n_estimators=150, xg__reg_alpha=1.3, xg__reg_lambda=1.2; total time=   0.0s\n",
            "[CV] END dt__criterion=gini, dt__max_depth=20, dt__min_samples_leaf=10, lr__C=1000.0, lr__solver=saga, xg__colsample_bytree=0.8, xg__learning_rate=0.9, xg__max_depth=3, xg__n_estimators=100, xg__reg_alpha=1.2, xg__reg_lambda=1.3; total time=   0.6s\n",
            "[CV] END dt__criterion=gini, dt__max_depth=20, dt__min_samples_leaf=10, lr__C=1000.0, lr__solver=saga, xg__colsample_bytree=0.8, xg__learning_rate=0.9, xg__max_depth=3, xg__n_estimators=100, xg__reg_alpha=1.2, xg__reg_lambda=1.3; total time=   0.6s\n",
            "[CV] END dt__criterion=gini, dt__max_depth=20, dt__min_samples_leaf=10, lr__C=1000.0, lr__solver=saga, xg__colsample_bytree=0.8, xg__learning_rate=0.9, xg__max_depth=3, xg__n_estimators=100, xg__reg_alpha=1.2, xg__reg_lambda=1.3; total time=   0.6s\n",
            "[CV] END dt__criterion=gini, dt__max_depth=20, dt__min_samples_leaf=10, lr__C=1000.0, lr__solver=saga, xg__colsample_bytree=0.8, xg__learning_rate=0.9, xg__max_depth=3, xg__n_estimators=100, xg__reg_alpha=1.2, xg__reg_lambda=1.3; total time=   0.6s\n",
            "[CV] END dt__criterion=gini, dt__max_depth=20, dt__min_samples_leaf=10, lr__C=1000.0, lr__solver=saga, xg__colsample_bytree=0.8, xg__learning_rate=0.9, xg__max_depth=3, xg__n_estimators=100, xg__reg_alpha=1.2, xg__reg_lambda=1.3; total time=   0.6s\n",
            "[CV] END dt__criterion=gini, dt__max_depth=5, dt__min_samples_leaf=20, lr__C=0.001, lr__solver=lbfgs, xg__colsample_bytree=0.7, xg__learning_rate=0.9, xg__max_depth=9, xg__n_estimators=100, xg__reg_alpha=1.2, xg__reg_lambda=1.2; total time=   0.0s\n",
            "[CV] END dt__criterion=gini, dt__max_depth=5, dt__min_samples_leaf=20, lr__C=0.001, lr__solver=lbfgs, xg__colsample_bytree=0.7, xg__learning_rate=0.9, xg__max_depth=9, xg__n_estimators=100, xg__reg_alpha=1.2, xg__reg_lambda=1.2; total time=   0.0s\n",
            "[CV] END dt__criterion=gini, dt__max_depth=5, dt__min_samples_leaf=20, lr__C=0.001, lr__solver=lbfgs, xg__colsample_bytree=0.7, xg__learning_rate=0.9, xg__max_depth=9, xg__n_estimators=100, xg__reg_alpha=1.2, xg__reg_lambda=1.2; total time=   0.1s\n",
            "[CV] END dt__criterion=gini, dt__max_depth=5, dt__min_samples_leaf=20, lr__C=0.001, lr__solver=lbfgs, xg__colsample_bytree=0.7, xg__learning_rate=0.9, xg__max_depth=9, xg__n_estimators=100, xg__reg_alpha=1.2, xg__reg_lambda=1.2; total time=   0.1s\n",
            "[CV] END dt__criterion=gini, dt__max_depth=5, dt__min_samples_leaf=20, lr__C=0.001, lr__solver=lbfgs, xg__colsample_bytree=0.7, xg__learning_rate=0.9, xg__max_depth=9, xg__n_estimators=100, xg__reg_alpha=1.2, xg__reg_lambda=1.2; total time=   0.1s\n",
            "[CV] END dt__criterion=entropy, dt__max_depth=5, dt__min_samples_leaf=50, lr__C=1000.0, lr__solver=lbfgs, xg__colsample_bytree=0.8, xg__learning_rate=1.0, xg__max_depth=3, xg__n_estimators=100, xg__reg_alpha=1.2, xg__reg_lambda=1.3; total time=   0.1s\n",
            "[CV] END dt__criterion=entropy, dt__max_depth=5, dt__min_samples_leaf=50, lr__C=1000.0, lr__solver=lbfgs, xg__colsample_bytree=0.8, xg__learning_rate=1.0, xg__max_depth=3, xg__n_estimators=100, xg__reg_alpha=1.2, xg__reg_lambda=1.3; total time=   0.1s\n",
            "[CV] END dt__criterion=entropy, dt__max_depth=5, dt__min_samples_leaf=50, lr__C=1000.0, lr__solver=lbfgs, xg__colsample_bytree=0.8, xg__learning_rate=1.0, xg__max_depth=3, xg__n_estimators=100, xg__reg_alpha=1.2, xg__reg_lambda=1.3; total time=   0.1s\n",
            "[CV] END dt__criterion=entropy, dt__max_depth=5, dt__min_samples_leaf=50, lr__C=1000.0, lr__solver=lbfgs, xg__colsample_bytree=0.8, xg__learning_rate=1.0, xg__max_depth=3, xg__n_estimators=100, xg__reg_alpha=1.2, xg__reg_lambda=1.3; total time=   0.1s\n",
            "[CV] END dt__criterion=entropy, dt__max_depth=5, dt__min_samples_leaf=50, lr__C=1000.0, lr__solver=lbfgs, xg__colsample_bytree=0.8, xg__learning_rate=1.0, xg__max_depth=3, xg__n_estimators=100, xg__reg_alpha=1.2, xg__reg_lambda=1.3; total time=   0.1s\n",
            "[CV] END dt__criterion=entropy, dt__max_depth=5, dt__min_samples_leaf=5, lr__C=1.0, lr__solver=lbfgs, xg__colsample_bytree=0.8, xg__learning_rate=0.9, xg__max_depth=9, xg__n_estimators=150, xg__reg_alpha=1.3, xg__reg_lambda=1.1; total time=   0.1s\n",
            "[CV] END dt__criterion=entropy, dt__max_depth=5, dt__min_samples_leaf=5, lr__C=1.0, lr__solver=lbfgs, xg__colsample_bytree=0.8, xg__learning_rate=0.9, xg__max_depth=9, xg__n_estimators=150, xg__reg_alpha=1.3, xg__reg_lambda=1.1; total time=   0.1s\n",
            "[CV] END dt__criterion=entropy, dt__max_depth=5, dt__min_samples_leaf=5, lr__C=1.0, lr__solver=lbfgs, xg__colsample_bytree=0.8, xg__learning_rate=0.9, xg__max_depth=9, xg__n_estimators=150, xg__reg_alpha=1.3, xg__reg_lambda=1.1; total time=   0.1s\n",
            "[CV] END dt__criterion=entropy, dt__max_depth=5, dt__min_samples_leaf=5, lr__C=1.0, lr__solver=lbfgs, xg__colsample_bytree=0.8, xg__learning_rate=0.9, xg__max_depth=9, xg__n_estimators=150, xg__reg_alpha=1.3, xg__reg_lambda=1.1; total time=   0.1s\n",
            "[CV] END dt__criterion=entropy, dt__max_depth=5, dt__min_samples_leaf=5, lr__C=1.0, lr__solver=lbfgs, xg__colsample_bytree=0.8, xg__learning_rate=0.9, xg__max_depth=9, xg__n_estimators=150, xg__reg_alpha=1.3, xg__reg_lambda=1.1; total time=   0.1s\n",
            "[CV] END dt__criterion=gini, dt__max_depth=2, dt__min_samples_leaf=20, lr__C=0.01, lr__solver=lbfgs, xg__colsample_bytree=0.8, xg__learning_rate=1.0, xg__max_depth=9, xg__n_estimators=150, xg__reg_alpha=1.2, xg__reg_lambda=1.2; total time=   0.1s\n",
            "[CV] END dt__criterion=gini, dt__max_depth=2, dt__min_samples_leaf=20, lr__C=0.01, lr__solver=lbfgs, xg__colsample_bytree=0.8, xg__learning_rate=1.0, xg__max_depth=9, xg__n_estimators=150, xg__reg_alpha=1.2, xg__reg_lambda=1.2; total time=   0.1s\n",
            "[CV] END dt__criterion=gini, dt__max_depth=2, dt__min_samples_leaf=20, lr__C=0.01, lr__solver=lbfgs, xg__colsample_bytree=0.8, xg__learning_rate=1.0, xg__max_depth=9, xg__n_estimators=150, xg__reg_alpha=1.2, xg__reg_lambda=1.2; total time=   0.1s\n",
            "[CV] END dt__criterion=gini, dt__max_depth=2, dt__min_samples_leaf=20, lr__C=0.01, lr__solver=lbfgs, xg__colsample_bytree=0.8, xg__learning_rate=1.0, xg__max_depth=9, xg__n_estimators=150, xg__reg_alpha=1.2, xg__reg_lambda=1.2; total time=   0.1s\n",
            "[CV] END dt__criterion=gini, dt__max_depth=2, dt__min_samples_leaf=20, lr__C=0.01, lr__solver=lbfgs, xg__colsample_bytree=0.8, xg__learning_rate=1.0, xg__max_depth=9, xg__n_estimators=150, xg__reg_alpha=1.2, xg__reg_lambda=1.2; total time=   0.1s\n",
            "[CV] END dt__criterion=entropy, dt__max_depth=20, dt__min_samples_leaf=50, lr__C=0.001, lr__solver=newton-cg, xg__colsample_bytree=0.8, xg__learning_rate=0.5, xg__max_depth=9, xg__n_estimators=50, xg__reg_alpha=1.1, xg__reg_lambda=1.1; total time=   0.1s\n",
            "[CV] END dt__criterion=entropy, dt__max_depth=20, dt__min_samples_leaf=50, lr__C=0.001, lr__solver=newton-cg, xg__colsample_bytree=0.8, xg__learning_rate=0.5, xg__max_depth=9, xg__n_estimators=50, xg__reg_alpha=1.1, xg__reg_lambda=1.1; total time=   0.0s\n",
            "[CV] END dt__criterion=entropy, dt__max_depth=20, dt__min_samples_leaf=50, lr__C=0.001, lr__solver=newton-cg, xg__colsample_bytree=0.8, xg__learning_rate=0.5, xg__max_depth=9, xg__n_estimators=50, xg__reg_alpha=1.1, xg__reg_lambda=1.1; total time=   0.1s\n",
            "[CV] END dt__criterion=entropy, dt__max_depth=20, dt__min_samples_leaf=50, lr__C=0.001, lr__solver=newton-cg, xg__colsample_bytree=0.8, xg__learning_rate=0.5, xg__max_depth=9, xg__n_estimators=50, xg__reg_alpha=1.1, xg__reg_lambda=1.1; total time=   0.1s\n",
            "[CV] END dt__criterion=entropy, dt__max_depth=20, dt__min_samples_leaf=50, lr__C=0.001, lr__solver=newton-cg, xg__colsample_bytree=0.8, xg__learning_rate=0.5, xg__max_depth=9, xg__n_estimators=50, xg__reg_alpha=1.1, xg__reg_lambda=1.1; total time=   0.1s\n",
            "[CV] END dt__criterion=gini, dt__max_depth=2, dt__min_samples_leaf=5, lr__C=0.001, lr__solver=sag, xg__colsample_bytree=0.7, xg__learning_rate=1.0, xg__max_depth=3, xg__n_estimators=400, xg__reg_alpha=1.1, xg__reg_lambda=1.1; total time=   0.1s\n",
            "[CV] END dt__criterion=gini, dt__max_depth=2, dt__min_samples_leaf=5, lr__C=0.001, lr__solver=sag, xg__colsample_bytree=0.7, xg__learning_rate=1.0, xg__max_depth=3, xg__n_estimators=400, xg__reg_alpha=1.1, xg__reg_lambda=1.1; total time=   0.1s\n",
            "[CV] END dt__criterion=gini, dt__max_depth=2, dt__min_samples_leaf=5, lr__C=0.001, lr__solver=sag, xg__colsample_bytree=0.7, xg__learning_rate=1.0, xg__max_depth=3, xg__n_estimators=400, xg__reg_alpha=1.1, xg__reg_lambda=1.1; total time=   0.1s\n",
            "[CV] END dt__criterion=gini, dt__max_depth=2, dt__min_samples_leaf=5, lr__C=0.001, lr__solver=sag, xg__colsample_bytree=0.7, xg__learning_rate=1.0, xg__max_depth=3, xg__n_estimators=400, xg__reg_alpha=1.1, xg__reg_lambda=1.1; total time=   0.1s\n",
            "[CV] END dt__criterion=gini, dt__max_depth=2, dt__min_samples_leaf=5, lr__C=0.001, lr__solver=sag, xg__colsample_bytree=0.7, xg__learning_rate=1.0, xg__max_depth=3, xg__n_estimators=400, xg__reg_alpha=1.1, xg__reg_lambda=1.1; total time=   0.1s\n",
            "[CV] END dt__criterion=gini, dt__max_depth=10, dt__min_samples_leaf=20, lr__C=10.0, lr__solver=liblinear, xg__colsample_bytree=0.7, xg__learning_rate=0.9, xg__max_depth=3, xg__n_estimators=550, xg__reg_alpha=1.3, xg__reg_lambda=1.3; total time=   0.1s\n",
            "[CV] END dt__criterion=gini, dt__max_depth=10, dt__min_samples_leaf=20, lr__C=10.0, lr__solver=liblinear, xg__colsample_bytree=0.7, xg__learning_rate=0.9, xg__max_depth=3, xg__n_estimators=550, xg__reg_alpha=1.3, xg__reg_lambda=1.3; total time=   0.1s\n",
            "[CV] END dt__criterion=gini, dt__max_depth=10, dt__min_samples_leaf=20, lr__C=10.0, lr__solver=liblinear, xg__colsample_bytree=0.7, xg__learning_rate=0.9, xg__max_depth=3, xg__n_estimators=550, xg__reg_alpha=1.3, xg__reg_lambda=1.3; total time=   0.1s\n",
            "[CV] END dt__criterion=gini, dt__max_depth=10, dt__min_samples_leaf=20, lr__C=10.0, lr__solver=liblinear, xg__colsample_bytree=0.7, xg__learning_rate=0.9, xg__max_depth=3, xg__n_estimators=550, xg__reg_alpha=1.3, xg__reg_lambda=1.3; total time=   0.1s\n",
            "[CV] END dt__criterion=gini, dt__max_depth=10, dt__min_samples_leaf=20, lr__C=10.0, lr__solver=liblinear, xg__colsample_bytree=0.7, xg__learning_rate=0.9, xg__max_depth=3, xg__n_estimators=550, xg__reg_alpha=1.3, xg__reg_lambda=1.3; total time=   0.1s\n",
            "[CV] END dt__criterion=entropy, dt__max_depth=10, dt__min_samples_leaf=10, lr__C=1000.0, lr__solver=newton-cg, xg__colsample_bytree=0.8, xg__learning_rate=1.0, xg__max_depth=9, xg__n_estimators=100, xg__reg_alpha=1.2, xg__reg_lambda=1.1; total time=   0.1s\n",
            "[CV] END dt__criterion=entropy, dt__max_depth=10, dt__min_samples_leaf=10, lr__C=1000.0, lr__solver=newton-cg, xg__colsample_bytree=0.8, xg__learning_rate=1.0, xg__max_depth=9, xg__n_estimators=100, xg__reg_alpha=1.2, xg__reg_lambda=1.1; total time=   0.1s\n",
            "[CV] END dt__criterion=entropy, dt__max_depth=10, dt__min_samples_leaf=10, lr__C=1000.0, lr__solver=newton-cg, xg__colsample_bytree=0.8, xg__learning_rate=1.0, xg__max_depth=9, xg__n_estimators=100, xg__reg_alpha=1.2, xg__reg_lambda=1.1; total time=   0.1s\n",
            "[CV] END dt__criterion=entropy, dt__max_depth=10, dt__min_samples_leaf=10, lr__C=1000.0, lr__solver=newton-cg, xg__colsample_bytree=0.8, xg__learning_rate=1.0, xg__max_depth=9, xg__n_estimators=100, xg__reg_alpha=1.2, xg__reg_lambda=1.1; total time=   0.1s\n",
            "[CV] END dt__criterion=entropy, dt__max_depth=10, dt__min_samples_leaf=10, lr__C=1000.0, lr__solver=newton-cg, xg__colsample_bytree=0.8, xg__learning_rate=1.0, xg__max_depth=9, xg__n_estimators=100, xg__reg_alpha=1.2, xg__reg_lambda=1.1; total time=   0.1s\n",
            "[CV] END dt__criterion=entropy, dt__max_depth=20, dt__min_samples_leaf=100, lr__C=100.0, lr__solver=saga, xg__colsample_bytree=0.7, xg__learning_rate=0.9, xg__max_depth=6, xg__n_estimators=100, xg__reg_alpha=1.3, xg__reg_lambda=1.1; total time=   0.6s\n",
            "[CV] END dt__criterion=entropy, dt__max_depth=20, dt__min_samples_leaf=100, lr__C=100.0, lr__solver=saga, xg__colsample_bytree=0.7, xg__learning_rate=0.9, xg__max_depth=6, xg__n_estimators=100, xg__reg_alpha=1.3, xg__reg_lambda=1.1; total time=   0.6s\n",
            "[CV] END dt__criterion=entropy, dt__max_depth=20, dt__min_samples_leaf=100, lr__C=100.0, lr__solver=saga, xg__colsample_bytree=0.7, xg__learning_rate=0.9, xg__max_depth=6, xg__n_estimators=100, xg__reg_alpha=1.3, xg__reg_lambda=1.1; total time=   0.6s\n",
            "[CV] END dt__criterion=entropy, dt__max_depth=20, dt__min_samples_leaf=100, lr__C=100.0, lr__solver=saga, xg__colsample_bytree=0.7, xg__learning_rate=0.9, xg__max_depth=6, xg__n_estimators=100, xg__reg_alpha=1.3, xg__reg_lambda=1.1; total time=   0.6s\n",
            "[CV] END dt__criterion=entropy, dt__max_depth=20, dt__min_samples_leaf=100, lr__C=100.0, lr__solver=saga, xg__colsample_bytree=0.7, xg__learning_rate=0.9, xg__max_depth=6, xg__n_estimators=100, xg__reg_alpha=1.3, xg__reg_lambda=1.1; total time=   0.6s\n",
            "[CV] END dt__criterion=entropy, dt__max_depth=2, dt__min_samples_leaf=50, lr__C=1000.0, lr__solver=saga, xg__colsample_bytree=0.7, xg__learning_rate=0.5, xg__max_depth=9, xg__n_estimators=550, xg__reg_alpha=1.1, xg__reg_lambda=1.1; total time=   0.6s\n",
            "[CV] END dt__criterion=entropy, dt__max_depth=2, dt__min_samples_leaf=50, lr__C=1000.0, lr__solver=saga, xg__colsample_bytree=0.7, xg__learning_rate=0.5, xg__max_depth=9, xg__n_estimators=550, xg__reg_alpha=1.1, xg__reg_lambda=1.1; total time=   0.6s\n",
            "[CV] END dt__criterion=entropy, dt__max_depth=2, dt__min_samples_leaf=50, lr__C=1000.0, lr__solver=saga, xg__colsample_bytree=0.7, xg__learning_rate=0.5, xg__max_depth=9, xg__n_estimators=550, xg__reg_alpha=1.1, xg__reg_lambda=1.1; total time=   0.6s\n",
            "[CV] END dt__criterion=entropy, dt__max_depth=2, dt__min_samples_leaf=50, lr__C=1000.0, lr__solver=saga, xg__colsample_bytree=0.7, xg__learning_rate=0.5, xg__max_depth=9, xg__n_estimators=550, xg__reg_alpha=1.1, xg__reg_lambda=1.1; total time=   0.6s\n",
            "[CV] END dt__criterion=entropy, dt__max_depth=2, dt__min_samples_leaf=50, lr__C=1000.0, lr__solver=saga, xg__colsample_bytree=0.7, xg__learning_rate=0.5, xg__max_depth=9, xg__n_estimators=550, xg__reg_alpha=1.1, xg__reg_lambda=1.1; total time=   0.6s\n",
            "[CV] END dt__criterion=gini, dt__max_depth=3, dt__min_samples_leaf=50, lr__C=100.0, lr__solver=newton-cg, xg__colsample_bytree=0.8, xg__learning_rate=1.0, xg__max_depth=3, xg__n_estimators=550, xg__reg_alpha=1.3, xg__reg_lambda=1.2; total time=   0.1s\n",
            "[CV] END dt__criterion=gini, dt__max_depth=3, dt__min_samples_leaf=50, lr__C=100.0, lr__solver=newton-cg, xg__colsample_bytree=0.8, xg__learning_rate=1.0, xg__max_depth=3, xg__n_estimators=550, xg__reg_alpha=1.3, xg__reg_lambda=1.2; total time=   0.1s\n",
            "[CV] END dt__criterion=gini, dt__max_depth=3, dt__min_samples_leaf=50, lr__C=100.0, lr__solver=newton-cg, xg__colsample_bytree=0.8, xg__learning_rate=1.0, xg__max_depth=3, xg__n_estimators=550, xg__reg_alpha=1.3, xg__reg_lambda=1.2; total time=   0.1s\n",
            "[CV] END dt__criterion=gini, dt__max_depth=3, dt__min_samples_leaf=50, lr__C=100.0, lr__solver=newton-cg, xg__colsample_bytree=0.8, xg__learning_rate=1.0, xg__max_depth=3, xg__n_estimators=550, xg__reg_alpha=1.3, xg__reg_lambda=1.2; total time=   0.1s\n",
            "[CV] END dt__criterion=gini, dt__max_depth=3, dt__min_samples_leaf=50, lr__C=100.0, lr__solver=newton-cg, xg__colsample_bytree=0.8, xg__learning_rate=1.0, xg__max_depth=3, xg__n_estimators=550, xg__reg_alpha=1.3, xg__reg_lambda=1.2; total time=   0.1s\n",
            "[CV] END dt__criterion=entropy, dt__max_depth=5, dt__min_samples_leaf=100, lr__C=1.0, lr__solver=lbfgs, xg__colsample_bytree=0.8, xg__learning_rate=1.0, xg__max_depth=3, xg__n_estimators=550, xg__reg_alpha=1.2, xg__reg_lambda=1.1; total time=   0.1s\n",
            "[CV] END dt__criterion=entropy, dt__max_depth=5, dt__min_samples_leaf=100, lr__C=1.0, lr__solver=lbfgs, xg__colsample_bytree=0.8, xg__learning_rate=1.0, xg__max_depth=3, xg__n_estimators=550, xg__reg_alpha=1.2, xg__reg_lambda=1.1; total time=   0.1s\n",
            "[CV] END dt__criterion=entropy, dt__max_depth=5, dt__min_samples_leaf=100, lr__C=1.0, lr__solver=lbfgs, xg__colsample_bytree=0.8, xg__learning_rate=1.0, xg__max_depth=3, xg__n_estimators=550, xg__reg_alpha=1.2, xg__reg_lambda=1.1; total time=   0.1s\n",
            "[CV] END dt__criterion=entropy, dt__max_depth=5, dt__min_samples_leaf=100, lr__C=1.0, lr__solver=lbfgs, xg__colsample_bytree=0.8, xg__learning_rate=1.0, xg__max_depth=3, xg__n_estimators=550, xg__reg_alpha=1.2, xg__reg_lambda=1.1; total time=   0.1s\n",
            "[CV] END dt__criterion=entropy, dt__max_depth=5, dt__min_samples_leaf=100, lr__C=1.0, lr__solver=lbfgs, xg__colsample_bytree=0.8, xg__learning_rate=1.0, xg__max_depth=3, xg__n_estimators=550, xg__reg_alpha=1.2, xg__reg_lambda=1.1; total time=   0.1s\n",
            "[CV] END dt__criterion=entropy, dt__max_depth=2, dt__min_samples_leaf=10, lr__C=1.0, lr__solver=lbfgs, xg__colsample_bytree=0.8, xg__learning_rate=1.0, xg__max_depth=6, xg__n_estimators=400, xg__reg_alpha=1.2, xg__reg_lambda=1.1; total time=   0.1s\n",
            "[CV] END dt__criterion=entropy, dt__max_depth=2, dt__min_samples_leaf=10, lr__C=1.0, lr__solver=lbfgs, xg__colsample_bytree=0.8, xg__learning_rate=1.0, xg__max_depth=6, xg__n_estimators=400, xg__reg_alpha=1.2, xg__reg_lambda=1.1; total time=   0.1s\n",
            "[CV] END dt__criterion=entropy, dt__max_depth=2, dt__min_samples_leaf=10, lr__C=1.0, lr__solver=lbfgs, xg__colsample_bytree=0.8, xg__learning_rate=1.0, xg__max_depth=6, xg__n_estimators=400, xg__reg_alpha=1.2, xg__reg_lambda=1.1; total time=   0.1s\n",
            "[CV] END dt__criterion=entropy, dt__max_depth=2, dt__min_samples_leaf=10, lr__C=1.0, lr__solver=lbfgs, xg__colsample_bytree=0.8, xg__learning_rate=1.0, xg__max_depth=6, xg__n_estimators=400, xg__reg_alpha=1.2, xg__reg_lambda=1.1; total time=   0.1s\n",
            "[CV] END dt__criterion=entropy, dt__max_depth=2, dt__min_samples_leaf=10, lr__C=1.0, lr__solver=lbfgs, xg__colsample_bytree=0.8, xg__learning_rate=1.0, xg__max_depth=6, xg__n_estimators=400, xg__reg_alpha=1.2, xg__reg_lambda=1.1; total time=   0.1s\n",
            "[CV] END dt__criterion=gini, dt__max_depth=5, dt__min_samples_leaf=10, lr__C=1.0, lr__solver=liblinear, xg__colsample_bytree=0.7, xg__learning_rate=0.5, xg__max_depth=3, xg__n_estimators=150, xg__reg_alpha=1.2, xg__reg_lambda=1.2; total time=   0.0s\n",
            "[CV] END dt__criterion=gini, dt__max_depth=5, dt__min_samples_leaf=10, lr__C=1.0, lr__solver=liblinear, xg__colsample_bytree=0.7, xg__learning_rate=0.5, xg__max_depth=3, xg__n_estimators=150, xg__reg_alpha=1.2, xg__reg_lambda=1.2; total time=   0.0s\n",
            "[CV] END dt__criterion=gini, dt__max_depth=5, dt__min_samples_leaf=10, lr__C=1.0, lr__solver=liblinear, xg__colsample_bytree=0.7, xg__learning_rate=0.5, xg__max_depth=3, xg__n_estimators=150, xg__reg_alpha=1.2, xg__reg_lambda=1.2; total time=   0.0s\n",
            "[CV] END dt__criterion=gini, dt__max_depth=5, dt__min_samples_leaf=10, lr__C=1.0, lr__solver=liblinear, xg__colsample_bytree=0.7, xg__learning_rate=0.5, xg__max_depth=3, xg__n_estimators=150, xg__reg_alpha=1.2, xg__reg_lambda=1.2; total time=   0.0s\n",
            "[CV] END dt__criterion=gini, dt__max_depth=5, dt__min_samples_leaf=10, lr__C=1.0, lr__solver=liblinear, xg__colsample_bytree=0.7, xg__learning_rate=0.5, xg__max_depth=3, xg__n_estimators=150, xg__reg_alpha=1.2, xg__reg_lambda=1.2; total time=   0.0s\n",
            "[CV] END dt__criterion=gini, dt__max_depth=20, dt__min_samples_leaf=10, lr__C=0.1, lr__solver=liblinear, xg__colsample_bytree=0.7, xg__learning_rate=0.5, xg__max_depth=3, xg__n_estimators=100, xg__reg_alpha=1.3, xg__reg_lambda=1.2; total time=   0.0s\n",
            "[CV] END dt__criterion=gini, dt__max_depth=20, dt__min_samples_leaf=10, lr__C=0.1, lr__solver=liblinear, xg__colsample_bytree=0.7, xg__learning_rate=0.5, xg__max_depth=3, xg__n_estimators=100, xg__reg_alpha=1.3, xg__reg_lambda=1.2; total time=   0.0s\n",
            "[CV] END dt__criterion=gini, dt__max_depth=20, dt__min_samples_leaf=10, lr__C=0.1, lr__solver=liblinear, xg__colsample_bytree=0.7, xg__learning_rate=0.5, xg__max_depth=3, xg__n_estimators=100, xg__reg_alpha=1.3, xg__reg_lambda=1.2; total time=   0.0s\n",
            "[CV] END dt__criterion=gini, dt__max_depth=20, dt__min_samples_leaf=10, lr__C=0.1, lr__solver=liblinear, xg__colsample_bytree=0.7, xg__learning_rate=0.5, xg__max_depth=3, xg__n_estimators=100, xg__reg_alpha=1.3, xg__reg_lambda=1.2; total time=   0.0s\n",
            "[CV] END dt__criterion=gini, dt__max_depth=20, dt__min_samples_leaf=10, lr__C=0.1, lr__solver=liblinear, xg__colsample_bytree=0.7, xg__learning_rate=0.5, xg__max_depth=3, xg__n_estimators=100, xg__reg_alpha=1.3, xg__reg_lambda=1.2; total time=   0.0s\n",
            "[CV] END dt__criterion=entropy, dt__max_depth=5, dt__min_samples_leaf=50, lr__C=1000.0, lr__solver=saga, xg__colsample_bytree=0.7, xg__learning_rate=0.9, xg__max_depth=3, xg__n_estimators=550, xg__reg_alpha=1.3, xg__reg_lambda=1.1; total time=   0.6s\n",
            "[CV] END dt__criterion=entropy, dt__max_depth=5, dt__min_samples_leaf=50, lr__C=1000.0, lr__solver=saga, xg__colsample_bytree=0.7, xg__learning_rate=0.9, xg__max_depth=3, xg__n_estimators=550, xg__reg_alpha=1.3, xg__reg_lambda=1.1; total time=   0.6s\n",
            "[CV] END dt__criterion=entropy, dt__max_depth=5, dt__min_samples_leaf=50, lr__C=1000.0, lr__solver=saga, xg__colsample_bytree=0.7, xg__learning_rate=0.9, xg__max_depth=3, xg__n_estimators=550, xg__reg_alpha=1.3, xg__reg_lambda=1.1; total time=   0.6s\n",
            "[CV] END dt__criterion=entropy, dt__max_depth=5, dt__min_samples_leaf=50, lr__C=1000.0, lr__solver=saga, xg__colsample_bytree=0.7, xg__learning_rate=0.9, xg__max_depth=3, xg__n_estimators=550, xg__reg_alpha=1.3, xg__reg_lambda=1.1; total time=   0.6s\n",
            "[CV] END dt__criterion=entropy, dt__max_depth=5, dt__min_samples_leaf=50, lr__C=1000.0, lr__solver=saga, xg__colsample_bytree=0.7, xg__learning_rate=0.9, xg__max_depth=3, xg__n_estimators=550, xg__reg_alpha=1.3, xg__reg_lambda=1.1; total time=   0.6s\n",
            "[CV] END dt__criterion=gini, dt__max_depth=20, dt__min_samples_leaf=20, lr__C=10.0, lr__solver=newton-cg, xg__colsample_bytree=0.7, xg__learning_rate=0.5, xg__max_depth=6, xg__n_estimators=150, xg__reg_alpha=1.1, xg__reg_lambda=1.3; total time=   0.1s\n",
            "[CV] END dt__criterion=gini, dt__max_depth=20, dt__min_samples_leaf=20, lr__C=10.0, lr__solver=newton-cg, xg__colsample_bytree=0.7, xg__learning_rate=0.5, xg__max_depth=6, xg__n_estimators=150, xg__reg_alpha=1.1, xg__reg_lambda=1.3; total time=   0.1s\n",
            "[CV] END dt__criterion=gini, dt__max_depth=20, dt__min_samples_leaf=20, lr__C=10.0, lr__solver=newton-cg, xg__colsample_bytree=0.7, xg__learning_rate=0.5, xg__max_depth=6, xg__n_estimators=150, xg__reg_alpha=1.1, xg__reg_lambda=1.3; total time=   0.1s\n",
            "[CV] END dt__criterion=gini, dt__max_depth=20, dt__min_samples_leaf=20, lr__C=10.0, lr__solver=newton-cg, xg__colsample_bytree=0.7, xg__learning_rate=0.5, xg__max_depth=6, xg__n_estimators=150, xg__reg_alpha=1.1, xg__reg_lambda=1.3; total time=   0.1s\n",
            "[CV] END dt__criterion=gini, dt__max_depth=20, dt__min_samples_leaf=20, lr__C=10.0, lr__solver=newton-cg, xg__colsample_bytree=0.7, xg__learning_rate=0.5, xg__max_depth=6, xg__n_estimators=150, xg__reg_alpha=1.1, xg__reg_lambda=1.3; total time=   0.1s\n",
            "[CV] END dt__criterion=gini, dt__max_depth=20, dt__min_samples_leaf=100, lr__C=1000.0, lr__solver=newton-cg, xg__colsample_bytree=0.7, xg__learning_rate=0.9, xg__max_depth=6, xg__n_estimators=50, xg__reg_alpha=1.2, xg__reg_lambda=1.1; total time=   0.1s\n",
            "[CV] END dt__criterion=gini, dt__max_depth=20, dt__min_samples_leaf=100, lr__C=1000.0, lr__solver=newton-cg, xg__colsample_bytree=0.7, xg__learning_rate=0.9, xg__max_depth=6, xg__n_estimators=50, xg__reg_alpha=1.2, xg__reg_lambda=1.1; total time=   0.1s\n",
            "[CV] END dt__criterion=gini, dt__max_depth=20, dt__min_samples_leaf=100, lr__C=1000.0, lr__solver=newton-cg, xg__colsample_bytree=0.7, xg__learning_rate=0.9, xg__max_depth=6, xg__n_estimators=50, xg__reg_alpha=1.2, xg__reg_lambda=1.1; total time=   0.1s\n",
            "[CV] END dt__criterion=gini, dt__max_depth=20, dt__min_samples_leaf=100, lr__C=1000.0, lr__solver=newton-cg, xg__colsample_bytree=0.7, xg__learning_rate=0.9, xg__max_depth=6, xg__n_estimators=50, xg__reg_alpha=1.2, xg__reg_lambda=1.1; total time=   0.1s\n",
            "[CV] END dt__criterion=gini, dt__max_depth=20, dt__min_samples_leaf=100, lr__C=1000.0, lr__solver=newton-cg, xg__colsample_bytree=0.7, xg__learning_rate=0.9, xg__max_depth=6, xg__n_estimators=50, xg__reg_alpha=1.2, xg__reg_lambda=1.1; total time=   0.1s\n",
            "[CV] END dt__criterion=gini, dt__max_depth=10, dt__min_samples_leaf=100, lr__C=1000.0, lr__solver=lbfgs, xg__colsample_bytree=0.7, xg__learning_rate=0.9, xg__max_depth=3, xg__n_estimators=550, xg__reg_alpha=1.2, xg__reg_lambda=1.1; total time=   0.1s\n",
            "[CV] END dt__criterion=gini, dt__max_depth=10, dt__min_samples_leaf=100, lr__C=1000.0, lr__solver=lbfgs, xg__colsample_bytree=0.7, xg__learning_rate=0.9, xg__max_depth=3, xg__n_estimators=550, xg__reg_alpha=1.2, xg__reg_lambda=1.1; total time=   0.1s\n",
            "[CV] END dt__criterion=gini, dt__max_depth=10, dt__min_samples_leaf=100, lr__C=1000.0, lr__solver=lbfgs, xg__colsample_bytree=0.7, xg__learning_rate=0.9, xg__max_depth=3, xg__n_estimators=550, xg__reg_alpha=1.2, xg__reg_lambda=1.1; total time=   0.1s\n",
            "[CV] END dt__criterion=gini, dt__max_depth=10, dt__min_samples_leaf=100, lr__C=1000.0, lr__solver=lbfgs, xg__colsample_bytree=0.7, xg__learning_rate=0.9, xg__max_depth=3, xg__n_estimators=550, xg__reg_alpha=1.2, xg__reg_lambda=1.1; total time=   0.1s\n",
            "[CV] END dt__criterion=gini, dt__max_depth=10, dt__min_samples_leaf=100, lr__C=1000.0, lr__solver=lbfgs, xg__colsample_bytree=0.7, xg__learning_rate=0.9, xg__max_depth=3, xg__n_estimators=550, xg__reg_alpha=1.2, xg__reg_lambda=1.1; total time=   0.1s\n",
            "[CV] END dt__criterion=gini, dt__max_depth=20, dt__min_samples_leaf=100, lr__C=100.0, lr__solver=sag, xg__colsample_bytree=0.8, xg__learning_rate=1.0, xg__max_depth=9, xg__n_estimators=550, xg__reg_alpha=1.2, xg__reg_lambda=1.2; total time=   0.5s\n",
            "[CV] END dt__criterion=gini, dt__max_depth=20, dt__min_samples_leaf=100, lr__C=100.0, lr__solver=sag, xg__colsample_bytree=0.8, xg__learning_rate=1.0, xg__max_depth=9, xg__n_estimators=550, xg__reg_alpha=1.2, xg__reg_lambda=1.2; total time=   0.5s\n",
            "[CV] END dt__criterion=gini, dt__max_depth=20, dt__min_samples_leaf=100, lr__C=100.0, lr__solver=sag, xg__colsample_bytree=0.8, xg__learning_rate=1.0, xg__max_depth=9, xg__n_estimators=550, xg__reg_alpha=1.2, xg__reg_lambda=1.2; total time=   0.5s\n",
            "[CV] END dt__criterion=gini, dt__max_depth=20, dt__min_samples_leaf=100, lr__C=100.0, lr__solver=sag, xg__colsample_bytree=0.8, xg__learning_rate=1.0, xg__max_depth=9, xg__n_estimators=550, xg__reg_alpha=1.2, xg__reg_lambda=1.2; total time=   0.5s\n",
            "[CV] END dt__criterion=gini, dt__max_depth=20, dt__min_samples_leaf=100, lr__C=100.0, lr__solver=sag, xg__colsample_bytree=0.8, xg__learning_rate=1.0, xg__max_depth=9, xg__n_estimators=550, xg__reg_alpha=1.2, xg__reg_lambda=1.2; total time=   0.5s\n",
            "[CV] END dt__criterion=gini, dt__max_depth=5, dt__min_samples_leaf=100, lr__C=1.0, lr__solver=liblinear, xg__colsample_bytree=0.7, xg__learning_rate=1.0, xg__max_depth=9, xg__n_estimators=100, xg__reg_alpha=1.1, xg__reg_lambda=1.2; total time=   0.0s\n",
            "[CV] END dt__criterion=gini, dt__max_depth=5, dt__min_samples_leaf=100, lr__C=1.0, lr__solver=liblinear, xg__colsample_bytree=0.7, xg__learning_rate=1.0, xg__max_depth=9, xg__n_estimators=100, xg__reg_alpha=1.1, xg__reg_lambda=1.2; total time=   0.0s\n",
            "[CV] END dt__criterion=gini, dt__max_depth=5, dt__min_samples_leaf=100, lr__C=1.0, lr__solver=liblinear, xg__colsample_bytree=0.7, xg__learning_rate=1.0, xg__max_depth=9, xg__n_estimators=100, xg__reg_alpha=1.1, xg__reg_lambda=1.2; total time=   0.0s\n",
            "[CV] END dt__criterion=gini, dt__max_depth=5, dt__min_samples_leaf=100, lr__C=1.0, lr__solver=liblinear, xg__colsample_bytree=0.7, xg__learning_rate=1.0, xg__max_depth=9, xg__n_estimators=100, xg__reg_alpha=1.1, xg__reg_lambda=1.2; total time=   0.0s\n",
            "[CV] END dt__criterion=gini, dt__max_depth=5, dt__min_samples_leaf=100, lr__C=1.0, lr__solver=liblinear, xg__colsample_bytree=0.7, xg__learning_rate=1.0, xg__max_depth=9, xg__n_estimators=100, xg__reg_alpha=1.1, xg__reg_lambda=1.2; total time=   0.0s\n",
            "[CV] END dt__criterion=entropy, dt__max_depth=2, dt__min_samples_leaf=10, lr__C=1.0, lr__solver=lbfgs, xg__colsample_bytree=0.8, xg__learning_rate=0.5, xg__max_depth=9, xg__n_estimators=400, xg__reg_alpha=1.2, xg__reg_lambda=1.3; total time=   0.1s\n",
            "[CV] END dt__criterion=entropy, dt__max_depth=2, dt__min_samples_leaf=10, lr__C=1.0, lr__solver=lbfgs, xg__colsample_bytree=0.8, xg__learning_rate=0.5, xg__max_depth=9, xg__n_estimators=400, xg__reg_alpha=1.2, xg__reg_lambda=1.3; total time=   0.1s\n",
            "[CV] END dt__criterion=entropy, dt__max_depth=2, dt__min_samples_leaf=10, lr__C=1.0, lr__solver=lbfgs, xg__colsample_bytree=0.8, xg__learning_rate=0.5, xg__max_depth=9, xg__n_estimators=400, xg__reg_alpha=1.2, xg__reg_lambda=1.3; total time=   0.1s\n",
            "[CV] END dt__criterion=entropy, dt__max_depth=2, dt__min_samples_leaf=10, lr__C=1.0, lr__solver=lbfgs, xg__colsample_bytree=0.8, xg__learning_rate=0.5, xg__max_depth=9, xg__n_estimators=400, xg__reg_alpha=1.2, xg__reg_lambda=1.3; total time=   0.1s\n",
            "[CV] END dt__criterion=entropy, dt__max_depth=2, dt__min_samples_leaf=10, lr__C=1.0, lr__solver=lbfgs, xg__colsample_bytree=0.8, xg__learning_rate=0.5, xg__max_depth=9, xg__n_estimators=400, xg__reg_alpha=1.2, xg__reg_lambda=1.3; total time=   0.1s\n",
            "[CV] END dt__criterion=gini, dt__max_depth=20, dt__min_samples_leaf=5, lr__C=10.0, lr__solver=saga, xg__colsample_bytree=0.8, xg__learning_rate=0.9, xg__max_depth=6, xg__n_estimators=400, xg__reg_alpha=1.2, xg__reg_lambda=1.2; total time=   0.6s\n",
            "[CV] END dt__criterion=gini, dt__max_depth=20, dt__min_samples_leaf=5, lr__C=10.0, lr__solver=saga, xg__colsample_bytree=0.8, xg__learning_rate=0.9, xg__max_depth=6, xg__n_estimators=400, xg__reg_alpha=1.2, xg__reg_lambda=1.2; total time=   0.6s\n",
            "[CV] END dt__criterion=gini, dt__max_depth=20, dt__min_samples_leaf=5, lr__C=10.0, lr__solver=saga, xg__colsample_bytree=0.8, xg__learning_rate=0.9, xg__max_depth=6, xg__n_estimators=400, xg__reg_alpha=1.2, xg__reg_lambda=1.2; total time=   0.6s\n",
            "[CV] END dt__criterion=gini, dt__max_depth=20, dt__min_samples_leaf=5, lr__C=10.0, lr__solver=saga, xg__colsample_bytree=0.8, xg__learning_rate=0.9, xg__max_depth=6, xg__n_estimators=400, xg__reg_alpha=1.2, xg__reg_lambda=1.2; total time=   0.6s\n",
            "[CV] END dt__criterion=gini, dt__max_depth=20, dt__min_samples_leaf=5, lr__C=10.0, lr__solver=saga, xg__colsample_bytree=0.8, xg__learning_rate=0.9, xg__max_depth=6, xg__n_estimators=400, xg__reg_alpha=1.2, xg__reg_lambda=1.2; total time=   0.6s\n",
            "[CV] END dt__criterion=entropy, dt__max_depth=5, dt__min_samples_leaf=20, lr__C=1000.0, lr__solver=liblinear, xg__colsample_bytree=0.8, xg__learning_rate=0.9, xg__max_depth=3, xg__n_estimators=150, xg__reg_alpha=1.2, xg__reg_lambda=1.2; total time=   0.1s\n",
            "[CV] END dt__criterion=entropy, dt__max_depth=5, dt__min_samples_leaf=20, lr__C=1000.0, lr__solver=liblinear, xg__colsample_bytree=0.8, xg__learning_rate=0.9, xg__max_depth=3, xg__n_estimators=150, xg__reg_alpha=1.2, xg__reg_lambda=1.2; total time=   0.0s\n",
            "[CV] END dt__criterion=entropy, dt__max_depth=5, dt__min_samples_leaf=20, lr__C=1000.0, lr__solver=liblinear, xg__colsample_bytree=0.8, xg__learning_rate=0.9, xg__max_depth=3, xg__n_estimators=150, xg__reg_alpha=1.2, xg__reg_lambda=1.2; total time=   0.1s\n",
            "[CV] END dt__criterion=entropy, dt__max_depth=5, dt__min_samples_leaf=20, lr__C=1000.0, lr__solver=liblinear, xg__colsample_bytree=0.8, xg__learning_rate=0.9, xg__max_depth=3, xg__n_estimators=150, xg__reg_alpha=1.2, xg__reg_lambda=1.2; total time=   0.0s\n",
            "[CV] END dt__criterion=entropy, dt__max_depth=5, dt__min_samples_leaf=20, lr__C=1000.0, lr__solver=liblinear, xg__colsample_bytree=0.8, xg__learning_rate=0.9, xg__max_depth=3, xg__n_estimators=150, xg__reg_alpha=1.2, xg__reg_lambda=1.2; total time=   0.0s\n",
            "[CV] END dt__criterion=entropy, dt__max_depth=3, dt__min_samples_leaf=100, lr__C=10.0, lr__solver=lbfgs, xg__colsample_bytree=0.7, xg__learning_rate=0.9, xg__max_depth=9, xg__n_estimators=550, xg__reg_alpha=1.1, xg__reg_lambda=1.2; total time=   0.1s\n",
            "[CV] END dt__criterion=entropy, dt__max_depth=3, dt__min_samples_leaf=100, lr__C=10.0, lr__solver=lbfgs, xg__colsample_bytree=0.7, xg__learning_rate=0.9, xg__max_depth=9, xg__n_estimators=550, xg__reg_alpha=1.1, xg__reg_lambda=1.2; total time=   0.1s\n",
            "[CV] END dt__criterion=entropy, dt__max_depth=3, dt__min_samples_leaf=100, lr__C=10.0, lr__solver=lbfgs, xg__colsample_bytree=0.7, xg__learning_rate=0.9, xg__max_depth=9, xg__n_estimators=550, xg__reg_alpha=1.1, xg__reg_lambda=1.2; total time=   0.1s\n",
            "[CV] END dt__criterion=entropy, dt__max_depth=3, dt__min_samples_leaf=100, lr__C=10.0, lr__solver=lbfgs, xg__colsample_bytree=0.7, xg__learning_rate=0.9, xg__max_depth=9, xg__n_estimators=550, xg__reg_alpha=1.1, xg__reg_lambda=1.2; total time=   0.1s\n",
            "[CV] END dt__criterion=entropy, dt__max_depth=3, dt__min_samples_leaf=100, lr__C=10.0, lr__solver=lbfgs, xg__colsample_bytree=0.7, xg__learning_rate=0.9, xg__max_depth=9, xg__n_estimators=550, xg__reg_alpha=1.1, xg__reg_lambda=1.2; total time=   0.1s\n",
            "[CV] END dt__criterion=gini, dt__max_depth=20, dt__min_samples_leaf=100, lr__C=1.0, lr__solver=lbfgs, xg__colsample_bytree=0.8, xg__learning_rate=0.5, xg__max_depth=3, xg__n_estimators=550, xg__reg_alpha=1.1, xg__reg_lambda=1.1; total time=   0.1s\n",
            "[CV] END dt__criterion=gini, dt__max_depth=20, dt__min_samples_leaf=100, lr__C=1.0, lr__solver=lbfgs, xg__colsample_bytree=0.8, xg__learning_rate=0.5, xg__max_depth=3, xg__n_estimators=550, xg__reg_alpha=1.1, xg__reg_lambda=1.1; total time=   0.1s\n",
            "[CV] END dt__criterion=gini, dt__max_depth=20, dt__min_samples_leaf=100, lr__C=1.0, lr__solver=lbfgs, xg__colsample_bytree=0.8, xg__learning_rate=0.5, xg__max_depth=3, xg__n_estimators=550, xg__reg_alpha=1.1, xg__reg_lambda=1.1; total time=   0.1s\n",
            "[CV] END dt__criterion=gini, dt__max_depth=20, dt__min_samples_leaf=100, lr__C=1.0, lr__solver=lbfgs, xg__colsample_bytree=0.8, xg__learning_rate=0.5, xg__max_depth=3, xg__n_estimators=550, xg__reg_alpha=1.1, xg__reg_lambda=1.1; total time=   0.1s\n",
            "[CV] END dt__criterion=gini, dt__max_depth=20, dt__min_samples_leaf=100, lr__C=1.0, lr__solver=lbfgs, xg__colsample_bytree=0.8, xg__learning_rate=0.5, xg__max_depth=3, xg__n_estimators=550, xg__reg_alpha=1.1, xg__reg_lambda=1.1; total time=   0.1s\n",
            "[CV] END dt__criterion=entropy, dt__max_depth=3, dt__min_samples_leaf=50, lr__C=1000.0, lr__solver=newton-cg, xg__colsample_bytree=0.7, xg__learning_rate=1.0, xg__max_depth=9, xg__n_estimators=150, xg__reg_alpha=1.1, xg__reg_lambda=1.1; total time=   0.1s\n",
            "[CV] END dt__criterion=entropy, dt__max_depth=3, dt__min_samples_leaf=50, lr__C=1000.0, lr__solver=newton-cg, xg__colsample_bytree=0.7, xg__learning_rate=1.0, xg__max_depth=9, xg__n_estimators=150, xg__reg_alpha=1.1, xg__reg_lambda=1.1; total time=   0.1s\n",
            "[CV] END dt__criterion=entropy, dt__max_depth=3, dt__min_samples_leaf=50, lr__C=1000.0, lr__solver=newton-cg, xg__colsample_bytree=0.7, xg__learning_rate=1.0, xg__max_depth=9, xg__n_estimators=150, xg__reg_alpha=1.1, xg__reg_lambda=1.1; total time=   0.1s\n",
            "[CV] END dt__criterion=entropy, dt__max_depth=3, dt__min_samples_leaf=50, lr__C=1000.0, lr__solver=newton-cg, xg__colsample_bytree=0.7, xg__learning_rate=1.0, xg__max_depth=9, xg__n_estimators=150, xg__reg_alpha=1.1, xg__reg_lambda=1.1; total time=   0.1s\n",
            "[CV] END dt__criterion=entropy, dt__max_depth=3, dt__min_samples_leaf=50, lr__C=1000.0, lr__solver=newton-cg, xg__colsample_bytree=0.7, xg__learning_rate=1.0, xg__max_depth=9, xg__n_estimators=150, xg__reg_alpha=1.1, xg__reg_lambda=1.1; total time=   0.1s\n",
            "[CV] END dt__criterion=gini, dt__max_depth=3, dt__min_samples_leaf=100, lr__C=0.1, lr__solver=lbfgs, xg__colsample_bytree=0.8, xg__learning_rate=0.9, xg__max_depth=6, xg__n_estimators=400, xg__reg_alpha=1.2, xg__reg_lambda=1.2; total time=   0.1s\n",
            "[CV] END dt__criterion=gini, dt__max_depth=3, dt__min_samples_leaf=100, lr__C=0.1, lr__solver=lbfgs, xg__colsample_bytree=0.8, xg__learning_rate=0.9, xg__max_depth=6, xg__n_estimators=400, xg__reg_alpha=1.2, xg__reg_lambda=1.2; total time=   0.1s\n",
            "[CV] END dt__criterion=gini, dt__max_depth=3, dt__min_samples_leaf=100, lr__C=0.1, lr__solver=lbfgs, xg__colsample_bytree=0.8, xg__learning_rate=0.9, xg__max_depth=6, xg__n_estimators=400, xg__reg_alpha=1.2, xg__reg_lambda=1.2; total time=   0.1s\n",
            "[CV] END dt__criterion=gini, dt__max_depth=3, dt__min_samples_leaf=100, lr__C=0.1, lr__solver=lbfgs, xg__colsample_bytree=0.8, xg__learning_rate=0.9, xg__max_depth=6, xg__n_estimators=400, xg__reg_alpha=1.2, xg__reg_lambda=1.2; total time=   0.1s\n",
            "[CV] END dt__criterion=gini, dt__max_depth=3, dt__min_samples_leaf=100, lr__C=0.1, lr__solver=lbfgs, xg__colsample_bytree=0.8, xg__learning_rate=0.9, xg__max_depth=6, xg__n_estimators=400, xg__reg_alpha=1.2, xg__reg_lambda=1.2; total time=   0.1s\n",
            "[CV] END dt__criterion=gini, dt__max_depth=2, dt__min_samples_leaf=50, lr__C=10.0, lr__solver=saga, xg__colsample_bytree=0.8, xg__learning_rate=0.9, xg__max_depth=9, xg__n_estimators=100, xg__reg_alpha=1.3, xg__reg_lambda=1.1; total time=   0.6s\n",
            "[CV] END dt__criterion=gini, dt__max_depth=2, dt__min_samples_leaf=50, lr__C=10.0, lr__solver=saga, xg__colsample_bytree=0.8, xg__learning_rate=0.9, xg__max_depth=9, xg__n_estimators=100, xg__reg_alpha=1.3, xg__reg_lambda=1.1; total time=   0.6s\n",
            "[CV] END dt__criterion=gini, dt__max_depth=2, dt__min_samples_leaf=50, lr__C=10.0, lr__solver=saga, xg__colsample_bytree=0.8, xg__learning_rate=0.9, xg__max_depth=9, xg__n_estimators=100, xg__reg_alpha=1.3, xg__reg_lambda=1.1; total time=   0.6s\n",
            "[CV] END dt__criterion=gini, dt__max_depth=2, dt__min_samples_leaf=50, lr__C=10.0, lr__solver=saga, xg__colsample_bytree=0.8, xg__learning_rate=0.9, xg__max_depth=9, xg__n_estimators=100, xg__reg_alpha=1.3, xg__reg_lambda=1.1; total time=   1.3s\n",
            "[CV] END dt__criterion=gini, dt__max_depth=2, dt__min_samples_leaf=50, lr__C=10.0, lr__solver=saga, xg__colsample_bytree=0.8, xg__learning_rate=0.9, xg__max_depth=9, xg__n_estimators=100, xg__reg_alpha=1.3, xg__reg_lambda=1.1; total time=   0.6s\n",
            "[CV] END dt__criterion=entropy, dt__max_depth=20, dt__min_samples_leaf=5, lr__C=1000.0, lr__solver=newton-cg, xg__colsample_bytree=0.7, xg__learning_rate=1.0, xg__max_depth=9, xg__n_estimators=50, xg__reg_alpha=1.2, xg__reg_lambda=1.1; total time=   0.1s\n",
            "[CV] END dt__criterion=entropy, dt__max_depth=20, dt__min_samples_leaf=5, lr__C=1000.0, lr__solver=newton-cg, xg__colsample_bytree=0.7, xg__learning_rate=1.0, xg__max_depth=9, xg__n_estimators=50, xg__reg_alpha=1.2, xg__reg_lambda=1.1; total time=   0.1s\n",
            "[CV] END dt__criterion=entropy, dt__max_depth=20, dt__min_samples_leaf=5, lr__C=1000.0, lr__solver=newton-cg, xg__colsample_bytree=0.7, xg__learning_rate=1.0, xg__max_depth=9, xg__n_estimators=50, xg__reg_alpha=1.2, xg__reg_lambda=1.1; total time=   0.1s\n",
            "[CV] END dt__criterion=entropy, dt__max_depth=20, dt__min_samples_leaf=5, lr__C=1000.0, lr__solver=newton-cg, xg__colsample_bytree=0.7, xg__learning_rate=1.0, xg__max_depth=9, xg__n_estimators=50, xg__reg_alpha=1.2, xg__reg_lambda=1.1; total time=   0.1s\n",
            "[CV] END dt__criterion=entropy, dt__max_depth=20, dt__min_samples_leaf=5, lr__C=1000.0, lr__solver=newton-cg, xg__colsample_bytree=0.7, xg__learning_rate=1.0, xg__max_depth=9, xg__n_estimators=50, xg__reg_alpha=1.2, xg__reg_lambda=1.1; total time=   0.0s\n",
            "[CV] END dt__criterion=entropy, dt__max_depth=2, dt__min_samples_leaf=5, lr__C=0.01, lr__solver=newton-cg, xg__colsample_bytree=0.8, xg__learning_rate=1.0, xg__max_depth=6, xg__n_estimators=100, xg__reg_alpha=1.2, xg__reg_lambda=1.3; total time=   0.0s\n",
            "[CV] END dt__criterion=entropy, dt__max_depth=2, dt__min_samples_leaf=5, lr__C=0.01, lr__solver=newton-cg, xg__colsample_bytree=0.8, xg__learning_rate=1.0, xg__max_depth=6, xg__n_estimators=100, xg__reg_alpha=1.2, xg__reg_lambda=1.3; total time=   0.1s\n",
            "[CV] END dt__criterion=entropy, dt__max_depth=2, dt__min_samples_leaf=5, lr__C=0.01, lr__solver=newton-cg, xg__colsample_bytree=0.8, xg__learning_rate=1.0, xg__max_depth=6, xg__n_estimators=100, xg__reg_alpha=1.2, xg__reg_lambda=1.3; total time=   0.1s\n",
            "[CV] END dt__criterion=entropy, dt__max_depth=2, dt__min_samples_leaf=5, lr__C=0.01, lr__solver=newton-cg, xg__colsample_bytree=0.8, xg__learning_rate=1.0, xg__max_depth=6, xg__n_estimators=100, xg__reg_alpha=1.2, xg__reg_lambda=1.3; total time=   0.0s\n",
            "[CV] END dt__criterion=entropy, dt__max_depth=2, dt__min_samples_leaf=5, lr__C=0.01, lr__solver=newton-cg, xg__colsample_bytree=0.8, xg__learning_rate=1.0, xg__max_depth=6, xg__n_estimators=100, xg__reg_alpha=1.2, xg__reg_lambda=1.3; total time=   0.0s\n",
            "[CV] END dt__criterion=gini, dt__max_depth=20, dt__min_samples_leaf=5, lr__C=0.1, lr__solver=liblinear, xg__colsample_bytree=0.7, xg__learning_rate=1.0, xg__max_depth=6, xg__n_estimators=100, xg__reg_alpha=1.1, xg__reg_lambda=1.1; total time=   0.0s\n",
            "[CV] END dt__criterion=gini, dt__max_depth=20, dt__min_samples_leaf=5, lr__C=0.1, lr__solver=liblinear, xg__colsample_bytree=0.7, xg__learning_rate=1.0, xg__max_depth=6, xg__n_estimators=100, xg__reg_alpha=1.1, xg__reg_lambda=1.1; total time=   0.0s\n",
            "[CV] END dt__criterion=gini, dt__max_depth=20, dt__min_samples_leaf=5, lr__C=0.1, lr__solver=liblinear, xg__colsample_bytree=0.7, xg__learning_rate=1.0, xg__max_depth=6, xg__n_estimators=100, xg__reg_alpha=1.1, xg__reg_lambda=1.1; total time=   0.1s\n",
            "[CV] END dt__criterion=gini, dt__max_depth=20, dt__min_samples_leaf=5, lr__C=0.1, lr__solver=liblinear, xg__colsample_bytree=0.7, xg__learning_rate=1.0, xg__max_depth=6, xg__n_estimators=100, xg__reg_alpha=1.1, xg__reg_lambda=1.1; total time=   0.0s\n",
            "[CV] END dt__criterion=gini, dt__max_depth=20, dt__min_samples_leaf=5, lr__C=0.1, lr__solver=liblinear, xg__colsample_bytree=0.7, xg__learning_rate=1.0, xg__max_depth=6, xg__n_estimators=100, xg__reg_alpha=1.1, xg__reg_lambda=1.1; total time=   0.0s\n",
            "[CV] END dt__criterion=entropy, dt__max_depth=2, dt__min_samples_leaf=10, lr__C=1.0, lr__solver=liblinear, xg__colsample_bytree=0.7, xg__learning_rate=0.9, xg__max_depth=3, xg__n_estimators=400, xg__reg_alpha=1.1, xg__reg_lambda=1.2; total time=   0.1s\n",
            "[CV] END dt__criterion=entropy, dt__max_depth=2, dt__min_samples_leaf=10, lr__C=1.0, lr__solver=liblinear, xg__colsample_bytree=0.7, xg__learning_rate=0.9, xg__max_depth=3, xg__n_estimators=400, xg__reg_alpha=1.1, xg__reg_lambda=1.2; total time=   0.1s\n",
            "[CV] END dt__criterion=entropy, dt__max_depth=2, dt__min_samples_leaf=10, lr__C=1.0, lr__solver=liblinear, xg__colsample_bytree=0.7, xg__learning_rate=0.9, xg__max_depth=3, xg__n_estimators=400, xg__reg_alpha=1.1, xg__reg_lambda=1.2; total time=   0.1s\n",
            "[CV] END dt__criterion=entropy, dt__max_depth=2, dt__min_samples_leaf=10, lr__C=1.0, lr__solver=liblinear, xg__colsample_bytree=0.7, xg__learning_rate=0.9, xg__max_depth=3, xg__n_estimators=400, xg__reg_alpha=1.1, xg__reg_lambda=1.2; total time=   0.1s\n",
            "[CV] END dt__criterion=entropy, dt__max_depth=2, dt__min_samples_leaf=10, lr__C=1.0, lr__solver=liblinear, xg__colsample_bytree=0.7, xg__learning_rate=0.9, xg__max_depth=3, xg__n_estimators=400, xg__reg_alpha=1.1, xg__reg_lambda=1.2; total time=   0.1s\n",
            "[CV] END dt__criterion=gini, dt__max_depth=20, dt__min_samples_leaf=10, lr__C=0.01, lr__solver=saga, xg__colsample_bytree=0.7, xg__learning_rate=0.5, xg__max_depth=9, xg__n_estimators=50, xg__reg_alpha=1.3, xg__reg_lambda=1.1; total time=   0.3s\n",
            "[CV] END dt__criterion=gini, dt__max_depth=20, dt__min_samples_leaf=10, lr__C=0.01, lr__solver=saga, xg__colsample_bytree=0.7, xg__learning_rate=0.5, xg__max_depth=9, xg__n_estimators=50, xg__reg_alpha=1.3, xg__reg_lambda=1.1; total time=   0.5s\n",
            "[CV] END dt__criterion=gini, dt__max_depth=20, dt__min_samples_leaf=10, lr__C=0.01, lr__solver=saga, xg__colsample_bytree=0.7, xg__learning_rate=0.5, xg__max_depth=9, xg__n_estimators=50, xg__reg_alpha=1.3, xg__reg_lambda=1.1; total time=   0.5s\n",
            "[CV] END dt__criterion=gini, dt__max_depth=20, dt__min_samples_leaf=10, lr__C=0.01, lr__solver=saga, xg__colsample_bytree=0.7, xg__learning_rate=0.5, xg__max_depth=9, xg__n_estimators=50, xg__reg_alpha=1.3, xg__reg_lambda=1.1; total time=   0.3s\n",
            "[CV] END dt__criterion=gini, dt__max_depth=20, dt__min_samples_leaf=10, lr__C=0.01, lr__solver=saga, xg__colsample_bytree=0.7, xg__learning_rate=0.5, xg__max_depth=9, xg__n_estimators=50, xg__reg_alpha=1.3, xg__reg_lambda=1.1; total time=   0.7s\n",
            "[CV] END dt__criterion=entropy, dt__max_depth=2, dt__min_samples_leaf=20, lr__C=100.0, lr__solver=sag, xg__colsample_bytree=0.7, xg__learning_rate=1.0, xg__max_depth=6, xg__n_estimators=100, xg__reg_alpha=1.1, xg__reg_lambda=1.1; total time=   0.5s\n",
            "[CV] END dt__criterion=entropy, dt__max_depth=2, dt__min_samples_leaf=20, lr__C=100.0, lr__solver=sag, xg__colsample_bytree=0.7, xg__learning_rate=1.0, xg__max_depth=6, xg__n_estimators=100, xg__reg_alpha=1.1, xg__reg_lambda=1.1; total time=   0.7s\n",
            "[CV] END dt__criterion=entropy, dt__max_depth=2, dt__min_samples_leaf=20, lr__C=100.0, lr__solver=sag, xg__colsample_bytree=0.7, xg__learning_rate=1.0, xg__max_depth=6, xg__n_estimators=100, xg__reg_alpha=1.1, xg__reg_lambda=1.1; total time=   0.4s\n",
            "[CV] END dt__criterion=entropy, dt__max_depth=2, dt__min_samples_leaf=20, lr__C=100.0, lr__solver=sag, xg__colsample_bytree=0.7, xg__learning_rate=1.0, xg__max_depth=6, xg__n_estimators=100, xg__reg_alpha=1.1, xg__reg_lambda=1.1; total time=   0.4s\n",
            "[CV] END dt__criterion=entropy, dt__max_depth=2, dt__min_samples_leaf=20, lr__C=100.0, lr__solver=sag, xg__colsample_bytree=0.7, xg__learning_rate=1.0, xg__max_depth=6, xg__n_estimators=100, xg__reg_alpha=1.1, xg__reg_lambda=1.1; total time=   0.4s\n",
            "[CV] END dt__criterion=gini, dt__max_depth=3, dt__min_samples_leaf=5, lr__C=1000.0, lr__solver=saga, xg__colsample_bytree=0.7, xg__learning_rate=0.5, xg__max_depth=3, xg__n_estimators=100, xg__reg_alpha=1.2, xg__reg_lambda=1.2; total time=   0.6s\n",
            "[CV] END dt__criterion=gini, dt__max_depth=3, dt__min_samples_leaf=5, lr__C=1000.0, lr__solver=saga, xg__colsample_bytree=0.7, xg__learning_rate=0.5, xg__max_depth=3, xg__n_estimators=100, xg__reg_alpha=1.2, xg__reg_lambda=1.2; total time=   0.6s\n",
            "[CV] END dt__criterion=gini, dt__max_depth=3, dt__min_samples_leaf=5, lr__C=1000.0, lr__solver=saga, xg__colsample_bytree=0.7, xg__learning_rate=0.5, xg__max_depth=3, xg__n_estimators=100, xg__reg_alpha=1.2, xg__reg_lambda=1.2; total time=   0.6s\n",
            "[CV] END dt__criterion=gini, dt__max_depth=3, dt__min_samples_leaf=5, lr__C=1000.0, lr__solver=saga, xg__colsample_bytree=0.7, xg__learning_rate=0.5, xg__max_depth=3, xg__n_estimators=100, xg__reg_alpha=1.2, xg__reg_lambda=1.2; total time=   0.6s\n",
            "[CV] END dt__criterion=gini, dt__max_depth=3, dt__min_samples_leaf=5, lr__C=1000.0, lr__solver=saga, xg__colsample_bytree=0.7, xg__learning_rate=0.5, xg__max_depth=3, xg__n_estimators=100, xg__reg_alpha=1.2, xg__reg_lambda=1.2; total time=   0.6s\n",
            "[CV] END dt__criterion=entropy, dt__max_depth=10, dt__min_samples_leaf=50, lr__C=1.0, lr__solver=newton-cg, xg__colsample_bytree=0.7, xg__learning_rate=1.0, xg__max_depth=3, xg__n_estimators=400, xg__reg_alpha=1.1, xg__reg_lambda=1.1; total time=   0.1s\n",
            "[CV] END dt__criterion=entropy, dt__max_depth=10, dt__min_samples_leaf=50, lr__C=1.0, lr__solver=newton-cg, xg__colsample_bytree=0.7, xg__learning_rate=1.0, xg__max_depth=3, xg__n_estimators=400, xg__reg_alpha=1.1, xg__reg_lambda=1.1; total time=   0.1s\n",
            "[CV] END dt__criterion=entropy, dt__max_depth=10, dt__min_samples_leaf=50, lr__C=1.0, lr__solver=newton-cg, xg__colsample_bytree=0.7, xg__learning_rate=1.0, xg__max_depth=3, xg__n_estimators=400, xg__reg_alpha=1.1, xg__reg_lambda=1.1; total time=   0.1s\n",
            "[CV] END dt__criterion=entropy, dt__max_depth=10, dt__min_samples_leaf=50, lr__C=1.0, lr__solver=newton-cg, xg__colsample_bytree=0.7, xg__learning_rate=1.0, xg__max_depth=3, xg__n_estimators=400, xg__reg_alpha=1.1, xg__reg_lambda=1.1; total time=   0.1s\n",
            "[CV] END dt__criterion=entropy, dt__max_depth=10, dt__min_samples_leaf=50, lr__C=1.0, lr__solver=newton-cg, xg__colsample_bytree=0.7, xg__learning_rate=1.0, xg__max_depth=3, xg__n_estimators=400, xg__reg_alpha=1.1, xg__reg_lambda=1.1; total time=   0.1s\n",
            "[CV] END dt__criterion=entropy, dt__max_depth=10, dt__min_samples_leaf=100, lr__C=0.1, lr__solver=newton-cg, xg__colsample_bytree=0.8, xg__learning_rate=0.9, xg__max_depth=9, xg__n_estimators=50, xg__reg_alpha=1.3, xg__reg_lambda=1.1; total time=   0.1s\n",
            "[CV] END dt__criterion=entropy, dt__max_depth=10, dt__min_samples_leaf=100, lr__C=0.1, lr__solver=newton-cg, xg__colsample_bytree=0.8, xg__learning_rate=0.9, xg__max_depth=9, xg__n_estimators=50, xg__reg_alpha=1.3, xg__reg_lambda=1.1; total time=   0.0s\n",
            "[CV] END dt__criterion=entropy, dt__max_depth=10, dt__min_samples_leaf=100, lr__C=0.1, lr__solver=newton-cg, xg__colsample_bytree=0.8, xg__learning_rate=0.9, xg__max_depth=9, xg__n_estimators=50, xg__reg_alpha=1.3, xg__reg_lambda=1.1; total time=   0.1s\n",
            "[CV] END dt__criterion=entropy, dt__max_depth=10, dt__min_samples_leaf=100, lr__C=0.1, lr__solver=newton-cg, xg__colsample_bytree=0.8, xg__learning_rate=0.9, xg__max_depth=9, xg__n_estimators=50, xg__reg_alpha=1.3, xg__reg_lambda=1.1; total time=   0.1s\n",
            "[CV] END dt__criterion=entropy, dt__max_depth=10, dt__min_samples_leaf=100, lr__C=0.1, lr__solver=newton-cg, xg__colsample_bytree=0.8, xg__learning_rate=0.9, xg__max_depth=9, xg__n_estimators=50, xg__reg_alpha=1.3, xg__reg_lambda=1.1; total time=   0.1s\n",
            "[CV] END dt__criterion=entropy, dt__max_depth=3, dt__min_samples_leaf=5, lr__C=100.0, lr__solver=sag, xg__colsample_bytree=0.8, xg__learning_rate=1.0, xg__max_depth=6, xg__n_estimators=150, xg__reg_alpha=1.3, xg__reg_lambda=1.1; total time=   0.4s\n",
            "[CV] END dt__criterion=entropy, dt__max_depth=3, dt__min_samples_leaf=5, lr__C=100.0, lr__solver=sag, xg__colsample_bytree=0.8, xg__learning_rate=1.0, xg__max_depth=6, xg__n_estimators=150, xg__reg_alpha=1.3, xg__reg_lambda=1.1; total time=   0.4s\n",
            "[CV] END dt__criterion=entropy, dt__max_depth=3, dt__min_samples_leaf=5, lr__C=100.0, lr__solver=sag, xg__colsample_bytree=0.8, xg__learning_rate=1.0, xg__max_depth=6, xg__n_estimators=150, xg__reg_alpha=1.3, xg__reg_lambda=1.1; total time=   0.4s\n",
            "[CV] END dt__criterion=entropy, dt__max_depth=3, dt__min_samples_leaf=5, lr__C=100.0, lr__solver=sag, xg__colsample_bytree=0.8, xg__learning_rate=1.0, xg__max_depth=6, xg__n_estimators=150, xg__reg_alpha=1.3, xg__reg_lambda=1.1; total time=   0.4s\n",
            "[CV] END dt__criterion=entropy, dt__max_depth=3, dt__min_samples_leaf=5, lr__C=100.0, lr__solver=sag, xg__colsample_bytree=0.8, xg__learning_rate=1.0, xg__max_depth=6, xg__n_estimators=150, xg__reg_alpha=1.3, xg__reg_lambda=1.1; total time=   0.4s\n",
            "[CV] END dt__criterion=gini, dt__max_depth=5, dt__min_samples_leaf=50, lr__C=1000.0, lr__solver=liblinear, xg__colsample_bytree=0.7, xg__learning_rate=1.0, xg__max_depth=9, xg__n_estimators=400, xg__reg_alpha=1.1, xg__reg_lambda=1.2; total time=   0.1s\n",
            "[CV] END dt__criterion=gini, dt__max_depth=5, dt__min_samples_leaf=50, lr__C=1000.0, lr__solver=liblinear, xg__colsample_bytree=0.7, xg__learning_rate=1.0, xg__max_depth=9, xg__n_estimators=400, xg__reg_alpha=1.1, xg__reg_lambda=1.2; total time=   0.1s\n",
            "[CV] END dt__criterion=gini, dt__max_depth=5, dt__min_samples_leaf=50, lr__C=1000.0, lr__solver=liblinear, xg__colsample_bytree=0.7, xg__learning_rate=1.0, xg__max_depth=9, xg__n_estimators=400, xg__reg_alpha=1.1, xg__reg_lambda=1.2; total time=   0.1s\n",
            "[CV] END dt__criterion=gini, dt__max_depth=5, dt__min_samples_leaf=50, lr__C=1000.0, lr__solver=liblinear, xg__colsample_bytree=0.7, xg__learning_rate=1.0, xg__max_depth=9, xg__n_estimators=400, xg__reg_alpha=1.1, xg__reg_lambda=1.2; total time=   0.1s\n",
            "[CV] END dt__criterion=gini, dt__max_depth=5, dt__min_samples_leaf=50, lr__C=1000.0, lr__solver=liblinear, xg__colsample_bytree=0.7, xg__learning_rate=1.0, xg__max_depth=9, xg__n_estimators=400, xg__reg_alpha=1.1, xg__reg_lambda=1.2; total time=   0.1s\n"
          ]
        }
      ]
    },
    {
      "cell_type": "code",
      "source": [
        "clf.best_params_"
      ],
      "metadata": {
        "colab": {
          "base_uri": "https://localhost:8080/"
        },
        "id": "NpS9TXDMmzkF",
        "outputId": "914f5eee-7178-4c2f-dea2-48f8c642ca7c"
      },
      "execution_count": null,
      "outputs": [
        {
          "output_type": "execute_result",
          "data": {
            "text/plain": [
              "{'xg__reg_lambda': 1.1,\n",
              " 'xg__reg_alpha': 1.2,\n",
              " 'xg__n_estimators': 50,\n",
              " 'xg__max_depth': 9,\n",
              " 'xg__learning_rate': 0.9,\n",
              " 'xg__colsample_bytree': 0.8,\n",
              " 'lr__solver': 'liblinear',\n",
              " 'lr__C': 100.0,\n",
              " 'dt__min_samples_leaf': 5,\n",
              " 'dt__max_depth': 3,\n",
              " 'dt__criterion': 'gini'}"
            ]
          },
          "metadata": {},
          "execution_count": 11
        }
      ]
    },
    {
      "cell_type": "markdown",
      "source": [
        "**Ensemble Method**"
      ],
      "metadata": {
        "id": "d2AxVou7HI_X"
      }
    },
    {
      "cell_type": "code",
      "source": [
        "from sklearn.ensemble import VotingClassifier\n",
        "from xgboost import XGBClassifier\n",
        "from sklearn.naive_bayes import GaussianNB\n",
        "\n",
        "x_train,x_test, y_train, y_test = train_test_split(x,y, test_size=0.2,random_state=42,shuffle=True)\n",
        "\n",
        "model_1 = LogisticRegression(C=100.0,solver='liblinear',max_iter=8000)\n",
        "model_2=DT_model = DecisionTreeClassifier(criterion='gini',max_depth=3,min_samples_leaf=5)\n",
        "model_3=XGBClassifier(colsample_bytree=0.8, max_depth= 9, n_estimators=50, reg_alpha= 1.2, reg_lambda= 1.1, learning_rate=0.9)\n",
        "'''\n",
        "\n",
        "model_1 = LogisticRegression(C=464.15888336127773,max_iter=8000)\n",
        "model_2=DT_model = DecisionTreeClassifier(criterion='gini',max_depth=5,min_samples_leaf=5)\n",
        "model_3=XGBClassifier(colsample_bytree=1.0, max_depth= 9,learning_rate=0.5,n_estimators=50)\n",
        "'''\n",
        "\n",
        "final_model = VotingClassifier(\n",
        "    estimators=[(\"LR\", model_1),(\"Xgb\",model_3),('dt',model_2)],voting='soft')\n",
        "\n",
        "final_model.fit(x_train,y_train)\n",
        "\n",
        "y_pred = final_model.predict(x_test)"
      ],
      "metadata": {
        "id": "GBXrO3tSHH6B"
      },
      "execution_count": null,
      "outputs": []
    },
    {
      "cell_type": "code",
      "source": [
        "from sklearn import metrics\n",
        "\n",
        "accuracy  = metrics.accuracy_score(y_test,y_pred)\n",
        "recall = metrics.recall_score(y_test,y_pred)\n",
        "precision = metrics.precision_score(y_test,y_pred)\n",
        "f1_score = metrics.f1_score(y_test,y_pred)\n",
        "y_pred_proba = final_model.predict_proba(x_test)[::,1]\n",
        "ROC_AUC = roc_auc_score(y_test,y_pred_proba)\n",
        "\n",
        "print(f'Model Accuracy = {100*accuracy:0.3} %' )\n",
        "print(f'Model recall = {100*recall:0.3} %' )\n",
        "print(f'Model precision = {100*precision:0.3} %' )\n",
        "print(f'Model f1_score = {100*f1_score:0.3} %' )\n",
        "print(\"ROC_AUC : {:.4f}\".format(ROC_AUC))"
      ],
      "metadata": {
        "colab": {
          "base_uri": "https://localhost:8080/"
        },
        "id": "YrxGQyRbIMTA",
        "outputId": "eba3d61f-340e-420e-9664-e798bb9d4cea"
      },
      "execution_count": null,
      "outputs": [
        {
          "output_type": "stream",
          "name": "stdout",
          "text": [
            "Model Accuracy = 83.7 %\n",
            "Model recall = 79.7 %\n",
            "Model precision = 78.6 %\n",
            "Model f1_score = 79.1 %\n",
            "ROC_AUC : 0.8743\n"
          ]
        }
      ]
    },
    {
      "cell_type": "code",
      "source": [
        "'''\n",
        "\n",
        "#ENSEMLBE 1 1 1 logistic xgb dt\n",
        "Model Accuracy = 84.3 %\n",
        "Model recall = 76.8 %\n",
        "Model precision = 81.5 %\n",
        "Model f1_score = 79.1 %\n",
        "ROC_AUC : 0.8739\n",
        "\n",
        "\n",
        "HyperTuned\n",
        "#logistic\n",
        "Model Accuracy = 81.5 %\n",
        "Model recall = 78.3 %\n",
        "Model precision = 75.0 %\n",
        "Model f1_score = 76.6 %\n",
        "ROC_AUC : 0.8509\n",
        "\n",
        "#xgb hypertunned\n",
        "\n",
        "Model Accuracy = 82.0 %\n",
        "Model recall = 76.8 %\n",
        "Model precision = 76.8 %\n",
        "Model f1_score = 76.8 %\n",
        "ROC_AUC : 0.8704\n",
        "\n",
        "\n",
        "\n",
        "#ensemlbe 3,2 logistic and xgb\n",
        "Model Accuracy = 83.1 %\n",
        "Model recall = 78.3 %\n",
        "Model precision = 78.3 %\n",
        "Model f1_score = 78.3 %\n",
        "ROC_AUC : 0.8718\n",
        "\n",
        "'''\n",
        "\n",
        "\n",
        "'''\n",
        "\n",
        "\n",
        "#ENSEMBLE 1 1 4\n",
        "Model Accuracy = 82.6 %\n",
        "Model recall = 81.2 %\n",
        "Model precision = 75.7 %\n",
        "Model f1_score = 78.3 %\n",
        "ROC_AUC : 0.8752\n",
        "'''"
      ],
      "metadata": {
        "id": "CDwSi3GCtNF0"
      },
      "execution_count": null,
      "outputs": []
    }
  ]
}